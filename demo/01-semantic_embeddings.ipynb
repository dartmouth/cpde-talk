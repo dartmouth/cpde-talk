{
 "cells": [
  {
   "cell_type": "markdown",
   "metadata": {},
   "source": [
    "# Leveraging Semantic Embeddings for Topic Analysis"
   ]
  },
  {
   "cell_type": "code",
   "execution_count": 1,
   "metadata": {},
   "outputs": [],
   "source": [
    "import re\n",
    "import warnings\n",
    "\n",
    "import hdbscan\n",
    "from langchain_dartmouth.llms import ChatDartmouthCloud\n",
    "import numpy as np\n",
    "import pandas as pd\n",
    "import plotly.express as px\n",
    "import plotly.io as pio\n",
    "from sentence_transformers import SentenceTransformer\n",
    "from umap import UMAP\n",
    "\n",
    "# Ignore all warnings\n",
    "warnings.filterwarnings(\"ignore\")"
   ]
  },
  {
   "cell_type": "code",
   "execution_count": 2,
   "metadata": {},
   "outputs": [],
   "source": [
    "df = pd.read_csv(\"./data/survey_responses.csv\")"
   ]
  },
  {
   "cell_type": "code",
   "execution_count": 3,
   "metadata": {},
   "outputs": [],
   "source": [
    "sentence_model = SentenceTransformer(\"all-MiniLM-L6-v2\")"
   ]
  },
  {
   "cell_type": "code",
   "execution_count": 4,
   "metadata": {},
   "outputs": [],
   "source": [
    "df[\"embeddings\"] = sentence_model.encode(df.Response).tolist()"
   ]
  },
  {
   "cell_type": "code",
   "execution_count": 5,
   "metadata": {},
   "outputs": [],
   "source": [
    "umap_model = UMAP(random_state=5)"
   ]
  },
  {
   "cell_type": "code",
   "execution_count": 6,
   "metadata": {},
   "outputs": [
    {
     "name": "stderr",
     "output_type": "stream",
     "text": [
      "OMP: Info #276: omp_set_nested routine deprecated, please use omp_set_max_active_levels instead.\n"
     ]
    }
   ],
   "source": [
    "df[[\"x\", \"y\"]] = umap_model.fit_transform(np.array(df[\"embeddings\"].values.tolist()))"
   ]
  },
  {
   "cell_type": "code",
   "execution_count": 7,
   "metadata": {},
   "outputs": [
    {
     "data": {
      "application/vnd.plotly.v1+json": {
       "config": {
        "plotlyServerURL": "https://plot.ly"
       },
       "data": [
        {
         "customdata": [
          [
           "The biggest benefit of Guarini Exchange was definitely the networking opportunities. I made connections with professionals in London that led directly to my summer internship. Can't overstate how valuable that was for my career trajectory!"
          ],
          [
           "Learning to code in a different cultural context at AIT Budapest was eye-opening. The approach to problem-solving was completely different than what we do at Dartmouth. It made me a more flexible thinker and programmer."
          ],
          [
           "Studying at Williams-Mystic completely changed how I view marine conservation. Getting hands-on experience with coastal communities facing climate change impacts gave me real-world context for my research interests. Best decision I ever made."
          ],
          [
           "My time at Waseda Uni in Tokyo improved my Japanese like crazy!!! Couldn't really hold a conversation b4 the program, now I'm pretty much fluent. Also made amazing friends who I still talk to everyday."
          ],
          [
           "The Guarini program gave me confidence I never knew I had. Living in a foreign country forces you to adapt and problem solve in ways campus life never does. I came back a completely different person - more independent and sure of myself."
          ],
          [
           "tbh the technical skills I picked up at Technical University of Denmark weren't that different from Dartmouth, but the professional connections and seeing how engineering is practiced in a different cultural context was invaluable."
          ],
          [
           "The biggest benefit was getting to do actual fieldwork with communities in Cuba through CASA. No amount of classroom learning compares to immersive cultural experiences. It confirmed my desire to pursue anthropology professionally."
          ],
          [
           "The marine biology program completely changed my career path. I was pre-med before, but after working in the field at MBL, I'm now pursuing marine conservation. The hands-on research experience was transformative."
          ],
          [
           "Studying at Bocconi gave me a completely different perspective on economic systems. The European approach is so different from what we learn in the US. I think I'm much more well-rounded in my understanding now."
          ],
          [
           "The language immersion was incredible. I went to Berlin barely able to order coffee in German and came back able to discuss literature. The Federation program's language focus was exactly what I needed."
          ],
          [
           "Oxford's resources for art history are unmatched. Having access to those collections and scholars through Keble College transformed my research abilities. My thesis is 100% stronger because of what I learned there."
          ],
          [
           "The biggest benefit was seeing climate change impacts firsthand in coastal communities. The Williams-Mystic program wasn't just academic - it was visceral and emotional. It made everything I'd been studying real in a way nothing else could."
          ],
          [
           "My time at American University of Kuwait helped me understand the region beyond stereotypes. Living there and making local friends gave me nuanced perspectives that no amount of reading could provide. Plus my Arabic improved tremendously."
          ],
          [
           "The cross-cultural research methods I learned at University of Auckland have been super helpful for my honors thesis. I'm now incorporating international perspectives that I wouldn't have considered before."
          ],
          [
           "The collaborative coding culture at AIT Budapest was so different from Dartmouth's more competitive environment. I learned how to work better in teams and communicate technical concepts across language barriers."
          ],
          [
           "Kanda University's language immersion was intense but effective. My Japanese improved more in one term than in two years of campus study. Plus living with a host family taught me cultural nuances you can't learn in a classroom."
          ],
          [
           "Spelman College exchange opened my eyes to different perspectives on race and gender in America. As a white student, this experience was humbling and educational in ways I'm still processing. Most valuable term of my college experience."
          ],
          [
           "The biggest benefit was definitely the mentorship from my faculty director at Trinity. She connected me with local writers and helped me develop my creative voice in ways that wouldn't have happened on campus."
          ],
          [
           "Studying at University College London gave me access to primary sources for my research that simply don't exist in the US. My thesis on British colonial policy is 1000% stronger because of the archival work I did there."
          ],
          [
           "The professional connections I made at Copenhagen were game-changing for my career path. One of my professors there recommended me for an internship that led directly to my job offer. Can't put a price on that kind of networking."
          ],
          [
           "I think the biggest benefit was learning to communicate technical concepts across cultural and language barriers. At Technical University of Denmark, I had to really improve how I explained my work, which has been super valuable."
          ],
          [
           "The field research skills I developed at Williams-Mystic have been crucial for my senior project. Learning to collect and analyze data in challenging coastal environments taught me resilience and adaptability."
          ],
          [
           "My time in Bangkok at Chulalongkorn gave me first-hand exposure to a political system very different from ours. The theoretical frameworks we discuss in class became concrete, and I now have a much more nuanced view of governance."
          ],
          [
           "The National Theater Institute program pushed me way outside my comfort zone as a performer. The intensive training and professional connections have been invaluable. I'm a completely different artist now."
          ],
          [
           "Cuba program changed my life!! The immersive fieldwork experience confirmed that anthropology is what I want to do with my life. Plus made amazing friends and improved my Spanish sooooo much."
          ],
          [
           "The research techniques I learned at Marine Biology Laboratory are ones I wouldn't have been exposed to at Dartmouth. Having that technical expertise has already helped me secure a research position for after graduation."
          ],
          [
           "Keio University's approach to international relations from an Asian perspective completely changed how I understand global politics. The academic perspective was so different from what we get in US classrooms."
          ],
          [
           "The biggest benefit was seeing how economic theory plays out differently in European contexts. At Bocconi, the focus on social welfare alongside market efficiency gave me a more balanced view of economic systems."
          ],
          [
           "The problem-solving approaches at AIT Budapest were so different from what we learn at Dartmouth. I'm now able to tackle coding challenges from multiple angles, which has made me a much stronger programmer."
          ],
          [
           "Living in Milan while studying at Bocconi meant I could visit the art we were studying anytime. That kind of immediate access to cultural treasures made art history come alive in ways campus classes never could."
          ],
          [
           "The language immersion at Yonsei was incredible for my Korean skills. But beyond that, observing how language shapes culture firsthand gave me research insights I'm still unpacking in my senior thesis."
          ],
          [
           "Williams-Mystic program taught me field research methods I wouldn't have learned on campus. The hands-on experience collecting and analyzing coastal data has been directly applicable to my senior project."
          ],
          [
           "At Technical University of Denmark, the applied approach to mathematics was very different from Dartmouth's theoretical focus. Having both perspectives has made me much more versatile in my problem-solving approaches."
          ],
          [
           "Vassar's approach to community-based research methodologies completely changed how I approach my work. I'm now much more conscious of ethical considerations and community engagement in research design."
          ],
          [
           "The biggest benefit was the networking with international researchers at University of Auckland. Those connections led to my current research collaboration, which will likely turn into my graduate work."
          ],
          [
           "My Arabic improved 1000% at American University of Kuwait! But more importantly, the cultural immersion helped me understand regional complexities in ways that classroom learning never could. Best decision I made at Dartmouth."
          ],
          [
           "The policy analysis frameworks I learned at UCL were more sophisticated than what we typically use in US contexts. Having that comparative perspective has strengthened my analytical skills tremendously."
          ],
          [
           "Hands-on lab experience at Technical University of Denmark gave me technical skills that set me apart from other job applicants. Already had two interviews where employers were specifically interested in that experience."
          ],
          [
           "CASA Cuba program taught me how to conduct ethical fieldwork in complex cultural contexts. Those research skills and ethical frameworks have been crucial for my senior thesis work."
          ],
          [
           "Cross-cultural perspectives on developmental psychology at Auckland completely changed my research interests. I'm now focusing on cultural variations in child development for my graduate work."
          ],
          [
           "The marine research techniques I learned at MBL were cutting-edge. Having that technical expertise on my resume helped me land a competitive research assistant position for after graduation."
          ],
          [
           "Tokyo was amazing!!! Waseda University's language program improved my Japanese dramatically, and the cultural immersion was incredible. Made friends I'll have for life and professional connections that are already helping my job search."
          ],
          [
           "The biggest benefit was seeing how economic policies play out differently in European welfare states. Copenhagen's approach to market economics with strong social supports gave me a more nuanced perspective."
          ],
          [
           "AIT Budapest connected me with tech startups in ways I couldn't have accessed from campus. One connection led to my summer internship, which then led to my job offer. The professional network was invaluable."
          ],
          [
           "The archival research skills I developed at Oxford have been directly applicable to my thesis work. Learning how to navigate historical documents and primary sources has made me a much stronger researcher."
          ],
          [
           "Williams-Mystic program taught me to communicate science to non-specialists, which has been surprisingly valuable. Learning to translate complex environmental concepts for different audiences is a skill I use constantly."
          ],
          [
           "NTI program was intense but transformative. The professional-level training and connections to working artists gave me both skills and a network that's already helping my career prospects."
          ],
          [
           "Spelman College exchange challenged many of my assumptions about race and education in America. That kind of perspective-shifting experience is exactly what a liberal arts education should provide."
          ],
          [
           "The biggest benefit was definitely language acquisition. My Japanese improved more in one term at Kanda than in two years of campus classes. The immersion experience is just unbeatable for language learning."
          ],
          [
           "The collaborative approach to problem-solving at Technical University of Denmark was refreshing. Learning to work effectively in international teams has been valuable for every group project since."
          ],
          [
           "Field research methods I learned in the Cuba program have been directly applicable to my senior thesis. The practical experience of designing and conducting ethnographic research was invaluable."
          ],
          [
           "Bocconi's connections to European financial institutions gave me networking opportunities I couldn't have accessed from campus. Those connections directly led to my current job offer."
          ],
          [
           "The biggest benefit was definitely the hands-on research experience at Marine Biology Lab. Getting to work alongside leading scientists and use cutting-edge equipment gave me skills that set my grad school applications apart."
          ],
          [
           "Budapest was life-changing! The programming challenges at AIT were so different from our coursework at Dartmouth. I learned to approach problems from completely new angles, which has made me a much stronger coder."
          ],
          [
           "The comparative perspective on democratic systems I gained at UCL has been crucial for my thesis work. Seeing how different governments approach similar problems gave me analytical frameworks I still use."
          ],
          [
           "My time at Yonsei University in Seoul improved my Korean dramatically, but the cultural insights were even more valuable. Understanding business etiquette and social norms has been surprisingly helpful in job interviews."
          ],
          [
           "The interdisciplinary approach at Williams-Mystic showed me how to integrate scientific data with policy considerations and community needs. That holistic perspective has shaped my approach to environmental work."
          ],
          [
           "Auckland's approach to indigenous psychology opened my eyes to completely different frameworks. I'm now incorporating those perspectives into my research in ways that make it much more inclusive and comprehensive."
          ],
          [
           "The biggest benefit was seeing economic theories applied in different cultural contexts. Copenhagen's approach to balancing market efficiency with social welfare gave me new perspectives on policy design."
          ],
          [
           "The professional connections I made through National Theater Institute have been career-changing. Two directors I worked with there have already hired me for projects post-graduation."
          ],
          [
           "My language skills improved dramatically, but more importantly, I gained research insights into how language shapes cultural identity. My thesis work on this topic directly stems from observations during my time in Seoul."
          ],
          [
           "The field research methods I learned at Williams-Mystic have been directly applicable to my senior project. Learning to collect and analyze environmental data in challenging conditions taught me both technical skills and resilience."
          ],
          [
           "AIT Budapest's focus on creative problem-solving rather than just technical implementation made me a much more innovative programmer. I approach challenges differently now, looking for elegant solutions rather than just functional ones."
          ],
          [
           "CASA Cuba program taught me how to navigate complex cultural contexts as a researcher. The ethical frameworks and methodological approaches have been foundational for my independent work since."
          ],
          [
           "The professional networking at Bocconi was incredible. The connections I made there led directly to my internship last summer, which has now turned into a job offer. The career impact has been tremendous."
          ],
          [
           "The biggest benefit was the mentorship from researchers at MBL. Having guidance from leading scientists in my field helped me refine my research interests and strengthen my grad school applications."
          ],
          [
           "Waseda's language program improved my Japanese dramatically, but the cultural immersion was equally valuable. Understanding business etiquette and social norms has been surprisingly helpful in job interviews with Japanese companies."
          ],
          [
           "The technical skills I gained at Technical University of Denmark set me apart from other job applicants. The hands-on lab experience with equipment we don't have at Dartmouth has been a major selling point in interviews."
          ],
          [
           "Oxford's resources for art history research are unmatched. Having access to those collections and scholars transformed my ability to analyze primary sources and strengthened my thesis work immeasurably."
          ],
          [
           "Williams-Mystic taught me to communicate complex environmental concepts to different audiences. That skill has been surprisingly valuable in every research presentation and paper since."
          ],
          [
           "The biggest benefit was seeing how different political systems approach similar problems. My time at University College London gave me comparative frameworks that have strengthened my analytical skills tremendously."
          ],
          [
           "Cross-cultural research methods I learned at Auckland have completely shaped my thesis approach. I'm now incorporating international perspectives that make my work much more comprehensive and nuanced."
          ],
          [
           "The collaborative coding culture at AIT Budapest showed me new ways of approaching team projects. I've brought those practices back to group work at Dartmouth with great results."
          ],
          [
           "Seeing economic policies in action in Copenhagen gave me concrete examples of theoretical concepts we discuss in class. That real-world application has deepened my understanding immensely."
          ],
          [
           "NTI pushed me WAY outside my comfort zone as a performer. The intensive training transformed my technical abilities and gave me confidence I never had before. I'm a completely different artist now."
          ],
          [
           "My time at Keio wasn't just about language improvement - though that was significant. The cultural insights and professional connections have shaped my career interests in international business."
          ],
          [
           "The research techniques I learned at MBL have been directly applicable to my thesis work. Having that technical expertise has strengthened both my research and my grad school applications."
          ],
          [
           "The biggest benefit was learning to conduct ethical fieldwork in complex cultural contexts. CASA Cuba program gave me methodological frameworks that have been essential for my independent research since."
          ],
          [
           "Technical University of Denmark's approach to sustainable engineering opened my eyes to new possibilities. I'm now focusing my career on green technology solutions, which wasn't on my radar before."
          ],
          [
           "Williams-Mystic program taught me how to integrate scientific data with policy considerations and community needs. That interdisciplinary approach has been valuable for all my environmental work since."
          ],
          [
           "The international perspective on economic systems I gained at Bocconi has made me much more thoughtful about policy design. Seeing different approaches to market regulation gave me new analytical frameworks."
          ],
          [
           "AIT Budapest connected me w/ the European tech scene in ways I couldn't have accessed from campus. Those connections led to my internship last summer & now a full-time job offer! Best decision I made at Dartmouth tbh."
          ],
          [
           "The biggest benefit was definitely language acquisition. My Japanese improved more in one term at Kanda than in two years of campus classes. The immersion experience is just unbeatable for language learning."
          ],
          [
           "Auckland's approach to research methodology was refreshingly different from Dartmouth's. Having both perspectives has made me a much more versatile researcher and strengthened my graduate school applications."
          ],
          [
           "The field research experience at Williams-Mystic gave me technical skills that set my resume apart. I've already had employers specifically ask about that experience in interviews."
          ],
          [
           "Studying comparative politics at UCL while Brexit was happening was an incredible learning opportunity. Seeing major political change up close gave me insights no textbook could provide."
          ],
          [
           "The professional-level training at National Theater Institute transformed my technical abilities. I gained skills in areas like movement and voice that we don't focus on as much in campus productions."
          ],
          [
           "The biggest benefit was seeing how economic theories play out differently in European contexts. Copenhagen's balance of market efficiency and social welfare gave me new perspectives on policy design."
          ],
          [
           "The problem-solving approaches at AIT Budapest were so different from what we learn at Dartmouth. I'm now able to tackle coding challenges from multiple angles, which has made me a much stronger programmer."
          ],
          [
           "Beyond just language improvement, my time at Waseda gave me cultural insights that have been valuable for my job search in international business. Understanding Japanese business culture has been a major selling point."
          ],
          [
           "The mentorship from researchers at MBL helped me refine my research interests and strengthen my grad school applications. Having guidance from leading scientists in my field was invaluable."
          ],
          [
           "CASA Cuba program taught me research methods I wouldn't have learned on campus. The practical experience of designing and conducting ethnographic research has been essential for my senior thesis."
          ],
          [
           "The biggest benefit was learning to communicate technical concepts across cultural and language barriers. At Technical University of Denmark, I had to really improve how I explained my work."
          ],
          [
           "Williams-Mystic's interdisciplinary approach showed me how to integrate scientific data with policy considerations and community needs. That holistic perspective has shaped all my environmental work since."
          ],
          [
           "The professional connections I made at Bocconi have been game-changing for my career path. One professor there recommended me for an internship that led directly to my current job offer."
          ],
          [
           "Cross-cultural perspectives on developmental psychology at Auckland completely changed my research interests. I'm now focusing on cultural variations in child development for my graduate work."
          ],
          [
           "AIT Budapest's creative approach to problem-solving made me a much more innovative programmer. I approach challenges differently now, looking for elegant solutions rather than just functional ones."
          ],
          [
           "My time at Keio improved my Japanese dramatically, but the cultural insights were even more valuable. Understanding business etiquette and social norms has been surprisingly helpful in job interviews."
          ],
          [
           "The biggest benefit was seeing environmental challenges firsthand in coastal communities. Williams-Mystic program made abstract concepts concrete in ways that transformed my understanding and commitment."
          ],
          [
           "UCL's comparative approach to political systems gave me analytical frameworks that have strengthened my thesis work tremendously. Seeing how different governments approach similar problems was enlightening."
          ]
         ],
         "hovertemplate": "x=%{x}<br>y=%{y}<br>Response=%{customdata[0]}<extra></extra>",
         "legendgroup": "",
         "marker": {
          "color": "#636efa",
          "symbol": "circle"
         },
         "mode": "markers",
         "name": "",
         "orientation": "v",
         "showlegend": false,
         "type": "scatter",
         "x": {
          "bdata": "PAEVQfZF3EByeg9BLegrQdVUGEE8cf1A9jElQbYOD0G6bzZB7DUnQcDcN0FXRhhBCYglQUHMM0H4adlA3tIlQdPQHUHIRhhBLBk9Qd/1AkHEXSFBYF4NQYbqPUHBhghBu0kiQfTbC0FPxTdBL104QQJv00An4w9BL20rQdf7D0F2TuJAmIIkQTn7G0E17yJBtQ9CQVY0A0FFOShBGUw1QbsgDEFjPSpBEiA4Qflp+UAKLztBtvESQXchA0EPxhpBbMchQXek4EAmhCVB8fYMQWp/FkEHyN1A+UlAQYLgMkE1hRFBhuszQRTuPEF97gdBG+0tQU6XE0FQHdJA9DwnQVMwCkEahRpBynIyQU43AkHNsjdBOvEPQSMGM0FDETNBKnzgQBdiPEHXjQVB2X0yQYKOEkG4xiZBYOEEQdbKD0Fc+DpBNZ3vQOF0JUFqti5BCIIFQUWAO0GtwwlB0QI2QdLv0ECcvC5BQ98XQTWxKEF8siBBIroNQU8oC0HTKzNBNrjNQDPmNEF+cRRB0D8/QQ==",
          "dtype": "f4"
         },
         "xaxis": "x",
         "y": {
          "bdata": "cx5VQEk9g0Dyy6c/2lSsQJ4qaEAI+zhAKSbMP7Tp9T/4qSlAs0yaQJ2hnz+e9M4/+m2LQFDSTj+szIpAVJCfQM7VfkCvp0BAt06NP3bbVUACk0VAcbCSP1xHVkDhVIZAG8auPza3BECexIVASoMsQD5JhkB8NGdARwimQERGiT8Xdl5AP1w6P7psMkC2LpFAytZEQDFIGUBBu0w/YRB3Pt2EB0DlrKxA92wvQHv+dUAP5X8/SB45P9bhc0DssINARVKhQBvkk0CFkV4/FEZcQD8xKEA9yIlANzhRQNJ/qkDUmv8+8Sm2PtIUIkDpToVAMUeaQGZMgT9uaIVAYQIzPwpeY0CdHRlAsA2lQBftLkBoFJM/STRJPx5bTEAwJwo/gEyQQDj7KkCz5oNAeRydQMl2FEBjqpg/t5AeQNcmGD+wHTdATfJsQFyOpUCaAtk+OujfP8TbV0BetINAcA06QKzUgkBphqRAblUMQOEBfz+TQlFAJnAJP8BTXUCmHNI+PNyNQC8FqEDG5Kk/K65MQA==",
          "dtype": "f4"
         },
         "yaxis": "y"
        }
       ],
       "layout": {
        "legend": {
         "tracegroupgap": 0
        },
        "margin": {
         "t": 60
        },
        "template": {
         "data": {
          "bar": [
           {
            "error_x": {
             "color": "#2a3f5f"
            },
            "error_y": {
             "color": "#2a3f5f"
            },
            "marker": {
             "line": {
              "color": "#E5ECF6",
              "width": 0.5
             },
             "pattern": {
              "fillmode": "overlay",
              "size": 10,
              "solidity": 0.2
             }
            },
            "type": "bar"
           }
          ],
          "barpolar": [
           {
            "marker": {
             "line": {
              "color": "#E5ECF6",
              "width": 0.5
             },
             "pattern": {
              "fillmode": "overlay",
              "size": 10,
              "solidity": 0.2
             }
            },
            "type": "barpolar"
           }
          ],
          "carpet": [
           {
            "aaxis": {
             "endlinecolor": "#2a3f5f",
             "gridcolor": "white",
             "linecolor": "white",
             "minorgridcolor": "white",
             "startlinecolor": "#2a3f5f"
            },
            "baxis": {
             "endlinecolor": "#2a3f5f",
             "gridcolor": "white",
             "linecolor": "white",
             "minorgridcolor": "white",
             "startlinecolor": "#2a3f5f"
            },
            "type": "carpet"
           }
          ],
          "choropleth": [
           {
            "colorbar": {
             "outlinewidth": 0,
             "ticks": ""
            },
            "type": "choropleth"
           }
          ],
          "contour": [
           {
            "colorbar": {
             "outlinewidth": 0,
             "ticks": ""
            },
            "colorscale": [
             [
              0,
              "#0d0887"
             ],
             [
              0.1111111111111111,
              "#46039f"
             ],
             [
              0.2222222222222222,
              "#7201a8"
             ],
             [
              0.3333333333333333,
              "#9c179e"
             ],
             [
              0.4444444444444444,
              "#bd3786"
             ],
             [
              0.5555555555555556,
              "#d8576b"
             ],
             [
              0.6666666666666666,
              "#ed7953"
             ],
             [
              0.7777777777777778,
              "#fb9f3a"
             ],
             [
              0.8888888888888888,
              "#fdca26"
             ],
             [
              1,
              "#f0f921"
             ]
            ],
            "type": "contour"
           }
          ],
          "contourcarpet": [
           {
            "colorbar": {
             "outlinewidth": 0,
             "ticks": ""
            },
            "type": "contourcarpet"
           }
          ],
          "heatmap": [
           {
            "colorbar": {
             "outlinewidth": 0,
             "ticks": ""
            },
            "colorscale": [
             [
              0,
              "#0d0887"
             ],
             [
              0.1111111111111111,
              "#46039f"
             ],
             [
              0.2222222222222222,
              "#7201a8"
             ],
             [
              0.3333333333333333,
              "#9c179e"
             ],
             [
              0.4444444444444444,
              "#bd3786"
             ],
             [
              0.5555555555555556,
              "#d8576b"
             ],
             [
              0.6666666666666666,
              "#ed7953"
             ],
             [
              0.7777777777777778,
              "#fb9f3a"
             ],
             [
              0.8888888888888888,
              "#fdca26"
             ],
             [
              1,
              "#f0f921"
             ]
            ],
            "type": "heatmap"
           }
          ],
          "histogram": [
           {
            "marker": {
             "pattern": {
              "fillmode": "overlay",
              "size": 10,
              "solidity": 0.2
             }
            },
            "type": "histogram"
           }
          ],
          "histogram2d": [
           {
            "colorbar": {
             "outlinewidth": 0,
             "ticks": ""
            },
            "colorscale": [
             [
              0,
              "#0d0887"
             ],
             [
              0.1111111111111111,
              "#46039f"
             ],
             [
              0.2222222222222222,
              "#7201a8"
             ],
             [
              0.3333333333333333,
              "#9c179e"
             ],
             [
              0.4444444444444444,
              "#bd3786"
             ],
             [
              0.5555555555555556,
              "#d8576b"
             ],
             [
              0.6666666666666666,
              "#ed7953"
             ],
             [
              0.7777777777777778,
              "#fb9f3a"
             ],
             [
              0.8888888888888888,
              "#fdca26"
             ],
             [
              1,
              "#f0f921"
             ]
            ],
            "type": "histogram2d"
           }
          ],
          "histogram2dcontour": [
           {
            "colorbar": {
             "outlinewidth": 0,
             "ticks": ""
            },
            "colorscale": [
             [
              0,
              "#0d0887"
             ],
             [
              0.1111111111111111,
              "#46039f"
             ],
             [
              0.2222222222222222,
              "#7201a8"
             ],
             [
              0.3333333333333333,
              "#9c179e"
             ],
             [
              0.4444444444444444,
              "#bd3786"
             ],
             [
              0.5555555555555556,
              "#d8576b"
             ],
             [
              0.6666666666666666,
              "#ed7953"
             ],
             [
              0.7777777777777778,
              "#fb9f3a"
             ],
             [
              0.8888888888888888,
              "#fdca26"
             ],
             [
              1,
              "#f0f921"
             ]
            ],
            "type": "histogram2dcontour"
           }
          ],
          "mesh3d": [
           {
            "colorbar": {
             "outlinewidth": 0,
             "ticks": ""
            },
            "type": "mesh3d"
           }
          ],
          "parcoords": [
           {
            "line": {
             "colorbar": {
              "outlinewidth": 0,
              "ticks": ""
             }
            },
            "type": "parcoords"
           }
          ],
          "pie": [
           {
            "automargin": true,
            "type": "pie"
           }
          ],
          "scatter": [
           {
            "fillpattern": {
             "fillmode": "overlay",
             "size": 10,
             "solidity": 0.2
            },
            "type": "scatter"
           }
          ],
          "scatter3d": [
           {
            "line": {
             "colorbar": {
              "outlinewidth": 0,
              "ticks": ""
             }
            },
            "marker": {
             "colorbar": {
              "outlinewidth": 0,
              "ticks": ""
             }
            },
            "type": "scatter3d"
           }
          ],
          "scattercarpet": [
           {
            "marker": {
             "colorbar": {
              "outlinewidth": 0,
              "ticks": ""
             }
            },
            "type": "scattercarpet"
           }
          ],
          "scattergeo": [
           {
            "marker": {
             "colorbar": {
              "outlinewidth": 0,
              "ticks": ""
             }
            },
            "type": "scattergeo"
           }
          ],
          "scattergl": [
           {
            "marker": {
             "colorbar": {
              "outlinewidth": 0,
              "ticks": ""
             }
            },
            "type": "scattergl"
           }
          ],
          "scattermap": [
           {
            "marker": {
             "colorbar": {
              "outlinewidth": 0,
              "ticks": ""
             }
            },
            "type": "scattermap"
           }
          ],
          "scattermapbox": [
           {
            "marker": {
             "colorbar": {
              "outlinewidth": 0,
              "ticks": ""
             }
            },
            "type": "scattermapbox"
           }
          ],
          "scatterpolar": [
           {
            "marker": {
             "colorbar": {
              "outlinewidth": 0,
              "ticks": ""
             }
            },
            "type": "scatterpolar"
           }
          ],
          "scatterpolargl": [
           {
            "marker": {
             "colorbar": {
              "outlinewidth": 0,
              "ticks": ""
             }
            },
            "type": "scatterpolargl"
           }
          ],
          "scatterternary": [
           {
            "marker": {
             "colorbar": {
              "outlinewidth": 0,
              "ticks": ""
             }
            },
            "type": "scatterternary"
           }
          ],
          "surface": [
           {
            "colorbar": {
             "outlinewidth": 0,
             "ticks": ""
            },
            "colorscale": [
             [
              0,
              "#0d0887"
             ],
             [
              0.1111111111111111,
              "#46039f"
             ],
             [
              0.2222222222222222,
              "#7201a8"
             ],
             [
              0.3333333333333333,
              "#9c179e"
             ],
             [
              0.4444444444444444,
              "#bd3786"
             ],
             [
              0.5555555555555556,
              "#d8576b"
             ],
             [
              0.6666666666666666,
              "#ed7953"
             ],
             [
              0.7777777777777778,
              "#fb9f3a"
             ],
             [
              0.8888888888888888,
              "#fdca26"
             ],
             [
              1,
              "#f0f921"
             ]
            ],
            "type": "surface"
           }
          ],
          "table": [
           {
            "cells": {
             "fill": {
              "color": "#EBF0F8"
             },
             "line": {
              "color": "white"
             }
            },
            "header": {
             "fill": {
              "color": "#C8D4E3"
             },
             "line": {
              "color": "white"
             }
            },
            "type": "table"
           }
          ]
         },
         "layout": {
          "annotationdefaults": {
           "arrowcolor": "#2a3f5f",
           "arrowhead": 0,
           "arrowwidth": 1
          },
          "autotypenumbers": "strict",
          "coloraxis": {
           "colorbar": {
            "outlinewidth": 0,
            "ticks": ""
           }
          },
          "colorscale": {
           "diverging": [
            [
             0,
             "#8e0152"
            ],
            [
             0.1,
             "#c51b7d"
            ],
            [
             0.2,
             "#de77ae"
            ],
            [
             0.3,
             "#f1b6da"
            ],
            [
             0.4,
             "#fde0ef"
            ],
            [
             0.5,
             "#f7f7f7"
            ],
            [
             0.6,
             "#e6f5d0"
            ],
            [
             0.7,
             "#b8e186"
            ],
            [
             0.8,
             "#7fbc41"
            ],
            [
             0.9,
             "#4d9221"
            ],
            [
             1,
             "#276419"
            ]
           ],
           "sequential": [
            [
             0,
             "#0d0887"
            ],
            [
             0.1111111111111111,
             "#46039f"
            ],
            [
             0.2222222222222222,
             "#7201a8"
            ],
            [
             0.3333333333333333,
             "#9c179e"
            ],
            [
             0.4444444444444444,
             "#bd3786"
            ],
            [
             0.5555555555555556,
             "#d8576b"
            ],
            [
             0.6666666666666666,
             "#ed7953"
            ],
            [
             0.7777777777777778,
             "#fb9f3a"
            ],
            [
             0.8888888888888888,
             "#fdca26"
            ],
            [
             1,
             "#f0f921"
            ]
           ],
           "sequentialminus": [
            [
             0,
             "#0d0887"
            ],
            [
             0.1111111111111111,
             "#46039f"
            ],
            [
             0.2222222222222222,
             "#7201a8"
            ],
            [
             0.3333333333333333,
             "#9c179e"
            ],
            [
             0.4444444444444444,
             "#bd3786"
            ],
            [
             0.5555555555555556,
             "#d8576b"
            ],
            [
             0.6666666666666666,
             "#ed7953"
            ],
            [
             0.7777777777777778,
             "#fb9f3a"
            ],
            [
             0.8888888888888888,
             "#fdca26"
            ],
            [
             1,
             "#f0f921"
            ]
           ]
          },
          "colorway": [
           "#636efa",
           "#EF553B",
           "#00cc96",
           "#ab63fa",
           "#FFA15A",
           "#19d3f3",
           "#FF6692",
           "#B6E880",
           "#FF97FF",
           "#FECB52"
          ],
          "font": {
           "color": "#2a3f5f"
          },
          "geo": {
           "bgcolor": "white",
           "lakecolor": "white",
           "landcolor": "#E5ECF6",
           "showlakes": true,
           "showland": true,
           "subunitcolor": "white"
          },
          "hoverlabel": {
           "align": "left"
          },
          "hovermode": "closest",
          "mapbox": {
           "style": "light"
          },
          "paper_bgcolor": "white",
          "plot_bgcolor": "#E5ECF6",
          "polar": {
           "angularaxis": {
            "gridcolor": "white",
            "linecolor": "white",
            "ticks": ""
           },
           "bgcolor": "#E5ECF6",
           "radialaxis": {
            "gridcolor": "white",
            "linecolor": "white",
            "ticks": ""
           }
          },
          "scene": {
           "xaxis": {
            "backgroundcolor": "#E5ECF6",
            "gridcolor": "white",
            "gridwidth": 2,
            "linecolor": "white",
            "showbackground": true,
            "ticks": "",
            "zerolinecolor": "white"
           },
           "yaxis": {
            "backgroundcolor": "#E5ECF6",
            "gridcolor": "white",
            "gridwidth": 2,
            "linecolor": "white",
            "showbackground": true,
            "ticks": "",
            "zerolinecolor": "white"
           },
           "zaxis": {
            "backgroundcolor": "#E5ECF6",
            "gridcolor": "white",
            "gridwidth": 2,
            "linecolor": "white",
            "showbackground": true,
            "ticks": "",
            "zerolinecolor": "white"
           }
          },
          "shapedefaults": {
           "line": {
            "color": "#2a3f5f"
           }
          },
          "ternary": {
           "aaxis": {
            "gridcolor": "white",
            "linecolor": "white",
            "ticks": ""
           },
           "baxis": {
            "gridcolor": "white",
            "linecolor": "white",
            "ticks": ""
           },
           "bgcolor": "#E5ECF6",
           "caxis": {
            "gridcolor": "white",
            "linecolor": "white",
            "ticks": ""
           }
          },
          "title": {
           "x": 0.05
          },
          "xaxis": {
           "automargin": true,
           "gridcolor": "white",
           "linecolor": "white",
           "ticks": "",
           "title": {
            "standoff": 15
           },
           "zerolinecolor": "white",
           "zerolinewidth": 2
          },
          "yaxis": {
           "automargin": true,
           "gridcolor": "white",
           "linecolor": "white",
           "ticks": "",
           "title": {
            "standoff": 15
           },
           "zerolinecolor": "white",
           "zerolinewidth": 2
          }
         }
        },
        "xaxis": {
         "anchor": "y",
         "domain": [
          0,
          1
         ],
         "title": {
          "text": "x"
         }
        },
        "yaxis": {
         "anchor": "x",
         "domain": [
          0,
          1
         ],
         "title": {
          "text": "y"
         }
        }
       }
      }
     },
     "metadata": {},
     "output_type": "display_data"
    }
   ],
   "source": [
    "fig = px.scatter(df, x=\"x\", y=\"y\", hover_data=[\"Response\"])\n",
    "fig.show()"
   ]
  },
  {
   "cell_type": "code",
   "execution_count": 8,
   "metadata": {},
   "outputs": [
    {
     "data": {
      "application/vnd.plotly.v1+json": {
       "config": {
        "plotlyServerURL": "https://plot.ly"
       },
       "data": [
        {
         "customdata": [
          [
           "The biggest benefit of Guarini Exchange was definitely the networking opportunities. I made connections with professionals in London that led directly to my summer internship. Can't overstate how valuable that was for my career trajectory!"
          ],
          [
           "Studying at Bocconi gave me a completely different perspective on economic systems. The European approach is so different from what we learn in the US. I think I'm much more well-rounded in my understanding now."
          ],
          [
           "The professional connections I made at Copenhagen were game-changing for my career path. One of my professors there recommended me for an internship that led directly to my job offer. Can't put a price on that kind of networking."
          ],
          [
           "The biggest benefit was seeing how economic theory plays out differently in European contexts. At Bocconi, the focus on social welfare alongside market efficiency gave me a more balanced view of economic systems."
          ],
          [
           "The biggest benefit was seeing how economic policies play out differently in European welfare states. Copenhagen's approach to market economics with strong social supports gave me a more nuanced perspective."
          ],
          [
           "Bocconi's connections to European financial institutions gave me networking opportunities I couldn't have accessed from campus. Those connections directly led to my current job offer."
          ],
          [
           "The biggest benefit was seeing economic theories applied in different cultural contexts. Copenhagen's approach to balancing market efficiency with social welfare gave me new perspectives on policy design."
          ],
          [
           "The professional networking at Bocconi was incredible. The connections I made there led directly to my internship last summer, which has now turned into a job offer. The career impact has been tremendous."
          ],
          [
           "Seeing economic policies in action in Copenhagen gave me concrete examples of theoretical concepts we discuss in class. That real-world application has deepened my understanding immensely."
          ],
          [
           "The international perspective on economic systems I gained at Bocconi has made me much more thoughtful about policy design. Seeing different approaches to market regulation gave me new analytical frameworks."
          ],
          [
           "The biggest benefit was seeing how economic theories play out differently in European contexts. Copenhagen's balance of market efficiency and social welfare gave me new perspectives on policy design."
          ],
          [
           "The professional connections I made at Bocconi have been game-changing for my career path. One professor there recommended me for an internship that led directly to my current job offer."
          ]
         ],
         "hovertemplate": "Major=Economics<br>x=%{x}<br>y=%{y}<br>Response=%{customdata[0]}<extra></extra>",
         "legendgroup": "Economics",
         "marker": {
          "color": "#636efa",
          "symbol": "circle"
         },
         "mode": "markers",
         "name": "Economics",
         "orientation": "v",
         "showlegend": true,
         "type": "scatter",
         "x": {
          "bdata": "PAEVQbpvNkHf9QJBL104QRIgOEHx9gxBFO48QVMwCkEXYjxBXPg6QdECNkFPKAtB",
          "dtype": "f4"
         },
         "xaxis": "x",
         "y": {
          "bdata": "cx5VQPipKUB221VASoMsQPdsL0AURlxA0hQiQApeY0A4+ypAsB03QHANOkDAU11A",
          "dtype": "f4"
         },
         "yaxis": "y"
        },
        {
         "customdata": [
          [
           "Learning to code in a different cultural context at AIT Budapest was eye-opening. The approach to problem-solving was completely different than what we do at Dartmouth. It made me a more flexible thinker and programmer."
          ],
          [
           "The collaborative coding culture at AIT Budapest was so different from Dartmouth's more competitive environment. I learned how to work better in teams and communicate technical concepts across language barriers."
          ],
          [
           "The problem-solving approaches at AIT Budapest were so different from what we learn at Dartmouth. I'm now able to tackle coding challenges from multiple angles, which has made me a much stronger programmer."
          ],
          [
           "AIT Budapest connected me with tech startups in ways I couldn't have accessed from campus. One connection led to my summer internship, which then led to my job offer. The professional network was invaluable."
          ],
          [
           "Budapest was life-changing! The programming challenges at AIT were so different from our coursework at Dartmouth. I learned to approach problems from completely new angles, which has made me a much stronger coder."
          ],
          [
           "AIT Budapest's focus on creative problem-solving rather than just technical implementation made me a much more innovative programmer. I approach challenges differently now, looking for elegant solutions rather than just functional ones."
          ],
          [
           "The collaborative coding culture at AIT Budapest showed me new ways of approaching team projects. I've brought those practices back to group work at Dartmouth with great results."
          ],
          [
           "AIT Budapest connected me w/ the European tech scene in ways I couldn't have accessed from campus. Those connections led to my internship last summer & now a full-time job offer! Best decision I made at Dartmouth tbh."
          ],
          [
           "The problem-solving approaches at AIT Budapest were so different from what we learn at Dartmouth. I'm now able to tackle coding challenges from multiple angles, which has made me a much stronger programmer."
          ],
          [
           "AIT Budapest's creative approach to problem-solving made me a much more innovative programmer. I approach challenges differently now, looking for elegant solutions rather than just functional ones."
          ]
         ],
         "hovertemplate": "Major=Computer Science<br>x=%{x}<br>y=%{y}<br>Response=%{customdata[0]}<extra></extra>",
         "legendgroup": "Computer Science",
         "marker": {
          "color": "#EF553B",
          "symbol": "circle"
         },
         "mode": "markers",
         "name": "Computer Science",
         "orientation": "v",
         "showlegend": true,
         "type": "scatter",
         "x": {
          "bdata": "9kXcQPhp2UACb9NA+Wn5QAfI3UBQHdJAKnzgQDWd70DS79BANrjNQA==",
          "dtype": "f4"
         },
         "xaxis": "x",
         "y": {
          "bdata": "ST2DQKzMikA+SYZAe/51QD3IiUBuaIVAgEyQQE3ybECs1IJAPNyNQA==",
          "dtype": "f4"
         },
         "yaxis": "y"
        },
        {
         "customdata": [
          [
           "Studying at Williams-Mystic completely changed how I view marine conservation. Getting hands-on experience with coastal communities facing climate change impacts gave me real-world context for my research interests. Best decision I ever made."
          ],
          [
           "The field research skills I developed at Williams-Mystic have been crucial for my senior project. Learning to collect and analyze data in challenging coastal environments taught me resilience and adaptability."
          ],
          [
           "The biggest benefit was the networking with international researchers at University of Auckland. Those connections led to my current research collaboration, which will likely turn into my graduate work."
          ],
          [
           "Williams-Mystic program taught me to communicate science to non-specialists, which has been surprisingly valuable. Learning to translate complex environmental concepts for different audiences is a skill I use constantly."
          ],
          [
           "The interdisciplinary approach at Williams-Mystic showed me how to integrate scientific data with policy considerations and community needs. That holistic perspective has shaped my approach to environmental work."
          ],
          [
           "Williams-Mystic taught me to communicate complex environmental concepts to different audiences. That skill has been surprisingly valuable in every research presentation and paper since."
          ],
          [
           "The field research experience at Williams-Mystic gave me technical skills that set my resume apart. I've already had employers specifically ask about that experience in interviews."
          ],
          [
           "The biggest benefit was seeing environmental challenges firsthand in coastal communities. Williams-Mystic program made abstract concepts concrete in ways that transformed my understanding and commitment."
          ]
         ],
         "hovertemplate": "Major=Environmental Studies<br>x=%{x}<br>y=%{y}<br>Response=%{customdata[0]}<extra></extra>",
         "legendgroup": "Environmental Studies",
         "marker": {
          "color": "#00cc96",
          "symbol": "circle"
         },
         "mode": "markers",
         "name": "Environmental Studies",
         "orientation": "v",
         "showlegend": true,
         "type": "scatter",
         "x": {
          "bdata": "cnoPQWBeDUE5+xtBtvESQTWFEUE68Q9BCIIFQX5xFEE=",
          "dtype": "f4"
         },
         "xaxis": "x",
         "y": {
          "bdata": "8sunP3Gwkj+6bDJASB45P9Sa/z5JNEk/OujfP8bkqT8=",
          "dtype": "f4"
         },
         "yaxis": "y"
        },
        {
         "customdata": [
          [
           "My time at Waseda Uni in Tokyo improved my Japanese like crazy!!! Couldn't really hold a conversation b4 the program, now I'm pretty much fluent. Also made amazing friends who I still talk to everyday."
          ],
          [
           "Kanda University's language immersion was intense but effective. My Japanese improved more in one term than in two years of campus study. Plus living with a host family taught me cultural nuances you can't learn in a classroom."
          ],
          [
           "Keio University's approach to international relations from an Asian perspective completely changed how I understand global politics. The academic perspective was so different from what we get in US classrooms."
          ],
          [
           "Tokyo was amazing!!! Waseda University's language program improved my Japanese dramatically, and the cultural immersion was incredible. Made friends I'll have for life and professional connections that are already helping my job search."
          ],
          [
           "The biggest benefit was definitely language acquisition. My Japanese improved more in one term at Kanda than in two years of campus classes. The immersion experience is just unbeatable for language learning."
          ],
          [
           "My time at Yonsei University in Seoul improved my Korean dramatically, but the cultural insights were even more valuable. Understanding business etiquette and social norms has been surprisingly helpful in job interviews."
          ],
          [
           "Waseda's language program improved my Japanese dramatically, but the cultural immersion was equally valuable. Understanding business etiquette and social norms has been surprisingly helpful in job interviews with Japanese companies."
          ],
          [
           "My time at Keio wasn't just about language improvement - though that was significant. The cultural insights and professional connections have shaped my career interests in international business."
          ],
          [
           "The biggest benefit was definitely language acquisition. My Japanese improved more in one term at Kanda than in two years of campus classes. The immersion experience is just unbeatable for language learning."
          ],
          [
           "Beyond just language improvement, my time at Waseda gave me cultural insights that have been valuable for my job search in international business. Understanding Japanese business culture has been a major selling point."
          ],
          [
           "My time at Keio improved my Japanese dramatically, but the cultural insights were even more valuable. Understanding business etiquette and social norms has been surprisingly helpful in job interviews."
          ]
         ],
         "hovertemplate": "Major=Asian Studies<br>x=%{x}<br>y=%{y}<br>Response=%{customdata[0]}<extra></extra>",
         "legendgroup": "Asian Studies",
         "marker": {
          "color": "#ab63fa",
          "symbol": "circle"
         },
         "mode": "markers",
         "name": "Asian Studies",
         "orientation": "v",
         "showlegend": true,
         "type": "scatter",
         "x": {
          "bdata": "LegrQd7SJUFPxTdBYz0qQWzHIUGC4DJBynIyQdl9MkHhdCVBnLwuQTPmNEE=",
          "dtype": "f4"
         },
         "xaxis": "x",
         "y": {
          "bdata": "2lSsQFSQn0CexIVA5aysQEVSoUDSf6pAsA2lQHkcnUBcjqVAaYakQC8FqEA=",
          "dtype": "f4"
         },
         "yaxis": "y"
        },
        {
         "customdata": [
          [
           "The Guarini program gave me confidence I never knew I had. Living in a foreign country forces you to adapt and problem solve in ways campus life never does. I came back a completely different person - more independent and sure of myself."
          ],
          [
           "My time in Bangkok at Chulalongkorn gave me first-hand exposure to a political system very different from ours. The theoretical frameworks we discuss in class became concrete, and I now have a much more nuanced view of governance."
          ],
          [
           "The policy analysis frameworks I learned at UCL were more sophisticated than what we typically use in US contexts. Having that comparative perspective has strengthened my analytical skills tremendously."
          ],
          [
           "The comparative perspective on democratic systems I gained at UCL has been crucial for my thesis work. Seeing how different governments approach similar problems gave me analytical frameworks I still use."
          ],
          [
           "The biggest benefit was seeing how different political systems approach similar problems. My time at University College London gave me comparative frameworks that have strengthened my analytical skills tremendously."
          ],
          [
           "Studying comparative politics at UCL while Brexit was happening was an incredible learning opportunity. Seeing major political change up close gave me insights no textbook could provide."
          ],
          [
           "UCL's comparative approach to political systems gave me analytical frameworks that have strengthened my thesis work tremendously. Seeing how different governments approach similar problems was enlightening."
          ]
         ],
         "hovertemplate": "Major=Government<br>x=%{x}<br>y=%{y}<br>Response=%{customdata[0]}<extra></extra>",
         "legendgroup": "Government",
         "marker": {
          "color": "#FFA15A",
          "symbol": "circle"
         },
         "mode": "markers",
         "name": "Government",
         "orientation": "v",
         "showlegend": true,
         "type": "scatter",
         "x": {
          "bdata": "1VQYQYbqPUG1D0JB+UlAQSMGM0FFgDtB0D8/QQ==",
          "dtype": "f4"
         },
         "xaxis": "x",
         "y": {
          "bdata": "nipoQFxHVkDK1kRANzhRQB5bTEDE21dAK65MQA==",
          "dtype": "f4"
         },
         "yaxis": "y"
        },
        {
         "customdata": [
          [
           "tbh the technical skills I picked up at Technical University of Denmark weren't that different from Dartmouth, but the professional connections and seeing how engineering is practiced in a different cultural context was invaluable."
          ],
          [
           "I think the biggest benefit was learning to communicate technical concepts across cultural and language barriers. At Technical University of Denmark, I had to really improve how I explained my work, which has been super valuable."
          ],
          [
           "Hands-on lab experience at Technical University of Denmark gave me technical skills that set me apart from other job applicants. Already had two interviews where employers were specifically interested in that experience."
          ],
          [
           "The collaborative approach to problem-solving at Technical University of Denmark was refreshing. Learning to work effectively in international teams has been valuable for every group project since."
          ],
          [
           "The technical skills I gained at Technical University of Denmark set me apart from other job applicants. The hands-on lab experience with equipment we don't have at Dartmouth has been a major selling point in interviews."
          ],
          [
           "Technical University of Denmark's approach to sustainable engineering opened my eyes to new possibilities. I'm now focusing my career on green technology solutions, which wasn't on my radar before."
          ],
          [
           "The biggest benefit was learning to communicate technical concepts across cultural and language barriers. At Technical University of Denmark, I had to really improve how I explained my work."
          ]
         ],
         "hovertemplate": "Major=Engineering<br>x=%{x}<br>y=%{y}<br>Response=%{customdata[0]}<extra></extra>",
         "legendgroup": "Engineering",
         "marker": {
          "color": "#19d3f3",
          "symbol": "circle"
         },
         "mode": "markers",
         "name": "Engineering",
         "orientation": "v",
         "showlegend": true,
         "type": "scatter",
         "x": {
          "bdata": "PHH9QMRdIUFWNANBd6TgQE43AkFg4QRBfLIgQQ==",
          "dtype": "f4"
         },
         "xaxis": "x",
         "y": {
          "bdata": "CPs4QAKTRUAxSBlAG+STQBftLkC3kB5Ak0JRQA==",
          "dtype": "f4"
         },
         "yaxis": "y"
        },
        {
         "customdata": [
          [
           "The biggest benefit was getting to do actual fieldwork with communities in Cuba through CASA. No amount of classroom learning compares to immersive cultural experiences. It confirmed my desire to pursue anthropology professionally."
          ],
          [
           "Cuba program changed my life!! The immersive fieldwork experience confirmed that anthropology is what I want to do with my life. Plus made amazing friends and improved my Spanish sooooo much."
          ],
          [
           "CASA Cuba program taught me how to conduct ethical fieldwork in complex cultural contexts. Those research skills and ethical frameworks have been crucial for my senior thesis work."
          ],
          [
           "Field research methods I learned in the Cuba program have been directly applicable to my senior thesis. The practical experience of designing and conducting ethnographic research was invaluable."
          ],
          [
           "CASA Cuba program taught me how to navigate complex cultural contexts as a researcher. The ethical frameworks and methodological approaches have been foundational for my independent work since."
          ],
          [
           "The biggest benefit was learning to conduct ethical fieldwork in complex cultural contexts. CASA Cuba program gave me methodological frameworks that have been essential for my independent research since."
          ],
          [
           "CASA Cuba program taught me research methods I wouldn't have learned on campus. The practical experience of designing and conducting ethnographic research has been essential for my senior thesis."
          ]
         ],
         "hovertemplate": "Major=Anthropology<br>x=%{x}<br>y=%{y}<br>Response=%{customdata[0]}<extra></extra>",
         "legendgroup": "Anthropology",
         "marker": {
          "color": "#FF6692",
          "symbol": "circle"
         },
         "mode": "markers",
         "name": "Anthropology",
         "orientation": "v",
         "showlegend": true,
         "type": "scatter",
         "x": {
          "bdata": "9jElQbtJIkFFOShBJoQlQfQ8J0G4xiZBNbEoQQ==",
          "dtype": "f4"
         },
         "xaxis": "x",
         "y": {
          "bdata": "KSbMPxvGrj9Bu0w/hZFeP2ECMz9jqpg/4QF/Pw==",
          "dtype": "f4"
         },
         "yaxis": "y"
        },
        {
         "customdata": [
          [
           "The marine biology program completely changed my career path. I was pre-med before, but after working in the field at MBL, I'm now pursuing marine conservation. The hands-on research experience was transformative."
          ],
          [
           "The research techniques I learned at Marine Biology Laboratory are ones I wouldn't have been exposed to at Dartmouth. Having that technical expertise has already helped me secure a research position for after graduation."
          ],
          [
           "The marine research techniques I learned at MBL were cutting-edge. Having that technical expertise on my resume helped me land a competitive research assistant position for after graduation."
          ],
          [
           "The biggest benefit was definitely the hands-on research experience at Marine Biology Lab. Getting to work alongside leading scientists and use cutting-edge equipment gave me skills that set my grad school applications apart."
          ],
          [
           "The biggest benefit was the mentorship from researchers at MBL. Having guidance from leading scientists in my field helped me refine my research interests and strengthen my grad school applications."
          ],
          [
           "The research techniques I learned at MBL have been directly applicable to my thesis work. Having that technical expertise has strengthened both my research and my grad school applications."
          ],
          [
           "The mentorship from researchers at MBL helped me refine my research interests and strengthen my grad school applications. Having guidance from leading scientists in my field was invaluable."
          ]
         ],
         "hovertemplate": "Major=Biology<br>x=%{x}<br>y=%{y}<br>Response=%{customdata[0]}<extra></extra>",
         "legendgroup": "Biology",
         "marker": {
          "color": "#B6E880",
          "symbol": "circle"
         },
         "mode": "markers",
         "name": "Biology",
         "orientation": "v",
         "showlegend": true,
         "type": "scatter",
         "x": {
          "bdata": "tg4PQfTbC0G7IAxBan8WQRqFGkGCjhJBQ98XQQ==",
          "dtype": "f4"
         },
         "xaxis": "x",
         "y": {
          "bdata": "tOn1Pza3BEDdhAdAPzEoQJ0dGUDJdhRAblUMQA==",
          "dtype": "f4"
         },
         "yaxis": "y"
        },
        {
         "customdata": [
          [
           "The language immersion was incredible. I went to Berlin barely able to order coffee in German and came back able to discuss literature. The Federation program's language focus was exactly what I needed."
          ]
         ],
         "hovertemplate": "Major=Comparative Literature<br>x=%{x}<br>y=%{y}<br>Response=%{customdata[0]}<extra></extra>",
         "legendgroup": "Comparative Literature",
         "marker": {
          "color": "#FF97FF",
          "symbol": "circle"
         },
         "mode": "markers",
         "name": "Comparative Literature",
         "orientation": "v",
         "showlegend": true,
         "type": "scatter",
         "x": {
          "bdata": "7DUnQQ==",
          "dtype": "f4"
         },
         "xaxis": "x",
         "y": {
          "bdata": "s0yaQA==",
          "dtype": "f4"
         },
         "yaxis": "y"
        },
        {
         "customdata": [
          [
           "Oxford's resources for art history are unmatched. Having access to those collections and scholars through Keble College transformed my research abilities. My thesis is 100% stronger because of what I learned there."
          ],
          [
           "Living in Milan while studying at Bocconi meant I could visit the art we were studying anytime. That kind of immediate access to cultural treasures made art history come alive in ways campus classes never could."
          ],
          [
           "Oxford's resources for art history research are unmatched. Having access to those collections and scholars transformed my ability to analyze primary sources and strengthened my thesis work immeasurably."
          ]
         ],
         "hovertemplate": "Major=Art History<br>x=%{x}<br>y=%{y}<br>Response=%{customdata[0]}<extra></extra>",
         "legendgroup": "Art History",
         "marker": {
          "color": "#FECB52",
          "symbol": "circle"
         },
         "mode": "markers",
         "name": "Art History",
         "orientation": "v",
         "showlegend": true,
         "type": "scatter",
         "x": {
          "bdata": "wNw3QSfjD0HNsjdB",
          "dtype": "f4"
         },
         "xaxis": "x",
         "y": {
          "bdata": "naGfP3w0Z0BoFJM/",
          "dtype": "f4"
         },
         "yaxis": "y"
        },
        {
         "customdata": [
          [
           "The biggest benefit was seeing climate change impacts firsthand in coastal communities. The Williams-Mystic program wasn't just academic - it was visceral and emotional. It made everything I'd been studying real in a way nothing else could."
          ],
          [
           "Williams-Mystic program taught me field research methods I wouldn't have learned on campus. The hands-on experience collecting and analyzing coastal data has been directly applicable to my senior project."
          ],
          [
           "The field research methods I learned at Williams-Mystic have been directly applicable to my senior project. Learning to collect and analyze environmental data in challenging conditions taught me both technical skills and resilience."
          ],
          [
           "Williams-Mystic program taught me how to integrate scientific data with policy considerations and community needs. That interdisciplinary approach has been valuable for all my environmental work since."
          ],
          [
           "Williams-Mystic's interdisciplinary approach showed me how to integrate scientific data with policy considerations and community needs. That holistic perspective has shaped all my environmental work since."
          ]
         ],
         "hovertemplate": "Major=Geography<br>x=%{x}<br>y=%{y}<br>Response=%{customdata[0]}<extra></extra>",
         "legendgroup": "Geography",
         "marker": {
          "color": "#636efa",
          "symbol": "circle"
         },
         "mode": "markers",
         "name": "Geography",
         "orientation": "v",
         "showlegend": true,
         "type": "scatter",
         "x": {
          "bdata": "V0YYQdf7D0FOlxNB1soPQSK6DUE=",
          "dtype": "f4"
         },
         "xaxis": "x",
         "y": {
          "bdata": "nvTOP0RGiT9mTIE/1yYYPyZwCT8=",
          "dtype": "f4"
         },
         "yaxis": "y"
        },
        {
         "customdata": [
          [
           "My time at American University of Kuwait helped me understand the region beyond stereotypes. Living there and making local friends gave me nuanced perspectives that no amount of reading could provide. Plus my Arabic improved tremendously."
          ],
          [
           "My Arabic improved 1000% at American University of Kuwait! But more importantly, the cultural immersion helped me understand regional complexities in ways that classroom learning never could. Best decision I made at Dartmouth."
          ]
         ],
         "hovertemplate": "Major=Middle Eastern Studies<br>x=%{x}<br>y=%{y}<br>Response=%{customdata[0]}<extra></extra>",
         "legendgroup": "Middle Eastern Studies",
         "marker": {
          "color": "#EF553B",
          "symbol": "circle"
         },
         "mode": "markers",
         "name": "Middle Eastern Studies",
         "orientation": "v",
         "showlegend": true,
         "type": "scatter",
         "x": {
          "bdata": "CYglQTXvIkE=",
          "dtype": "f4"
         },
         "xaxis": "x",
         "y": {
          "bdata": "+m2LQLYukUA=",
          "dtype": "f4"
         },
         "yaxis": "y"
        },
        {
         "customdata": [
          [
           "The cross-cultural research methods I learned at University of Auckland have been super helpful for my honors thesis. I'm now incorporating international perspectives that I wouldn't have considered before."
          ],
          [
           "Cross-cultural perspectives on developmental psychology at Auckland completely changed my research interests. I'm now focusing on cultural variations in child development for my graduate work."
          ],
          [
           "Auckland's approach to indigenous psychology opened my eyes to completely different frameworks. I'm now incorporating those perspectives into my research in ways that make it much more inclusive and comprehensive."
          ],
          [
           "Cross-cultural research methods I learned at Auckland have completely shaped my thesis approach. I'm now incorporating international perspectives that make my work much more comprehensive and nuanced."
          ],
          [
           "Auckland's approach to research methodology was refreshingly different from Dartmouth's. Having both perspectives has made me a much more versatile researcher and strengthened my graduate school applications."
          ],
          [
           "Cross-cultural perspectives on developmental psychology at Auckland completely changed my research interests. I'm now focusing on cultural variations in child development for my graduate work."
          ]
         ],
         "hovertemplate": "Major=Psychology<br>x=%{x}<br>y=%{y}<br>Response=%{customdata[0]}<extra></extra>",
         "legendgroup": "Psychology",
         "marker": {
          "color": "#00cc96",
          "symbol": "circle"
         },
         "mode": "markers",
         "name": "Psychology",
         "orientation": "v",
         "showlegend": true,
         "type": "scatter",
         "x": {
          "bdata": "QcwzQRlMNUGG6zNBQxEzQWq2LkHTKzNB",
          "dtype": "f4"
         },
         "xaxis": "x",
         "y": {
          "bdata": "UNJOP2EQdz7xKbY+MCcKP5oC2T6mHNI+",
          "dtype": "f4"
         },
         "yaxis": "y"
        },
        {
         "customdata": [
          [
           "Spelman College exchange opened my eyes to different perspectives on race and gender in America. As a white student, this experience was humbling and educational in ways I'm still processing. Most valuable term of my college experience."
          ],
          [
           "Vassar's approach to community-based research methodologies completely changed how I approach my work. I'm now much more conscious of ethical considerations and community engagement in research design."
          ],
          [
           "Spelman College exchange challenged many of my assumptions about race and education in America. That kind of perspective-shifting experience is exactly what a liberal arts education should provide."
          ]
         ],
         "hovertemplate": "Major=Sociology<br>x=%{x}<br>y=%{y}<br>Response=%{customdata[0]}<extra></extra>",
         "legendgroup": "Sociology",
         "marker": {
          "color": "#ab63fa",
          "symbol": "circle"
         },
         "mode": "markers",
         "name": "Sociology",
         "orientation": "v",
         "showlegend": true,
         "type": "scatter",
         "x": {
          "bdata": "09AdQZiCJEEPxhpB",
          "dtype": "f4"
         },
         "xaxis": "x",
         "y": {
          "bdata": "ztV+QD9cOj/ssINA",
          "dtype": "f4"
         },
         "yaxis": "y"
        },
        {
         "customdata": [
          [
           "The biggest benefit was definitely the mentorship from my faculty director at Trinity. She connected me with local writers and helped me develop my creative voice in ways that wouldn't have happened on campus."
          ]
         ],
         "hovertemplate": "Major=English<br>x=%{x}<br>y=%{y}<br>Response=%{customdata[0]}<extra></extra>",
         "legendgroup": "English",
         "marker": {
          "color": "#FFA15A",
          "symbol": "circle"
         },
         "mode": "markers",
         "name": "English",
         "orientation": "v",
         "showlegend": true,
         "type": "scatter",
         "x": {
          "bdata": "yEYYQQ==",
          "dtype": "f4"
         },
         "xaxis": "x",
         "y": {
          "bdata": "r6dAQA==",
          "dtype": "f4"
         },
         "yaxis": "y"
        },
        {
         "customdata": [
          [
           "Studying at University College London gave me access to primary sources for my research that simply don't exist in the US. My thesis on British colonial policy is 1000% stronger because of the archival work I did there."
          ],
          [
           "The archival research skills I developed at Oxford have been directly applicable to my thesis work. Learning how to navigate historical documents and primary sources has made me a much stronger researcher."
          ]
         ],
         "hovertemplate": "Major=History<br>x=%{x}<br>y=%{y}<br>Response=%{customdata[0]}<extra></extra>",
         "legendgroup": "History",
         "marker": {
          "color": "#19d3f3",
          "symbol": "circle"
         },
         "mode": "markers",
         "name": "History",
         "orientation": "v",
         "showlegend": true,
         "type": "scatter",
         "x": {
          "bdata": "LBk9QQovO0E=",
          "dtype": "f4"
         },
         "xaxis": "x",
         "y": {
          "bdata": "t06NPw/lfz8=",
          "dtype": "f4"
         },
         "yaxis": "y"
        },
        {
         "customdata": [
          [
           "The National Theater Institute program pushed me way outside my comfort zone as a performer. The intensive training and professional connections have been invaluable. I'm a completely different artist now."
          ],
          [
           "NTI program was intense but transformative. The professional-level training and connections to working artists gave me both skills and a network that's already helping my career prospects."
          ],
          [
           "The professional connections I made through National Theater Institute have been career-changing. Two directors I worked with there have already hired me for projects post-graduation."
          ],
          [
           "NTI pushed me WAY outside my comfort zone as a performer. The intensive training transformed my technical abilities and gave me confidence I never had before. I'm a completely different artist now."
          ],
          [
           "The professional-level training at National Theater Institute transformed my technical abilities. I gained skills in areas like movement and voice that we don't focus on as much in campus productions."
          ]
         ],
         "hovertemplate": "Major=Theater<br>x=%{x}<br>y=%{y}<br>Response=%{customdata[0]}<extra></extra>",
         "legendgroup": "Theater",
         "marker": {
          "color": "#FF6692",
          "symbol": "circle"
         },
         "mode": "markers",
         "name": "Theater",
         "orientation": "v",
         "showlegend": true,
         "type": "scatter",
         "x": {
          "bdata": "wYYIQXchA0F97gdB140FQa3DCUE=",
          "dtype": "f4"
         },
         "xaxis": "x",
         "y": {
          "bdata": "4VSGQNbhc0DpToVAs+aDQF60g0A=",
          "dtype": "f4"
         },
         "yaxis": "y"
        },
        {
         "customdata": [
          [
           "The language immersion at Yonsei was incredible for my Korean skills. But beyond that, observing how language shapes culture firsthand gave me research insights I'm still unpacking in my senior thesis."
          ],
          [
           "My language skills improved dramatically, but more importantly, I gained research insights into how language shapes cultural identity. My thesis work on this topic directly stems from observations during my time in Seoul."
          ]
         ],
         "hovertemplate": "Major=Linguistics<br>x=%{x}<br>y=%{y}<br>Response=%{customdata[0]}<extra></extra>",
         "legendgroup": "Linguistics",
         "marker": {
          "color": "#B6E880",
          "symbol": "circle"
         },
         "mode": "markers",
         "name": "Linguistics",
         "orientation": "v",
         "showlegend": true,
         "type": "scatter",
         "x": {
          "bdata": "L20rQRvtLUE=",
          "dtype": "f4"
         },
         "xaxis": "x",
         "y": {
          "bdata": "RwimQDFHmkA=",
          "dtype": "f4"
         },
         "yaxis": "y"
        },
        {
         "customdata": [
          [
           "At Technical University of Denmark, the applied approach to mathematics was very different from Dartmouth's theoretical focus. Having both perspectives has made me much more versatile in my problem-solving approaches."
          ]
         ],
         "hovertemplate": "Major=Mathematics<br>x=%{x}<br>y=%{y}<br>Response=%{customdata[0]}<extra></extra>",
         "legendgroup": "Mathematics",
         "marker": {
          "color": "#FF97FF",
          "symbol": "circle"
         },
         "mode": "markers",
         "name": "Mathematics",
         "orientation": "v",
         "showlegend": true,
         "type": "scatter",
         "x": {
          "bdata": "dk7iQA==",
          "dtype": "f4"
         },
         "xaxis": "x",
         "y": {
          "bdata": "F3ZeQA==",
          "dtype": "f4"
         },
         "yaxis": "y"
        }
       ],
       "layout": {
        "legend": {
         "title": {
          "text": "Major"
         },
         "tracegroupgap": 0
        },
        "margin": {
         "t": 60
        },
        "template": {
         "data": {
          "bar": [
           {
            "error_x": {
             "color": "#2a3f5f"
            },
            "error_y": {
             "color": "#2a3f5f"
            },
            "marker": {
             "line": {
              "color": "#E5ECF6",
              "width": 0.5
             },
             "pattern": {
              "fillmode": "overlay",
              "size": 10,
              "solidity": 0.2
             }
            },
            "type": "bar"
           }
          ],
          "barpolar": [
           {
            "marker": {
             "line": {
              "color": "#E5ECF6",
              "width": 0.5
             },
             "pattern": {
              "fillmode": "overlay",
              "size": 10,
              "solidity": 0.2
             }
            },
            "type": "barpolar"
           }
          ],
          "carpet": [
           {
            "aaxis": {
             "endlinecolor": "#2a3f5f",
             "gridcolor": "white",
             "linecolor": "white",
             "minorgridcolor": "white",
             "startlinecolor": "#2a3f5f"
            },
            "baxis": {
             "endlinecolor": "#2a3f5f",
             "gridcolor": "white",
             "linecolor": "white",
             "minorgridcolor": "white",
             "startlinecolor": "#2a3f5f"
            },
            "type": "carpet"
           }
          ],
          "choropleth": [
           {
            "colorbar": {
             "outlinewidth": 0,
             "ticks": ""
            },
            "type": "choropleth"
           }
          ],
          "contour": [
           {
            "colorbar": {
             "outlinewidth": 0,
             "ticks": ""
            },
            "colorscale": [
             [
              0,
              "#0d0887"
             ],
             [
              0.1111111111111111,
              "#46039f"
             ],
             [
              0.2222222222222222,
              "#7201a8"
             ],
             [
              0.3333333333333333,
              "#9c179e"
             ],
             [
              0.4444444444444444,
              "#bd3786"
             ],
             [
              0.5555555555555556,
              "#d8576b"
             ],
             [
              0.6666666666666666,
              "#ed7953"
             ],
             [
              0.7777777777777778,
              "#fb9f3a"
             ],
             [
              0.8888888888888888,
              "#fdca26"
             ],
             [
              1,
              "#f0f921"
             ]
            ],
            "type": "contour"
           }
          ],
          "contourcarpet": [
           {
            "colorbar": {
             "outlinewidth": 0,
             "ticks": ""
            },
            "type": "contourcarpet"
           }
          ],
          "heatmap": [
           {
            "colorbar": {
             "outlinewidth": 0,
             "ticks": ""
            },
            "colorscale": [
             [
              0,
              "#0d0887"
             ],
             [
              0.1111111111111111,
              "#46039f"
             ],
             [
              0.2222222222222222,
              "#7201a8"
             ],
             [
              0.3333333333333333,
              "#9c179e"
             ],
             [
              0.4444444444444444,
              "#bd3786"
             ],
             [
              0.5555555555555556,
              "#d8576b"
             ],
             [
              0.6666666666666666,
              "#ed7953"
             ],
             [
              0.7777777777777778,
              "#fb9f3a"
             ],
             [
              0.8888888888888888,
              "#fdca26"
             ],
             [
              1,
              "#f0f921"
             ]
            ],
            "type": "heatmap"
           }
          ],
          "histogram": [
           {
            "marker": {
             "pattern": {
              "fillmode": "overlay",
              "size": 10,
              "solidity": 0.2
             }
            },
            "type": "histogram"
           }
          ],
          "histogram2d": [
           {
            "colorbar": {
             "outlinewidth": 0,
             "ticks": ""
            },
            "colorscale": [
             [
              0,
              "#0d0887"
             ],
             [
              0.1111111111111111,
              "#46039f"
             ],
             [
              0.2222222222222222,
              "#7201a8"
             ],
             [
              0.3333333333333333,
              "#9c179e"
             ],
             [
              0.4444444444444444,
              "#bd3786"
             ],
             [
              0.5555555555555556,
              "#d8576b"
             ],
             [
              0.6666666666666666,
              "#ed7953"
             ],
             [
              0.7777777777777778,
              "#fb9f3a"
             ],
             [
              0.8888888888888888,
              "#fdca26"
             ],
             [
              1,
              "#f0f921"
             ]
            ],
            "type": "histogram2d"
           }
          ],
          "histogram2dcontour": [
           {
            "colorbar": {
             "outlinewidth": 0,
             "ticks": ""
            },
            "colorscale": [
             [
              0,
              "#0d0887"
             ],
             [
              0.1111111111111111,
              "#46039f"
             ],
             [
              0.2222222222222222,
              "#7201a8"
             ],
             [
              0.3333333333333333,
              "#9c179e"
             ],
             [
              0.4444444444444444,
              "#bd3786"
             ],
             [
              0.5555555555555556,
              "#d8576b"
             ],
             [
              0.6666666666666666,
              "#ed7953"
             ],
             [
              0.7777777777777778,
              "#fb9f3a"
             ],
             [
              0.8888888888888888,
              "#fdca26"
             ],
             [
              1,
              "#f0f921"
             ]
            ],
            "type": "histogram2dcontour"
           }
          ],
          "mesh3d": [
           {
            "colorbar": {
             "outlinewidth": 0,
             "ticks": ""
            },
            "type": "mesh3d"
           }
          ],
          "parcoords": [
           {
            "line": {
             "colorbar": {
              "outlinewidth": 0,
              "ticks": ""
             }
            },
            "type": "parcoords"
           }
          ],
          "pie": [
           {
            "automargin": true,
            "type": "pie"
           }
          ],
          "scatter": [
           {
            "fillpattern": {
             "fillmode": "overlay",
             "size": 10,
             "solidity": 0.2
            },
            "type": "scatter"
           }
          ],
          "scatter3d": [
           {
            "line": {
             "colorbar": {
              "outlinewidth": 0,
              "ticks": ""
             }
            },
            "marker": {
             "colorbar": {
              "outlinewidth": 0,
              "ticks": ""
             }
            },
            "type": "scatter3d"
           }
          ],
          "scattercarpet": [
           {
            "marker": {
             "colorbar": {
              "outlinewidth": 0,
              "ticks": ""
             }
            },
            "type": "scattercarpet"
           }
          ],
          "scattergeo": [
           {
            "marker": {
             "colorbar": {
              "outlinewidth": 0,
              "ticks": ""
             }
            },
            "type": "scattergeo"
           }
          ],
          "scattergl": [
           {
            "marker": {
             "colorbar": {
              "outlinewidth": 0,
              "ticks": ""
             }
            },
            "type": "scattergl"
           }
          ],
          "scattermap": [
           {
            "marker": {
             "colorbar": {
              "outlinewidth": 0,
              "ticks": ""
             }
            },
            "type": "scattermap"
           }
          ],
          "scattermapbox": [
           {
            "marker": {
             "colorbar": {
              "outlinewidth": 0,
              "ticks": ""
             }
            },
            "type": "scattermapbox"
           }
          ],
          "scatterpolar": [
           {
            "marker": {
             "colorbar": {
              "outlinewidth": 0,
              "ticks": ""
             }
            },
            "type": "scatterpolar"
           }
          ],
          "scatterpolargl": [
           {
            "marker": {
             "colorbar": {
              "outlinewidth": 0,
              "ticks": ""
             }
            },
            "type": "scatterpolargl"
           }
          ],
          "scatterternary": [
           {
            "marker": {
             "colorbar": {
              "outlinewidth": 0,
              "ticks": ""
             }
            },
            "type": "scatterternary"
           }
          ],
          "surface": [
           {
            "colorbar": {
             "outlinewidth": 0,
             "ticks": ""
            },
            "colorscale": [
             [
              0,
              "#0d0887"
             ],
             [
              0.1111111111111111,
              "#46039f"
             ],
             [
              0.2222222222222222,
              "#7201a8"
             ],
             [
              0.3333333333333333,
              "#9c179e"
             ],
             [
              0.4444444444444444,
              "#bd3786"
             ],
             [
              0.5555555555555556,
              "#d8576b"
             ],
             [
              0.6666666666666666,
              "#ed7953"
             ],
             [
              0.7777777777777778,
              "#fb9f3a"
             ],
             [
              0.8888888888888888,
              "#fdca26"
             ],
             [
              1,
              "#f0f921"
             ]
            ],
            "type": "surface"
           }
          ],
          "table": [
           {
            "cells": {
             "fill": {
              "color": "#EBF0F8"
             },
             "line": {
              "color": "white"
             }
            },
            "header": {
             "fill": {
              "color": "#C8D4E3"
             },
             "line": {
              "color": "white"
             }
            },
            "type": "table"
           }
          ]
         },
         "layout": {
          "annotationdefaults": {
           "arrowcolor": "#2a3f5f",
           "arrowhead": 0,
           "arrowwidth": 1
          },
          "autotypenumbers": "strict",
          "coloraxis": {
           "colorbar": {
            "outlinewidth": 0,
            "ticks": ""
           }
          },
          "colorscale": {
           "diverging": [
            [
             0,
             "#8e0152"
            ],
            [
             0.1,
             "#c51b7d"
            ],
            [
             0.2,
             "#de77ae"
            ],
            [
             0.3,
             "#f1b6da"
            ],
            [
             0.4,
             "#fde0ef"
            ],
            [
             0.5,
             "#f7f7f7"
            ],
            [
             0.6,
             "#e6f5d0"
            ],
            [
             0.7,
             "#b8e186"
            ],
            [
             0.8,
             "#7fbc41"
            ],
            [
             0.9,
             "#4d9221"
            ],
            [
             1,
             "#276419"
            ]
           ],
           "sequential": [
            [
             0,
             "#0d0887"
            ],
            [
             0.1111111111111111,
             "#46039f"
            ],
            [
             0.2222222222222222,
             "#7201a8"
            ],
            [
             0.3333333333333333,
             "#9c179e"
            ],
            [
             0.4444444444444444,
             "#bd3786"
            ],
            [
             0.5555555555555556,
             "#d8576b"
            ],
            [
             0.6666666666666666,
             "#ed7953"
            ],
            [
             0.7777777777777778,
             "#fb9f3a"
            ],
            [
             0.8888888888888888,
             "#fdca26"
            ],
            [
             1,
             "#f0f921"
            ]
           ],
           "sequentialminus": [
            [
             0,
             "#0d0887"
            ],
            [
             0.1111111111111111,
             "#46039f"
            ],
            [
             0.2222222222222222,
             "#7201a8"
            ],
            [
             0.3333333333333333,
             "#9c179e"
            ],
            [
             0.4444444444444444,
             "#bd3786"
            ],
            [
             0.5555555555555556,
             "#d8576b"
            ],
            [
             0.6666666666666666,
             "#ed7953"
            ],
            [
             0.7777777777777778,
             "#fb9f3a"
            ],
            [
             0.8888888888888888,
             "#fdca26"
            ],
            [
             1,
             "#f0f921"
            ]
           ]
          },
          "colorway": [
           "#636efa",
           "#EF553B",
           "#00cc96",
           "#ab63fa",
           "#FFA15A",
           "#19d3f3",
           "#FF6692",
           "#B6E880",
           "#FF97FF",
           "#FECB52"
          ],
          "font": {
           "color": "#2a3f5f"
          },
          "geo": {
           "bgcolor": "white",
           "lakecolor": "white",
           "landcolor": "#E5ECF6",
           "showlakes": true,
           "showland": true,
           "subunitcolor": "white"
          },
          "hoverlabel": {
           "align": "left"
          },
          "hovermode": "closest",
          "mapbox": {
           "style": "light"
          },
          "paper_bgcolor": "white",
          "plot_bgcolor": "#E5ECF6",
          "polar": {
           "angularaxis": {
            "gridcolor": "white",
            "linecolor": "white",
            "ticks": ""
           },
           "bgcolor": "#E5ECF6",
           "radialaxis": {
            "gridcolor": "white",
            "linecolor": "white",
            "ticks": ""
           }
          },
          "scene": {
           "xaxis": {
            "backgroundcolor": "#E5ECF6",
            "gridcolor": "white",
            "gridwidth": 2,
            "linecolor": "white",
            "showbackground": true,
            "ticks": "",
            "zerolinecolor": "white"
           },
           "yaxis": {
            "backgroundcolor": "#E5ECF6",
            "gridcolor": "white",
            "gridwidth": 2,
            "linecolor": "white",
            "showbackground": true,
            "ticks": "",
            "zerolinecolor": "white"
           },
           "zaxis": {
            "backgroundcolor": "#E5ECF6",
            "gridcolor": "white",
            "gridwidth": 2,
            "linecolor": "white",
            "showbackground": true,
            "ticks": "",
            "zerolinecolor": "white"
           }
          },
          "shapedefaults": {
           "line": {
            "color": "#2a3f5f"
           }
          },
          "ternary": {
           "aaxis": {
            "gridcolor": "white",
            "linecolor": "white",
            "ticks": ""
           },
           "baxis": {
            "gridcolor": "white",
            "linecolor": "white",
            "ticks": ""
           },
           "bgcolor": "#E5ECF6",
           "caxis": {
            "gridcolor": "white",
            "linecolor": "white",
            "ticks": ""
           }
          },
          "title": {
           "x": 0.05
          },
          "xaxis": {
           "automargin": true,
           "gridcolor": "white",
           "linecolor": "white",
           "ticks": "",
           "title": {
            "standoff": 15
           },
           "zerolinecolor": "white",
           "zerolinewidth": 2
          },
          "yaxis": {
           "automargin": true,
           "gridcolor": "white",
           "linecolor": "white",
           "ticks": "",
           "title": {
            "standoff": 15
           },
           "zerolinecolor": "white",
           "zerolinewidth": 2
          }
         }
        },
        "xaxis": {
         "anchor": "y",
         "domain": [
          0,
          1
         ],
         "title": {
          "text": "x"
         }
        },
        "yaxis": {
         "anchor": "x",
         "domain": [
          0,
          1
         ],
         "title": {
          "text": "y"
         }
        }
       }
      }
     },
     "metadata": {},
     "output_type": "display_data"
    }
   ],
   "source": [
    "fig = px.scatter(df, x=\"x\", y=\"y\", hover_data=[\"Response\"], color=\"Major\")\n",
    "fig.show()"
   ]
  },
  {
   "cell_type": "code",
   "execution_count": 9,
   "metadata": {},
   "outputs": [],
   "source": [
    "df[\"cluster\"] = hdbscan.HDBSCAN().fit_predict(df[[\"x\", \"y\"]]).astype(\"str\")"
   ]
  },
  {
   "cell_type": "code",
   "execution_count": 10,
   "metadata": {},
   "outputs": [
    {
     "data": {
      "application/vnd.plotly.v1+json": {
       "config": {
        "plotlyServerURL": "https://plot.ly"
       },
       "data": [
        {
         "customdata": [
          [
           "The biggest benefit of Guarini Exchange was definitely the networking opportunities. I made connections with professionals in London that led directly to my summer internship. Can't overstate how valuable that was for my career trajectory!"
          ],
          [
           "The Guarini program gave me confidence I never knew I had. Living in a foreign country forces you to adapt and problem solve in ways campus life never does. I came back a completely different person - more independent and sure of myself."
          ],
          [
           "tbh the technical skills I picked up at Technical University of Denmark weren't that different from Dartmouth, but the professional connections and seeing how engineering is practiced in a different cultural context was invaluable."
          ],
          [
           "The biggest benefit was getting to do actual fieldwork with communities in Cuba through CASA. No amount of classroom learning compares to immersive cultural experiences. It confirmed my desire to pursue anthropology professionally."
          ],
          [
           "Oxford's resources for art history are unmatched. Having access to those collections and scholars through Keble College transformed my research abilities. My thesis is 100% stronger because of what I learned there."
          ],
          [
           "The biggest benefit was seeing climate change impacts firsthand in coastal communities. The Williams-Mystic program wasn't just academic - it was visceral and emotional. It made everything I'd been studying real in a way nothing else could."
          ],
          [
           "Studying at University College London gave me access to primary sources for my research that simply don't exist in the US. My thesis on British colonial policy is 1000% stronger because of the archival work I did there."
          ],
          [
           "I think the biggest benefit was learning to communicate technical concepts across cultural and language barriers. At Technical University of Denmark, I had to really improve how I explained my work, which has been super valuable."
          ],
          [
           "The National Theater Institute program pushed me way outside my comfort zone as a performer. The intensive training and professional connections have been invaluable. I'm a completely different artist now."
          ],
          [
           "At Technical University of Denmark, the applied approach to mathematics was very different from Dartmouth's theoretical focus. Having both perspectives has made me much more versatile in my problem-solving approaches."
          ],
          [
           "Hands-on lab experience at Technical University of Denmark gave me technical skills that set me apart from other job applicants. Already had two interviews where employers were specifically interested in that experience."
          ],
          [
           "AIT Budapest connected me with tech startups in ways I couldn't have accessed from campus. One connection led to my summer internship, which then led to my job offer. The professional network was invaluable."
          ],
          [
           "The archival research skills I developed at Oxford have been directly applicable to my thesis work. Learning how to navigate historical documents and primary sources has made me a much stronger researcher."
          ],
          [
           "Spelman College exchange challenged many of my assumptions about race and education in America. That kind of perspective-shifting experience is exactly what a liberal arts education should provide."
          ],
          [
           "Bocconi's connections to European financial institutions gave me networking opportunities I couldn't have accessed from campus. Those connections directly led to my current job offer."
          ],
          [
           "The professional connections I made through National Theater Institute have been career-changing. Two directors I worked with there have already hired me for projects post-graduation."
          ],
          [
           "The biggest benefit was the mentorship from researchers at MBL. Having guidance from leading scientists in my field helped me refine my research interests and strengthen my grad school applications."
          ],
          [
           "The technical skills I gained at Technical University of Denmark set me apart from other job applicants. The hands-on lab experience with equipment we don't have at Dartmouth has been a major selling point in interviews."
          ],
          [
           "Oxford's resources for art history research are unmatched. Having access to those collections and scholars transformed my ability to analyze primary sources and strengthened my thesis work immeasurably."
          ],
          [
           "NTI pushed me WAY outside my comfort zone as a performer. The intensive training transformed my technical abilities and gave me confidence I never had before. I'm a completely different artist now."
          ],
          [
           "AIT Budapest connected me w/ the European tech scene in ways I couldn't have accessed from campus. Those connections led to my internship last summer & now a full-time job offer! Best decision I made at Dartmouth tbh."
          ],
          [
           "The field research experience at Williams-Mystic gave me technical skills that set my resume apart. I've already had employers specifically ask about that experience in interviews."
          ],
          [
           "The biggest benefit was learning to communicate technical concepts across cultural and language barriers. At Technical University of Denmark, I had to really improve how I explained my work."
          ]
         ],
         "hovertemplate": "cluster=-1<br>x=%{x}<br>y=%{y}<br>Response=%{customdata[0]}<extra></extra>",
         "legendgroup": "-1",
         "marker": {
          "color": "#636efa",
          "symbol": "circle"
         },
         "mode": "markers",
         "name": "-1",
         "orientation": "v",
         "showlegend": true,
         "type": "scatter",
         "x": {
          "bdata": "PAEVQdVUGEE8cf1A9jElQcDcN0FXRhhBLBk9QcRdIUHBhghBdk7iQFY0A0H5aflACi87QQ/GGkHx9gxBfe4HQRqFGkFONwJBzbI3QdeNBUE1ne9ACIIFQXyyIEE=",
          "dtype": "f4"
         },
         "xaxis": "x",
         "y": {
          "bdata": "cx5VQJ4qaEAI+zhAKSbMP52hnz+e9M4/t06NPwKTRUDhVIZAF3ZeQDFIGUB7/nVAD+V/P+ywg0AURlxA6U6FQJ0dGUAX7S5AaBSTP7Pmg0BN8mxAOujfP5NCUUA=",
          "dtype": "f4"
         },
         "yaxis": "y"
        },
        {
         "customdata": [
          [
           "Learning to code in a different cultural context at AIT Budapest was eye-opening. The approach to problem-solving was completely different than what we do at Dartmouth. It made me a more flexible thinker and programmer."
          ],
          [
           "The collaborative coding culture at AIT Budapest was so different from Dartmouth's more competitive environment. I learned how to work better in teams and communicate technical concepts across language barriers."
          ],
          [
           "The problem-solving approaches at AIT Budapest were so different from what we learn at Dartmouth. I'm now able to tackle coding challenges from multiple angles, which has made me a much stronger programmer."
          ],
          [
           "The collaborative approach to problem-solving at Technical University of Denmark was refreshing. Learning to work effectively in international teams has been valuable for every group project since."
          ],
          [
           "Budapest was life-changing! The programming challenges at AIT were so different from our coursework at Dartmouth. I learned to approach problems from completely new angles, which has made me a much stronger coder."
          ],
          [
           "AIT Budapest's focus on creative problem-solving rather than just technical implementation made me a much more innovative programmer. I approach challenges differently now, looking for elegant solutions rather than just functional ones."
          ],
          [
           "The collaborative coding culture at AIT Budapest showed me new ways of approaching team projects. I've brought those practices back to group work at Dartmouth with great results."
          ],
          [
           "The problem-solving approaches at AIT Budapest were so different from what we learn at Dartmouth. I'm now able to tackle coding challenges from multiple angles, which has made me a much stronger programmer."
          ],
          [
           "AIT Budapest's creative approach to problem-solving made me a much more innovative programmer. I approach challenges differently now, looking for elegant solutions rather than just functional ones."
          ]
         ],
         "hovertemplate": "cluster=1<br>x=%{x}<br>y=%{y}<br>Response=%{customdata[0]}<extra></extra>",
         "legendgroup": "1",
         "marker": {
          "color": "#EF553B",
          "symbol": "circle"
         },
         "mode": "markers",
         "name": "1",
         "orientation": "v",
         "showlegend": true,
         "type": "scatter",
         "x": {
          "bdata": "9kXcQPhp2UACb9NAd6TgQAfI3UBQHdJAKnzgQNLv0EA2uM1A",
          "dtype": "f4"
         },
         "xaxis": "x",
         "y": {
          "bdata": "ST2DQKzMikA+SYZAG+STQD3IiUBuaIVAgEyQQKzUgkA83I1A",
          "dtype": "f4"
         },
         "yaxis": "y"
        },
        {
         "customdata": [
          [
           "Studying at Williams-Mystic completely changed how I view marine conservation. Getting hands-on experience with coastal communities facing climate change impacts gave me real-world context for my research interests. Best decision I ever made."
          ],
          [
           "The marine biology program completely changed my career path. I was pre-med before, but after working in the field at MBL, I'm now pursuing marine conservation. The hands-on research experience was transformative."
          ],
          [
           "The field research skills I developed at Williams-Mystic have been crucial for my senior project. Learning to collect and analyze data in challenging coastal environments taught me resilience and adaptability."
          ],
          [
           "Williams-Mystic program taught me field research methods I wouldn't have learned on campus. The hands-on experience collecting and analyzing coastal data has been directly applicable to my senior project."
          ],
          [
           "Williams-Mystic program taught me to communicate science to non-specialists, which has been surprisingly valuable. Learning to translate complex environmental concepts for different audiences is a skill I use constantly."
          ],
          [
           "The interdisciplinary approach at Williams-Mystic showed me how to integrate scientific data with policy considerations and community needs. That holistic perspective has shaped my approach to environmental work."
          ],
          [
           "The field research methods I learned at Williams-Mystic have been directly applicable to my senior project. Learning to collect and analyze environmental data in challenging conditions taught me both technical skills and resilience."
          ],
          [
           "Williams-Mystic taught me to communicate complex environmental concepts to different audiences. That skill has been surprisingly valuable in every research presentation and paper since."
          ],
          [
           "Williams-Mystic program taught me how to integrate scientific data with policy considerations and community needs. That interdisciplinary approach has been valuable for all my environmental work since."
          ],
          [
           "Williams-Mystic's interdisciplinary approach showed me how to integrate scientific data with policy considerations and community needs. That holistic perspective has shaped all my environmental work since."
          ],
          [
           "The biggest benefit was seeing environmental challenges firsthand in coastal communities. Williams-Mystic program made abstract concepts concrete in ways that transformed my understanding and commitment."
          ]
         ],
         "hovertemplate": "cluster=5<br>x=%{x}<br>y=%{y}<br>Response=%{customdata[0]}<extra></extra>",
         "legendgroup": "5",
         "marker": {
          "color": "#00cc96",
          "symbol": "circle"
         },
         "mode": "markers",
         "name": "5",
         "orientation": "v",
         "showlegend": true,
         "type": "scatter",
         "x": {
          "bdata": "cnoPQbYOD0FgXg1B1/sPQbbxEkE1hRFBTpcTQTrxD0HWyg9BIroNQX5xFEE=",
          "dtype": "f4"
         },
         "xaxis": "x",
         "y": {
          "bdata": "8sunP7Tp9T9xsJI/REaJP0geOT/Umv8+ZkyBP0k0ST/XJhg/JnAJP8bkqT8=",
          "dtype": "f4"
         },
         "yaxis": "y"
        },
        {
         "customdata": [
          [
           "My time at Waseda Uni in Tokyo improved my Japanese like crazy!!! Couldn't really hold a conversation b4 the program, now I'm pretty much fluent. Also made amazing friends who I still talk to everyday."
          ],
          [
           "The language immersion was incredible. I went to Berlin barely able to order coffee in German and came back able to discuss literature. The Federation program's language focus was exactly what I needed."
          ],
          [
           "My time at American University of Kuwait helped me understand the region beyond stereotypes. Living there and making local friends gave me nuanced perspectives that no amount of reading could provide. Plus my Arabic improved tremendously."
          ],
          [
           "Kanda University's language immersion was intense but effective. My Japanese improved more in one term than in two years of campus study. Plus living with a host family taught me cultural nuances you can't learn in a classroom."
          ],
          [
           "Spelman College exchange opened my eyes to different perspectives on race and gender in America. As a white student, this experience was humbling and educational in ways I'm still processing. Most valuable term of my college experience."
          ],
          [
           "The language immersion at Yonsei was incredible for my Korean skills. But beyond that, observing how language shapes culture firsthand gave me research insights I'm still unpacking in my senior thesis."
          ],
          [
           "My Arabic improved 1000% at American University of Kuwait! But more importantly, the cultural immersion helped me understand regional complexities in ways that classroom learning never could. Best decision I made at Dartmouth."
          ],
          [
           "Tokyo was amazing!!! Waseda University's language program improved my Japanese dramatically, and the cultural immersion was incredible. Made friends I'll have for life and professional connections that are already helping my job search."
          ],
          [
           "The biggest benefit was definitely language acquisition. My Japanese improved more in one term at Kanda than in two years of campus classes. The immersion experience is just unbeatable for language learning."
          ],
          [
           "My time at Yonsei University in Seoul improved my Korean dramatically, but the cultural insights were even more valuable. Understanding business etiquette and social norms has been surprisingly helpful in job interviews."
          ],
          [
           "My language skills improved dramatically, but more importantly, I gained research insights into how language shapes cultural identity. My thesis work on this topic directly stems from observations during my time in Seoul."
          ],
          [
           "Waseda's language program improved my Japanese dramatically, but the cultural immersion was equally valuable. Understanding business etiquette and social norms has been surprisingly helpful in job interviews with Japanese companies."
          ],
          [
           "My time at Keio wasn't just about language improvement - though that was significant. The cultural insights and professional connections have shaped my career interests in international business."
          ],
          [
           "The biggest benefit was definitely language acquisition. My Japanese improved more in one term at Kanda than in two years of campus classes. The immersion experience is just unbeatable for language learning."
          ],
          [
           "Beyond just language improvement, my time at Waseda gave me cultural insights that have been valuable for my job search in international business. Understanding Japanese business culture has been a major selling point."
          ],
          [
           "My time at Keio improved my Japanese dramatically, but the cultural insights were even more valuable. Understanding business etiquette and social norms has been surprisingly helpful in job interviews."
          ]
         ],
         "hovertemplate": "cluster=2<br>x=%{x}<br>y=%{y}<br>Response=%{customdata[0]}<extra></extra>",
         "legendgroup": "2",
         "marker": {
          "color": "#ab63fa",
          "symbol": "circle"
         },
         "mode": "markers",
         "name": "2",
         "orientation": "v",
         "showlegend": true,
         "type": "scatter",
         "x": {
          "bdata": "LegrQew1J0EJiCVB3tIlQdPQHUEvbStBNe8iQWM9KkFsxyFBguAyQRvtLUHKcjJB2X0yQeF0JUGcvC5BM+Y0QQ==",
          "dtype": "f4"
         },
         "xaxis": "x",
         "y": {
          "bdata": "2lSsQLNMmkD6bYtAVJCfQM7VfkBHCKZAti6RQOWsrEBFUqFA0n+qQDFHmkCwDaVAeRydQFyOpUBphqRALwWoQA==",
          "dtype": "f4"
         },
         "yaxis": "y"
        },
        {
         "customdata": [
          [
           "Studying at Bocconi gave me a completely different perspective on economic systems. The European approach is so different from what we learn in the US. I think I'm much more well-rounded in my understanding now."
          ],
          [
           "My time in Bangkok at Chulalongkorn gave me first-hand exposure to a political system very different from ours. The theoretical frameworks we discuss in class became concrete, and I now have a much more nuanced view of governance."
          ],
          [
           "Keio University's approach to international relations from an Asian perspective completely changed how I understand global politics. The academic perspective was so different from what we get in US classrooms."
          ],
          [
           "The biggest benefit was seeing how economic theory plays out differently in European contexts. At Bocconi, the focus on social welfare alongside market efficiency gave me a more balanced view of economic systems."
          ],
          [
           "The policy analysis frameworks I learned at UCL were more sophisticated than what we typically use in US contexts. Having that comparative perspective has strengthened my analytical skills tremendously."
          ],
          [
           "The biggest benefit was seeing how economic policies play out differently in European welfare states. Copenhagen's approach to market economics with strong social supports gave me a more nuanced perspective."
          ],
          [
           "The comparative perspective on democratic systems I gained at UCL has been crucial for my thesis work. Seeing how different governments approach similar problems gave me analytical frameworks I still use."
          ],
          [
           "The biggest benefit was seeing economic theories applied in different cultural contexts. Copenhagen's approach to balancing market efficiency with social welfare gave me new perspectives on policy design."
          ],
          [
           "The biggest benefit was seeing how different political systems approach similar problems. My time at University College London gave me comparative frameworks that have strengthened my analytical skills tremendously."
          ],
          [
           "Seeing economic policies in action in Copenhagen gave me concrete examples of theoretical concepts we discuss in class. That real-world application has deepened my understanding immensely."
          ],
          [
           "The international perspective on economic systems I gained at Bocconi has made me much more thoughtful about policy design. Seeing different approaches to market regulation gave me new analytical frameworks."
          ],
          [
           "Studying comparative politics at UCL while Brexit was happening was an incredible learning opportunity. Seeing major political change up close gave me insights no textbook could provide."
          ],
          [
           "The biggest benefit was seeing how economic theories play out differently in European contexts. Copenhagen's balance of market efficiency and social welfare gave me new perspectives on policy design."
          ],
          [
           "UCL's comparative approach to political systems gave me analytical frameworks that have strengthened my thesis work tremendously. Seeing how different governments approach similar problems was enlightening."
          ]
         ],
         "hovertemplate": "cluster=0<br>x=%{x}<br>y=%{y}<br>Response=%{customdata[0]}<extra></extra>",
         "legendgroup": "0",
         "marker": {
          "color": "#FFA15A",
          "symbol": "circle"
         },
         "mode": "markers",
         "name": "0",
         "orientation": "v",
         "showlegend": true,
         "type": "scatter",
         "x": {
          "bdata": "um82QYbqPUFPxTdBL104QbUPQkESIDhB+UlAQRTuPEEjBjNBF2I8QVz4OkFFgDtB0QI2QdA/P0E=",
          "dtype": "f4"
         },
         "xaxis": "x",
         "y": {
          "bdata": "+KkpQFxHVkCexIVASoMsQMrWRED3bC9ANzhRQNIUIkAeW0xAOPsqQLAdN0DE21dAcA06QCuuTEA=",
          "dtype": "f4"
         },
         "yaxis": "y"
        },
        {
         "customdata": [
          [
           "The cross-cultural research methods I learned at University of Auckland have been super helpful for my honors thesis. I'm now incorporating international perspectives that I wouldn't have considered before."
          ],
          [
           "Cuba program changed my life!! The immersive fieldwork experience confirmed that anthropology is what I want to do with my life. Plus made amazing friends and improved my Spanish sooooo much."
          ],
          [
           "Vassar's approach to community-based research methodologies completely changed how I approach my work. I'm now much more conscious of ethical considerations and community engagement in research design."
          ],
          [
           "CASA Cuba program taught me how to conduct ethical fieldwork in complex cultural contexts. Those research skills and ethical frameworks have been crucial for my senior thesis work."
          ],
          [
           "Cross-cultural perspectives on developmental psychology at Auckland completely changed my research interests. I'm now focusing on cultural variations in child development for my graduate work."
          ],
          [
           "Field research methods I learned in the Cuba program have been directly applicable to my senior thesis. The practical experience of designing and conducting ethnographic research was invaluable."
          ],
          [
           "Auckland's approach to indigenous psychology opened my eyes to completely different frameworks. I'm now incorporating those perspectives into my research in ways that make it much more inclusive and comprehensive."
          ],
          [
           "CASA Cuba program taught me how to navigate complex cultural contexts as a researcher. The ethical frameworks and methodological approaches have been foundational for my independent work since."
          ],
          [
           "Cross-cultural research methods I learned at Auckland have completely shaped my thesis approach. I'm now incorporating international perspectives that make my work much more comprehensive and nuanced."
          ],
          [
           "The biggest benefit was learning to conduct ethical fieldwork in complex cultural contexts. CASA Cuba program gave me methodological frameworks that have been essential for my independent research since."
          ],
          [
           "Auckland's approach to research methodology was refreshingly different from Dartmouth's. Having both perspectives has made me a much more versatile researcher and strengthened my graduate school applications."
          ],
          [
           "CASA Cuba program taught me research methods I wouldn't have learned on campus. The practical experience of designing and conducting ethnographic research has been essential for my senior thesis."
          ],
          [
           "Cross-cultural perspectives on developmental psychology at Auckland completely changed my research interests. I'm now focusing on cultural variations in child development for my graduate work."
          ]
         ],
         "hovertemplate": "cluster=3<br>x=%{x}<br>y=%{y}<br>Response=%{customdata[0]}<extra></extra>",
         "legendgroup": "3",
         "marker": {
          "color": "#19d3f3",
          "symbol": "circle"
         },
         "mode": "markers",
         "name": "3",
         "orientation": "v",
         "showlegend": true,
         "type": "scatter",
         "x": {
          "bdata": "QcwzQbtJIkGYgiRBRTkoQRlMNUEmhCVBhuszQfQ8J0FDETNBuMYmQWq2LkE1sShB0yszQQ==",
          "dtype": "f4"
         },
         "xaxis": "x",
         "y": {
          "bdata": "UNJOPxvGrj8/XDo/QbtMP2EQdz6FkV4/8Sm2PmECMz8wJwo/Y6qYP5oC2T7hAX8/phzSPg==",
          "dtype": "f4"
         },
         "yaxis": "y"
        },
        {
         "customdata": [
          [
           "The biggest benefit was definitely the mentorship from my faculty director at Trinity. She connected me with local writers and helped me develop my creative voice in ways that wouldn't have happened on campus."
          ],
          [
           "The research techniques I learned at Marine Biology Laboratory are ones I wouldn't have been exposed to at Dartmouth. Having that technical expertise has already helped me secure a research position for after graduation."
          ],
          [
           "The biggest benefit was the networking with international researchers at University of Auckland. Those connections led to my current research collaboration, which will likely turn into my graduate work."
          ],
          [
           "The marine research techniques I learned at MBL were cutting-edge. Having that technical expertise on my resume helped me land a competitive research assistant position for after graduation."
          ],
          [
           "The biggest benefit was definitely the hands-on research experience at Marine Biology Lab. Getting to work alongside leading scientists and use cutting-edge equipment gave me skills that set my grad school applications apart."
          ],
          [
           "The research techniques I learned at MBL have been directly applicable to my thesis work. Having that technical expertise has strengthened both my research and my grad school applications."
          ],
          [
           "Technical University of Denmark's approach to sustainable engineering opened my eyes to new possibilities. I'm now focusing my career on green technology solutions, which wasn't on my radar before."
          ],
          [
           "The mentorship from researchers at MBL helped me refine my research interests and strengthen my grad school applications. Having guidance from leading scientists in my field was invaluable."
          ]
         ],
         "hovertemplate": "cluster=6<br>x=%{x}<br>y=%{y}<br>Response=%{customdata[0]}<extra></extra>",
         "legendgroup": "6",
         "marker": {
          "color": "#FF6692",
          "symbol": "circle"
         },
         "mode": "markers",
         "name": "6",
         "orientation": "v",
         "showlegend": true,
         "type": "scatter",
         "x": {
          "bdata": "yEYYQfTbC0E5+xtBuyAMQWp/FkGCjhJBYOEEQUPfF0E=",
          "dtype": "f4"
         },
         "xaxis": "x",
         "y": {
          "bdata": "r6dAQDa3BEC6bDJA3YQHQD8xKEDJdhRAt5AeQG5VDEA=",
          "dtype": "f4"
         },
         "yaxis": "y"
        },
        {
         "customdata": [
          [
           "The professional connections I made at Copenhagen were game-changing for my career path. One of my professors there recommended me for an internship that led directly to my job offer. Can't put a price on that kind of networking."
          ],
          [
           "Living in Milan while studying at Bocconi meant I could visit the art we were studying anytime. That kind of immediate access to cultural treasures made art history come alive in ways campus classes never could."
          ],
          [
           "NTI program was intense but transformative. The professional-level training and connections to working artists gave me both skills and a network that's already helping my career prospects."
          ],
          [
           "The professional networking at Bocconi was incredible. The connections I made there led directly to my internship last summer, which has now turned into a job offer. The career impact has been tremendous."
          ],
          [
           "The professional-level training at National Theater Institute transformed my technical abilities. I gained skills in areas like movement and voice that we don't focus on as much in campus productions."
          ],
          [
           "The professional connections I made at Bocconi have been game-changing for my career path. One professor there recommended me for an internship that led directly to my current job offer."
          ]
         ],
         "hovertemplate": "cluster=4<br>x=%{x}<br>y=%{y}<br>Response=%{customdata[0]}<extra></extra>",
         "legendgroup": "4",
         "marker": {
          "color": "#B6E880",
          "symbol": "circle"
         },
         "mode": "markers",
         "name": "4",
         "orientation": "v",
         "showlegend": true,
         "type": "scatter",
         "x": {
          "bdata": "3/UCQSfjD0F3IQNBUzAKQa3DCUFPKAtB",
          "dtype": "f4"
         },
         "xaxis": "x",
         "y": {
          "bdata": "dttVQHw0Z0DW4XNACl5jQF60g0DAU11A",
          "dtype": "f4"
         },
         "yaxis": "y"
        }
       ],
       "layout": {
        "legend": {
         "title": {
          "text": "cluster"
         },
         "tracegroupgap": 0
        },
        "margin": {
         "t": 60
        },
        "template": {
         "data": {
          "bar": [
           {
            "error_x": {
             "color": "#2a3f5f"
            },
            "error_y": {
             "color": "#2a3f5f"
            },
            "marker": {
             "line": {
              "color": "#E5ECF6",
              "width": 0.5
             },
             "pattern": {
              "fillmode": "overlay",
              "size": 10,
              "solidity": 0.2
             }
            },
            "type": "bar"
           }
          ],
          "barpolar": [
           {
            "marker": {
             "line": {
              "color": "#E5ECF6",
              "width": 0.5
             },
             "pattern": {
              "fillmode": "overlay",
              "size": 10,
              "solidity": 0.2
             }
            },
            "type": "barpolar"
           }
          ],
          "carpet": [
           {
            "aaxis": {
             "endlinecolor": "#2a3f5f",
             "gridcolor": "white",
             "linecolor": "white",
             "minorgridcolor": "white",
             "startlinecolor": "#2a3f5f"
            },
            "baxis": {
             "endlinecolor": "#2a3f5f",
             "gridcolor": "white",
             "linecolor": "white",
             "minorgridcolor": "white",
             "startlinecolor": "#2a3f5f"
            },
            "type": "carpet"
           }
          ],
          "choropleth": [
           {
            "colorbar": {
             "outlinewidth": 0,
             "ticks": ""
            },
            "type": "choropleth"
           }
          ],
          "contour": [
           {
            "colorbar": {
             "outlinewidth": 0,
             "ticks": ""
            },
            "colorscale": [
             [
              0,
              "#0d0887"
             ],
             [
              0.1111111111111111,
              "#46039f"
             ],
             [
              0.2222222222222222,
              "#7201a8"
             ],
             [
              0.3333333333333333,
              "#9c179e"
             ],
             [
              0.4444444444444444,
              "#bd3786"
             ],
             [
              0.5555555555555556,
              "#d8576b"
             ],
             [
              0.6666666666666666,
              "#ed7953"
             ],
             [
              0.7777777777777778,
              "#fb9f3a"
             ],
             [
              0.8888888888888888,
              "#fdca26"
             ],
             [
              1,
              "#f0f921"
             ]
            ],
            "type": "contour"
           }
          ],
          "contourcarpet": [
           {
            "colorbar": {
             "outlinewidth": 0,
             "ticks": ""
            },
            "type": "contourcarpet"
           }
          ],
          "heatmap": [
           {
            "colorbar": {
             "outlinewidth": 0,
             "ticks": ""
            },
            "colorscale": [
             [
              0,
              "#0d0887"
             ],
             [
              0.1111111111111111,
              "#46039f"
             ],
             [
              0.2222222222222222,
              "#7201a8"
             ],
             [
              0.3333333333333333,
              "#9c179e"
             ],
             [
              0.4444444444444444,
              "#bd3786"
             ],
             [
              0.5555555555555556,
              "#d8576b"
             ],
             [
              0.6666666666666666,
              "#ed7953"
             ],
             [
              0.7777777777777778,
              "#fb9f3a"
             ],
             [
              0.8888888888888888,
              "#fdca26"
             ],
             [
              1,
              "#f0f921"
             ]
            ],
            "type": "heatmap"
           }
          ],
          "histogram": [
           {
            "marker": {
             "pattern": {
              "fillmode": "overlay",
              "size": 10,
              "solidity": 0.2
             }
            },
            "type": "histogram"
           }
          ],
          "histogram2d": [
           {
            "colorbar": {
             "outlinewidth": 0,
             "ticks": ""
            },
            "colorscale": [
             [
              0,
              "#0d0887"
             ],
             [
              0.1111111111111111,
              "#46039f"
             ],
             [
              0.2222222222222222,
              "#7201a8"
             ],
             [
              0.3333333333333333,
              "#9c179e"
             ],
             [
              0.4444444444444444,
              "#bd3786"
             ],
             [
              0.5555555555555556,
              "#d8576b"
             ],
             [
              0.6666666666666666,
              "#ed7953"
             ],
             [
              0.7777777777777778,
              "#fb9f3a"
             ],
             [
              0.8888888888888888,
              "#fdca26"
             ],
             [
              1,
              "#f0f921"
             ]
            ],
            "type": "histogram2d"
           }
          ],
          "histogram2dcontour": [
           {
            "colorbar": {
             "outlinewidth": 0,
             "ticks": ""
            },
            "colorscale": [
             [
              0,
              "#0d0887"
             ],
             [
              0.1111111111111111,
              "#46039f"
             ],
             [
              0.2222222222222222,
              "#7201a8"
             ],
             [
              0.3333333333333333,
              "#9c179e"
             ],
             [
              0.4444444444444444,
              "#bd3786"
             ],
             [
              0.5555555555555556,
              "#d8576b"
             ],
             [
              0.6666666666666666,
              "#ed7953"
             ],
             [
              0.7777777777777778,
              "#fb9f3a"
             ],
             [
              0.8888888888888888,
              "#fdca26"
             ],
             [
              1,
              "#f0f921"
             ]
            ],
            "type": "histogram2dcontour"
           }
          ],
          "mesh3d": [
           {
            "colorbar": {
             "outlinewidth": 0,
             "ticks": ""
            },
            "type": "mesh3d"
           }
          ],
          "parcoords": [
           {
            "line": {
             "colorbar": {
              "outlinewidth": 0,
              "ticks": ""
             }
            },
            "type": "parcoords"
           }
          ],
          "pie": [
           {
            "automargin": true,
            "type": "pie"
           }
          ],
          "scatter": [
           {
            "fillpattern": {
             "fillmode": "overlay",
             "size": 10,
             "solidity": 0.2
            },
            "type": "scatter"
           }
          ],
          "scatter3d": [
           {
            "line": {
             "colorbar": {
              "outlinewidth": 0,
              "ticks": ""
             }
            },
            "marker": {
             "colorbar": {
              "outlinewidth": 0,
              "ticks": ""
             }
            },
            "type": "scatter3d"
           }
          ],
          "scattercarpet": [
           {
            "marker": {
             "colorbar": {
              "outlinewidth": 0,
              "ticks": ""
             }
            },
            "type": "scattercarpet"
           }
          ],
          "scattergeo": [
           {
            "marker": {
             "colorbar": {
              "outlinewidth": 0,
              "ticks": ""
             }
            },
            "type": "scattergeo"
           }
          ],
          "scattergl": [
           {
            "marker": {
             "colorbar": {
              "outlinewidth": 0,
              "ticks": ""
             }
            },
            "type": "scattergl"
           }
          ],
          "scattermap": [
           {
            "marker": {
             "colorbar": {
              "outlinewidth": 0,
              "ticks": ""
             }
            },
            "type": "scattermap"
           }
          ],
          "scattermapbox": [
           {
            "marker": {
             "colorbar": {
              "outlinewidth": 0,
              "ticks": ""
             }
            },
            "type": "scattermapbox"
           }
          ],
          "scatterpolar": [
           {
            "marker": {
             "colorbar": {
              "outlinewidth": 0,
              "ticks": ""
             }
            },
            "type": "scatterpolar"
           }
          ],
          "scatterpolargl": [
           {
            "marker": {
             "colorbar": {
              "outlinewidth": 0,
              "ticks": ""
             }
            },
            "type": "scatterpolargl"
           }
          ],
          "scatterternary": [
           {
            "marker": {
             "colorbar": {
              "outlinewidth": 0,
              "ticks": ""
             }
            },
            "type": "scatterternary"
           }
          ],
          "surface": [
           {
            "colorbar": {
             "outlinewidth": 0,
             "ticks": ""
            },
            "colorscale": [
             [
              0,
              "#0d0887"
             ],
             [
              0.1111111111111111,
              "#46039f"
             ],
             [
              0.2222222222222222,
              "#7201a8"
             ],
             [
              0.3333333333333333,
              "#9c179e"
             ],
             [
              0.4444444444444444,
              "#bd3786"
             ],
             [
              0.5555555555555556,
              "#d8576b"
             ],
             [
              0.6666666666666666,
              "#ed7953"
             ],
             [
              0.7777777777777778,
              "#fb9f3a"
             ],
             [
              0.8888888888888888,
              "#fdca26"
             ],
             [
              1,
              "#f0f921"
             ]
            ],
            "type": "surface"
           }
          ],
          "table": [
           {
            "cells": {
             "fill": {
              "color": "#EBF0F8"
             },
             "line": {
              "color": "white"
             }
            },
            "header": {
             "fill": {
              "color": "#C8D4E3"
             },
             "line": {
              "color": "white"
             }
            },
            "type": "table"
           }
          ]
         },
         "layout": {
          "annotationdefaults": {
           "arrowcolor": "#2a3f5f",
           "arrowhead": 0,
           "arrowwidth": 1
          },
          "autotypenumbers": "strict",
          "coloraxis": {
           "colorbar": {
            "outlinewidth": 0,
            "ticks": ""
           }
          },
          "colorscale": {
           "diverging": [
            [
             0,
             "#8e0152"
            ],
            [
             0.1,
             "#c51b7d"
            ],
            [
             0.2,
             "#de77ae"
            ],
            [
             0.3,
             "#f1b6da"
            ],
            [
             0.4,
             "#fde0ef"
            ],
            [
             0.5,
             "#f7f7f7"
            ],
            [
             0.6,
             "#e6f5d0"
            ],
            [
             0.7,
             "#b8e186"
            ],
            [
             0.8,
             "#7fbc41"
            ],
            [
             0.9,
             "#4d9221"
            ],
            [
             1,
             "#276419"
            ]
           ],
           "sequential": [
            [
             0,
             "#0d0887"
            ],
            [
             0.1111111111111111,
             "#46039f"
            ],
            [
             0.2222222222222222,
             "#7201a8"
            ],
            [
             0.3333333333333333,
             "#9c179e"
            ],
            [
             0.4444444444444444,
             "#bd3786"
            ],
            [
             0.5555555555555556,
             "#d8576b"
            ],
            [
             0.6666666666666666,
             "#ed7953"
            ],
            [
             0.7777777777777778,
             "#fb9f3a"
            ],
            [
             0.8888888888888888,
             "#fdca26"
            ],
            [
             1,
             "#f0f921"
            ]
           ],
           "sequentialminus": [
            [
             0,
             "#0d0887"
            ],
            [
             0.1111111111111111,
             "#46039f"
            ],
            [
             0.2222222222222222,
             "#7201a8"
            ],
            [
             0.3333333333333333,
             "#9c179e"
            ],
            [
             0.4444444444444444,
             "#bd3786"
            ],
            [
             0.5555555555555556,
             "#d8576b"
            ],
            [
             0.6666666666666666,
             "#ed7953"
            ],
            [
             0.7777777777777778,
             "#fb9f3a"
            ],
            [
             0.8888888888888888,
             "#fdca26"
            ],
            [
             1,
             "#f0f921"
            ]
           ]
          },
          "colorway": [
           "#636efa",
           "#EF553B",
           "#00cc96",
           "#ab63fa",
           "#FFA15A",
           "#19d3f3",
           "#FF6692",
           "#B6E880",
           "#FF97FF",
           "#FECB52"
          ],
          "font": {
           "color": "#2a3f5f"
          },
          "geo": {
           "bgcolor": "white",
           "lakecolor": "white",
           "landcolor": "#E5ECF6",
           "showlakes": true,
           "showland": true,
           "subunitcolor": "white"
          },
          "hoverlabel": {
           "align": "left"
          },
          "hovermode": "closest",
          "mapbox": {
           "style": "light"
          },
          "paper_bgcolor": "white",
          "plot_bgcolor": "#E5ECF6",
          "polar": {
           "angularaxis": {
            "gridcolor": "white",
            "linecolor": "white",
            "ticks": ""
           },
           "bgcolor": "#E5ECF6",
           "radialaxis": {
            "gridcolor": "white",
            "linecolor": "white",
            "ticks": ""
           }
          },
          "scene": {
           "xaxis": {
            "backgroundcolor": "#E5ECF6",
            "gridcolor": "white",
            "gridwidth": 2,
            "linecolor": "white",
            "showbackground": true,
            "ticks": "",
            "zerolinecolor": "white"
           },
           "yaxis": {
            "backgroundcolor": "#E5ECF6",
            "gridcolor": "white",
            "gridwidth": 2,
            "linecolor": "white",
            "showbackground": true,
            "ticks": "",
            "zerolinecolor": "white"
           },
           "zaxis": {
            "backgroundcolor": "#E5ECF6",
            "gridcolor": "white",
            "gridwidth": 2,
            "linecolor": "white",
            "showbackground": true,
            "ticks": "",
            "zerolinecolor": "white"
           }
          },
          "shapedefaults": {
           "line": {
            "color": "#2a3f5f"
           }
          },
          "ternary": {
           "aaxis": {
            "gridcolor": "white",
            "linecolor": "white",
            "ticks": ""
           },
           "baxis": {
            "gridcolor": "white",
            "linecolor": "white",
            "ticks": ""
           },
           "bgcolor": "#E5ECF6",
           "caxis": {
            "gridcolor": "white",
            "linecolor": "white",
            "ticks": ""
           }
          },
          "title": {
           "x": 0.05
          },
          "xaxis": {
           "automargin": true,
           "gridcolor": "white",
           "linecolor": "white",
           "ticks": "",
           "title": {
            "standoff": 15
           },
           "zerolinecolor": "white",
           "zerolinewidth": 2
          },
          "yaxis": {
           "automargin": true,
           "gridcolor": "white",
           "linecolor": "white",
           "ticks": "",
           "title": {
            "standoff": 15
           },
           "zerolinecolor": "white",
           "zerolinewidth": 2
          }
         }
        },
        "xaxis": {
         "anchor": "y",
         "domain": [
          0,
          1
         ],
         "title": {
          "text": "x"
         }
        },
        "yaxis": {
         "anchor": "x",
         "domain": [
          0,
          1
         ],
         "title": {
          "text": "y"
         }
        }
       }
      }
     },
     "metadata": {},
     "output_type": "display_data"
    }
   ],
   "source": [
    "fig = px.scatter(df, x=\"x\", y=\"y\", hover_data=[\"Response\"], color=\"cluster\")\n",
    "fig.show()"
   ]
  },
  {
   "cell_type": "code",
   "execution_count": 11,
   "metadata": {},
   "outputs": [
    {
     "data": {
      "application/vnd.microsoft.datawrangler.viewer.v0+json": {
       "columns": [
        {
         "name": "index",
         "rawType": "int64",
         "type": "integer"
        },
        {
         "name": "Respondent_ID",
         "rawType": "object",
         "type": "string"
        },
        {
         "name": "Major",
         "rawType": "object",
         "type": "string"
        },
        {
         "name": "Response",
         "rawType": "object",
         "type": "string"
        },
        {
         "name": "embeddings",
         "rawType": "object",
         "type": "unknown"
        },
        {
         "name": "x",
         "rawType": "float32",
         "type": "float"
        },
        {
         "name": "y",
         "rawType": "float32",
         "type": "float"
        },
        {
         "name": "cluster",
         "rawType": "object",
         "type": "string"
        },
        {
         "name": "topic",
         "rawType": "object",
         "type": "unknown"
        }
       ],
       "conversionMethod": "pd.DataFrame",
       "ref": "91e7856b-b01b-4b27-bbe7-5116c6ed5c09",
       "rows": [
        [
         "0",
         "R001",
         "Economics",
         "The biggest benefit of Guarini Exchange was definitely the networking opportunities. I made connections with professionals in London that led directly to my summer internship. Can't overstate how valuable that was for my career trajectory!",
         "[-0.02808222733438015, 0.008524204604327679, 0.038012295961380005, -0.039842911064624786, 0.005079544149339199, -0.005753980949521065, 0.09613073617219925, -0.03998421132564545, -0.043893154710531235, -0.04589908942580223, 0.03283694386482239, 0.04176860675215721, 0.02131538838148117, -0.006979896686971188, 0.018275124952197075, -0.010193916969001293, 0.05649270489811897, -0.06705304235219955, 0.01171612273901701, -0.13812704384326935, -0.05595733970403671, -0.11446806788444519, -0.0017502553528174758, -0.014536608010530472, 0.042285338044166565, 0.025098027661442757, -0.0021530231460928917, 0.013348236680030823, 0.006869040429592133, -0.07139886915683746, 0.018552318215370178, 0.05027689412236214, -0.06246855854988098, 0.06130727380514145, -0.03477848321199417, 0.140276238322258, 0.02889399789273739, -0.0029640812426805496, 0.037755053490400314, -0.024408528581261635, 0.030528685078024864, -0.00205362681299448, 0.06675650924444199, -0.08410479873418808, 0.04283331707119942, -0.09188973903656006, 0.07699205726385117, -0.019911017268896103, -0.11743415147066116, -0.013828879222273827, 0.11848662793636322, -0.03592590242624283, 0.002119372831657529, -0.015997307375073433, 0.02873898297548294, 0.09345152229070663, -0.07787259668111801, -0.04440947249531746, -0.05707097426056862, 0.03253315016627312, -0.04333779960870743, -0.018413478508591652, 0.0010580553207546473, -0.0392574779689312, -0.019409658387303352, -0.09402085840702057, 0.0016564286779612303, 0.05597633495926857, -0.011079818941652775, -0.044161345809698105, 0.020007777959108353, -0.05490519851446152, -0.1110134944319725, -0.02064412832260132, -0.012121419422328472, 0.04878023639321327, 0.04495985805988312, 0.012032208032906055, 0.025168828666210175, 0.07598038762807846, 0.10489292442798615, 0.060306910425424576, -0.02488596923649311, 0.05250973626971245, 0.026446180418133736, -0.09236575663089752, -0.006852068938314915, -0.09185009449720383, -0.0062312656082212925, 0.015105078928172588, 0.05433788150548935, -0.007778688333928585, -0.03992254287004471, 0.010898042470216751, 0.017435679212212563, -0.0062675634399056435, -0.0918864980340004, 0.004276794847100973, 0.010051333345472813, 0.02546054683625698, 0.04066988453269005, 0.0037167794071137905, -0.03698451444506645, 0.03137160837650299, -0.09092721343040466, -0.051391080021858215, 0.043070755898952484, -0.0421108715236187, 0.03030373342335224, 0.05275201424956322, -0.0812181755900383, 0.0934181660413742, 0.0028449189849197865, 0.01347661204636097, -0.01044235099107027, 0.12469327449798584, -0.004095919895917177, 0.052363742142915726, 0.020477063953876495, 0.0061514368280768394, 0.028617503121495247, 0.11367330700159073, -0.07400484383106232, 0.06563805788755417, -0.13649491965770721, 0.005873790010809898, -0.03904686123132706, -7.348528317824902e-35, -0.08532854914665222, 0.005199054256081581, -0.005685154814273119, 0.04700440913438797, 0.09649002552032471, 0.0402611680328846, -0.06264284998178482, -0.0020863839890807867, -0.008837000466883183, -0.05969292297959328, -0.034457821398973465, 0.1236950010061264, 0.03515250235795975, 0.00427999859675765, -0.008412232622504234, 0.09229845553636551, -0.05551498383283615, 0.024861037731170654, 0.03232131525874138, -0.059371426701545715, 0.040831662714481354, -0.055753570050001144, 0.042966507375240326, 0.016671381890773773, -0.006551713682711124, -0.024896593764424324, 0.0008102727588266134, -0.07186342030763626, 0.09998347610235214, 0.0012614562874659896, 0.03183645382523537, 0.01598028466105461, 0.004807228688150644, -0.07432369142770767, -0.05739687383174896, 0.06867607682943344, -0.0400080680847168, -0.12043803930282593, 0.009592928923666477, 0.04651126265525818, -0.1094178855419159, 0.04597870633006096, 0.04011576995253563, -0.004458170849829912, 0.03675102815032005, 0.07373183965682983, 0.01598377712070942, 0.004491493105888367, 0.04701947420835495, -0.0035591942723840475, -0.0593872033059597, -0.04904865846037865, -0.08547389507293701, -0.0543661005795002, -0.002932920353487134, 0.06978103518486023, -0.010166695341467857, 0.05560890957713127, -0.05205000936985016, -0.08010627329349518, -0.019599352031946182, 0.014693592675030231, 0.012994121760129929, -0.08381716161966324, -0.013989275321364403, 0.07641246914863586, 0.017269756644964218, 0.006486141588538885, 0.022837413474917412, 0.05050300061702728, -0.08297640830278397, 0.01832994632422924, 0.020891098305583, -0.061679720878601074, -0.0010726916370913386, 0.02517969347536564, -0.0867232233285904, -0.006003393325954676, 0.08189509063959122, 0.04534810408949852, 0.015161269344389439, 0.021554240956902504, 0.03938309848308563, 0.041129205375909805, 0.05934169515967369, -0.005729383323341608, 0.08988681435585022, -0.05516814440488815, 0.0788053646683693, 0.06705664098262787, 0.001291010295972228, 0.02863551676273346, -0.014747112058103085, 0.003006020560860634, -0.050132256001234055, -1.3077332408569716e-33, 0.06139741465449333, -0.026752853766083717, 0.021310877054929733, -0.044832006096839905, 0.03679017350077629, 0.011772462166845798, 0.004546595271676779, -0.0519883893430233, 0.013694257475435734, 0.1028067022562027, -0.015587331727147102, 0.0370311364531517, 0.005196273792535067, 0.06957980990409851, -0.014286629855632782, -0.0744343176484108, 0.0003625530516728759, 0.0016559852520003915, 0.015296274796128273, -0.024108605459332466, 0.09957976639270782, 0.07058313488960266, 0.03985241800546646, -0.029868507757782936, -0.004553988575935364, -0.02241341397166252, -0.1025095283985138, -0.05125132203102112, -0.038814082741737366, 0.011831139214336872, -0.00617604237049818, 0.11154152452945709, -0.028117189183831215, -0.03912566229701042, -0.016718372702598572, 0.09922948479652405, 0.05894957855343819, -0.022672638297080994, -0.000567361363209784, -0.012195872142910957, 0.01646397076547146, -0.06242600455880165, 0.06107793748378754, 0.047600481659173965, 0.032537732273340225, 0.04688265174627304, -0.06404975056648254, -0.03948270156979561, -0.0188173595815897, -0.04917086660861969, -0.02573784627020359, 0.05282609164714813, -0.08795346319675446, -0.03465831279754639, 0.008630937896668911, 0.005095505155622959, 0.022955095395445824, -0.10354529321193695, -0.03332788497209549, -0.03873428329825401, -0.0810164362192154, 0.02497764304280281, -0.04232367128133774, -0.03938005492091179, 0.015407972037792206, 0.022140366956591606, -0.0036084132734686136, 0.02102298103272915, -0.020813604816794395, -0.02783745899796486, 0.024586385115981102, 0.013980929739773273, -0.025988971814513206, 0.010120581835508347, -0.04353536665439606, 0.04557859152555466, -0.0036645878572016954, -0.011768336407840252, -0.032573819160461426, -0.0449720062315464, -0.050270430743694305, 0.03962482884526253, -0.024936946108937263, -0.09720175713300705, 0.04970339685678482, 0.076675646007061, -0.03407701104879379, 0.055592771619558334, 0.10485108196735382, -0.041404519230127335, -0.023268049582839012, -0.05688628926873207, -0.013130450621247292, -0.06425774842500687, 0.04312705248594284, -2.8221615266943445e-08, -0.04241802543401718, 0.05466144531965256, -0.03191808983683586, 0.052754662930965424, -0.06744666397571564, -0.04966277256608009, -0.03782769665122032, 0.10608495771884918, 0.05042555183172226, 0.08353352546691895, -0.06871407479047775, 0.022120364010334015, -0.02511189691722393, 0.05781562626361847, 0.06097932904958725, 0.06409159302711487, 0.020761897787451744, -0.041572581976652145, 0.026872236281633377, -0.030081231147050858, 0.051907800137996674, 0.06484294682741165, -0.03811028227210045, 0.05010128393769264, -0.06430187076330185, -0.041146695613861084, 0.027389466762542725, 0.016818055883049965, -0.04183785617351532, -0.04590515047311783, -0.0898144543170929, 0.005371624603867531, 0.016074776649475098, 0.034759536385536194, -0.02331157773733139, 0.033110152930021286, -0.03796132653951645, -0.028129935264587402, 0.007363795302808285, 0.006778073962777853, -0.025810161605477333, -0.0246096421033144, 0.03047998435795307, -0.03218981623649597, 0.0027777915820479393, -0.001366838812828064, 0.0017402146477252245, -0.0289696604013443, 0.0356040894985199, 0.09708265960216522, -0.0032356411684304476, 0.01998097635805607, 0.06525496393442154, 0.030057724565267563, 0.03775423392653465, -0.046049389988183975, -0.039105646312236786, -0.04721701145172119, -0.03645513951778412, 0.003916958812624216, 0.016987740993499756, -0.08384447544813156, -0.11722399294376373, 0.007850364781916142]",
         "9.312801",
         "3.3299835",
         "-1",
         null
        ],
        [
         "1",
         "R002",
         "Computer Science",
         "Learning to code in a different cultural context at AIT Budapest was eye-opening. The approach to problem-solving was completely different than what we do at Dartmouth. It made me a more flexible thinker and programmer.",
         "[-0.023660454899072647, 0.011696777306497097, -0.009916373528540134, -0.023628585040569305, -0.012235008180141449, -0.030703624710440636, -0.004757384303957224, 0.04572917893528938, -0.05029437318444252, 0.018981242552399635, 0.006012309342622757, 0.044750064611434937, -0.05834793299436569, -0.0038263429887592793, 0.01809113658964634, -0.011521094478666782, -0.09342015534639359, -0.08471576124429703, 0.051016200333833694, -0.11879444867372513, -0.07004968822002411, -0.07659634202718735, 0.060283318161964417, 0.0026833161246031523, 0.03413759171962738, 0.051337651908397675, 0.05573724955320358, -0.015840671956539154, 0.06044689565896988, 0.005920893512666225, -0.0025250485632568598, 0.13421709835529327, -0.00952044129371643, 0.02457217127084732, 0.011191991157829762, 0.11246445775032043, 0.008213020861148834, -0.029216164723038673, -0.012400840409100056, -0.020360272377729416, -0.10134024918079376, 0.05743606388568878, 0.021182747557759285, -0.07758977264165878, 0.011120189912617207, -0.045221224427223206, -0.03396790102124214, -0.011507926508784294, -0.07827138155698776, -0.013923093676567078, -0.06150133162736893, -0.023106003180146217, -0.024462847039103508, -0.18910714983940125, 0.034582559019327164, -0.032843753695487976, 0.05676447972655296, 0.0743812620639801, -0.04456190764904022, -0.025905799120664597, -0.042334266006946564, -0.013055452145636082, -0.04658937081694603, 0.0627695620059967, -0.014553241431713104, -0.015213281847536564, -0.06435224413871765, 0.04586900770664215, -0.037965234369039536, -0.08892276883125305, -0.005555048584938049, -0.01170141901820898, -0.013808485120534897, 0.07277969270944595, 0.10539186000823975, -0.0664571076631546, 0.03189501166343689, -0.05104387179017067, -0.01822005584836006, 0.03320730850100517, 0.08619558066129684, 0.05633610859513283, -0.016359496861696243, 0.06041087210178375, 0.010312521830201149, -0.050352826714515686, -0.042008429765701294, 0.055287037044763565, 0.06506729871034622, -0.015922270715236664, 0.03481631353497505, -0.09381012618541718, -0.00033736004843376577, 0.06236649677157402, 0.06253928691148758, -0.019788574427366257, 0.000800734618678689, 0.05089789256453514, -0.006486307829618454, 0.019457640126347542, 0.02538575604557991, 0.07399696111679077, -0.010044978931546211, -0.03940480947494507, -0.03095969744026661, 0.04849278926849365, 0.11262832581996918, 0.011416777037084103, 0.024394413456320763, -0.03719748556613922, -0.002944283653050661, -0.017549125477671623, 0.028144489973783493, -0.04783221334218979, 0.017807621508836746, -0.02741391584277153, 0.05974328890442848, 0.025189554318785667, 0.06624653935432434, 0.033643029630184174, 0.009402449242770672, 0.03667405992746353, -0.05097469687461853, 0.00810674112290144, -0.02937450259923935, 0.01394387986510992, -0.05778133496642113, -2.412055816840785e-33, -0.026934543624520302, -0.014654738828539848, 0.02594929188489914, 0.014526070095598698, 0.048440951853990555, -0.06290744990110397, 0.07589995115995407, 0.05659623071551323, -0.023090386763215065, -0.006193166133016348, 0.07898794859647751, 0.010023655369877815, 0.009636573493480682, -0.01573898456990719, 0.024877816438674927, -0.015693262219429016, -0.1214754655957222, -0.010843629017472267, -0.08251301944255829, 0.052061405032873154, -0.01461249589920044, -0.03671535477042198, 0.07967956364154816, -0.05736014246940613, 0.049532920122146606, 0.014116653241217136, 0.05069207027554512, 0.012531670741736889, 0.08650980144739151, 0.0009109469829127192, -0.018686816096305847, 0.03712594881653786, -0.11557971686124802, 0.06936576217412949, 0.015443156473338604, 0.05693264678120613, 0.044272467494010925, -0.038569170981645584, 0.022835295647382736, -0.013380169868469238, 0.033661942929029465, 0.0743657648563385, 0.03292861953377724, 0.03713752329349518, 0.0942000076174736, 0.09942681342363358, 0.02367251366376877, -0.023535560816526413, -0.06001148745417595, 0.004192497115582228, -0.10767962783575058, 0.03140396624803543, 0.014104912057518959, -0.06274979561567307, 0.05461052060127258, 0.052838072180747986, 0.020894110202789307, 0.041076891124248505, 0.03487791493535042, 0.002847240073606372, -0.008846241049468517, 0.014294402673840523, 0.018656551837921143, -0.01873672381043434, 0.009938300587236881, 0.0928923711180687, -0.035772357136011124, -0.008968655951321125, 0.040958914905786514, -0.034999020397663116, -0.038533929735422134, -0.008101029321551323, 0.010207852348685265, 0.02455628290772438, -0.03330767899751663, 0.03443931043148041, -0.0010249853366985917, -0.05177930369973183, -0.0013242750428617, -0.06600374728441238, -0.010007142089307308, -0.007186807692050934, 0.04434550553560257, 0.01709669828414917, 0.025259803980588913, 0.018646616488695145, 0.07392321527004242, -0.02553630992770195, 0.042118676006793976, 0.06231708079576492, 0.045808516442775726, -0.0840257927775383, 0.031850941479206085, 0.0020893255714327097, -0.006061905063688755, 7.65511767791725e-34, -0.038779933005571365, -0.003919060807675123, -0.1066495031118393, -0.03200085461139679, -0.030922038480639458, -0.04359276220202446, 0.027435116469860077, 0.008386515080928802, 0.042688675224781036, 0.03217405453324318, 0.002262650290504098, -0.05253470689058304, -0.029440397396683693, 0.06604749709367752, 0.018341785296797752, -0.06433002650737762, 0.028315603733062744, 0.046804238110780716, 0.021528366953134537, 0.0807177722454071, -0.021193014457821846, 0.06866216659545898, -0.09719846397638321, -0.06255113333463669, -0.04328560829162598, 0.04342922940850258, -0.06288817524909973, -0.010557455010712147, -0.03193846717476845, -0.007130747195333242, 0.04102355241775513, -0.019757233560085297, 0.007091149687767029, -0.026381399482488632, -0.009716576896607876, 0.0969914123415947, 0.04276859760284424, -0.03884761407971382, -0.04569819197058678, 0.04699191451072693, -0.07251152396202087, -0.0780864804983139, -0.033510878682136536, 0.049384117126464844, 0.0404990017414093, 0.08596944808959961, -0.08112193644046783, -0.03959953784942627, -0.03442426770925522, -0.07578413188457489, -0.052450038492679596, -0.0050660488195717335, -0.0039900606498122215, -0.13111616671085358, -0.007193731144070625, -0.008712134324014187, 0.09983564913272858, -0.041938234120607376, -0.03188605234026909, 0.03602541238069534, 0.00098599202465266, -0.05015671253204346, 0.0555674247443676, -0.058018628507852554, -0.06483980268239975, -0.08648893237113953, -0.02574736252427101, 0.10911741107702255, -0.07144547253847122, -0.06090550124645233, -0.05359240621328354, 0.01992311142385006, -0.027301333844661713, 0.02071976847946644, -0.05187244713306427, 0.026256702840328217, 0.012136714532971382, -0.0496828630566597, -0.06726950407028198, -0.030768470838665962, -0.0035046832635998726, -0.11067043244838715, -0.04125383868813515, 0.015363077633082867, -0.021290864795446396, 0.09047858417034149, 0.04052722454071045, 0.017420046031475067, -0.021669071167707443, -0.034320443868637085, -0.022420406341552734, 0.014600918628275394, -0.015645379200577736, -0.006721470504999161, -0.053187303245067596, -2.9589276806518683e-08, -0.02741231769323349, -0.026900039985775948, -0.0020036406349390745, 0.019736655056476593, -0.04567308351397514, 0.009481929242610931, -0.05837487056851387, 0.09801258891820908, -0.04566438868641853, 0.084246926009655, -0.08569914102554321, 0.08945578336715698, 0.007162346504628658, 0.0756751000881195, 0.007585118059068918, 0.07187484204769135, -0.0014289116952568293, -0.02319798246026039, -0.0025553968735039234, 0.04557487368583679, 0.10334984958171844, 0.04656873643398285, -0.05416903644800186, -0.015501515939831734, -0.10246475785970688, -0.019279075786471367, -0.02438284084200859, 0.03621998056769371, 0.0020069919992238283, -0.04417365416884422, -0.0636349618434906, 0.07489572465419769, 0.017363477498292923, 0.009995377622544765, 0.014436772093176842, -0.10321161895990372, 0.06121372804045677, -0.03566363453865051, 0.011993493884801865, -0.02971927635371685, 0.013944903388619423, -0.06059069186449051, 0.03132481500506401, 0.013032409362494946, -0.010321740061044693, 0.030839385464787483, 0.06849359720945358, -0.02133980020880699, -0.0026620945427566767, 0.02358793094754219, 0.025803303346037865, 0.05010555684566498, -0.04935251176357269, -0.011646369472146034, 0.1797885149717331, -0.0035623451694846153, -0.08576622605323792, -0.03695974871516228, -0.08270200341939926, 0.09563104808330536, 0.019440574571490288, 0.0976221114397049, -0.0405145101249218, 0.060596268624067307]",
         "6.88354",
         "4.101231",
         "1",
         "Collaborative and Innovative Problem-Solving Approaches"
        ],
        [
         "2",
         "R003",
         "Environmental Studies",
         "Studying at Williams-Mystic completely changed how I view marine conservation. Getting hands-on experience with coastal communities facing climate change impacts gave me real-world context for my research interests. Best decision I ever made.",
         "[-0.013019781559705734, 0.04203595221042633, 0.0461125411093235, 0.05360058322548866, 0.030070403590798378, -0.041289690881967545, -0.09277110546827316, -0.04650019109249115, -0.012099964544177055, 0.0344327874481678, 0.004422794096171856, -0.06001076474785805, -0.051357824355363846, 0.04280921444296837, 0.029155345633625984, 0.06931474059820175, -0.047171130776405334, -0.0008496008231304586, -0.011675209738314152, 0.036262914538383484, -0.07905758917331696, 0.07243044674396515, -0.04679587855935097, 0.05234730243682861, -0.028839893639087677, -0.00573275052011013, -0.015819547697901726, 0.07951968163251877, -0.009537797421216965, -0.011277667246758938, -0.06390052288770676, 0.12282776087522507, -0.020454343408346176, -0.02302725240588188, 0.020007550716400146, 0.056553080677986145, -0.018273042514920235, -0.016671502962708473, -0.013074369169771671, 0.055591411888599396, -0.07203998416662216, -0.021901044994592667, 0.08014924079179764, -0.0071243224665522575, -0.03688386082649231, -0.12969562411308289, 0.016061145812273026, -0.05867757648229599, -0.0019861427135765553, 0.024796143174171448, -0.045359283685684204, -0.06592510640621185, -0.08965478837490082, -0.1131511777639389, -0.06461130827665329, 0.024693384766578674, -0.02892507053911686, -0.012230616062879562, 0.009482381865382195, -0.0689609944820404, 0.08556368201971054, 0.03930048272013664, -0.0821591168642044, 0.03068329393863678, 0.03779996186494827, 0.04964223504066467, -0.02288593165576458, 0.06764045357704163, 0.0835089460015297, -0.09807544201612473, -0.013109412044286728, 0.048194706439971924, -0.03232596442103386, 0.013815284706652164, 0.06808315962553024, 0.0028284124564379454, -0.005783636122941971, 0.034999627619981766, 0.06281354278326035, 0.003784883301705122, 0.10861749947071075, -0.047718629240989685, -0.05967576429247856, 0.008476704359054565, -0.008198882453143597, -0.06120705604553223, 0.06651048362255096, -0.016111092641949654, 0.04371039196848869, 0.028670698404312134, 0.0188466627150774, -0.06974085420370102, 0.03095519170165062, -0.028463494032621384, -0.12663502991199493, 0.06285165250301361, -0.014459985308349133, -0.026769984513521194, 0.04306000843644142, 0.04638335853815079, 0.04203265532851219, -0.03327539935708046, -0.021425357088446617, -0.04306570068001747, -0.01338187139481306, -0.027394991368055344, 0.013191861100494862, -0.04378662258386612, 0.006918162107467651, -0.005044805351644754, -0.021214239299297333, 0.06250051409006119, -0.05833408609032631, 0.03174207732081413, 0.02702976204454899, 0.09708930552005768, 0.014308654703199863, -0.009024061262607574, 0.0319686122238636, -0.0008100296836346388, -0.012393815442919731, 0.00015030759095679969, 0.037519197911024094, 0.008386227302253246, -0.023336801677942276, -0.008832473307847977, 0.02348666451871395, 1.5221693998923695e-33, 0.01602182351052761, 0.00915426854044199, -0.013080989941954613, 0.05704599991440773, 0.07759702950716019, -0.015320814214646816, -0.055581625550985336, -0.07577424496412277, -0.08250677585601807, -0.042116302996873856, 0.113664910197258, 0.14262086153030396, 0.025019848719239235, 0.023101946339011192, 0.008312675170600414, -0.03575373813509941, -0.08070896565914154, -0.04380388930439949, -0.05618515610694885, -0.003610196290537715, -0.02851419895887375, 0.06077176332473755, -0.013187365606427193, 0.00323834759183228, 0.016873160377144814, -0.04154059663414955, 0.0135533157736063, -0.028625039383769035, -0.04922473058104515, 0.05574802681803703, 0.0165161844342947, -0.012496254406869411, -0.08252357691526413, -0.050346650183200836, 0.13699983060359955, 0.07611794024705887, 0.00459835771471262, -0.08658785372972488, 0.02313363365828991, -0.013819383457303047, -0.06155654415488243, 0.048882462084293365, -0.007550141774117947, 0.07799071073532104, 0.020944993942975998, -0.027359189465641975, 0.058256424963474274, 0.0003548857639543712, -0.01511960756033659, -0.009446044452488422, -0.06353834271430969, -0.03464793413877487, -0.009966685436666012, -0.052587032318115234, -0.0043630036525428295, 0.008236531168222427, 0.07195369154214859, 0.05743211880326271, -0.026934759691357613, -0.06240294501185417, 0.011288709007203579, -0.014504166319966316, 0.04746931791305542, -0.027066174894571304, 0.09531676024198532, 0.08460958302021027, 0.0006401112768799067, 0.010831152088940144, -0.0005653591942973435, -0.038216087967157364, -0.06013573333621025, 0.008025101386010647, 0.019462835043668747, -0.024665871635079384, -0.051394637674093246, -0.013031220063567162, -0.006447982043027878, 0.01747480221092701, -0.015371243469417095, 0.06876467913389206, 0.008515311405062675, 0.06591539084911346, -0.03460575267672539, -5.656985013047233e-05, 0.012100518681108952, -0.037687789648771286, 0.06891273707151413, -0.06291144341230392, 0.07033850252628326, -0.032483700662851334, 0.032451312988996506, 0.011429174803197384, 0.09533386677503586, -0.03310423344373703, -0.029871301725506783, -1.8915987135165094e-33, -0.014656586572527885, -0.01799021288752556, 0.05178802087903023, 0.05043502524495125, 0.0027155594434589148, -0.09571400284767151, -0.017370788380503654, -0.0050068385899066925, 0.04071725532412529, -0.045693229883909225, -0.0337938591837883, 0.05453145503997803, 0.033413805067539215, 0.03216741979122162, 0.019199313595891, -0.025349389761686325, 0.02184072881937027, -0.07963014394044876, -0.0770009234547615, -0.05596127361059189, -0.015035035088658333, -0.018406175076961517, -0.03544671833515167, 0.014577032066881657, -0.06049270182847977, 0.03251707926392555, 0.02338508702814579, -0.05614372715353966, -0.016488028690218925, -0.08924470841884613, 0.026819290593266487, 0.09820457547903061, -0.002416453091427684, -0.024340013042092323, -0.10781428217887878, 0.07202678173780441, 0.0496952049434185, 0.0049550277180969715, -0.03725609928369522, -0.018790800124406815, 0.052592042833566666, -0.07354090362787247, 0.027461841702461243, -0.05313463136553764, -0.012154141440987587, 0.06269953399896622, 0.060988131910562515, 0.025837447494268417, -0.038136888295412064, -0.03126507252454758, 0.009061039425432682, 0.013611258938908577, 0.008320849388837814, -0.01122204214334488, 0.104331836104393, -0.007391192018985748, 0.1048583835363388, -0.010142345912754536, -0.0086906673386693, 0.02811451256275177, -0.015293017029762268, 0.05179249867796898, -0.07769997417926788, 0.06752858310937881, 0.011322005651891232, 0.031099023297429085, -0.024653347209095955, 0.005049665924161673, -0.11943293362855911, -0.02985779382288456, -0.04286784306168556, 0.06941699981689453, -0.07472356408834457, -0.07621646672487259, -0.0010348333744332194, -0.005132006946951151, -0.10036377608776093, -0.023429512977600098, -0.06509476900100708, 0.09479859471321106, 0.004808433353900909, -0.030063515529036522, -0.05333868786692619, -0.008808162994682789, 0.031239157542586327, 0.036684129387140274, -0.07264955341815948, -0.06513433903455734, 0.007469900883734226, -0.03594445064663887, -0.03853653743863106, -0.050900109112262726, -0.10598306357860565, -0.03812026232481003, 0.04059366509318352, -3.067897935693509e-08, 0.08119582384824753, 0.04688060283660889, 0.00994974747300148, 0.1163671687245369, -0.009137514047324657, 0.005571015179157257, -0.02453797496855259, 0.06192617490887642, -0.03444639965891838, 0.09283429384231567, -0.03502697870135307, 0.010630265809595585, 0.031023478135466576, 0.07476022839546204, 0.030340641736984253, -0.06673825532197952, 0.13796189427375793, -0.043389692902565, -0.04392750561237335, -0.0034390611108392477, 0.04664130508899689, 0.03995831310749054, 0.0031797669362276793, 0.000689146458171308, -0.01991713047027588, 0.027989830821752548, 0.013354881666600704, 0.055456701666116714, 0.04471641406416893, -0.06681326031684875, 0.05953528732061386, 0.020534150302410126, -0.08594999462366104, 0.005447909701615572, -0.03083220310509205, -0.09343311935663223, -0.020482420921325684, 0.012146499939262867, 0.050117235630750656, 0.02234535478055477, -0.022335639223456383, 0.059955574572086334, -0.057912904769182205, 0.10718941688537598, -0.043047111481428146, 0.09009547531604767, 0.03912414610385895, 0.03401092439889908, -0.022842014208436012, 0.02858249843120575, -0.008366676978766918, -0.08454571664333344, 0.013606703840196133, 0.05805438756942749, 0.05044194683432579, 0.06707612425088882, 0.009124960750341415, 0.06265558302402496, -0.08714056015014648, 0.03914446011185646, 0.06719892472028732, -0.06415966898202896, -0.1338060349225998, 0.048454705625772476]",
         "8.967394",
         "1.3109114",
         "5",
         "Hands-on Field Experience and Interdisciplinary Learning in Marine Conservation"
        ],
        [
         "3",
         "R004",
         "Asian Studies",
         "My time at Waseda Uni in Tokyo improved my Japanese like crazy!!! Couldn't really hold a conversation b4 the program, now I'm pretty much fluent. Also made amazing friends who I still talk to everyday.",
         "[-0.004582987632602453, -0.045444514602422714, 0.09572205692529678, -0.006235465873032808, 7.720770372543484e-05, -0.03431185707449913, 0.025689901784062386, 0.013270321302115917, -0.0394802987575531, -0.01369080413132906, 0.02759588696062565, 0.0032384213991463184, -0.05124408379197121, 0.03311058133840561, 0.07764882594347, -0.04205387830734253, 0.02467171661555767, -0.025533348321914673, -0.023786500096321106, -0.09671012312173843, -0.08064211159944534, -0.013783713802695274, 0.030860304832458496, 0.04880208522081375, 0.07913566380739212, 0.052115730941295624, 0.04476754367351532, 0.04443571716547012, 0.03899770230054855, -0.019819248467683792, -0.09374436736106873, 0.08654306083917618, 0.04451315850019455, 0.04056822881102562, 0.0023352692369371653, 0.08934337645769119, 0.06684381514787674, -0.055881716310977936, 0.012213370762765408, -0.04107295349240303, -0.12646788358688354, 0.09782833606004715, 0.12136399000883102, -0.028102796524763107, 0.04178060218691826, -0.0792546421289444, -0.00850414577871561, -0.024672582745552063, 0.02160586044192314, -0.002716620685532689, -0.043825581669807434, -0.008987992070615292, 0.04884101450443268, 0.028002258390188217, 0.01681559346616268, 0.05690346285700798, 0.015507461503148079, 0.08378002792596817, -0.01849542185664177, 0.0356692299246788, -0.08880714327096939, -0.05834541469812393, 0.0059381271712481976, 0.004455972462892532, -0.015575544908642769, -0.008434731513261795, -0.08240336924791336, 0.06549490243196487, 0.02301150932908058, -0.008798502385616302, 0.01471407525241375, 0.03536098450422287, 0.08675194531679153, 0.0981355607509613, -0.04022962227463722, -0.01665920577943325, -0.030616004019975662, -0.058856263756752014, -0.005239670630544424, 0.03549140691757202, 0.05976971238851547, -0.028367163613438606, 0.0009106608922593296, -0.023693621158599854, 0.03178955242037773, -0.06487266719341278, -0.04150572046637535, -0.09800104051828384, 0.038093868643045425, 0.05463219806551933, 0.05216071009635925, 0.067784383893013, -0.017461558803915977, -0.033448800444602966, -0.04870174452662468, -0.051294270902872086, -0.010951596312224865, 0.019123127683997154, -0.02199404686689377, 0.05768440291285515, -0.010456476360559464, 0.03630584850907326, 0.016870679333806038, -0.05382746830582619, -0.055428583174943924, 0.02517869882285595, 0.04669873043894768, -0.02074187994003296, -0.038065355271101, 0.04085410013794899, -0.007200473919510841, 0.01530498918145895, -0.0348154716193676, 0.0179007425904274, 0.048699744045734406, 0.051995597779750824, 0.08281294256448746, 0.06487196683883667, -0.055511146783828735, 0.019297795370221138, -0.00031534049776382744, 0.030550215393304825, 0.006272623781114817, -0.002759635681286454, -0.07616374641656876, 0.06218826770782471, 0.009369602426886559, 4.684075910023073e-34, 0.018386341631412506, 0.02907736599445343, -0.03898677974939346, 0.095668263733387, -0.020700469613075256, -0.036630697548389435, -0.037428904324769974, 0.042671989649534225, -0.06067179515957832, -0.04432767257094383, 0.007652847096323967, 0.011719941161572933, -0.04317626357078552, -0.04293195530772209, 0.04680216312408447, 0.001817918149754405, -0.05232696607708931, 0.010455126874148846, 0.019070005044341087, 0.06233624368906021, 0.10129331797361374, -0.03868336230516434, -0.0019055146258324385, -0.047628749161958694, -0.020296072587370872, 0.0342210978269577, 0.05876854807138443, -0.09137900918722153, 0.042337216436862946, 0.01097856555134058, -0.012414651922881603, 0.016366712749004364, -0.05447645112872124, 0.03216291591525078, 0.022909170016646385, -0.039846137166023254, 0.036615900695323944, -0.07598824054002762, 0.018923478201031685, 0.053434859961271286, 0.05433541163802147, 0.023613614961504936, 0.009201466105878353, -0.03604092821478844, 0.06654009968042374, 0.03981737792491913, 0.0033944963943213224, -0.027940817177295685, 0.006702243350446224, -0.0003220029466319829, -0.16800457239151, -0.0677531287074089, -0.02991616167128086, 0.008318585343658924, 0.039178892970085144, 0.005542592145502567, 0.08534298092126846, -0.03160449489951134, -0.042019590735435486, 0.05218404158949852, -0.037572745233774185, 0.06597341597080231, -0.053699128329753876, -0.03688585385680199, 0.0032635475508868694, 0.03250110521912575, 0.017249496653676033, -0.10424838215112686, 0.06053745746612549, -0.07626219838857651, -0.04997127875685692, -0.06127747893333435, -0.0029850704595446587, -0.005925800651311874, -0.02686219848692417, -0.029300447553396225, -0.06635802239179611, -0.0029826562386006117, 0.015991847962141037, 0.01546997670084238, 0.028799941763281822, 0.0244216900318861, -0.0823441594839096, 0.029146946966648102, 0.06800704449415207, 0.07784964889287949, 0.05213192105293274, -0.0628715232014656, 0.035189926624298096, 0.008090251125395298, 0.08408889919519424, -0.050342947244644165, 0.09401808679103851, -0.024206088855862617, -0.028614653274416924, -4.037139838983142e-34, 0.07906888425350189, 0.015567753463983536, -0.012597437016665936, -0.009728015400469303, -0.014948236756026745, 0.02270602062344551, -0.007043652236461639, 0.06104016304016113, -0.014743116684257984, -0.041560232639312744, 0.01640508696436882, -0.04303445294499397, 0.047478001564741135, 0.021361513063311577, -0.011332803405821323, -0.005911403335630894, 0.0636061280965805, 0.023330029100179672, -0.044220805168151855, -0.05799880251288414, 0.05945679917931557, 0.020503338426351547, -0.030799005180597305, 0.03423658013343811, -0.009594608098268509, -0.0002606315538287163, 0.030300969257950783, 0.04590442031621933, -0.02960311435163021, 0.060926131904125214, 0.008153688162565231, 0.03990771993994713, -0.07475024461746216, -0.02522740140557289, 0.011077615432441235, 0.031930338591337204, -0.02123982273042202, -0.038767553865909576, -0.08217591047286987, -0.017235565930604935, -0.03306937217712402, -0.005473609548062086, -0.024193648248910904, 0.060265906155109406, -0.014148947782814503, 0.003051158506423235, -0.1074114441871643, 0.034598346799612045, -0.08076933771371841, -0.10200338810682297, -0.05692010745406151, -0.08678670972585678, -0.012177016586065292, -0.10851994156837463, -0.034056004136800766, -0.050555285066366196, 0.11575084924697876, -0.08603353053331375, -0.03866499662399292, -0.011636820621788502, -0.07454800605773926, -0.045070014894008636, 0.03383813425898552, -0.002383527113124728, -0.033246420323848724, -0.013142854906618595, 0.10760744661092758, 0.022082993760704994, 0.027876049280166626, -0.05883421003818512, -0.027268454432487488, 0.048997558653354645, -0.012653888203203678, 0.09878501296043396, -0.057557251304388046, 0.0013213828206062317, -0.048104073852300644, -0.020768074318766594, 0.03175162896513939, 0.016980962827801704, -0.04036848992109299, 0.08903560787439346, -0.0450386144220829, -0.04332035407423973, 0.10142631828784943, 0.13481196761131287, -0.02313194051384926, 0.022286415100097656, 0.06018339470028877, -0.04782263562083244, 0.03040454350411892, 0.11631175130605698, -0.03012709505856037, -0.027866726741194725, -0.055422358214855194, -2.9196522532970448e-08, -0.049621373414993286, -0.07488315552473068, -6.921736348886043e-05, 0.02061411179602146, -0.021884627640247345, -0.07304272055625916, -0.07383669167757034, 0.09784175455570221, 0.020175287500023842, -0.040728844702243805, -0.05648728832602501, 0.09968914836645126, -0.04697130620479584, 0.07018228620290756, 0.06433949619531631, -0.008831913582980633, 0.1460140496492386, 0.11543529480695724, 0.010214518755674362, -0.04110972583293915, 0.08127715438604355, 0.04549026861786842, 0.01742812618613243, -0.033398695290088654, -0.03341497480869293, 0.028275148943066597, -0.00807315856218338, 0.009185881353914738, -0.01713450811803341, -0.05443792790174484, -0.04653983190655708, -0.013808025978505611, -0.025372380390763283, 0.02471552975475788, -0.025775764137506485, -0.042786579579114914, 0.03535221517086029, -0.08431371301412582, -0.07765549421310425, 0.022983036935329437, 0.009908522479236126, -0.04156060889363289, -0.02762366086244583, 0.01450814213603735, 0.010365000925958157, 0.0707443356513977, 0.019491933286190033, -0.062238771468400955, 0.014048028737306595, -0.048110660165548325, -0.014636583626270294, -0.015029402449727058, -0.022816719487309456, 0.01105562224984169, 0.025384943932294846, 0.043238043785095215, -0.056545671075582504, -0.05504010617733002, -0.0410190224647522, 0.07521197944879532, 0.033497534692287445, 0.04423993080854416, -0.18717361986637115, 0.02011457458138466]",
         "10.744184",
         "5.385358",
         "2",
         "Language and Cultural Immersion"
        ],
        [
         "4",
         "R005",
         "Government",
         "The Guarini program gave me confidence I never knew I had. Living in a foreign country forces you to adapt and problem solve in ways campus life never does. I came back a completely different person - more independent and sure of myself.",
         "[0.0012159398756921291, -0.03586733713746071, 0.044065311551094055, 0.004632791504263878, 0.05264139547944069, -0.05791375786066055, 0.0563015416264534, -0.03777533397078514, -0.04765943065285683, -0.04539554938673973, 0.12203330546617508, 0.0533570870757103, 0.06347760558128357, -0.04087984189391136, -0.010630951263010502, -0.053428374230861664, -0.025412948802113533, -0.08359384536743164, -0.003914436791092157, -0.06533193588256836, -0.09151708334684372, -0.04787163436412811, -0.028400957584381104, 0.016562223434448242, 0.05317864939570427, 0.019786491990089417, 0.022839797660708427, -0.009056556038558483, -0.004110084380954504, -0.06295368075370789, 0.048291198909282684, 0.026944804936647415, -0.035252947360277176, 0.031621500849723816, -0.006187915336340666, 0.06170646846294403, 0.044022515416145325, 0.005912924651056528, 0.010997272096574306, 0.04134158417582512, -0.04843248054385185, 0.018271222710609436, 0.10886996984481812, 0.025596890598535538, 0.028925815597176552, -0.07214001566171646, -0.010711133480072021, -0.05360379070043564, -0.02478533610701561, -0.029918896034359932, -0.008522883988916874, -0.05474565178155899, 0.008236324414610863, -0.065691277384758, 0.0042312610894441605, 0.05024363473057747, 0.019528113305568695, 0.035863276571035385, -0.05722423270344734, 0.07072722166776657, -0.0239085890352726, -0.03265305981040001, -0.01528261974453926, 0.010719820857048035, 0.029948458075523376, 0.042352452874183655, -0.02358079142868519, -0.05872686207294464, 0.08679420500993729, -0.054741270840168, -0.011326444335281849, -0.03115757368505001, -0.06310294568538666, 0.025467218831181526, 0.013549805618822575, 0.017636291682720184, 0.03852959722280502, 0.022948022931814194, 0.06205390393733978, 0.10292086005210876, 0.08239036798477173, 0.09085738658905029, -0.02860531210899353, 0.06252197921276093, 0.03685867786407471, -0.15547102689743042, 0.02932571992278099, 0.028385255485773087, 0.0382172092795372, 0.00138660182710737, 0.08816349506378174, 0.0041765314526855946, -0.019115865230560303, -0.01161985844373703, 0.013388225808739662, -0.020768599584698677, -0.0878487229347229, -0.03739098832011223, -0.032603103667497635, 0.048939067870378494, -0.03539957106113434, -0.012310678139328957, 0.010019353590905666, 0.0023060443345457315, -0.08417898416519165, 0.04082900658249855, 0.09927979111671448, -0.04443953186273575, 0.028832323849201202, 0.031167833134531975, -0.04412861913442612, 0.017776699736714363, -0.003194371936842799, 0.03020816296339035, 0.020092744380235672, 0.045907843858003616, 0.017544271424412727, 0.03169263154268265, -0.009290837682783604, 0.038995109498500824, 0.028111189603805542, 0.09165050089359283, 0.003338458016514778, -0.05356694012880325, -0.08007346093654633, -0.03271174803376198, -0.01772506907582283, -8.778139981299746e-34, -0.022238899022340775, 0.02703939937055111, -0.02221870794892311, 0.03407510370016098, -0.0026236125268042088, -0.03182096406817436, -0.06953266263008118, 0.07790371775627136, -0.04360739141702652, 0.02307216450572014, 0.04962258040904999, 0.07854216545820236, 0.026516588404774666, 0.022298650816082954, 0.031323518604040146, 0.04464784637093544, -0.1172395870089531, 0.031056715175509453, -0.027161311358213425, 0.09256784617900848, 0.09648856520652771, -0.03976256772875786, 0.02883065678179264, -0.03161437809467316, 0.07916509360074997, 0.0014382783556357026, -0.0008005485869944096, 0.05447810888290405, 0.07187601923942566, -0.01041950099170208, -0.011534838937222958, 0.023743711411952972, -0.04494064673781395, -0.100989930331707, -0.022511634975671768, -0.012154861353337765, 0.013617404736578465, 0.007105852942913771, -0.016962552443146706, -0.04081850126385689, -0.040203213691711426, 0.05146189033985138, 0.08067744225263596, 0.048171382397413254, 0.08041004836559296, -0.005473941098898649, 0.04430953040719032, -0.09170157462358475, -0.06527785956859589, -0.032235030084848404, -0.18552419543266296, -0.01996127888560295, -0.07869645953178406, -0.042559050023555756, -0.01683110184967518, 0.001434548175893724, -0.008420088328421116, 0.0691208690404892, -0.03831255063414574, -0.07230661809444427, -0.0034069884568452835, 0.003480718471109867, -0.07165507227182388, -0.0584137849509716, 0.004455984570086002, 0.019378358498215675, -0.07888270914554596, -0.03876509517431259, 0.06248048320412636, 0.0322018601000309, -0.06392885744571686, -0.060816626995801926, -0.07266596704721451, -0.02598375268280506, 0.007662940304726362, -0.03656965121626854, -0.060968734323978424, -0.024743659421801567, 0.02868594042956829, -0.050957124680280685, -0.0359618179500103, -0.011547775007784367, -0.028249679133296013, 0.042997319251298904, 0.056286465376615524, 0.10100825875997543, 0.11473795771598816, -0.020646408200263977, 0.07111290842294693, 0.045401256531476974, 0.09311064332723618, 0.0016962391091510653, 0.035315483808517456, -0.005857213865965605, -0.05111393705010414, 9.027836218372886e-35, 0.06587615609169006, 0.02814326621592045, 0.031064530834555626, -0.04912295937538147, 0.005880545824766159, -0.004866618663072586, 0.0026988680474460125, 0.02392546460032463, 0.010726497508585453, 0.03614797070622444, 0.021191535517573357, -0.0023163394071161747, 0.052706580609083176, 0.0735737681388855, -0.03136744722723961, -0.020360002294182777, 0.00978162046521902, 0.019215213134884834, -0.047848787158727646, -0.05410023033618927, 0.06112304702401161, 0.07688036561012268, 0.024630965664982796, -0.05571916326880455, -0.02960672788321972, -0.024003352969884872, 0.03359120711684227, -0.05238104984164238, -0.05846887826919556, -0.04689920321106911, -0.0044471705332398415, -0.013196023181080818, -0.09127271175384521, 0.022631295025348663, -0.022409971803426743, 0.0017210121732205153, -0.00696380203589797, 0.06367024034261703, -0.09004011750221252, 0.033795036375522614, 0.0003925000783056021, -0.026164477691054344, -0.041588954627513885, -0.024237588047981262, -0.02306489087641239, 0.04483562707901001, 0.052276063710451126, -0.03741179779171944, -0.054095953702926636, -0.0458904430270195, -0.07178492099046707, 0.014237486757338047, -0.003767701331526041, -0.04760102927684784, 0.06857804208993912, -0.06235700845718384, 0.06572505086660385, -0.046570371836423874, -0.057657454162836075, 0.02000277489423752, -0.030946703627705574, 0.0026679127477109432, -0.012300033122301102, -0.06019777059555054, 0.06119507551193237, 0.030408717691898346, -0.0525013767182827, 0.10914627462625504, 0.02669660747051239, 0.024408569559454918, -0.04177069291472435, 0.029427004978060722, -0.01590280793607235, -0.04642794281244278, -0.024237703531980515, -0.017276477068662643, -0.05940765514969826, -0.029294954612851143, -0.07618018239736557, -0.061375927180051804, 0.01265864446759224, -0.04714776203036308, -0.055727098137140274, -0.07598166912794113, 0.07608166337013245, 0.09100539982318878, 0.004254240542650223, 0.004130114801228046, 0.16391602158546448, 0.01579907350242138, -0.0563826709985733, 0.01748593896627426, -0.021501736715435982, -0.07527503371238708, 0.0031845008488744497, -3.143621896128934e-08, -0.025828294456005096, 0.02884809859097004, -0.004901332780718803, 0.09787140041589737, -0.023734407499432564, 0.014880511909723282, -0.06135784089565277, 0.020471327006816864, -0.0362192764878273, 0.028518885374069214, -0.024417508393526077, 0.013450146652758121, 0.019844138994812965, -0.009389612823724747, 0.08200519531965256, 0.0775655061006546, 0.10592682659626007, 0.06360724568367004, 0.0279815923422575, -0.008350628428161144, -0.013135354034602642, 0.017128165811300278, -0.0513039156794548, 0.08220257610082626, -0.08855011314153671, 0.12026979774236679, 0.036529336124658585, 0.04648418724536896, -0.05821939930319786, 0.042775534093379974, -0.03271383419632912, -0.03748902305960655, -0.019032558426260948, -0.03873439133167267, -0.008975554257631302, -0.037513136863708496, 0.05213053524494171, -0.054782044142484665, 0.1326056569814682, -0.07169533520936966, -0.041508182883262634, 0.047017429023981094, 0.02125018835067749, 0.04180179908871651, -0.017368920147418976, 0.01428848598152399, -0.023185033351182938, -0.007594334427267313, 0.04395155981183052, 0.10131178796291351, 0.04129723459482193, 0.007698860485106707, -0.03797490894794464, 0.057261139154434204, 0.061087772250175476, 0.0151498569175601, 0.03513365611433983, -0.06524498760700226, -0.1510019600391388, 0.0056159901432693005, 0.04679149389266968, -0.05147869884967804, -0.09416243433952332, -0.0381828136742115]",
         "9.520711",
         "3.6276011",
         "-1",
         null
        ],
        [
         "5",
         "R006",
         "Engineering",
         "tbh the technical skills I picked up at Technical University of Denmark weren't that different from Dartmouth, but the professional connections and seeing how engineering is practiced in a different cultural context was invaluable.",
         "[0.002868631388992071, 0.030556706711649895, 0.08803420513868332, -0.053983766585588455, -0.03467094525694847, -0.04220927134156227, 0.014381003566086292, 0.04034298285841942, -0.04628925025463104, -0.025161974132061005, -0.05295632407069206, -0.011599931865930557, 0.027640325948596, -0.0059826127253472805, -0.0756639689207077, -0.05281959846615791, -0.02620042860507965, -0.10267453640699387, 0.018073981627821922, -0.08054590970277786, -0.032651111483573914, 0.022440379485487938, 0.06711003184318542, -0.04510747641324997, 0.0794534757733345, 0.026735488325357437, 0.09662044048309326, 0.006054344587028027, 0.009027624502778053, -0.01352798379957676, -0.06554532796144485, 0.11009382456541061, -0.08460775762796402, 0.008781114593148232, 0.0015307916328310966, 0.06379937380552292, 0.04607793688774109, 0.004380899481475353, 0.03378026932477951, 0.03777419030666351, -0.04224194213747978, -0.0002569944772403687, 0.07875020802021027, -0.08573424071073532, -0.049498070031404495, 0.025334199890494347, 0.017655912786722183, -0.07305993139743805, -0.019191469997167587, 0.0006900305743329227, -0.05321446806192398, -0.019353602081537247, 0.0027388192247599363, -0.11969802528619766, 0.026952309533953667, 0.04887048527598381, 0.06599920243024826, 0.07978630065917969, -0.06385821849107742, 0.016712360084056854, 0.00661194883286953, -0.03143313154578209, 0.0315379835665226, 0.007259158883243799, -0.01611199602484703, -0.014307471923530102, -0.1030307412147522, 0.02812287025153637, 0.0050132181495428085, -0.04507780075073242, 0.02501915954053402, -0.027059052139520645, -0.011833671480417252, 0.03356654942035675, 0.08240021765232086, -0.042386267334222794, -0.0012453212402760983, -0.007707278244197369, -0.022850511595606804, 0.005031580571085215, 0.023712780326604843, 0.026800012215971947, -0.048633839935064316, -0.05229845270514488, -0.0024947819765657187, -0.02249627560377121, 0.05471818521618843, -0.015058876015245914, 0.017208963632583618, 0.027067558839917183, 0.0622592531144619, -0.05348524451255798, -0.031151961535215378, 0.05144761502742767, 0.01922752521932125, -0.02286270633339882, -0.005888550542294979, 0.04148617014288902, 0.03359968960285187, 0.027217717841267586, -0.056740500032901764, 0.11151976883411407, -0.030419304966926575, 0.059779535979032516, -0.05730203539133072, 0.0066974833607673645, 0.027910353615880013, 0.023545728996396065, 0.05959147587418556, -0.005755456630140543, 0.025084862485527992, 0.004787196405231953, -0.03752978891134262, 0.024218183010816574, 0.002874427940696478, 0.0128742391243577, 0.0036213151179254055, -0.010707919485867023, 0.03412829712033272, 0.04043905436992645, 0.033770088106393814, -0.014998995698988438, -0.07526478916406631, 0.07273829728364944, 0.015548963099718094, 0.023193156346678734, -0.030250215902924538, 1.773448467659541e-34, -0.06340015679597855, 0.07734783738851547, -0.03389561548829079, 0.0881841778755188, 0.004650038667023182, -0.03109966404736042, -0.06799659132957458, 0.07178888469934464, 0.024537546560168266, -0.0620664581656456, -0.007098767906427383, 0.11081933975219727, -0.01576055958867073, -0.01707627810537815, 0.05834266170859337, -0.011431862600147724, -0.09345532208681107, 0.002997839590534568, -0.010289409197866917, 0.07445567846298218, 0.023325668647885323, -0.05309145525097847, 0.07527048140764236, -0.05043027177453041, -0.030393987894058228, -0.04146308824419975, 0.05009245499968529, 0.06522607058286667, 0.1095612421631813, 0.002657478442415595, 0.031741585582494736, -0.048324815928936005, -0.025724681094288826, -0.06004447489976883, 0.01401838380843401, 0.07456400245428085, 0.0007849427638575435, -0.09198395162820816, 0.053172800689935684, 0.07248257100582123, -0.011766013689339161, 0.035948943346738815, 0.04338075965642929, 0.06930112093687057, 0.00768275884911418, 0.04550807923078537, 0.0188260730355978, -0.04476126655936241, -0.019980942830443382, -0.0765596255660057, -0.0763106420636177, 0.0009567288216203451, 0.12156608700752258, -0.0810059979557991, 0.06388961523771286, 0.04583653435111046, 0.028865665197372437, 0.09542710334062576, -0.03877827525138855, -0.002681525656953454, -0.04406354948878288, 0.07701325416564941, -0.008334115147590637, -0.028536256402730942, -0.006891928147524595, 0.07519596070051193, 0.009260040707886219, 0.06031898781657219, 0.03023688867688179, -0.04382048919796944, -0.06816301494836807, -0.004618407692760229, 0.042742595076560974, 0.004698059521615505, -0.00783927645534277, 0.04421228542923927, -0.06785649806261063, -0.05885385721921921, 0.018541166558861732, -0.0036355170886963606, -0.05341431125998497, -0.019097184762358665, -0.04988091066479683, -0.011902098543941975, 0.09479017555713654, -0.021156610921025276, 0.10423767566680908, -0.022675348445773125, 0.12475127726793289, 0.07221164554357529, 0.05349694564938545, -0.06445533037185669, -0.05844904109835625, 0.016107851639389992, -0.015945488587021828, -1.8198772113980337e-33, -0.04893195629119873, 0.01863645762205124, -0.08553029596805573, 0.06396019458770752, 0.06462718546390533, 0.030671952292323112, 0.033155448734760284, 0.033979035913944244, -0.05527302995324135, -0.0019120580982416868, 0.09890402108430862, -0.03940078616142273, -0.06460882723331451, 0.05488572642207146, -0.06282588839530945, -0.05814797803759575, -0.004177470225840807, -0.014389511197805405, -0.046529222279787064, -0.0003530234098434448, 0.09410440176725388, 0.01994624175131321, -0.07076327502727509, 0.0022550085559487343, -0.04861423000693321, 0.041298799216747284, -0.1153608188033104, -0.011362740769982338, -0.07296014577150345, -0.030316006392240524, 0.04264084994792938, 0.09302131831645966, -0.004646590445190668, 0.06522086262702942, -0.002275341423228383, 0.0611032098531723, 0.02438984252512455, 0.0030050650238990784, -0.018629737198352814, 0.02604636363685131, -0.029987262561917305, -0.06629545241594315, -0.04448786750435829, 0.028834931552410126, 0.009147785604000092, -0.04243214428424835, -0.049708664417266846, -0.026151146739721298, 0.007008680608123541, -0.016926545649766922, -0.025932051241397858, 0.005863614846020937, 0.04261653497815132, -0.12367083877325058, 0.04146391525864601, -0.030248485505580902, 0.09359930455684662, -0.07870752364397049, -0.012316406704485416, 0.008280119858682156, 0.04368558153510094, -0.019587749615311623, 0.04626698046922684, 0.004970949608832598, -0.05048694834113121, -0.040090519934892654, -0.06091275066137314, 0.06994220614433289, -0.11809582263231277, 0.005661251023411751, -0.06541968137025833, 0.045292288064956665, 0.01279130857437849, -0.05662058666348457, -0.05197292938828468, -0.018794186413288116, -0.022761506959795952, -0.023908667266368866, -0.0965937152504921, -0.042847082018852234, -0.01438869722187519, -0.04933754354715347, -0.04883968457579613, 0.022505655884742737, -0.001436071703210473, 0.1524195671081543, -0.014541822485625744, -0.05694933235645294, 0.031695157289505005, -0.09532684087753296, -0.03173106163740158, -0.05121821165084839, -0.047328460961580276, -0.1017867773771286, -0.08345306664705276, -3.2068619759684225e-08, -0.05909217894077301, 0.03777409344911575, 0.008673621341586113, -0.02844114787876606, -0.08348613232374191, -0.020068539306521416, -0.06927823275327682, 0.025325238704681396, -0.019383763894438744, 0.015588228590786457, -0.1282459944486618, -0.01815805211663246, -0.022367889061570168, 0.06566239893436432, 0.11954398453235626, 0.057209938764572144, -0.05924312025308609, 0.026989175006747246, -0.020732887089252472, -0.021565372124314308, 0.06720368564128876, 0.04980599507689476, -0.011079924181103706, 0.05393709987401962, -0.05965961515903473, 0.02518412284553051, 0.005992542020976543, -0.06288426369428635, -0.007933197543025017, -0.03006630204617977, -0.060012128204107285, 0.002824583323672414, -0.01096902135759592, 0.051714617758989334, 0.012601139955222607, -0.020027900114655495, 0.012951226904988289, 0.028201336041092873, -0.007832136936485767, 0.031225888058543205, -0.03631123900413513, -0.11249105632305145, -0.030721062794327736, 0.0392218753695488, 0.06112785264849663, 0.01092536374926567, 0.04059082269668579, 0.07159146666526794, 0.009964920580387115, 0.08534569293260574, 0.07325560599565506, 0.03221963718533516, -0.04534078389406204, -0.034661468118429184, 0.02433892711997032, 0.0421665720641613, -0.044191960245370865, -0.07736209779977798, -0.09523297101259232, 0.03169931098818779, -0.004447129089385271, 0.037175193428993225, 0.038947563618421555, 0.04879143834114075]",
         "7.9200726",
         "2.8903217",
         "-1",
         null
        ],
        [
         "6",
         "R007",
         "Anthropology",
         "The biggest benefit was getting to do actual fieldwork with communities in Cuba through CASA. No amount of classroom learning compares to immersive cultural experiences. It confirmed my desire to pursue anthropology professionally.",
         "[0.07443825155496597, 0.1047920361161232, -0.01699257083237171, 0.056777022778987885, 0.03192528709769249, 0.0009027638589031994, -0.11282701045274734, -0.033370863646268845, 0.012384840287268162, 0.04932022467255592, 0.03876051306724548, 0.030673351138830185, -0.02693967893719673, 0.03343530371785164, 0.05364561825990677, 0.011539566330611706, 0.01356209721416235, -0.015444730408489704, 0.08852634578943253, -0.0255791787058115, -0.0965326726436615, -0.0361926406621933, 0.03707534819841385, 0.031064968556165695, 0.008919576182961464, 0.03891117125749588, 0.0616772435605526, -0.004206720739603043, 0.01137098204344511, -0.06973975151777267, -0.034299708902835846, 0.08043722063302994, -0.01812514290213585, 0.019635867327451706, 0.0019733107183128595, 0.05714214965701103, 0.0531344972550869, -0.03696325793862343, -0.028395958244800568, -0.020177742466330528, -0.04216839373111725, -0.001521445345133543, 0.11533898860216141, -0.03544764220714569, -0.003620534436777234, -0.12378250807523727, 0.01472210232168436, -0.006074473727494478, 0.014633956365287304, -0.03394728899002075, 0.04314117506146431, -0.023223785683512688, -0.05072899907827377, -0.027152957394719124, -0.012349152006208897, 0.05801600217819214, -0.02324751764535904, 0.0034634724725037813, -0.07554097473621368, 0.01184936985373497, -0.04434309899806976, 0.0008200824377126992, -0.040068045258522034, 0.00828430987894535, 0.0036160096060484648, -0.11205876618623734, -0.039727549999952316, 0.046684522181749344, -0.017695574089884758, -0.044900353997945786, -0.004635108169168234, -0.017468823119997978, 0.04244975373148918, -0.005690664518624544, 0.05695320665836334, -0.04643353819847107, -0.016631757840514183, -0.02026432938873768, -0.0030886565800756216, 0.012203829362988472, 0.12450307607650757, 0.04926525428891182, -0.013274753466248512, -0.04587705805897713, -0.01865847222507, -0.03427117317914963, -0.03768535330891609, -0.010873417370021343, 0.016087103635072708, -0.018033651635050774, 0.08015124499797821, -0.05894751101732254, -0.05411522090435028, 0.029782302677631378, -0.030130712315440178, 0.0032804396469146013, -0.06931660324335098, 0.09972505271434784, 0.009343662299215794, -0.016665497794747353, 0.058851540088653564, 0.008602101355791092, -0.019758494570851326, -0.03924361616373062, -0.046804189682006836, 0.045784078538417816, 0.023571854457259178, 0.05744681507349014, 0.07754349708557129, -0.04024839773774147, -0.08957154303789139, 0.009079374372959137, -0.04810444265604019, 0.05359380692243576, 0.01646323874592781, 0.0802568793296814, 0.11004488170146942, 0.01710248738527298, 0.051308609545230865, -0.01960688643157482, 0.057238612323999405, -0.026978861540555954, 0.01930859684944153, 0.011354913003742695, -0.0132362125441432, -0.07130688428878784, 0.009268071502447128, 4.912645735588178e-34, 0.018574317917227745, 0.013608661480247974, -0.03568731248378754, 0.05723888427019119, 0.10126722604036331, 0.013240485452115536, 0.015273450873792171, -0.019108468666672707, -0.07941416651010513, -0.003863368183374405, 0.07672502845525742, 0.12793128192424774, 0.014309045858681202, 0.05455504357814789, 0.018364008516073227, -0.030501188710331917, -0.14978404343128204, 0.0048312353901565075, -0.02901880070567131, 0.0647013857960701, 0.032305758446455, 0.01876816153526306, 0.019488541409373283, 0.06542416661977768, 0.04645809531211853, 0.026703473180532455, -0.04119080677628517, -0.05435721203684807, 0.03636493906378746, 0.009305506944656372, -0.012528734281659126, 0.00182500877417624, -0.10099847614765167, -0.10953985154628754, 0.06087091192603111, 0.03892725333571434, 0.07285385578870773, -0.0766194760799408, 0.017176076769828796, -0.006008439231663942, 0.008536897599697113, -0.022674700245261192, 0.05289933457970619, 0.003028068458661437, 0.024546388536691666, 0.03404475003480911, 0.09277839958667755, 0.03810948505997658, -0.05029626190662384, 0.03959602117538452, -0.10571838915348053, -0.08318153023719788, -0.05958754941821098, -0.059494901448488235, 0.027107425034046173, 0.003476869547739625, 0.004045203793793917, 0.06914364546537399, -0.0006495881825685501, -0.04483521357178688, -0.05003691092133522, -0.06336316466331482, 0.007963662967085838, 0.012278689071536064, 0.007253258489072323, -0.002270062919706106, 0.09354540705680847, 0.044755276292562485, 0.10933637619018555, -0.01591571606695652, -0.04885316267609596, -0.04673032835125923, -0.04389025270938873, -0.017816295847296715, -0.02576467953622341, -0.0035356441512703896, -0.021952660754323006, -0.07619348168373108, 0.0256934966892004, 0.07725479453802109, 0.019900038838386536, 0.03862946853041649, 0.03474525362253189, 0.02589281275868416, 0.07197673618793488, 0.08973397314548492, 0.04566448926925659, -0.0812949538230896, 0.06645938009023666, 0.022368427366018295, 0.02105952985584736, 0.017156487330794334, -0.010429425165057182, 0.03817833960056305, -0.016647031530737877, -2.67878007681717e-33, 0.011812826618552208, -0.047274600714445114, -0.016471579670906067, -0.012180265970528126, 0.017806576564908028, -0.06723834574222565, 0.011962058953940868, 0.005976769141852856, -0.03562583029270172, -0.07897526770830154, 0.007438767701387405, 0.05247731879353523, -0.03514056280255318, 0.0885140523314476, -0.06133677437901497, -0.02955162711441517, -0.0025122687220573425, -0.06732509285211563, -0.023252462968230247, 0.03007790632545948, 0.0016262144781649113, 0.15668436884880066, -0.01765717938542366, 0.05843248590826988, 0.006225904915481806, -0.0050933826714754105, -0.09767172485589981, -0.04572043940424919, 0.015972686931490898, 0.031388022005558014, 0.08063028007745743, 0.09928762167692184, 0.0030284402891993523, -0.06187116354703903, -0.04006719961762428, 0.10510139167308807, -0.0009881529258564115, 0.02641727589070797, -0.08508467674255371, 0.08785219490528107, 0.10351710766553879, -0.0017404610989615321, -0.08710727840662003, -0.02810288406908512, -0.027607176452875137, 0.04173167049884796, -0.0056554763577878475, -0.014681376516819, 0.03392869606614113, 0.0197064820677042, -0.0005957692046649754, -0.04226372390985489, -0.019669601693749428, -0.06550353020429611, 0.03930037468671799, -0.09316238015890121, 0.030644893646240234, -0.04266602545976639, 0.017999108880758286, 0.03732459992170334, -0.055415078997612, 0.07340796291828156, -0.0967889204621315, -0.03677773475646973, 0.029288316145539284, 0.031231403350830078, -0.02367878518998623, 0.06634683907032013, -0.06602033227682114, -0.0035701582673937082, -0.0014764101943001151, -0.0017057857476174831, -0.08562780916690826, 0.037837207317352295, -0.060844410210847855, 0.03498944267630577, -0.011177916079759598, -0.01633359305560589, -0.03276250883936882, 0.05430041626095772, -0.053984563797712326, -0.12162517756223679, 0.0018111774697899818, -0.048303209245204926, 0.016203399747610092, 0.08013108372688293, -0.10629351437091827, -0.039316702634096146, 0.03280924633145332, -0.03217048570513725, -0.04968911036849022, -0.04458114877343178, -0.04279883950948715, -0.0490259975194931, -0.04766472801566124, -2.759688833009477e-08, -0.018527857959270477, -0.02695610374212265, 0.031026091426610947, -0.024172673001885414, -0.07964035868644714, -0.011941119097173214, -0.05757153034210205, 0.056090425699949265, -0.024147475138306618, 0.10072144120931625, -0.13628272712230682, -0.0003014332614839077, 0.04909033700823784, 0.09040962904691696, 0.04484641179442406, 0.04856971278786659, 0.1086590513586998, 0.040070585906505585, 0.0052397409453988075, -0.007295235060155392, 0.05382935702800751, 0.01037767343223095, -0.02457059919834137, -0.034735746681690216, -0.09978309273719788, 0.004745340906083584, -0.043902259320020676, 0.009038759395480156, 0.010780013166368008, -0.03812529146671295, -0.006190778687596321, 0.019874468445777893, -0.07302122563123703, 0.022264137864112854, -0.05144096165895462, -0.046323273330926895, -0.02101491019129753, -0.09312454611063004, 0.019677545875310898, -0.045077476650476456, -0.018714532256126404, -0.038492195308208466, 0.03457546979188919, -0.0376114584505558, -0.06518182903528214, -0.04931971803307533, 0.010924284346401691, 9.220280480803922e-05, -0.017150230705738068, 0.09476960450410843, -0.01772099919617176, -0.007783557754009962, -0.03430933132767677, -0.053018879145383835, 0.1087401881814003, -0.03844587877392769, 0.0755905956029892, 0.007204762659966946, 0.03395650163292885, 0.01527264341711998, 0.008271314203739166, -0.055682677775621414, -0.062330324202775955, -0.01400315947830677]",
         "10.3246975",
         "1.5949146",
         "-1",
         null
        ],
        [
         "7",
         "R008",
         "Biology",
         "The marine biology program completely changed my career path. I was pre-med before, but after working in the field at MBL, I'm now pursuing marine conservation. The hands-on research experience was transformative.",
         "[-0.04039861261844635, 0.05736248567700386, 0.06859495490789413, 0.010786278173327446, 0.009405989199876785, -0.06923388689756393, -0.1111961156129837, 0.0015798156382516026, -0.029817430302500725, 0.0052566141821444035, -0.09735089540481567, 0.0010397958103567362, -0.027180781587958336, 0.04979397729039192, -0.026071567088365555, 0.06367533653974533, -0.0541146956384182, -0.02227620780467987, -0.013949679210782051, 0.006407159846276045, -0.10194094479084015, 0.11196978390216827, -0.02418176271021366, 0.002229275880381465, 0.0045616826973855495, 0.03786518797278404, 0.007371609564870596, 0.06262237578630447, -0.06712076812982559, 0.0007723146118223667, -0.019924525171518326, 0.12753383815288544, -0.03246908634901047, -0.009262708015739918, 0.0735882893204689, 0.07255518436431885, 0.04699006304144859, -0.007176874205470085, 0.009513701312243938, 0.08451816439628601, -0.05668274685740471, 0.004151713568717241, 0.057707738131284714, 0.01731385663151741, 0.0046128821559250355, -0.12722209095954895, 0.048433784395456314, -0.0854940190911293, 0.0010623285779729486, -0.009434420615434647, 0.010508154518902302, -0.09286864101886749, -0.05497325584292412, -0.06630144268274307, 0.005339857656508684, 0.04231651499867439, -0.02575964294373989, 0.043538521975278854, -0.043163809925317764, -0.059210021048784256, -0.0061532496474683285, 0.07778111100196838, -0.011085636913776398, 0.015839731320738792, -0.029252197593450546, 0.009068547748029232, -0.0264737606048584, -0.028924977406859398, 0.10319303721189499, -0.080362968146801, -0.017948267981410027, 0.03187379240989685, -0.009721638634800911, 0.03839871287345886, 0.10567698627710342, 0.0002512730425223708, 0.05190501734614372, 0.07820162177085876, 0.08748038113117218, -0.013832943513989449, 0.06960730254650116, -0.03574369102716446, -0.07375992834568024, 0.026115691289305687, -0.05690036714076996, -0.08366087824106216, 0.0019055523443967104, 0.0033655937295407057, -0.0036051771603524685, 0.05147727578878403, 0.08050175756216049, -0.07810351252555847, 0.04123559221625328, -0.03587944805622101, -0.08205901831388474, -0.024729423224925995, -0.05460710823535919, 0.0005166648188605905, 0.07239708304405212, 0.006522429641336203, -0.003514619776979089, -0.024941371753811836, -0.024269558489322662, -0.014865363948047161, 0.001441802247427404, -0.0389600470662117, 0.07895024120807648, 0.017343247309327126, -0.009159785695374012, 0.006045656744390726, -0.014862715266644955, 0.06596171855926514, -0.005868122912943363, 0.09047845005989075, -0.006410813890397549, 0.14314165711402893, -0.0701289102435112, -0.022032123059034348, 0.03699329122900963, 0.08517064899206161, -0.04983212798833847, 0.018664810806512833, 0.017821354791522026, -0.012583534233272076, -0.061651669442653656, 0.003369539976119995, 0.037405338138341904, -2.168891402390756e-33, -0.009145762771368027, -0.01645902916789055, 0.0015166403027251363, 0.05414031445980072, -0.00402999110519886, 0.019852226600050926, -0.009649165906012058, -0.0399223156273365, -0.016924982890486717, -0.03406839445233345, 0.03290112689137459, 0.15273739397525787, -0.017413785681128502, 0.006246228236705065, -0.0023337346501648426, -0.025279667228460312, -0.12609797716140747, -0.017100399360060692, -0.011072882451117039, 0.02632191590964794, -0.001960009103640914, 0.07262514531612396, -0.04506230726838112, -0.01853402890264988, 0.03958161547780037, 0.02031455747783184, -0.007959088310599327, -0.06247633323073387, 0.04718504101037979, 0.05051721632480621, -0.0179758183658123, -0.03051512874662876, -0.09979686141014099, -0.07691662013530731, -0.011605433188378811, 0.06419381499290466, 0.03709928318858147, -0.08541307598352432, 0.025648754090070724, 0.015456002205610275, -0.0385202020406723, 0.023147013038396835, 0.02496231719851494, -0.019860031083226204, 0.013701883144676685, 0.016383370384573936, 0.05545256659388542, -0.006878212559968233, -0.04701022431254387, 0.006776466500014067, -0.04006650298833847, -0.07654356956481934, 0.048163726925849915, -0.03111184388399124, 0.016354670748114586, 0.009072495624423027, 0.061003249138593674, 0.06798931211233139, -0.06967718154191971, 0.003707536496222019, 0.03898179903626442, 0.08693887293338776, 0.004580841399729252, -0.010377359576523304, 0.08751089125871658, 0.0489962138235569, 0.03775274381041527, -0.03514709696173668, 0.03169182687997818, 0.0303741954267025, -0.11169365793466568, -0.060933083295822144, -0.0062544080428779125, -0.0391087681055069, -0.026983868330717087, -0.05901995301246643, -0.03130863606929779, -0.03723808377981186, -0.04347880929708481, 0.03571556881070137, 0.04154964163899422, 0.054745834320783615, -0.044937584549188614, 0.011530490592122078, 0.08249279111623764, 0.0585898756980896, 0.0657557025551796, -0.059882525354623795, 0.04328447952866554, 0.012096877209842205, 0.0573531799018383, -0.04423364996910095, 0.03218315914273262, 0.0369098000228405, -0.006018959451466799, 6.172390888940768e-34, -0.02520115114748478, -0.005672676023095846, 0.029925759881734848, 0.017517825588583946, 0.03913991525769234, -0.044505514204502106, 0.054017871618270874, -0.008198924362659454, -0.0009026656625792384, -0.02085811272263527, 0.03487176448106766, 0.049376316368579865, 0.007202591747045517, 0.03739229217171669, -0.07821264863014221, -0.034559089690446854, -0.07804320752620697, -0.012809209525585175, -0.06001574546098709, -0.032174911350011826, -0.020989704877138138, 0.038061127066612244, -0.011981477960944176, 0.05294974148273468, -0.031297340989112854, 0.02519143931567669, 0.05553324893116951, 0.04269171506166458, 0.02255413308739662, -0.09033866971731186, 0.07346517592668533, 0.11885348707437515, 0.006974393501877785, -0.05972560495138168, -0.03543928638100624, 0.04254506900906563, -0.0021228271070867777, 0.018193107098340988, -0.003948512487113476, -0.08272119611501694, 0.02402159944176674, -0.1005321741104126, -0.006558576133102179, -0.003103341907262802, -0.01346389390528202, 0.056560199707746506, 0.025244494900107384, 0.02561229094862938, 0.03854323551058769, -0.06612595915794373, -0.08139543235301971, 0.013981237076222897, 0.06626971065998077, -0.07795044034719467, 0.10072067379951477, -0.013749625533819199, 0.046614840626716614, -0.05349909886717796, -0.018360372632741928, -0.012937572784721851, -0.0031001537572592497, 0.04523864760994911, 0.011035874485969543, 0.004727865103632212, 0.017278200015425682, 0.06990616768598557, 0.03712606802582741, -0.0006609602132812142, -0.13939087092876434, 0.005451150704175234, 0.015859175473451614, 0.07374415546655655, -0.05732577666640282, -0.006322810892015696, 0.003836139338091016, -0.08053044229745865, -0.07696762681007385, -0.02756323665380478, -0.08529637008905411, 0.05792077258229256, -0.03964322432875633, -0.03798697516322136, -0.029524900019168854, -0.037112388759851456, 0.005081606097519398, 0.05514732748270035, -0.05257140100002289, -0.025510136038064957, 0.013492368161678314, -0.09019844979047775, -0.029919076710939407, -0.027570394799113274, -0.0710238441824913, -0.08799147605895996, -0.012632819823920727, -3.003945892032789e-08, 0.05922519788146019, 0.027398541569709778, 0.015843354165554047, 0.06261710077524185, 0.015467927791178226, -0.027907269075512886, -0.12083292752504349, 0.058862004429101944, 0.023462681099772453, 0.028838330879807472, -0.08599592000246048, 0.01026218943297863, -0.011510651558637619, 0.02771122381091118, 0.09494738280773163, -0.014684812165796757, 0.11726273596286774, -0.04407522827386856, 0.014653954654932022, -0.025195153430104256, -0.004527457058429718, 0.05235638841986656, -0.02985234372317791, -0.0049866060726344585, -0.056025516241788864, 0.004751680884510279, 0.03081606887280941, -0.024528732523322105, 0.056956514716148376, -0.019081469625234604, 0.04513203352689743, 0.015346566215157509, -0.055032163858413696, 0.0627191886305809, -0.02622835710644722, -0.11542775481939316, -0.007503509055823088, -0.03605592995882034, 0.005062628071755171, 0.02074548602104187, -0.05005411058664322, 0.037594664841890335, -0.03246559202671051, 0.05007342994213104, -0.1072947084903717, 0.06715156883001328, 0.09909427911043167, 0.061165355145931244, -0.026326747611165047, -0.009325668215751648, 0.04928475245833397, -0.004414484370499849, -0.03805746138095856, -0.02227129600942135, -0.01800079643726349, 0.1423974335193634, 0.006752843968570232, -0.021293550729751587, -0.09124219417572021, 0.042622219771146774, 0.05625252053141594, -0.08419425040483475, -0.048748549073934555, 0.050046857446432114]",
         "8.941092",
         "1.9211946",
         "5",
         "Hands-on Field Experience and Interdisciplinary Learning in Marine Conservation"
        ],
        [
         "8",
         "R009",
         "Economics",
         "Studying at Bocconi gave me a completely different perspective on economic systems. The European approach is so different from what we learn in the US. I think I'm much more well-rounded in my understanding now.",
         "[0.028766676783561707, -0.03232746198773384, -0.09358620643615723, -0.04207746312022209, 0.06026105955243111, -0.0845596045255661, -0.07883179932832718, 0.08878901600837708, -0.004497821442782879, -0.027142532169818878, -0.02829108200967312, 0.04722972586750984, -0.07753755897283554, -0.07895898818969727, -0.0333293154835701, -0.07210152596235275, -0.033836521208286285, -0.08343711495399475, 0.06162596866488457, -0.01810646802186966, -0.0716433897614479, -0.06325139850378036, 0.0016550960717722774, 0.05458772927522659, 0.04342034086585045, -0.006556700449436903, 0.055104807019233704, -0.01848323456943035, -0.0495595782995224, -0.03853661194443703, -0.07434705644845963, 0.03866686671972275, 0.0322563536465168, -0.04518580436706543, 0.0024468370247632265, 0.040217455476522446, 0.10390659421682358, -0.021647358313202858, -0.04192975535988808, -0.024027075618505478, -0.0007737386622466147, -0.0215456523001194, -0.020172858610749245, -0.011414111591875553, 0.030889423564076424, 0.006997600197792053, 0.030583782121539116, -0.011854070238769054, -0.09535392373800278, -0.011107848957180977, -0.0419093482196331, 0.05220068618655205, 0.005537810269743204, -0.06437668204307556, 0.05666259676218033, 0.08149146288633347, -0.007479223422706127, 0.10281021893024445, -0.009489274583756924, -0.022010337561368942, 0.0012730032904073596, -0.0522867850959301, -0.008059831336140633, -0.005722257774323225, 0.07929974794387817, -0.020094381645321846, -0.0900031328201294, -0.004925193730741739, -0.11536282300949097, -0.011865919455885887, 0.05881405249238014, -0.09210395067930222, -0.07393480837345123, 0.0523831881582737, 0.07330518960952759, -0.043291814625263214, 0.019654948264360428, 0.00019768353377003223, 0.013645704835653305, 0.030643871054053307, 0.12433645874261856, 0.03173206374049187, -0.09275204688310623, 0.005883639678359032, -0.025839589536190033, -0.072670117020607, -0.016093581914901733, -0.10804703086614609, 0.03406164050102234, -0.04015401378273964, 0.08516771346330643, 0.016942502930760384, -0.02276490069925785, 0.0043191867880523205, -0.007916153408586979, 0.034338973462581635, 0.07060565054416656, 0.09131759405136108, 0.019553424790501595, 0.04429054260253906, 0.005000394303351641, -0.031969066709280014, 0.04289736971259117, 0.01312579121440649, -0.028690947219729424, -0.04578495770692825, 0.03233454003930092, 0.02952529489994049, 0.07579963654279709, -0.0208758432418108, -0.004209550097584724, -0.038353968411684036, -0.0018902822630479932, -0.03843678534030914, -0.016309065744280815, -0.03869592025876045, 0.040526747703552246, -0.04787377268075943, 0.11159566789865494, 0.04138106852769852, 0.051772769540548325, 0.02816607430577278, -0.053285613656044006, -0.0009447411866858602, 0.028006404638290405, 0.00610605301335454, -0.03301147371530533, -1.990742845800738e-33, -0.06611579656600952, -0.00886670034378767, 0.0397854708135128, 0.012207838706672192, -0.0960504412651062, 0.04724925011396408, -0.023823166266083717, 0.005260393023490906, -0.011335354298353195, -0.01603187434375286, 0.023227576166391373, 0.07975944131612778, 0.07578388601541519, 0.047632865607738495, 0.05750984326004982, 0.0032755834981799126, -0.03605985641479492, 0.002547216834500432, 0.00933506153523922, 0.05266098305583, 0.10878416150808334, 0.0009787986055016518, 0.022553620859980583, -0.03536585718393326, 0.05419528856873512, -0.01491721160709858, -0.023777995258569717, -0.0059158047661185265, 0.04760297015309334, 0.003471178002655506, 0.08549267798662186, 0.09325540065765381, -0.06492552161216736, 0.01951727829873562, -0.05600173771381378, -0.03283686563372612, -0.0003605132515076548, -0.014885972253978252, -0.039729177951812744, -0.09843803197145462, -0.07045566290616989, 0.0004662681894842535, -0.012074303813278675, 0.05177028477191925, 0.0727631151676178, 0.03651069477200508, 0.05152058228850365, 0.013411501422524452, -0.02494054101407528, -0.07534424215555191, -0.0949525535106659, -0.05278580263257027, 0.02182851731777191, -0.10761786252260208, 0.0049694073386490345, 0.07333807647228241, -0.04050079733133316, -0.0344303734600544, -0.050670281052589417, -0.04271475225687027, 0.009248564019799232, 0.042077675461769104, 0.01596715860068798, -0.08077316731214523, -0.027013840153813362, 0.13694770634174347, -0.08775027096271515, 0.03776140138506889, 0.02642166242003441, -0.0025673876516520977, -0.01643689163029194, 0.026878144592046738, 0.0177984107285738, 0.03610413148999214, -0.03621065989136696, 0.11540348082780838, 0.03617159649729729, 0.05440286546945572, -0.008958331309258938, -0.0923551693558693, -0.031846996396780014, -0.014542022719979286, 0.10152889043092728, 0.04433712735772133, 0.0481119379401207, 0.11605646461248398, 0.03036108799278736, 0.056168656796216965, 0.13511471450328827, 0.06263159215450287, -0.028630735352635384, -0.06431347131729126, -0.008062629960477352, -0.012458435259759426, -0.03278754651546478, 6.129663965175782e-34, 0.02470123954117298, 0.008690744638442993, 0.013533208519220352, 0.0238233283162117, 0.016134362667798996, 0.010258962400257587, -0.0605236254632473, -0.03913646936416626, 0.01131018903106451, -0.02262219600379467, 0.003068236168473959, 0.013024598360061646, 0.03320234268903732, 0.0870627611875534, 0.006300465203821659, -0.03144199773669243, -0.040393631905317307, -0.057526782155036926, -0.002809783909469843, 0.0037948989775031805, -0.042693886905908585, 0.04851260036230087, 0.010982612147927284, -0.004400673788040876, -0.015363109298050404, -0.08948398381471634, -0.06505054235458374, -0.037431929260492325, -0.02169697731733322, -0.05764468014240265, -0.02914271503686905, 0.046458154916763306, 0.023719018325209618, 0.031126825138926506, -0.040389448404312134, 0.10612000524997711, -0.05681689456105232, -0.0575207844376564, 0.013622522354125977, 0.022798823192715645, -0.10195266455411911, -0.09712988883256912, -0.07490035891532898, -0.06913557648658752, 0.035640157759189606, 0.019700905308127403, 0.039553601294755936, 0.027007246389985085, -0.038926564157009125, -0.03878668323159218, 0.0687377005815506, 0.037489257752895355, -0.045912716537714005, -0.08125936985015869, -0.005579549819231033, -0.017932545393705368, 0.12261783331632614, -0.02654825523495674, -0.03813297674059868, 0.014741473831236362, -0.027948103845119476, 0.041079748421907425, 0.0231754370033741, 0.055961839854717255, 0.010779355652630329, 0.006638750899583101, -0.0635363906621933, -0.02116088755428791, 0.03741323575377464, -0.08707932382822037, -0.07263652235269547, -0.05725080892443657, -0.019911538809537888, 0.04252009838819504, 0.050060804933309555, 0.01979781873524189, 0.010687774047255516, 0.02029987797141075, -0.005948334001004696, 0.006816447246819735, -0.025023793801665306, -0.04534522071480751, 0.02270708978176117, -0.02970198728144169, 0.02257750928401947, 0.055982477962970734, -0.05621112138032913, -0.0864446833729744, 0.05489237606525421, 0.01917368918657303, -0.1057901456952095, -0.0025899105239659548, 0.026293529197573662, 0.0037160515785217285, 0.024101750925183296, -3.610922405528072e-08, -0.018771255388855934, -0.002877301536500454, 0.02262030728161335, 0.1492842584848404, -0.05277664586901665, 0.006845057941973209, -0.06445874273777008, 0.05093652382493019, -0.04483504220843315, 0.02828717976808548, -0.098333939909935, 0.06740657240152359, 0.009154388681054115, -0.015630928799510002, 0.05248813331127167, 0.08532252907752991, 0.046449899673461914, -0.00833076424896717, -0.007153701037168503, 0.11670813709497452, 0.08478439599275589, 0.06560200452804565, -0.036057401448488235, -0.02303883247077465, 0.016725795343518257, -0.024523047730326653, -0.011945460923016071, 0.04738246276974678, -0.009472343139350414, -0.032400209456682205, -0.009277040138840675, 0.02913777343928814, -0.026080690324306488, 0.03375977650284767, 0.018590208142995834, -0.04278700798749924, -0.030813992023468018, 0.10323937237262726, 0.01471489854156971, 4.4059022911824286e-05, 0.0003522115002851933, -0.04599941149353981, -0.022546041756868362, 0.011276058852672577, -0.0275590643286705, -0.00023132871137931943, -0.001771719311363995, 0.03780598193407059, 0.0345815010368824, 0.0045348042622208595, -0.023583153262734413, 0.01190105825662613, 0.056153085082769394, -0.0166602972894907, 0.14494910836219788, -0.0915692150592804, 0.05762619152665138, -0.058436568826436996, -0.07531945407390594, 0.06373574584722519, 0.0270076971501112, -0.027332723140716553, 0.02581879124045372, 0.026354936882853508]",
         "11.402277",
         "2.650999",
         "0",
         "Comparative Perspectives on Economic and Political Systems"
        ],
        [
         "9",
         "R010",
         "Comparative Literature",
         "The language immersion was incredible. I went to Berlin barely able to order coffee in German and came back able to discuss literature. The Federation program's language focus was exactly what I needed.",
         "[0.09123177081346512, -0.05909271538257599, 0.04783366993069649, -0.010145079344511032, -0.04419031739234924, 0.08844152837991714, -0.04733743891119957, 0.042654167860746384, -0.018781838938593864, -0.008713963441550732, -0.05860595405101776, 0.035878587514162064, -0.01156424917280674, 0.03424514830112457, 0.047983989119529724, -0.04629240930080414, 0.06070603430271149, -0.09071126580238342, 0.04959680512547493, -0.11985642462968826, -0.009005198255181313, -0.043794892728328705, 0.04873563349246979, -0.034113913774490356, 0.08192367851734161, 0.06181854009628296, 0.017649833112955093, -0.07858279347419739, 0.009044645354151726, -0.02692531980574131, -0.05434316769242287, 0.05341140553355217, 0.010816165246069431, 0.006956426426768303, -0.006680839229375124, 0.0517454519867897, 0.09421638399362564, -0.06140022724866867, -0.016574041917920113, -0.009386132471263409, -0.07984920591115952, 0.020275691524147987, 0.058795150369405746, 0.011934114620089531, 0.06800714880228043, -0.08557434380054474, 0.01758102886378765, 0.025818781927227974, -0.03207932785153389, 0.02609112486243248, -0.03572623059153557, -0.023306215181946754, 0.04289155825972557, -0.036028020083904266, -0.010399176739156246, 0.010604852810502052, -0.010174806229770184, 0.04378385469317436, -0.03299569711089134, -0.032266177237033844, -0.04996222257614136, -0.1276104748249054, 0.01651003025472164, 0.04912964999675751, -0.02646281011402607, -0.05609472841024399, -0.06697233766317368, 0.0276555847376585, -0.030745046213269234, -0.01386378426104784, -0.06581113487482071, 0.014614063315093517, 0.03626818209886551, 0.043761879205703735, 0.06890244036912918, -0.03495234251022339, -0.041968632489442825, -0.09688883274793625, 0.008511500433087349, -0.01356300339102745, 0.0953727662563324, 0.0795358195900917, -0.01047605462372303, 0.02281402423977852, -0.03021843545138836, -0.08296415954828262, 0.0034699952229857445, -0.06914841383695602, -0.0356421023607254, 0.014870143495500088, 0.06853511184453964, -0.051954157650470734, 0.015779439359903336, 0.05470539256930351, -0.027233248576521873, -0.041344527155160904, -0.008105117827653885, 0.03043052740395069, 0.03909692168235779, 0.012811191380023956, -0.019514497369527817, 0.03595857694745064, -0.020532425493001938, -0.052881430834531784, -0.09717410802841187, -0.03256283700466156, 0.009982879273593426, -0.02272910438477993, -0.03137432411313057, -0.035758256912231445, -0.0023879900109022856, 0.025200530886650085, -0.03598608821630478, 0.08805722743272781, 0.020517373457551003, 0.0805923119187355, 0.13069550693035126, -0.03051084093749523, 0.11255671083927155, 0.019234078004956245, -0.030253902077674866, -0.01541863102465868, 0.014180884696543217, -0.01315530575811863, -0.061795834451913834, 0.05204590782523155, 0.11968759447336197, -1.617274698891066e-33, -0.04563211649656296, 0.014045989140868187, -0.0322725847363472, 0.07767248898744583, 0.013283150270581245, -0.050325050950050354, 0.09595788270235062, 0.011128430254757404, -0.07593395560979843, -0.07860346138477325, 0.047228094190359116, 0.10407079011201859, 0.03175126388669014, 0.014993810094892979, 0.026371793821454048, -0.07468636333942413, -0.0297353845089674, 0.10272175073623657, 0.023264972493052483, 0.03655696287751198, 0.08183778822422028, 0.0859001874923706, 0.033261921256780624, -0.06172483041882515, 0.06110210344195366, 0.043598245829343796, 0.01385401003062725, -0.06063127890229225, 0.06798365712165833, 0.006693036761134863, -0.0326707698404789, 0.03709273412823677, -0.06985822319984436, 0.011198695749044418, 0.02650846168398857, -0.01671285554766655, 0.07566817849874496, -0.0643894374370575, 0.060248617082834244, 0.0381833016872406, -0.014062951318919659, 0.03921302407979965, 0.04204024001955986, 0.002804022515192628, 0.018716376274824142, 0.07545974105596542, -0.02155372127890587, -0.019066860899329185, 0.016894929111003876, -0.00870269350707531, -0.06280973553657532, -0.06345436722040176, 0.009694323875010014, 0.03618854656815529, 0.11567085981369019, 0.0712718591094017, 0.017450502142310143, 0.039599351584911346, 0.004751222673803568, -0.0404999740421772, -0.015737377107143402, 0.054976511746644974, -0.0054165758192539215, -0.05155819281935692, 0.07840672880411148, 0.01161401066929102, -0.059522900730371475, -0.0355883352458477, 0.03936152905225754, -0.03714964538812637, -0.08619222044944763, -0.035846907645463943, -0.021983368322253227, -0.018389832228422165, -0.030099473893642426, 0.04733728989958763, -0.06019452586770058, -0.06134091690182686, 0.017731288447976112, 0.042049672454595566, -0.004488557577133179, -0.07122982293367386, 0.021617017686367035, 0.013398142531514168, -0.011669821105897427, 0.025031330063939095, 0.017951034009456635, -0.04028191789984703, 0.03274265304207802, -0.02899700403213501, 0.02241424471139908, -0.030441604554653168, 0.058298300951719284, -0.007772740907967091, 0.012257966212928295, 1.7252857320003412e-33, 0.057774946093559265, -0.012891465798020363, -0.03733811154961586, 0.045947544276714325, -0.016087450087070465, 0.07670470327138901, 0.05508161708712578, 0.009395303204655647, 0.011154897511005402, -0.023041678592562675, 0.008695953525602818, -0.006940698251128197, 0.07105855643749237, 0.11291322112083435, -0.08385796844959259, -0.03416314348578453, 0.007496516685932875, 0.009537001140415668, 0.011926840990781784, 0.07673792541027069, 0.01068711094558239, 0.08643067628145218, -0.04123793914914131, -0.058554135262966156, -0.010042831301689148, 0.013333526439964771, -0.06761188060045242, -0.021115344017744064, -0.08827342838048935, -0.010326086543500423, 0.03536376729607582, 0.10487142205238342, 0.0061469003558158875, -0.037486132234334946, -0.0144343301653862, 0.08075004070997238, 0.002701712539419532, 0.021944981068372726, -0.06009874492883682, 0.0006696503260172904, -0.012719628401100636, -0.021568663418293, -0.07867003232240677, 0.036000534892082214, 0.048541851341724396, 0.021769089624285698, -0.09044817090034485, -0.08871004730463028, -0.03850442171096802, 0.012342505156993866, -0.0927257090806961, -0.04280669614672661, -0.03745526075363159, -0.11958737671375275, -0.008508707396686077, -0.08514657616615295, 0.03952400013804436, -0.04660241678357124, -0.05191073939204216, -0.017784804105758667, -0.015389032661914825, 0.09783091396093369, 0.0037522956263273954, -0.07240850478410721, 0.0438319630920887, -0.025803890079259872, -0.05389246717095375, 0.05914158374071121, 0.02238866128027439, -0.06495685130357742, 0.03803706169128418, -0.01397562213242054, 0.002085285959765315, 0.11003628373146057, -0.0018633152358233929, 0.051771607249975204, 0.04454817995429039, 0.02488652803003788, -0.04885873943567276, 0.045842524617910385, 0.011693975888192654, 0.060716476291418076, 0.003361596493050456, -0.005244035739451647, 0.08381781727075577, 0.1421596258878708, -0.026465198025107384, -0.07364494353532791, 0.07371529191732407, 0.04221946373581886, -0.030185723677277565, -0.02807067148387432, -0.01326693408191204, 0.009353624656796455, 0.03619418665766716, -2.399598386659818e-08, -0.06012583151459694, -0.012511630542576313, -0.011676041409373283, 0.07187432795763016, -0.0810471922159195, -0.09986495226621628, -0.04965708404779434, -0.058952607214450836, -0.07020578533411026, 0.06446362286806107, -0.13342799246311188, 0.038772065192461014, -0.015063118189573288, 0.03389761224389076, 0.03169175982475281, 0.049746930599212646, 0.06502261012792587, 0.03584983944892883, 0.007187605369836092, 0.10883170366287231, 0.03601940721273422, 0.05177556350827217, 0.011196676641702652, 0.0015245205722749233, -0.03234311193227768, 0.033573199063539505, -0.019792834296822548, -0.05273259058594704, 0.05931491032242775, -0.05625591054558754, -0.06213938072323799, -0.007791751064360142, -0.050806865096092224, 0.054486922919750214, -0.09568978101015091, -0.017815224826335907, -0.08179230988025665, -0.013612872920930386, 0.049613285809755325, 0.006841589231044054, -0.0012640582863241434, 0.020020127296447754, -0.010203177109360695, -0.030257176607847214, 0.026021044701337814, 0.033149633556604385, -0.06307059526443481, -0.07336869835853577, 0.02194100059568882, 0.03962138667702675, -0.045090511441230774, 0.02652776427567005, -0.042511776089668274, 0.003213590709492564, 0.0560600571334362, 0.07925819605588913, -0.05841706320643425, 0.034227799624204636, -0.07006477564573288, 0.016689864918589592, 0.007139489054679871, 0.030774885788559914, -0.06218915432691574, -0.0030856779776513577]",
         "10.4506645",
         "4.8218627",
         "2",
         "Language and Cultural Immersion"
        ],
        [
         "10",
         "R011",
         "Art History",
         "Oxford's resources for art history are unmatched. Having access to those collections and scholars through Keble College transformed my research abilities. My thesis is 100% stronger because of what I learned there.",
         "[0.007698130328208208, -0.04245308041572571, 0.004481493029743433, -0.03527533635497093, 0.041943494230508804, 0.04722236469388008, -0.09072968363761902, -0.06777875125408173, -0.08004351705312729, -0.00015495777188334614, -0.03678078576922417, 0.05912426486611366, -0.0673912912607193, -0.016069283708930016, -0.06977371126413345, 0.0920475497841835, 0.04893124848604202, -0.008421683683991432, 0.036788973957300186, 0.01723187230527401, 0.02255021035671234, 0.03006434254348278, 0.10177097469568253, -0.03415033593773842, 0.0279867984354496, 0.06618572026491165, 0.01024379301816225, -0.04669787734746933, 0.0177894439548254, -0.10273104161024094, -0.09241121262311935, 0.010215289890766144, -0.1037391945719719, -0.047769587486982346, 0.013089619576931, 0.04889269173145294, 0.03811399266123772, 0.04801281541585922, 0.060939885675907135, 0.03541602939367294, -0.07076787203550339, 0.08020254224538803, -0.014272821135818958, -0.05693172663450241, 0.03175788000226021, 0.015284919179975986, -0.024314746260643005, -0.07066521048545837, -0.0035084369592368603, 0.049384839832782745, 0.016740616410970688, 0.02328275702893734, -0.04674224555492401, -0.04744205251336098, 0.026465771719813347, -0.023783305659890175, -0.027074342593550682, 0.057387374341487885, -0.043180812150239944, -0.022765161469578743, -0.005531725008040667, 0.04331708326935768, -0.02052469365298748, -0.004915317054837942, -0.0005647408543154597, 0.020509660243988037, -0.01010227669030428, 0.05141688510775566, -0.019658248871564865, -0.014419052749872208, -0.0005396652268245816, -0.03632292523980141, -0.022163452580571175, 0.07192252576351166, 0.13424715399742126, 0.0729755386710167, -0.03574666753411293, -0.019481128081679344, -0.1054542288184166, -0.00048818776849657297, 0.04184001311659813, 0.033662211149930954, -0.0034535445738583803, -0.035973481833934784, -0.020218588411808014, -0.09621389210224152, -0.018748747184872627, -0.07355517148971558, 0.033648230135440826, -0.01817060448229313, 0.08718597143888474, -0.073576420545578, 0.06552023440599442, 0.012471712194383144, 0.1551491916179657, -0.018986817449331284, 0.054881539195775986, -0.007206240203231573, -0.002257097512483597, 0.0049272337928414345, -0.029640061780810356, 0.026174483820796013, -0.008048449642956257, -0.0006138860480859876, -0.005232818424701691, 0.025594092905521393, -0.06917709112167358, 0.027966512367129326, -0.03081480786204338, 0.01896723173558712, 0.044152773916721344, 0.01047856081277132, -0.019290614873170853, 0.020099423825740814, 0.02226501889526844, -0.02508668601512909, -0.028212349861860275, -0.023833004757761955, 0.07321365922689438, 0.038099754601716995, -0.010654199868440628, 0.02396368235349655, 0.09581061452627182, 0.022580284625291824, -0.08880238980054855, -0.07205698639154434, -0.09869974106550217, 1.0992537157733733e-33, 0.06993398815393448, -0.004525294993072748, -0.003132604295387864, 0.040461283177137375, 0.01072482019662857, -0.048064302653074265, -0.01719597354531288, 0.05693509802222252, -0.02898237481713295, -0.08012469112873077, 0.07449983060359955, 0.13495245575904846, -0.020582664757966995, -0.027137871831655502, -0.03502612188458443, 0.010129211470484734, 0.048590756952762604, 0.028232209384441376, 0.08879869431257248, -0.011124266311526299, -0.03607441484928131, 0.0004578286607284099, 0.044737786054611206, -0.04487830772995949, -0.09558451920747757, 0.024761997163295746, -0.054664246737957, -0.008310513570904732, -0.0013738381676375866, 0.015714747831225395, 0.03547343984246254, 0.0026575278025120497, -0.04851462319493294, -0.06100991368293762, -0.033426202833652496, 0.04707249626517296, 0.009035702794790268, -0.07530785351991653, 0.07435987144708633, 0.027095189318060875, -0.01741073653101921, -0.02029542624950409, 0.07338695973157883, -0.03502310812473297, 0.032883498817682266, 0.03650832176208496, 0.02785581909120083, -0.01891310326755047, 0.060487158596515656, 0.04645279422402382, -0.02137974463403225, -0.04459686577320099, -0.08005622029304504, -0.03490113094449043, 0.011874553747475147, 0.021809155121445656, -0.06128587946295738, 0.0751967504620552, 0.005216695833951235, -0.055280111730098724, 0.013768589124083519, 0.08895982801914215, 0.04215605929493904, -0.04949331656098366, 0.010929252952337265, 0.05228392779827118, -0.10043492913246155, -0.04696996882557869, -0.028609707951545715, 0.007829386740922928, -0.07513284683227539, 0.023714035749435425, 0.05950271710753441, -0.04999471455812454, -0.01868497207760811, 0.02804073877632618, 0.007818968035280704, -0.028855163604021072, -0.046049054712057114, -0.023082515224814415, -0.04052859544754028, 0.003452892182394862, -0.023875407874584198, -0.009585981257259846, -0.005118435714393854, 0.018469994887709618, 0.07793261855840683, 0.006171027664095163, 0.045823998749256134, 0.06963437795639038, 0.06437727063894272, -0.0486135371029377, -0.1105801910161972, -0.05475066229701042, -0.043578051030635834, -2.3712241022100114e-33, 0.06821585446596146, -0.07875678688287735, 0.017847666516900063, 0.05382559821009636, 0.05848920717835426, 0.007440542336553335, -0.04097723588347435, 0.04650821536779404, -0.03728033974766731, 0.03100287914276123, 0.042207270860672, -0.039167195558547974, -0.03300164267420769, -0.021011289209127426, -0.016810590401291847, -0.12094409763813019, 0.03293429687619209, -0.09882528334856033, -0.07114623486995697, 0.08688601106405258, -0.03723198547959328, 0.027130572125315666, -0.013402057811617851, -0.08100654184818268, -0.0900489017367363, 0.051997456699609756, -0.04305293783545494, -0.05775886029005051, -0.04186151176691055, -0.02620987966656685, 0.05217213183641434, -0.0014469303423538804, 0.007698833476752043, -0.020887775346636772, -0.056975528597831726, 0.04447106644511223, 0.029162270948290825, 0.008807985112071037, 0.021940678358078003, -0.0075561292469501495, 0.02045523189008236, 0.038759734481573105, -0.019963441416621208, -0.032752834260463715, 0.04428587108850479, -0.06059277802705765, -0.12389770150184631, 0.032709598541259766, 0.07064171135425568, 0.0020579935517162085, 0.025412291288375854, -0.003157432423904538, 0.0740572139620781, -0.044390685856342316, 0.021391887217760086, -0.016788631677627563, 0.07861979305744171, 0.015381015837192535, -0.02591494843363762, 0.09325841814279556, -0.055098991841077805, 0.05583735182881355, -0.13647118210792542, 0.03037472814321518, -0.0338011272251606, -0.010243509896099567, -0.08461201190948486, 0.008429649285972118, -0.05870644375681877, -0.004958044271916151, -0.04832156375050545, -0.058808863162994385, 0.13020889461040497, 0.03146802634000778, 0.008494132198393345, -0.016457177698612213, 0.04282306134700775, 0.04142211750149727, 0.060979213565588, -0.02820906974375248, -0.03977735713124275, -0.028465749695897102, -0.0030219245236366987, -0.01878182776272297, 0.08061627298593521, 0.1604476273059845, -0.03164205700159073, 0.005140033084899187, 0.02557012438774109, -0.06760384887456894, 0.0242248997092247, -0.10566165298223495, 0.04038576781749725, -0.04076678678393364, 0.03357131406664848, -3.2250888182261406e-08, -0.02012302726507187, 0.04223259538412094, 0.05573009327054024, 0.01609594188630581, 0.0103795500472188, 0.005248170346021652, -0.01640690676867962, 0.0441179983317852, -0.06284806877374649, 0.059583231806755066, -0.08282046765089035, -0.023875510320067406, -0.05488576740026474, 0.01899658888578415, 0.04133249819278717, 0.006876668427139521, 0.11640835553407669, -0.1244397908449173, 0.026648957282304764, -0.020651470869779587, -0.008113429881632328, -0.017841700464487076, 0.04047875106334686, -0.035907939076423645, -0.013615352101624012, 0.0844283252954483, 0.042276330292224884, -0.03325303643941879, -0.04950190335512161, 0.02926003746688366, -0.11012710630893707, 0.0857146754860878, 0.018088797107338905, -0.07295889407396317, 0.0652531161904335, -0.05955934152007103, -0.010095222853124142, -0.03886778652667999, -0.0669853612780571, -0.01753556728363037, 0.011933424510061741, -0.07317917048931122, 0.006993042305111885, -5.781374170510389e-07, 0.06265057623386383, 0.046294204890728, 0.06355858594179153, 0.09016654640436172, 6.105033389758319e-05, 0.05324508994817734, 0.0029630837962031364, -0.02273114025592804, 0.036036767065525055, -0.016695216298103333, 0.009982593357563019, 0.0007558892830274999, -0.010133400559425354, -0.014395060017704964, -0.03951149061322212, 0.023574039340019226, 0.12542001903057098, -0.020241672173142433, -0.052488505840301514, 0.04119851812720299]",
         "11.491394",
         "1.2471195",
         "-1",
         null
        ],
        [
         "11",
         "R012",
         "Geography",
         "The biggest benefit was seeing climate change impacts firsthand in coastal communities. The Williams-Mystic program wasn't just academic - it was visceral and emotional. It made everything I'd been studying real in a way nothing else could.",
         "[-0.029286112636327744, 0.09901905059814453, 0.08115064352750778, 0.039565134793519974, 0.046211790293455124, 0.020025834441184998, -0.10229542851448059, -0.018361929804086685, -0.04248042032122612, 0.06026952713727951, -0.04380819946527481, 0.059110041707754135, -0.05006817355751991, 0.00021694673341698945, 0.02250119484961033, 0.03396931290626526, -0.025685658678412437, -0.018388157710433006, -0.007938905619084835, -0.043102625757455826, -0.10751060396432877, -0.01257700752466917, -0.012594478204846382, 0.06701596081256866, 0.043728046119213104, 0.049487825483083725, -0.011363321915268898, 0.02509845793247223, 0.010045250877737999, -0.024864528328180313, 0.002120742341503501, 0.06396223604679108, 0.03175488859415054, -0.020899614319205284, -0.05269411578774452, 0.05118448659777641, 0.05143425613641739, 0.015633299946784973, -0.038955457508563995, -0.021323906257748604, -0.033177558332681656, 0.01000295951962471, 0.08867069333791733, 0.008887691423296928, -0.02252889983355999, -0.16871364414691925, 0.020503809675574303, -0.063804991543293, -0.013149605132639408, -0.004224468022584915, -0.005798582918941975, -0.016224505379796028, -0.10094282776117325, -0.09856247156858444, -0.048602111637592316, 0.034088365733623505, 0.0019850232638418674, 0.016307592391967773, -0.05899278447031975, 0.005132947117090225, -0.0034549215342849493, -0.022558076307177544, -0.032543689012527466, 0.006100474391132593, 0.0540117509663105, -0.02600865811109543, -0.043226711452007294, 0.01985858380794525, 0.0641961395740509, -0.03868742287158966, 0.011774486862123013, 0.013536736369132996, -0.013118894770741463, -0.07402460277080536, 0.09490586817264557, 0.017031017690896988, -0.002823456423357129, 0.025510748848319054, 0.02313455194234848, 0.010028251446783543, 0.1488141119480133, 0.02029266767203808, -0.04688340052962303, 0.017362764105200768, 0.024512391537427902, -0.032680612057447433, -0.0034037011209875345, -0.09169847518205643, 0.007573750335723162, -0.009175483137369156, 0.09192018210887909, -0.09398193657398224, -0.011604685336351395, 0.03367897495627403, -0.07843756675720215, 0.02490440383553505, -0.08050090819597244, -0.030439632013440132, 0.02633529156446457, 0.02371112070977688, 0.00974411889910698, 0.018830187618732452, -0.0026175270322710276, 0.01457632053643465, -0.0025230413302779198, -0.06987475603818893, 0.051542460918426514, -0.1067892536520958, 0.03111143223941326, -0.03595874086022377, 0.009837598539888859, 0.03481253609061241, -0.01975218765437603, 0.013503970578312874, 0.041285380721092224, 0.0559147372841835, 0.0848708301782608, 0.036886066198349, 0.039961542934179306, -0.03825557604432106, -0.004262121394276619, -0.011996546760201454, 0.02425108663737774, -0.014293492771685123, -0.06446854025125504, -0.01931815966963768, -0.04403020069003105, -5.320662120645998e-34, -0.015213829465210438, 0.04941452667117119, -0.018666626885533333, 0.04654310643672943, 0.023334451019763947, -0.04963206499814987, 0.008612168952822685, -0.0730997622013092, -0.058174218982458115, -0.04751447215676308, 0.11488620191812515, 0.1467432677745819, 0.05467329919338226, 0.06503434479236603, 0.06790463626384735, -0.04378047585487366, -0.14042578637599945, -0.02019292674958706, -0.0004368118825368583, 0.04963090270757675, -0.005273091606795788, 0.02152981422841549, 0.0017246250063180923, -0.0063101123087108135, 0.0034517315216362476, 0.011125423945486546, 0.021187618374824524, 0.04470188915729523, -0.046530161052942276, 0.019396761432290077, 0.035337332636117935, 0.008213325403630733, -0.11324851214885712, -0.02885996736586094, 0.10245617479085922, 0.006441251840442419, 0.013080543838441372, -0.15933628380298615, 0.0894525945186615, -0.0020532789640128613, 0.022738242521882057, 0.040818892419338226, 0.03351619839668274, 0.0343945138156414, -0.01220290083438158, 0.04254242777824402, 0.010626979172229767, -0.0003354680666234344, -0.006827865727245808, -0.010689061135053635, -0.09070158749818802, 0.007941627874970436, -0.04794313386082649, -0.09726060926914215, 0.007999377325177193, -0.01329035870730877, 0.011407730169594288, 0.016021201387047768, -0.0381990447640419, -0.07393485307693481, -0.028612956404685974, -0.021885933354496956, 0.07293353974819183, -0.023084688931703568, 0.020228929817676544, 0.04396017640829086, 0.022186245769262314, -0.022421760484576225, 0.03924041986465454, -0.029631268233060837, -0.108700230717659, -0.009862757287919521, 0.010571012273430824, -0.09942499548196793, -0.02414075843989849, -0.032383695244789124, -0.031679872423410416, -0.04143281280994415, -0.008080081082880497, 0.07484019547700882, 0.02493484504520893, -0.0300358384847641, 0.026304341852664948, -0.027338586747646332, 0.022409893572330475, -0.02105742320418358, 0.06369975954294205, -0.037120312452316284, 0.08199259638786316, -0.06886209547519684, 0.05969898775219917, 0.016290534287691116, 0.08461979031562805, 0.018915029242634773, -0.030742555856704712, -8.491022731046517e-34, 0.009914344176650047, 0.0175112783908844, -0.008797900751233101, -0.01839536800980568, 0.029631467536091805, -0.045708607882261276, 0.012756668962538242, -0.06889627128839493, -0.008650646544992924, -0.0009484202018938959, 0.03592328354716301, 0.05389201641082764, -0.012635965831577778, 0.05118370056152344, -0.0005900951218791306, -0.02777082845568657, 0.00433976948261261, -0.06415349245071411, -0.025708913803100586, -0.0008952133939601481, 0.052019864320755005, 0.07675757259130478, -0.031023675575852394, 0.008157812990248203, 0.015247161500155926, -0.025165855884552002, -0.04639028012752533, -0.06631331890821457, -0.0215567946434021, -0.019231321290135384, 0.10456225275993347, 0.17942486703395844, -0.04195680096745491, -0.05865202099084854, -0.05649825558066368, 0.08718019723892212, 0.11519593745470047, 0.03599843010306358, -0.06038404256105423, -0.027529558166861534, 0.09678448736667633, -0.04252679646015167, 0.07527095824480057, -0.012785090133547783, 0.027006754651665688, 0.1034284234046936, 0.03624448925256729, 0.05137573555111885, -0.054162852466106415, 0.04744837433099747, -6.896199192851782e-05, 0.022734928876161575, -0.02472560480237007, -0.003960722126066685, 0.10982643067836761, -0.052021805197000504, 0.0648650974035263, -0.04954180121421814, -0.0018941463204100728, 0.04475758597254753, -0.07265809178352356, 0.03746077045798302, -0.04742104187607765, -0.023526310920715332, -0.027705321088433266, 0.002679159864783287, -0.023326450958848, -0.001301784417591989, -0.0695764496922493, -0.06875859946012497, -0.018045445904135704, 0.04638173058629036, -0.019164767116308212, 0.03735030069947243, -0.06235974282026291, 0.09304564446210861, -0.07221277803182602, -0.007692488841712475, -0.057801395654678345, 0.09822346270084381, -0.04813612625002861, -0.07961252331733704, -0.0007105133845470846, -0.059764448553323746, 0.0033202534541487694, 0.062289509922266006, -0.06827551126480103, -0.05135009437799454, -0.009108847938477993, -0.04053541645407677, -0.04164108261466026, -0.06987881660461426, -0.03774257004261017, -0.03194825351238251, 0.061872370541095734, -2.5853037044498706e-08, 0.05666504055261612, 0.008026891387999058, -0.03951277211308479, 0.03261677920818329, -0.04581752419471741, -0.012283515185117722, -0.044399358332157135, 0.08443655073642731, -0.004630188457667828, 0.14764933288097382, -0.06988154351711273, 0.046581316739320755, 0.015366943553090096, 0.11635507643222809, 0.04105044901371002, 0.02267642877995968, 0.08114054054021835, -0.02190474420785904, -0.031328700482845306, 0.019812086597085, 0.07258959859609604, 0.026458369567990303, 0.0023752404376864433, -0.022456316277384758, -0.03511171042919159, 0.024202914908528328, 0.019791578873991966, 0.023362603038549423, 0.034091267734766006, -0.04116729646921158, 0.017715446650981903, -0.02820989303290844, -0.039056140929460526, 0.02861609496176243, -0.014714171178638935, -0.05768691003322601, -0.004388745408505201, -0.010094068013131618, 0.06342001259326935, 0.026229502633213997, 0.0020397643093019724, 0.04329271987080574, -0.017551079392433167, 0.05006914213299751, -0.02518499828875065, 0.009189719334244728, -0.025276541709899902, 0.053345371037721634, -0.03138298541307449, 0.10013026744127274, 0.01760302484035492, 0.0003822405415121466, -0.03720519691705704, -0.02779850922524929, 0.07464740425348282, 0.01917753927409649, 0.0019714722875505686, 0.01405242644250393, -0.10940098017454147, -0.034946173429489136, 0.0624864287674427, -0.04407172650098801, -0.11310907453298569, -0.005286725237965584]",
         "9.517173",
         "1.6168401",
         "-1",
         null
        ],
        [
         "12",
         "R013",
         "Middle Eastern Studies",
         "My time at American University of Kuwait helped me understand the region beyond stereotypes. Living there and making local friends gave me nuanced perspectives that no amount of reading could provide. Plus my Arabic improved tremendously.",
         "[0.10067504644393921, 0.061796657741069794, 0.022121144458651543, 0.0005763761582784355, -0.06944278627634048, -0.013345103710889816, -0.06317812949419022, -0.10292083770036697, 0.04502049461007118, 0.0074782404117286205, 0.09335768222808838, 0.020700542256236076, 0.03065168857574463, -0.05893339216709137, 0.06118018180131912, -0.039161961525678635, 0.022425802424550056, -0.015379620715975761, 0.00021242558432277292, -0.21420232951641083, -0.1024840921163559, -0.0024348159786313772, 0.08600405603647232, 0.015828663483262062, 0.03903523087501526, 0.018513908609747887, 0.018933206796646118, 0.023809565231204033, 0.009224379435181618, -0.03383985906839371, -0.05984446406364441, 0.025898199528455734, -0.028649892657995224, -0.019941359758377075, 0.004509716294705868, 0.1679772436618805, 0.0371866375207901, -0.007449399679899216, 0.03796473890542984, 0.03453712910413742, 0.05721248313784599, 0.011828040704131126, 0.13601838052272797, -0.026194486767053604, 0.08174600452184677, -0.07807782292366028, 0.07751092314720154, 0.05210622027516365, 0.00843216571956873, -0.022732330486178398, 0.01923992857336998, 0.06879626959562302, 0.015315036289393902, -0.11939913034439087, 0.002344902139157057, 0.03486766666173935, -0.003509708447381854, 0.08563175052404404, -0.04462674260139465, 0.007955889217555523, -0.05951584875583649, -0.065634585916996, 0.019353531301021576, 0.023858852684497833, -0.05357488989830017, -0.013435591012239456, 0.009277265518903732, 0.006592663936316967, 0.0037451458629220724, -0.06590831279754639, -0.011245610192418098, 0.051228586584329605, 0.0547788068652153, 0.047437820583581924, 0.07817089557647705, -0.04365595802664757, -0.03984427452087402, -0.10094334185123444, -0.026163002476096153, 0.02396569214761257, 0.06852460652589798, 0.08027409017086029, -0.02228851430118084, -0.022130168974399567, 0.021927323192358017, -0.11436419934034348, 0.016922933980822563, -0.043390970677137375, -0.022104185074567795, -0.0011881326790899038, 0.06153422221541405, -0.06719104945659637, -0.021122796460986137, 0.01444266363978386, 0.025371473282575607, -0.038504358381032944, 0.034976933151483536, 0.028708545491099358, -0.028890227898955345, 0.04430856928229332, 0.04222487285733223, -0.003855596762150526, -0.01770070381462574, 0.01276722364127636, 0.009662332944571972, -0.014008671045303345, -0.00906598661094904, 0.03918476402759552, -0.0785868838429451, -0.059782128781080246, -0.04954525828361511, 0.011213786900043488, -0.07929649204015732, 0.03956930711865425, 0.07666202634572983, 0.0424584224820137, 0.10734465718269348, -0.07430647313594818, 0.07291765511035919, -0.014014387503266335, -0.020907390862703323, -0.055999185889959335, 0.030381066724658012, -0.009158206172287464, -0.006477475631982088, 0.013339432887732983, -0.0036586953792721033, 8.224032148131274e-34, -0.005230748560279608, 0.04358052462339401, 0.016576776280999184, 0.05482608824968338, -0.010331346653401852, -0.02044091559946537, -0.03370707109570503, 0.047876812517642975, -0.05207699537277222, -0.07810995727777481, 0.11949717998504639, 0.1058032289147377, 0.04629979655146599, 0.010616965591907501, -0.0055989851243793964, 0.019171198830008507, -0.08204218000173569, 0.04406919702887535, -0.046313539147377014, -0.000932596274651587, -0.0014680299209430814, 0.00850063655525446, 0.03309088945388794, -0.0549219474196434, 0.008813626132905483, -0.031343523412942886, 0.03909328207373619, -0.08572711795568466, 0.022281819954514503, 0.008824053220450878, -0.012594818137586117, -0.0026634298264980316, -0.07684218883514404, -0.07879965007305145, -0.007557536009699106, -0.03086736984550953, -0.008409211412072182, -0.0791763886809349, 0.055099040269851685, -0.016533810645341873, 0.0033998547587543726, -0.0013019500765949488, 0.08506041020154953, -0.06304676085710526, 0.07880038022994995, 0.12506327033042908, 0.03663742542266846, 0.0007847185479477048, -0.09927774220705032, 0.016883058473467827, -0.07229182124137878, -0.039656102657318115, -0.02198958955705166, -0.09774044901132584, 0.035414598882198334, 0.02965494617819786, 0.03430550917983055, 0.0352667011320591, -0.052356552332639694, -0.06781669706106186, 0.0030371826142072678, 0.04143611714243889, 0.016088733449578285, -0.04528477042913437, 0.0115151172503829, 0.016310853883624077, -0.039875250309705734, -0.03868642821907997, 0.024269888177514076, -0.08530616760253906, -0.060176607221364975, -0.019035793840885162, 0.029157347977161407, 0.03216750919818878, -0.05454307049512863, 0.09120285511016846, -0.03515397384762764, -0.08247611671686172, 0.018724501132965088, 0.02175990492105484, 0.06657256931066513, 0.0009391143685206771, 0.02198161743581295, 0.04286579787731171, -0.007800430990755558, 0.05555906146764755, 0.038096435368061066, -0.11916010081768036, 0.044208329170942307, -0.046249207109212875, 0.027006950229406357, -0.03207338601350784, 0.006285846699029207, -0.06283430010080338, -0.036450549960136414, -1.3857279338825035e-33, 0.06631669402122498, 0.01652097888290882, 0.011130422353744507, -0.028283733874559402, 0.043797824531793594, -0.05649285763502121, 0.04337731748819351, 0.05146624520421028, 0.015829401090741158, 0.002631625859066844, 0.05754878371953964, -0.016045568510890007, 0.04521626606583595, 0.029649632051587105, -0.04969935864210129, -0.03226499259471893, -0.01919233240187168, -0.02014329470694065, 0.006766738835722208, 0.029300030320882797, 0.0032440563663840294, 0.04016837850213051, 0.050676725804805756, 0.005707570817321539, -0.010215147398412228, -0.004370048642158508, -0.07911570370197296, 0.0017399408388882875, -0.04376436769962311, -0.004510726314038038, 0.057817984372377396, 0.07866159826517105, -0.021751761436462402, 0.009990856051445007, -0.043778181076049805, 0.022529777139425278, -0.03801294043660164, -0.028791341930627823, -0.05265097692608833, 0.0287015363574028, 0.005884484853595495, -0.01319767627865076, 0.012470243498682976, -0.07132039964199066, 0.009924634359776974, 0.04620414599776268, 0.010769244283437729, -0.03515566512942314, -0.07522973418235779, -0.1331361085176468, -0.07209521532058716, 0.022311370819807053, -0.01749793440103531, -0.03842449560761452, 0.05628443509340286, 0.022007042542099953, 0.09604021906852722, -0.01287164818495512, -0.011184445582330227, -0.034836236387491226, -0.08526044338941574, 0.08361665904521942, 0.004831841681152582, -0.02015656977891922, -0.04058600589632988, -0.0780104324221611, -0.02261071652173996, 0.04982525110244751, -0.0077576590701937675, 0.007111080922186375, -0.005166222341358662, -0.003681267611682415, -0.04494193196296692, -0.022532712668180466, -0.008798038586974144, 0.019180461764335632, -0.021692784503102303, 0.00637078145518899, -0.04948589205741882, 0.02604675106704235, -0.0180891752243042, -0.032729536294937134, -0.08293599635362625, -0.0308352243155241, 0.07830030471086502, 0.12925837934017181, -0.03530377522110939, 0.00265165651217103, 0.09933097660541534, -0.027467116713523865, -0.036794595420360565, 0.008950833231210709, -0.0630289763212204, -0.02400202676653862, -0.035398613661527634, -2.7386770184989473e-08, -0.06830856204032898, 0.019050046801567078, 0.03617788851261139, 0.06194264814257622, -0.11516330391168594, 0.004228346981108189, -0.037432968616485596, 0.08190371841192245, -0.07628179341554642, 0.0257268026471138, -0.0855395719408989, 0.002335052704438567, -0.04739219695329666, 0.0376962274312973, 0.0010052205761894584, 0.005364157259464264, 0.10490839183330536, 0.008655449375510216, 0.02162916772067547, -0.03773351013660431, 0.06409598141908646, 0.007653121370822191, -0.03103690780699253, -0.0001618584938114509, -0.03998684883117676, 0.05810517817735672, 0.03145524114370346, -0.013795534148812294, 0.048881445080041885, -0.01509146299213171, -0.028213055804371834, -0.022938691079616547, -0.08031924068927765, -0.022684620693325996, -0.012542402371764183, -0.04551607742905617, -0.07205407321453094, -0.013337007723748684, 0.04545680806040764, 0.04163879528641701, 0.05316169932484627, -0.0033008463215082884, 0.04550515487790108, 0.001144330482929945, 0.038327526301145554, 0.05712699890136719, 0.04513203725218773, 0.047188762575387955, -0.02023659273982048, 0.10601811856031418, 0.07002454251050949, 0.037656594067811966, -0.016410265117883682, 0.040540896356105804, 0.07703656703233719, -0.022714335471391678, 0.02617065981030464, -0.07190777361392975, -0.022306371480226517, 0.08846604824066162, 0.03652578219771385, 0.013967059552669525, -0.143570676445961, -0.02406107448041439]",
         "10.345712",
         "4.357175",
         "2",
         "Language and Cultural Immersion"
        ],
        [
         "13",
         "R014",
         "Psychology",
         "The cross-cultural research methods I learned at University of Auckland have been super helpful for my honors thesis. I'm now incorporating international perspectives that I wouldn't have considered before.",
         "[0.024065818637609482, 0.03316517174243927, -0.03028940036892891, 0.007128202822059393, -0.001548560569062829, 0.056553736329078674, -0.09607032686471939, -0.039739638566970825, -0.04939448833465576, 0.05366290733218193, 0.025550104677677155, -0.017696715891361237, -0.06761200726032257, 0.03590313345193863, 0.05759059265255928, 0.01980026252567768, -0.0030405784491449594, -0.014749739319086075, -0.020396336913108826, -0.022399866953492165, -0.025052538141608238, -0.07793843001127243, 0.08537886291742325, 0.04386391118168831, -0.039591219276189804, -0.02162969298660755, 0.08063526451587677, 0.023263612762093544, 0.052462588995695114, 0.01593952253460884, -0.05028508976101875, 0.062086962163448334, -0.09484550356864929, 0.01884736493229866, -0.028976354748010635, 0.11910353600978851, 0.05132543668150902, 0.05006667599081993, -0.004712842870503664, 0.006760237738490105, -0.033244915306568146, 0.07753848284482956, 0.0722576230764389, -0.05226726830005646, 0.07908792048692703, -0.004644796717911959, -0.03660900145769119, 0.018926948308944702, -0.09699195623397827, 0.04341541975736618, -0.022501973435282707, 0.013845407404005527, 0.021562455222010612, -0.036765120923519135, -0.02257358841598034, -0.08647318184375763, 0.031819045543670654, 0.0160690750926733, -0.002857109298929572, 0.033620644360780716, 0.0008404425461776555, -0.06151954457163811, -0.06443463265895844, 0.042640168219804764, 0.02416590042412281, -0.029197916388511658, -0.08191203325986862, 0.09951326996088028, -0.09384060651063919, -0.029442839324474335, -0.020935308188199997, -0.007309659384191036, 0.023515740409493446, 0.10094883292913437, 0.011695781722664833, -0.008774752728641033, 0.040983252227306366, -0.07429210096597672, -0.11569293588399887, 0.010028475895524025, 0.09994856268167496, 0.08454902470111847, 0.014988653361797333, -0.017987851053476334, 0.0660000741481781, -0.036511167883872986, -0.040166232734918594, -0.005803300067782402, -0.061670608818531036, -0.0018643650691956282, -0.006554804276674986, -0.0678076520562172, 0.04480108618736267, 0.004782142583280802, 0.05182713270187378, -0.037083979696035385, -0.01795818842947483, 0.007649518549442291, 0.01080247201025486, -0.00297353183850646, 0.05302657559514046, 0.019164295867085457, -0.0006928789080120623, 0.04583822935819626, -0.018941383808851242, -0.02008536458015442, -0.03639458119869232, -0.017450900748372078, -0.009788363240659237, 0.0017412991728633642, -0.0506308451294899, 0.061100512742996216, -0.09601975232362747, 0.034481603652238846, 0.03520524501800537, -0.031843606382608414, 0.07272849231958389, -0.004252033773809671, 0.07709041982889175, -0.07710921764373779, -0.011837915517389774, -0.013654959388077259, 0.0590314045548439, -0.041358910501003265, -0.007760892156511545, -0.009792421013116837, 0.012922925874590874, -1.3568060892419711e-33, 0.00762096606194973, -0.0029084503185003996, -0.013326862826943398, 0.09491486102342606, 0.011070345528423786, -0.0858052670955658, 0.010119248181581497, 0.01382033247500658, -0.007970712147653103, 0.005374914966523647, 0.08743668347597122, 0.12903748452663422, 0.06080130487680435, 0.004395022056996822, -0.057238951325416565, 0.0009847895707935095, -0.05847829580307007, 0.013902503065764904, -0.012384883128106594, 0.04335670918226242, 0.05672374740242958, -0.020133627578616142, 0.11005893349647522, -0.0010283110896125436, -0.015651002526283264, -0.028902146965265274, 0.0068927365355193615, -0.08664152026176453, -0.01447204127907753, 0.017382120713591576, 0.014639369212090969, 0.05575800687074661, -0.10032972693443298, -0.06044752523303032, 0.021956898272037506, 0.07733829319477081, 0.008541382849216461, -0.05588024854660034, 0.02613120898604393, 0.02895222418010235, 0.008915862068533897, -0.0861024260520935, -0.008003856986761093, 0.003859219839796424, 0.06856448948383331, 0.020207049325108528, 0.012538687326014042, -0.04727298766374588, 0.0032635556999593973, 0.039817217737436295, -0.04762404412031174, -0.03773418068885803, -0.11319335550069809, -0.12960514426231384, 0.023286331444978714, 0.037762295454740524, 0.00577904749661684, 0.052688922733068466, 0.04652811214327812, -0.058003589510917664, -0.0017777412431314588, -0.03871327266097069, -0.07202914357185364, -0.019075822085142136, -0.01991100423038006, 0.029536815360188484, 0.027259398251771927, -0.11345496773719788, 0.05158417299389839, -0.0805375725030899, -0.04335583373904228, -0.04228200018405914, 0.06408911943435669, 0.04615170508623123, -0.052492257207632065, 0.01792406477034092, -0.04826018214225769, 0.0673312395811081, 0.12777219712734222, 0.01222230400890112, -0.04964476823806763, 0.03797849640250206, 0.003577652620151639, -0.0008672452531754971, -0.0367264449596405, 0.01973722316324711, 0.031234128400683403, -0.05259254202246666, 0.06913529336452484, 0.023236054927110672, 0.044287100434303284, -0.03237909451127052, 0.01549374870955944, -0.08165434747934341, -0.025308599695563316, -5.480798430361572e-34, 0.0459977388381958, -0.09188172966241837, 0.02600971609354019, 0.03029567375779152, 0.03573712706565857, -0.051365260034799576, -0.035753898322582245, 0.010528349317610264, -0.012514862231910229, 0.03949577361345291, 0.008656819351017475, 0.006350439041852951, 0.07912304997444153, 0.0771799087524414, -0.0027580508030951023, -0.036957111209630966, 0.04308758303523064, -0.013263553380966187, 0.0287459883838892, -0.015095938928425312, 0.033562202006578445, 0.0448257215321064, -0.0004571480385493487, -0.03162835165858269, -0.04890736937522888, 0.046559810638427734, 0.008540548384189606, -0.11285115778446198, -0.006336233112961054, -0.08058173954486847, -0.025493035092949867, 0.03234824910759926, -0.004191809333860874, -0.008414151147007942, -0.08590603619813919, 0.15082041919231415, -0.008887170813977718, 0.01813589781522751, -0.05226092413067818, 0.024521393701434135, -0.06402748078107834, 0.04140613600611687, -0.04818120226264, -0.0574348010122776, -0.03829829767346382, 0.04073663055896759, -0.14653804898262024, 0.03049537166953087, -0.03401394560933113, -0.0479295551776886, -0.0055592358112335205, 0.018575266003608704, -0.045073557645082474, -0.10328327864408493, 0.06685573607683182, -0.023994551971554756, 0.046667780727148056, -0.09753388166427612, -0.04039651155471802, 0.009327901527285576, 0.034642353653907776, 0.02054976113140583, -0.05507120490074158, -0.016745368018746376, -0.045249585062265396, -0.010287296958267689, 0.03491896018385887, -0.021311823278665543, 0.017499776557087898, -0.00979571882635355, -0.04158056154847145, 0.05260324105620384, -0.027866117656230927, -0.04776545614004135, -0.010881691239774227, 0.031094664707779884, 0.0072288210503757, -0.06496276706457138, 0.00918195117264986, -0.03857209533452988, -0.042808324098587036, -0.07040384411811829, 0.0008637181017547846, 0.028121965005993843, 0.016261590644717216, 0.10086790472269058, -0.048559240996837616, 0.01886058785021305, 0.028195703402161598, -0.11631301045417786, -0.08174963295459747, -0.050353504717350006, -0.0864744707942009, -0.02788608893752098, 0.04522045701742172, -3.1399924438346716e-08, 0.03558259457349777, 0.002020345302298665, 0.030468668788671494, 0.06452393531799316, -0.10979042947292328, -0.005096476525068283, -0.0643654316663742, 0.036288630217313766, -0.03174593299627304, 0.05530695244669914, -0.09805450588464737, 0.047611597925424576, 0.0601288266479969, 0.08315950632095337, 0.026080267503857613, -0.07617742568254471, 0.08886803686618805, 0.006637429818511009, 0.01649290695786476, 0.05259118974208832, 0.045076604932546616, 0.10800879448652267, 0.028662405908107758, -0.056480057537555695, 0.016479386016726494, 0.058715738356113434, -0.07872024923563004, 0.0036062526050955057, -0.01333722472190857, -0.040847670286893845, -0.033779773861169815, 0.0660952553153038, -0.09460272639989853, -0.07703376561403275, 0.037722148001194, -0.025784257799386978, 0.09105187654495239, -0.011273551732301712, -0.00011676159192575142, 0.009568745270371437, 0.04727789759635925, -0.020439181476831436, -0.00424978556111455, 0.04713572934269905, -0.002450908301398158, 0.027659140527248383, -0.007812393829226494, 0.07675762474536896, -0.08110121637582779, 0.04890163987874985, 0.007159875240176916, 0.002172912936657667, 0.016471240669488907, 0.038509681820869446, 0.04696106165647507, 0.041560716927051544, -0.004083600826561451, -0.03028373047709465, -0.008154278621077538, 0.10255073755979538, 0.12363441288471222, 0.014754674397408962, -0.05304842069745064, 0.0352197140455246]",
         "11.237367",
         "0.8078966",
         "3",
         "Research Methodology and Cross-Cultural Perspectives"
        ],
        [
         "14",
         "R015",
         "Computer Science",
         "The collaborative coding culture at AIT Budapest was so different from Dartmouth's more competitive environment. I learned how to work better in teams and communicate technical concepts across language barriers.",
         "[0.023471960797905922, -0.07264380902051926, 0.0012029235949739814, -0.035142652690410614, 0.020234858617186546, -0.0023923905100673437, 0.011558347381651402, 0.028271108865737915, -0.025956062600016594, -0.040944553911685944, -0.011967114172875881, 0.002842059126123786, -0.051549289375543594, 0.010838841088116169, 0.06243189796805382, -0.044513408094644547, -0.039256349205970764, -0.08095060288906097, 0.004062080290168524, -0.19574406743049622, -0.04756481572985649, -0.03994910046458244, 0.05318555235862732, 0.014967195689678192, 0.054773010313510895, 0.020910067483782768, 0.020028075203299522, 0.011766106821596622, 0.06412111967802048, -0.033644694834947586, -0.09287972748279572, 0.07769189029932022, 0.0007955031469464302, 0.07094237208366394, 0.00015294054173864424, 0.09127925336360931, 0.022146359086036682, -0.050762128084897995, 0.013853562995791435, -0.010254105553030968, -0.13024909794330597, 0.06332653015851974, 0.05628342926502228, -0.07256720960140228, -0.023891175165772438, -0.05624207481741905, -0.03367941081523895, 0.0019670864567160606, -0.08611169457435608, 0.03029356338083744, -0.034696854650974274, -0.047316014766693115, 0.03911980614066124, -0.11628221720457077, 0.016705073416233063, 0.0040008071810007095, 0.06689862161874771, 0.07833206653594971, -0.05558941140770912, -0.03165914863348007, -0.010546024888753891, -0.039628662168979645, -0.031682100147008896, 0.07727387547492981, -0.01372497994452715, -0.02411002852022648, -0.03418848663568497, 0.10731596499681473, -0.043691884726285934, -0.08904813975095749, -0.04432304948568344, -0.07597874104976654, 0.003935105167329311, 0.08370833843946457, 0.10930058360099792, -0.002503560623154044, 0.023592401295900345, -0.04498358070850372, 0.02571854367852211, 0.020814809948205948, 0.0334828682243824, 0.07285846769809723, 0.013255743309855461, 0.1006404384970665, -0.03397192433476448, -0.060033027082681656, 0.005525950342416763, 0.06464049220085144, 0.008863265626132488, 0.04149501398205757, -0.006473428104072809, -0.04188273847103119, -0.0047493563033640385, 0.05333155393600464, 0.00975786242634058, -0.04453179985284805, 0.017522510141134262, 0.05499909073114395, 0.01084222923964262, 0.04207232967019081, 0.009137013927102089, 0.09776470065116882, -0.019697988405823708, -0.004259052686393261, -0.058094024658203125, 0.04429396241903305, 0.12346568703651428, 0.01448040921241045, 0.018000895157456398, 0.01289021410048008, -0.027620231732726097, 0.02104370668530464, -0.04095811769366264, -0.06455366313457489, 0.0092599643394351, -0.0064384825527668, 0.03689524903893471, 0.03041410632431507, 0.07427986711263657, 0.054193269461393356, 0.021359441801905632, 0.03222765028476715, -0.045228637754917145, 0.024936679750680923, 0.004014203324913979, 0.06127769872546196, -0.03260547295212746, -1.026727390325443e-34, 0.01589902676641941, 0.013073285110294819, -0.022840430960059166, 0.045482371002435684, 0.018203556537628174, -0.03656388819217682, 0.01648029498755932, 0.036874085664749146, -0.06105944886803627, -0.10878597944974899, 0.014617351815104485, 0.04985551908612251, 0.03609832748770714, -0.08190630376338959, 0.021736066788434982, -0.005503441672772169, -0.0697970986366272, -0.026978200301527977, -0.06279822438955307, 0.07498569786548615, 0.003424153197556734, 0.007389100734144449, 0.019711559638381004, -0.034994203597307205, -0.007041797041893005, -0.03474777564406395, 0.03995243087410927, 0.007018390577286482, 0.12555564939975739, 0.025832707062363625, -0.028261877596378326, -0.0020535557996481657, -0.031280484050512314, 0.014248690567910671, 0.029740817844867706, 0.07584628462791443, 0.022012922912836075, -0.07742992043495178, 0.05428693816065788, 0.0331345833837986, 0.029345037415623665, 0.05124253034591675, -0.007439681328833103, -0.011582211591303349, 0.09753958135843277, 0.05320308357477188, 0.031119070947170258, -0.06539905816316605, -0.028845511376857758, -0.0300593301653862, -0.09783755987882614, 0.03586260974407196, 0.0025498082395642996, 0.012536262162029743, 0.09404457360506058, 0.053908348083496094, 0.04013553634285927, -0.019472651183605194, 0.024760769680142403, 0.01712251640856266, -0.01176310982555151, 0.06194840744137764, 0.021335650235414505, -0.00943742785602808, 0.005385119002312422, 0.07223427295684814, -0.03323095291852951, -0.03837048262357712, 0.08972469717264175, -0.08011334389448166, -0.05572294816374779, -0.027621565386652946, 0.007297941017895937, 0.023338403552770615, -0.0625617578625679, 0.018020182847976685, -0.06649093329906464, -0.04880591481924057, 0.01351776160299778, -0.03471927344799042, -0.042298924177885056, -0.04166528210043907, 0.0036402898840606213, -0.0013369693187996745, 0.018997428938746452, -0.003654422704130411, 0.052107397466897964, -0.03502684831619263, 0.011811803095042706, 0.11906064301729202, 0.023103393614292145, -0.09063129127025604, 0.04193505272269249, 0.014480026438832283, 0.00232397997751832, -3.5481475051880134e-34, -0.026678631082177162, 0.04705711826682091, -0.026057718321681023, 0.009029609151184559, -0.009416363202035427, -0.033541932702064514, 0.029785580933094025, -0.004141013137996197, 0.02899608388543129, 0.09792391955852509, -0.016065049916505814, -0.041660234332084656, -0.02549304999411106, 0.05696301907300949, -0.012759344652295113, -0.06237350404262543, 0.06799382716417313, 0.020862286910414696, 0.04085247963666916, 0.04082484170794487, 0.040161147713661194, 0.06680035591125488, -0.0621832013130188, -0.012206681072711945, -0.03724411875009537, 0.04337162896990776, -0.08614099770784378, -0.04289332032203674, -0.008465894497931004, -0.041035786271095276, 0.061710964888334274, 0.015488788485527039, -0.004507938865572214, -0.028805648908019066, 0.01673339307308197, 0.04225001111626625, 0.047887127846479416, -0.05668345466256142, -0.09452064335346222, 0.0007204721332527697, 0.002553351689130068, -0.0479043573141098, -0.0814414918422699, 0.04395661875605583, 0.06554049998521805, 0.06717251241207123, -0.09256704151630402, -0.0875270664691925, -0.06706196069717407, -0.06511526554822922, -0.032921336591243744, -0.03622906655073166, 0.014187905006110668, -0.10927707701921463, -0.0024717722553759813, -0.039611272513866425, 0.10682549327611923, -0.04319058731198311, -0.040643587708473206, 0.05230741947889328, 0.029061850160360336, -0.054051440209150314, 0.01534332800656557, -0.009596825577318668, -0.019231917336583138, -0.12070794403553009, -0.06161435320973396, 0.13423994183540344, -0.04516982287168503, -0.021727807819843292, -0.06919205188751221, 0.05917680636048317, -0.03203969821333885, -0.017836684361100197, -0.08945556730031967, 0.01752357929944992, -0.0063703968189656734, -0.07455703616142273, -0.0675760805606842, -0.007510459516197443, -0.019298367202281952, -0.010073300451040268, -0.03694653511047363, 0.04257481172680855, 0.009380114264786243, 0.15375930070877075, 0.04134843125939369, 0.02594842202961445, -0.0770893469452858, -0.035860106348991394, 0.008232834748923779, -0.023934543132781982, 0.00785562302917242, -0.03520382568240166, -0.030998270958662033, -2.6566967292751542e-08, -0.02386395074427128, 0.018328629434108734, -0.013347876258194447, 0.032003190368413925, -0.06720677018165588, -0.010897227562963963, -0.03906608745455742, 0.057117488235235214, 0.02872859686613083, 0.09532465785741806, -0.08105701953172684, 0.0067104739136993885, -0.012865649536252022, 0.07436761260032654, 0.08848240226507187, 0.06930612772703171, -0.066822350025177, -0.00698504876345396, 0.0012836949899792671, 0.001787833054549992, 0.06468891352415085, 0.037785425782203674, -0.08204677700996399, -0.007324477192014456, -0.09027813374996185, -0.010487734340131283, 0.02927755005657673, 0.02658187597990036, -0.020222455263137817, -0.06408507376909256, -0.10491408407688141, 0.0765417292714119, -0.04490179196000099, -0.0030034941155463457, 0.017741654068231583, -0.045350268483161926, 0.032380472868680954, -0.024113724008202553, 0.041978854686021805, 0.010347357951104641, 0.005987734068185091, -0.037463679909706116, 0.04261746630072594, 0.022169310599565506, 0.05783065780997276, 0.061373937875032425, 0.04064164683222771, -0.027625318616628647, -0.01806432381272316, -0.04571312293410301, 0.02242235839366913, 0.025142472237348557, -0.047699712216854095, 0.043537870049476624, 0.12264656275510788, 0.005602696910500526, -0.10315507650375366, -0.020822592079639435, -0.022671004757285118, 0.06748147308826447, -0.0005783753586001694, 0.07812076061964035, -0.028374530375003815, 0.07017984986305237]",
         "6.7941856",
         "4.3374844",
         "1",
         "Collaborative and Innovative Problem-Solving Approaches"
        ],
        [
         "15",
         "R016",
         "Asian Studies",
         "Kanda University's language immersion was intense but effective. My Japanese improved more in one term than in two years of campus study. Plus living with a host family taught me cultural nuances you can't learn in a classroom.",
         "[0.08275948464870453, -0.06275880336761475, 0.024216381832957268, 0.03207017481327057, -0.0452660471200943, 0.019305575639009476, -0.038194864988327026, 0.0073003023862838745, -0.009378129616379738, 0.03752616047859192, 0.08450190722942352, 0.06429503113031387, -0.03503108397126198, 0.012687171809375286, 0.06704916805028915, -0.021365251392126083, 0.06035543233156204, -0.038811974227428436, 0.029052261263132095, -0.10259409993886948, -0.03626033291220665, 0.005370810627937317, 0.05758263170719147, -0.021891141310334206, 0.0478501170873642, 0.00336894067004323, 0.04934011027216911, 0.0013398685259744525, 0.05403232201933861, -0.039105016738176346, -0.08853665739297867, 0.025083906948566437, -0.011825310066342354, 0.03305528685450554, 0.0207772608846426, 0.02277451381087303, 0.0466056764125824, -0.02514098584651947, -0.01892995648086071, -0.00944692362099886, -0.08470623940229416, 0.07859206944704056, 0.07994990795850754, -0.07367345690727234, 0.07927078753709793, -0.07809162884950638, 0.011542575433850288, -0.050118837505578995, -0.03513500466942787, 0.01691296324133873, -0.02568167634308338, -0.012090766802430153, 0.0346263162791729, -0.07260251045227051, -0.06039745733141899, -0.026443082839250565, -0.03419789299368858, 0.044594209641218185, -0.0005763107328675687, -0.01950218714773655, -0.019968662410974503, -0.047083716839551926, 0.07281213998794556, 0.007544702384620905, -0.033787310123443604, -0.09534851461648941, -0.03219528868794441, 0.014227946288883686, 0.039272766560316086, 0.022046372294425964, 0.04306194186210632, 0.03139442205429077, 0.03406161814928055, 0.05581995099782944, 0.024992579594254494, -0.03648329898715019, -0.002127980347722769, -0.0931369960308075, -0.02082253247499466, 0.042656563222408295, 0.0857711061835289, 0.027292579412460327, 0.04011670500040054, -0.05263184383511543, -0.0019100946374237537, -0.0689036175608635, -0.003510052803903818, -0.06925011426210403, -0.044114913791418076, 0.02325294353067875, 0.11883068084716797, 0.0013609565794467926, -0.013397648930549622, 0.019060980528593063, -0.01649416610598564, -0.06572414934635162, -0.025472495704889297, 0.045754943042993546, 0.013714375905692577, 0.018450232222676277, -0.013310499489307404, 0.11115320771932602, -0.08689601719379425, -0.09862688183784485, -0.026271475479006767, -0.01390221156179905, 0.04535574093461037, -0.06725431233644485, -0.004818780347704887, 0.0069255465641617775, 0.03298788517713547, 0.016916025429964066, -0.05760195478796959, 0.029878629371523857, 0.03888209909200668, 0.0427020825445652, 0.12587440013885498, 0.05085616931319237, 0.06655901670455933, 0.05878458544611931, 0.052904918789863586, -0.058302465826272964, 0.061410631984472275, -0.006294567603617907, -0.08037344366312027, -0.011869841255247593, 0.060797449201345444, 1.3577076383077541e-33, 0.03024873323738575, 0.05077958106994629, -0.036218658089637756, 0.03786994144320488, 0.012252971529960632, -0.13828536868095398, 0.0720578134059906, -0.018612245097756386, -0.07869008928537369, -0.03926044702529907, 0.04134880751371384, 0.09997882694005966, -0.004818217363208532, 0.0006057556020095944, 0.026939932256937027, -0.040867388248443604, -0.09986475110054016, 0.060201771557331085, 0.02247798815369606, 0.09637250006198883, 0.07440147548913956, 0.043332841247320175, 0.05241682007908821, -0.1144176721572876, -0.010815758258104324, -0.0532299242913723, 0.03200836107134819, -0.023963840678334236, 0.04311913251876831, 0.023593110963702202, -0.010632853955030441, -0.02096969075500965, -0.08758680522441864, 0.019530288875102997, 0.03544532135128975, -0.04752107709646225, 0.0765974223613739, -0.03492874279618263, 0.025849921628832817, 0.011747919954359531, 0.002695017959922552, 0.0374680832028389, 0.025373425334692, -0.0264915619045496, 0.03525589779019356, 0.04186857119202614, 0.042529068887233734, -0.02554708905518055, -0.053395114839076996, 0.0008268036181107163, -0.1426825374364853, -0.08042927086353302, -0.041879985481500626, -0.02234286442399025, 0.06679728627204895, 0.025737443938851357, 0.0949498787522316, 0.006259072106331587, -0.014140615239739418, 0.03970487043261528, -0.11123868077993393, -0.0067031895741820335, -0.046708185225725174, -0.028036322444677353, 0.038713838905096054, -0.017208075150847435, -0.02945995144546032, -0.0969911515712738, 0.02096177078783512, -0.16541674733161926, -0.06242430582642555, -0.07868532091379166, -0.003839134704321623, -0.08098482340574265, -0.018151801079511642, -0.06650874018669128, -0.023379666730761528, -0.03255174681544304, -0.00069189362693578, 0.06320369988679886, 0.021684322506189346, -0.016924742609262466, 0.039395131170749664, 0.006516776978969574, 0.040158551186323166, 0.05156274884939194, -0.0139725711196661, -0.056435372680425644, 0.06379278749227524, 0.015052035450935364, 0.12557008862495422, -0.007982413284480572, 0.08439915627241135, -0.02348499931395054, 0.06247509643435478, -9.01235355728124e-34, 0.06030387803912163, 0.05861764773726463, -0.04385240375995636, 0.04315170645713806, 0.023361319676041603, 0.015187010169029236, 0.04517785459756851, 0.02927161194384098, -0.012245566584169865, -0.09006956219673157, 0.012142223306000233, -0.034735340625047684, 0.012206962332129478, 0.08944782614707947, -0.036694277077913284, -0.04520595818758011, 0.061403170228004456, 0.005844702944159508, -0.027088601142168045, 0.015132619068026543, 0.010071632452309132, 0.08859014511108398, -0.018180862069129944, -0.009839358739554882, 0.007876253686845303, 0.0004130820743739605, -0.08295303583145142, 0.006798348855227232, -0.038177475333213806, 0.05200983211398125, 0.0772523581981659, 0.037268396466970444, 0.040044207125902176, 0.006085168570280075, -0.010713179595768452, 0.03272948041558266, 0.007219426799565554, 0.012908385135233402, -0.0677148848772049, 0.039589814841747284, 0.018552565947175026, 0.0574650801718235, -0.05853491276502609, -0.0012430566130205989, 0.01785953901708126, 0.02994312345981598, -0.04081235080957413, -0.018566934391856194, 0.018923604860901833, -0.012890484184026718, -0.08556441217660904, -0.06155896931886673, -0.03943277522921562, -0.11959946900606155, 0.10301119089126587, -0.06362920254468918, 0.1094244122505188, -0.018765907734632492, -0.07068681716918945, 0.007717616390436888, -0.0017316786106675863, -0.00900908000767231, 0.05191308632493019, -0.0031147273257374763, -0.006744219921529293, 0.054210152477025986, 0.03451747074723244, 0.06648985296487808, -0.01479555107653141, -0.10794974118471146, -0.04510379210114479, 0.017951996996998787, 0.0036525744944810867, 0.03147554770112038, -0.04536842927336693, -0.019382186233997345, -0.007473388221114874, -0.011324383318424225, 0.004796495195478201, 0.02861175686120987, -0.007040760945528746, -0.015009342692792416, -0.06745495647192001, -0.0668240562081337, 0.05883705988526344, 0.13430562615394592, -0.027549242600798607, -0.02255876176059246, 0.017528504133224487, -0.07222951203584671, 0.03789751976728439, 0.010396180674433708, -0.008197164162993431, -0.0400664322078228, 0.02312907762825489, -2.681357180733812e-08, -0.042019933462142944, -0.06468707323074341, 0.01146831177175045, -0.020550530403852463, -0.05712483450770378, -0.05399810150265694, -0.0014795551542192698, 0.026400623843073845, -0.052699171006679535, 0.0008674494456499815, -0.046179551631212234, 0.08738550543785095, -0.010642609558999538, 0.030704043805599213, 0.03347061946988106, 0.0383109375834465, 0.09153569489717484, 0.0740567073225975, 0.03334668651223183, -0.034692537039518356, 0.016177868470549583, 0.07124479115009308, 0.023868367075920105, -0.04253154620528221, -0.06462030857801437, 0.06470652669668198, -0.029879914596676826, 0.038655608892440796, 0.043388135731220245, -0.09727726876735687, -0.07171287387609482, -0.01702512986958027, -0.045801207423210144, 0.018334602937102318, -0.020341766998171806, -0.03723520413041115, -0.011675048619508743, -0.03570904955267906, 0.0074219005182385445, 0.03525213524699211, 0.0038802451454102993, -0.0071056075394153595, 0.00526518514379859, -0.017696503549814224, 0.012775208801031113, 0.10069313645362854, 0.0265546552836895, -0.0033105413895100355, -0.026076434180140495, 0.002880111802369356, -0.01969178579747677, 0.0043924530036747456, -0.09343279153108597, 0.027961941435933113, 0.03436911106109619, 0.10290385037660599, -0.09262708574533463, -0.03187063708901405, -0.10921161621809006, 0.05569939315319061, 0.004437894094735384, 0.05656210333108902, -0.07580339163541794, 0.04206214100122452]",
         "10.363981",
         "4.986368",
         "2",
         "Language and Cultural Immersion"
        ],
        [
         "16",
         "R017",
         "Sociology",
         "Spelman College exchange opened my eyes to different perspectives on race and gender in America. As a white student, this experience was humbling and educational in ways I'm still processing. Most valuable term of my college experience.",
         "[-0.005517247132956982, 0.0553489588201046, -0.021173277869820595, 0.0247512124478817, 0.014541498385369778, 0.014113564044237137, -0.006628032308071852, -0.07949911803007126, 0.0027139694429934025, -0.06785180419683456, 0.03356325626373291, 0.06369059532880783, -0.05264059454202652, -0.02742745354771614, -0.022983551025390625, 0.04925861209630966, 0.04230451211333275, 0.011781241744756699, -0.06559918075799942, -0.02057863585650921, -0.06525380164384842, -0.09486822783946991, -0.01853029988706112, 0.07877947390079498, -0.04179106280207634, -0.02366018109023571, -0.01289234310388565, 0.0227962639182806, -0.04860294982790947, 0.054159004241228104, -0.0012783267302438617, 0.015055383555591106, 0.04417734593153, 0.052040595561265945, 0.007468207739293575, 0.042027607560157776, 0.06370514631271362, 0.03331395983695984, 0.040788497775793076, 0.0057421037927269936, -0.014602523297071457, -0.014948679134249687, 0.05772007256746292, 0.059802763164043427, 0.027668150141835213, -0.022409740835428238, -0.009467200376093388, -0.022781813517212868, -0.07101789861917496, -0.008114267140626907, -0.012673596851527691, -0.046678539365530014, 0.007319788448512554, -0.08228950202465057, -0.05953026935458183, 0.04557295888662338, -0.00491452356800437, -0.009665447287261486, -0.052806418389081955, -0.014027288183569908, -0.07391070574522018, -0.09103244543075562, -0.014736945740878582, 0.07319670170545578, -0.04720168560743332, 0.015560081228613853, -0.028305357322096825, -0.05633851885795593, 0.05019254609942436, -0.012744213454425335, 0.0649799033999443, 0.04137887805700302, 0.026700742542743683, -0.00015187887765932828, 0.08156679570674896, 0.018518615514039993, 0.03978675603866577, -0.005627720151096582, 0.0030162418261170387, 0.03857314959168434, 0.09756927937269211, 0.028932806104421616, -0.037254951894283295, -0.005899936426430941, 0.024198995903134346, -0.10841017216444016, 0.009714554063975811, 0.005891932640224695, -0.06379993259906769, 0.034678712487220764, -0.048118967562913895, 0.03265705704689026, 0.005121487658470869, -0.07245144248008728, -0.0018747352296486497, -0.037717677652835846, -0.04562249779701233, 0.025418175384402275, 0.028230801224708557, 0.04769754782319069, -0.07480106502771378, 0.03961842879652977, -0.037744250148534775, 0.0001348522346233949, -0.052412230521440506, -0.1247822716832161, 0.0027349505107849836, 0.009572681970894337, -0.0678369328379631, 0.010246925987303257, 0.05703148990869522, -0.0019915858283638954, 0.014701674692332745, 0.04627189412713051, 0.000245710980379954, -0.0005679012392647564, 0.054381415247917175, 0.027930524200201035, 0.07367144525051117, 0.02008960396051407, -0.014331882819533348, 0.0194756668061018, -0.07819958031177521, -0.04093111306428909, -0.07706459611654282, -0.13689225912094116, -0.03230731189250946, -2.1966961141382744e-34, -0.029316160827875137, 0.02363591454923153, 0.017313100397586823, 0.08452806621789932, -0.02730601094663143, -0.032814156264066696, -0.02211187593638897, 0.026715252548456192, -0.08217023313045502, -0.05158710107207298, 0.07799911499023438, 0.11618552356958389, 0.022895976901054382, 0.03700026497244835, -0.02332127094268799, 0.01780710741877556, -0.12772870063781738, 0.0697556808590889, -0.020356858149170876, 0.09967146813869476, 0.11474749445915222, 0.042651571333408356, -0.022348677739501, -0.06910426914691925, -0.06604946404695511, -0.07270372658967972, -0.018689485266804695, -0.023893022909760475, 0.017874684184789658, 0.002709139371290803, 0.02886456996202469, 0.011925758793950081, -0.008081372827291489, -0.012148489244282246, 0.030792037025094032, 0.034527748823165894, -0.012451655231416225, -0.05085025355219841, -0.015299871563911438, 0.06627760082483292, -0.062225379049777985, 0.03678759187459946, 0.01691083051264286, 0.01997748389840126, 0.037450600415468216, 0.09416814148426056, 0.06106827035546303, -0.01698777638375759, 0.036208949983119965, -0.009697390720248222, -0.09789318591356277, -0.03214932978153229, 0.0022715230006724596, -0.02991287037730217, 0.038518454879522324, 0.02202710136771202, 0.03626350685954094, 0.007219682447612286, -0.07176176458597183, -0.03380585089325905, -0.08050217479467392, 0.06034998968243599, -0.0310027115046978, -0.0648314580321312, -0.03810402378439903, -0.047984324395656586, -0.02564249001443386, -0.045338574796915054, -0.0048605902120471, -0.056122276932001114, -0.010874597355723381, -0.05058440566062927, -0.014964329078793526, 0.005995290819555521, -0.04334672912955284, 0.04598180204629898, 0.037919316440820694, -0.033932000398635864, 0.04288263991475105, -0.10484752058982849, 0.018593493849039078, -0.02979101613163948, 0.046792492270469666, -0.004588279873132706, -0.028311097994446754, 0.02617671899497509, 0.0226198248565197, -0.06250103563070297, 0.030255550518631935, 0.03230077400803566, -0.019345739856362343, -0.034525442868471146, -0.032256823033094406, 0.01570367068052292, -0.0072742849588394165, -1.991950115233231e-33, 0.05066516250371933, -0.06067139282822609, -0.013515475206077099, 0.025794804096221924, 0.02675873413681984, -0.021104637533426285, 0.01625077798962593, 0.01896992325782776, 0.13060146570205688, 0.07152213901281357, 0.0851287767291069, 0.02774604596197605, 0.051562387496232986, 0.12005894631147385, -0.042011331766843796, -0.04003840684890747, 0.01662641391158104, 0.010138451121747494, -0.06236628070473671, -0.017213869839906693, -9.524111374048516e-05, 0.13216127455234528, 0.03377768024802208, -0.029928039759397507, 0.0056514129973948, 0.007201599422842264, 0.0353185199201107, 0.013268796727061272, -0.03384588286280632, 0.005120851565152407, 0.005383590701967478, 0.05804434046149254, 0.016907235607504845, 0.03757390379905701, 0.019768163561820984, 0.11659957468509674, 0.0233417060226202, 0.04133177548646927, -0.030522987246513367, 0.009708549827337265, -0.01052856259047985, -0.05335310474038124, -0.03934017941355705, 0.020489107817411423, 0.08072405308485031, 0.03205067664384842, -0.02286103181540966, 0.08327793329954147, -0.06733804196119308, -0.036596521735191345, -0.19964075088500977, -0.002264499431475997, -0.003906956873834133, -0.03181706741452217, 0.09774617105722427, -0.03971973806619644, 0.0678926333785057, -0.06130218878388405, -0.09873698651790619, 0.06476294994354248, -0.023142965510487556, 0.04995797574520111, -0.06851456314325333, 0.0034116841852664948, -0.04158010706305504, -0.064095638692379, -0.036284685134887695, -0.07093630731105804, -0.09029549360275269, 0.054236605763435364, -0.016906699165701866, -6.785492587368935e-05, -0.08105537295341492, 0.007921458221971989, -0.03801712766289711, 0.001127640949562192, -0.027290411293506622, -0.005112964194267988, -0.09910377115011215, 0.06154975667595863, -0.027034765109419823, -0.03317613527178764, 0.019515931606292725, 0.014405088499188423, 0.07506661862134933, 0.10941492021083832, -0.04566660895943642, 0.029456254094839096, 0.0775722935795784, -0.03853050246834755, -0.035711128264665604, 0.004164458718150854, -0.015311993658542633, -0.05755883827805519, -0.036578983068466187, -3.052608121834055e-08, 0.02357383444905281, 0.08555677533149719, 0.012502696365118027, 0.043633896857500076, -0.08160750567913055, 0.05464399978518486, 0.014231753535568714, -0.046692267060279846, -0.01932084746658802, 0.08224600553512573, -0.1530047357082367, 0.0005476088263094425, -0.023554543033242226, -0.014933323487639427, 0.01743129827082157, 0.029995093122124672, 0.051379285752773285, -0.10033773630857468, 0.013768437318503857, 0.0008129122434183955, 0.03050306811928749, -0.02663273736834526, 0.04559808224439621, 0.02621479518711567, -0.07766427844762802, 0.06364300847053528, 0.020975753664970398, 0.012675830163061619, -0.02901643142104149, -0.01300487108528614, -0.04789940267801285, 0.003316254587844014, -0.033942241221666336, 0.01662486419081688, 0.019599590450525284, 0.018173672258853912, 0.007657793816179037, 0.07618304342031479, 0.12213445454835892, 0.04125305265188217, -0.027312681078910828, -0.08133373409509659, -0.009339024312794209, 0.005833527073264122, 0.01945444755256176, 0.11301162838935852, -0.039551444351673126, 0.11410494148731232, 0.0021115231793373823, 0.1308271735906601, 0.03122546337544918, -0.004813860636204481, -0.11343275010585785, 0.0324392095208168, 0.0631587952375412, -0.02376875840127468, -0.029225636273622513, -0.016775812953710556, -0.020048553124070168, 0.0196783859282732, 0.1044422909617424, -0.006235690787434578, -0.06887979805469513, 0.01918020285665989]",
         "9.863482",
         "3.9817996",
         "2",
         "Language and Cultural Immersion"
        ],
        [
         "17",
         "R018",
         "English",
         "The biggest benefit was definitely the mentorship from my faculty director at Trinity. She connected me with local writers and helped me develop my creative voice in ways that wouldn't have happened on campus.",
         "[-0.024524085223674774, 0.04231920465826988, 0.06855117529630661, -0.06165686249732971, 0.030324533581733704, 0.0448552705347538, -0.03413823992013931, -0.06053195893764496, 0.0018567743245512247, 0.00020782576757483184, 0.023445196449756622, 0.07233915477991104, 0.011763380840420723, -0.01406778022646904, 0.02177252806723118, 0.02709694765508175, 0.013144087046384811, 0.00817748811095953, 0.01791241392493248, -0.06882582604885101, -0.09196747839450836, -0.025967810302972794, -0.010477782227098942, 0.040493957698345184, 0.034944601356983185, 0.06668952107429504, -0.004117780830711126, -0.02655205689370632, 0.04205363616347313, -0.10153935849666595, -0.011566419154405594, -0.018047036603093147, 0.011625093407928944, 0.007907531224191189, 0.039815474301576614, 0.08287761360406876, 0.07863761484622955, 0.038785871118307114, -0.04644336551427841, -0.06137879192829132, -0.024397874251008034, 0.06853902339935303, 0.09486118704080582, -0.01493601780384779, -0.038426823914051056, -0.14506810903549194, -0.012798437848687172, -0.037786826491355896, -0.054715488106012344, 0.01633324660360813, 0.022568564862012863, -0.021211106330156326, -0.047901492565870285, -0.10830139368772507, -0.010162479244172573, 0.07360883057117462, 0.035392094403505325, 0.04744117707014084, -0.03561737760901451, 0.0073608942329883575, -0.08736810088157654, -0.02177463285624981, 0.005811712238937616, 0.016849521547555923, 0.0343935564160347, -0.059177786111831665, -0.04534732177853584, 0.007001481484621763, 0.006109739188104868, -0.028714003041386604, 0.04805593565106392, -0.021380651742219925, 0.06285616010427475, -0.0729634091258049, 0.05625705420970917, 0.008143358863890171, 0.08776430040597916, -0.05441565811634064, -0.006837865337729454, 0.037231333553791046, 0.04881497472524643, 0.04529575631022453, 0.0008957803365774453, 0.07190067321062088, -0.014954150654375553, -0.03627239912748337, -0.02171371690928936, -0.10241925716400146, 0.019338110461831093, 0.0018513440154492855, 0.09906455874443054, -0.04410860687494278, -0.0400717668235302, -0.047997087240219116, -0.039064712822437286, 0.01896163821220398, -0.12788894772529602, 0.004877311643213034, 0.052524443715810776, 0.018449515104293823, -0.036735255271196365, 0.0844501331448555, -0.017782248556613922, 0.025298042222857475, 0.01141821127384901, -0.017309127375483513, 0.030729839578270912, -0.07070744782686234, 0.0628964900970459, 0.009856240823864937, 0.049021847546100616, 0.047586485743522644, -0.0458526536822319, 0.010453682392835617, 0.047927744686603546, 0.052331823855638504, 0.03756647929549217, -0.006386606488376856, 0.06059614568948746, -0.05522045120596886, 0.03233806788921356, 0.04491696134209633, 0.00874446239322424, 0.03208314999938011, -0.13059258460998535, -0.04515640810132027, -0.03233417123556137, -3.6353216611497654e-34, -0.06923674046993256, 0.10332882404327393, -0.03292742371559143, 0.04511582851409912, 0.0759018138051033, -0.019851485267281532, -0.010697895660996437, 0.01123451441526413, -0.10399623215198517, -0.06059043109416962, 0.037110861390829086, 0.07497476041316986, 0.04461464658379555, -0.007817459292709827, -0.054836027324199677, -0.015120782889425755, -0.06416116654872894, 0.011250591836869717, -0.006249039433896542, 0.029116755351424217, 0.053158316761255264, 0.012190215289592743, 0.00681341253221035, 0.03078782558441162, -0.016983233392238617, -0.06421324610710144, 0.005814366042613983, 0.009789842180907726, 0.01719144731760025, -0.008852657862007618, 0.007972490973770618, 0.00519631477072835, -0.022247549146413803, -0.06477486342191696, 0.05803588405251503, 0.029173988848924637, -0.029381124302744865, -0.17669817805290222, 0.012306374497711658, 0.060928598046302795, -0.019488340243697166, 0.025555040687322617, 0.11705722659826279, -0.04325312003493309, -0.00513970572501421, 0.01627448759973049, 0.02457154169678688, 0.005148607771843672, 0.014848989434540272, -0.024637607857584953, -0.10648003220558167, -0.030049383640289307, -0.007407495751976967, -0.03567124158143997, 0.030726922675967216, -0.004736314993351698, 0.03310691937804222, -0.009596539661288261, 0.01702537015080452, -0.026217086240649223, -0.03544922545552254, -0.038674067705869675, 0.003558030351996422, 0.0031229089945554733, -0.00550782261416316, -0.004020710475742817, 0.006226446013897657, -0.04932240769267082, 0.16462716460227966, -0.030826257541775703, -0.11184343695640564, -0.01036026980727911, 0.00453207828104496, -0.0353843979537487, -0.06885432451963425, 0.023073045536875725, -0.09378279745578766, -0.05326799303293228, 0.031194843351840973, 0.02674323506653309, 0.032118018716573715, -0.03188776969909668, -0.004475865047425032, 0.05504988878965378, 0.07846099883317947, -0.0015302757965400815, 0.014905072748661041, -0.10216815769672394, 0.03391598165035248, 0.04099882394075394, 0.08850175887346268, 0.0015341570833697915, 0.0629563257098198, -0.02737094834446907, -0.06989460438489914, -1.1215809452702964e-33, 0.042834457010030746, 0.0208858884871006, 0.021456759423017502, -0.0376507043838501, 0.029896026477217674, -0.04115242511034012, -0.026831062510609627, -0.03618915006518364, -0.024945512413978577, 0.01891293004155159, 0.07864337414503098, 0.04382829740643501, -0.04524828493595123, 0.008649839088320732, -0.05317788943648338, 0.03548716753721237, 0.010065795853734016, -0.07967467606067657, -0.01852494478225708, -0.03440741449594498, 0.04352748766541481, 0.09129022061824799, -0.01071164757013321, 0.04353296384215355, 0.0021828433964401484, 0.014283010736107826, -0.07174943387508392, -0.029770731925964355, 0.0056371986865997314, 0.014271598309278488, 0.015390642918646336, 0.11699958145618439, -0.04690411686897278, -0.045067984610795975, 0.01356596127152443, 0.11369229108095169, 0.03301568329334259, -0.00971856340765953, -0.02374953404068947, -0.014100378379225731, 0.05757635459303856, -0.012787162326276302, 0.03409358114004135, 0.02564357779920101, 0.069722980260849, 0.06111719831824303, -0.01366360206156969, 0.028262721374630928, -0.042362432926893234, 0.034973397850990295, -0.11875984817743301, -0.04571385309100151, 0.014231354929506779, -0.011050662957131863, 0.04038000479340553, -0.05311218276619911, 0.12909862399101257, -0.07462494820356369, 0.04593512788414955, 0.031587570905685425, -0.027310406789183617, -0.018101196736097336, -0.054445669054985046, -0.015212581492960453, -0.03217025473713875, -0.032579220831394196, -0.022270791232585907, 0.017974579706788063, -0.13871735334396362, 0.00041670346399769187, -0.07644259184598923, 0.07248815149068832, -0.00014715109136886895, 0.05037057399749756, -0.13120511174201965, 0.03396525979042053, -0.019080227240920067, -0.09274223446846008, -0.049339234828948975, 0.033037759363651276, -0.0802975744009018, -0.03152691200375557, -0.03043188340961933, -0.042965181171894073, 0.08760954439640045, 0.08259806782007217, -0.0018353090854361653, -0.004911161959171295, 0.06373343616724014, -0.0888345018029213, -0.009728035889565945, -0.020350873470306396, 0.028858566656708717, -0.08634199947118759, -0.0014856811612844467, -2.544497235135168e-08, -0.07941801100969315, 0.008829853497445583, -0.048007939010858536, -0.0030739405192434788, -0.04494374245405197, -0.046526242047548294, 0.012941990979015827, 0.025988532230257988, -0.004315979313105345, 0.09678604453802109, -0.0780898928642273, -0.009712419472634792, -0.04493534192442894, 0.022043081000447273, 0.14556272327899933, -0.00041314802365377545, 0.06799720227718353, -0.02071308344602585, -0.0024575868155807257, -0.03457174822688103, 0.02714383229613304, 0.07186631858348846, -0.05341664329171181, 0.03353092819452286, -0.10359381884336472, 0.059092000126838684, 0.10612931847572327, 0.061744000762701035, 0.039400357753038406, 0.0032768191304057837, -0.06831307709217072, 0.033285465091466904, -0.03132547810673714, 0.04383602738380432, -0.026712391525506973, 0.015628935769200325, -0.01335716713219881, -0.018768850713968277, 0.023028196766972542, 0.06800079345703125, -0.013321248814463615, 0.06476996839046478, -0.029519811272621155, 0.01726505532860756, -0.0168995950371027, 0.05307929217815399, 0.03161157667636871, 0.053262077271938324, 0.002497562672942877, 0.1064683273434639, -0.009289084933698177, 0.04801342636346817, -0.04878165200352669, -0.005563624203205109, 0.047898922115564346, -0.05360407754778862, -0.005375106353312731, -0.011995738372206688, -0.06873176246881485, 0.009845069609582424, 0.04171949625015259, -0.0009341881377622485, -0.05890018120408058, -0.0671415850520134]",
         "9.517281",
         "3.0102346",
         "6",
         "Mentorship and Technical Skill Development"
        ],
        [
         "18",
         "R019",
         "History",
         "Studying at University College London gave me access to primary sources for my research that simply don't exist in the US. My thesis on British colonial policy is 1000% stronger because of the archival work I did there.",
         "[-0.008772769942879677, -0.051660194993019104, -0.012769153341650963, -0.03604762256145477, 0.02621796540915966, 0.06127464026212692, -0.1163589358329773, -0.07959935069084167, -0.0738498866558075, 0.07187894731760025, -0.009046433493494987, 0.08199059218168259, -0.05229032412171364, -0.055576104670763016, -0.09613978862762451, 0.08627157658338547, 0.023318104445934296, -0.0059517244808375835, -0.0119350366294384, 0.03694839030504227, -0.017543919384479523, -0.013756212778389454, 0.09072140604257584, 0.005686869379132986, 0.01367910299450159, 0.03713971748948097, 0.027595367282629013, -0.03133472800254822, -0.005250982940196991, 0.003244885243475437, -0.07428599148988724, 0.02245922014117241, -0.07169341295957565, -0.024353772401809692, 0.07170629501342773, 0.020665572956204414, 0.06852377951145172, 0.06113177537918091, 0.07047765702009201, -0.0185452438890934, -0.013516326434910297, -0.0009805539157241583, 0.08223146945238113, 0.03508813679218292, -0.025397133082151413, 0.033404819667339325, 0.02442646212875843, -0.015440335497260094, -0.041342224925756454, 0.0007891571149230003, -0.015223827213048935, 0.07834232598543167, 0.05174742639064789, -0.037193916738033295, -0.011951994150876999, -0.09296070039272308, -0.03717036172747612, 0.08293326944112778, -0.015488703735172749, -0.07618837058544159, -0.014891277067363262, 0.05742401257157326, -0.10694197565317154, -0.017819302156567574, 0.048634156584739685, 0.0074613080359995365, -0.029593659564852715, 0.10066772252321243, 0.038766782730817795, -0.018411168828606606, -0.059092409908771515, -0.027248896658420563, -0.016283627599477768, 0.0667153000831604, 0.03166776895523071, 0.03092218190431595, 0.03246491774916649, 0.035513985902071, 0.03361954912543297, 0.027654238045215607, 0.05255276709794998, -0.001265746308490634, 0.04153835028409958, 0.024352433159947395, -0.035419296473264694, -0.12449707835912704, 0.03107050247490406, 0.021553145721554756, 0.024163559079170227, 0.05086284503340721, 0.013187726959586143, -0.08611054718494415, 0.09579961746931076, 0.022624071687459946, 0.059413302689790726, -0.029957249760627747, 0.041204988956451416, 0.006320181302726269, 0.037133846431970596, 0.030964042991399765, -0.018197279423475266, 0.0038596107624471188, -0.04618057608604431, 0.026204459369182587, -0.08710790425539017, -0.019017726182937622, -0.050444699823856354, 0.003959746100008488, 0.06721847504377365, 0.030604084953665733, 0.005777847021818161, 0.0015522994799539447, -0.10389609634876251, 0.06433729827404022, 0.08346889168024063, -0.10099434107542038, -0.014584200456738472, -0.050467539578676224, -0.028131231665611267, -0.03970760479569435, -0.06070564687252045, 0.01729319989681244, 0.0035162533167749643, -0.0585458017885685, -0.12228997051715851, -0.07470341771841049, -0.059308480471372604, 3.67644926974916e-35, 0.01733093522489071, -0.003574179718270898, 0.02113029733300209, 0.0390406958758831, -0.008817341178655624, -0.03177047520875931, -0.001796026132069528, 0.038549263030290604, 0.028563832864165306, -0.055773328989744186, 0.08985879272222519, 0.10787773132324219, -0.00964416190981865, -0.022587504237890244, -0.039119549095630646, 0.029542040079832077, 0.02600751258432865, 0.049881305545568466, 0.08395068347454071, -0.05719438195228577, -0.011811794713139534, -0.0017329632537439466, 0.11789518594741821, -0.08390180766582489, -0.019858354702591896, -0.049445990473032, -0.021758850663900375, -0.0413154736161232, 0.0030995544511824846, 0.006357894279062748, 0.0628160908818245, 0.01818183809518814, -0.008436284027993679, -0.05101347342133522, 0.05415567010641098, 0.03548490256071091, 0.04302739351987839, -0.05040302500128746, 0.055352166295051575, 0.028327932581305504, 0.0065748547203838825, -0.04270415008068085, 0.12206356227397919, 0.025832325220108032, 0.07408469170331955, -0.033378150314092636, 0.022425523027777672, -0.022971661761403084, -0.013386356644332409, 0.00963681936264038, 0.037122514098882675, 0.0005615768022835255, -0.12724503874778748, -0.1418425291776657, 0.005977417342364788, 0.06826042383909225, -0.0353313647210598, 0.08281636983156204, 0.059963151812553406, -0.0668344646692276, -0.02424597553908825, 0.06262361258268356, -0.016068408265709877, -0.01568342000246048, -0.025688830763101578, 0.031389180570840836, -0.10385157912969589, -0.06953080743551254, -0.02952507883310318, -0.013519413769245148, -0.01895146630704403, 0.012578693218529224, 0.06399665027856827, -0.039604198187589645, 0.019673075526952744, 0.0499863363802433, -0.018277106806635857, 0.011431890539824963, -0.014895761385560036, -0.04703375697135925, -0.011022289283573627, -0.03694400191307068, -0.017889458686113358, 0.04560437798500061, -0.017056195065379143, 0.008149240165948868, 0.027718499302864075, -0.011459987610578537, 0.10143823176622391, 0.06074490398168564, -0.04922637343406677, -0.07548118382692337, -0.15634147822856903, -0.04247724637389183, -0.02396758273243904, -1.6273856033470685e-33, -0.04798903316259384, -0.07469786703586578, 0.007618037983775139, 0.01259255688637495, -0.010188104584813118, 0.01632934808731079, -0.00416048476472497, -0.05167664960026741, 0.038505569100379944, 0.006422832142561674, 0.03912056237459183, -0.0712089091539383, 0.06714354455471039, 0.0844661071896553, -0.043204277753829956, -0.023261813446879387, -0.0031422453466802835, -0.1053098738193512, -0.11945883929729462, 0.04826252534985542, -0.0037077900487929583, -0.023242013528943062, -0.0190439410507679, -0.011513618752360344, -0.0006856759428046644, -0.0034266766160726547, -0.01584102213382721, -0.05107759311795235, 0.03511287644505501, -0.03175708279013634, 0.04343979060649872, 0.11816839128732681, -0.060941487550735474, -0.03543272987008095, -0.10202199965715408, 0.06893520802259445, 0.010634641163051128, 0.04245147481560707, -0.018716393038630486, -0.06429725885391235, -0.009322134777903557, 0.026108793914318085, -0.04739375784993172, -0.06461045145988464, -0.01300942525267601, 0.002103285165503621, -0.10440405458211899, 0.06074104085564613, 0.02037009783089161, 0.022730903699994087, 0.017219267785549164, 0.03637753054499626, -0.015372766181826591, -0.037577178329229355, 0.06182286888360977, 0.01725528948009014, 0.04082050919532776, 0.003306704107671976, -0.013581940904259682, 0.04213888198137283, -0.026299016550183296, 0.061772920191287994, -0.19066767394542694, -0.02448025904595852, 0.010336004197597504, -0.01308551337569952, 0.0009318829397670925, 0.04526882246136665, 0.017324034124612808, 0.009296240285038948, 0.048703230917453766, -0.018451549112796783, 0.05524057522416115, -0.05963330715894699, 0.028660958632826805, 0.06302511692047119, 0.0011952491477131844, -0.03675428405404091, -0.010139304213225842, 0.06329918652772903, 0.034342680126428604, 0.008985723368823528, 0.028729505836963654, -0.0336340069770813, 0.04890880361199379, 0.05691163241863251, 0.01376616396009922, 0.02189776860177517, -0.0261224452406168, -0.045603711158037186, -0.041865184903144836, -0.08600030839443207, -0.0565234012901783, -0.009654310531914234, 0.09159469604492188, -3.119615854529911e-08, 0.011132802814245224, 0.020456373691558838, 0.052562370896339417, 0.05586843565106392, -0.0171975027769804, -0.014431732706725597, -0.052166879177093506, 0.03784794732928276, -0.04251907393336296, -0.011953090317547321, -0.04241326451301575, -0.07064612954854965, -0.03218740597367287, -0.003266254672780633, -0.026377860456705093, -0.03083077073097229, 0.0909123569726944, -0.11295504122972488, -0.01714389957487583, -0.029569052159786224, -0.04839362949132919, 0.0694236010313034, 0.03739209473133087, -0.018763303756713867, 0.055044226348400116, 0.08164621889591217, 0.07430139183998108, -0.009752418845891953, 0.001342096133157611, -0.000922692590393126, -0.014812213368713856, 0.07840512692928314, 0.005747063551098108, -0.0934169664978981, -0.00465057510882616, -0.05496929585933685, 0.06014981493353844, 0.0431661419570446, -0.034853745251894, -0.07475870847702026, 0.030321964994072914, -0.025330187752842903, 0.021025853231549263, 0.05617716535925865, 0.026354506611824036, 0.0658661276102066, -0.014670285396277905, 0.055409569293260574, 0.016178667545318604, 0.0454220175743103, -0.008775969967246056, -0.05501739680767059, 0.059316374361515045, 0.04949590563774109, 0.020216036587953568, 0.06304528564214706, 0.0032606751192361116, 0.005280721001327038, -0.07598249614238739, -0.00809071958065033, 0.10053373873233795, -0.002309969626367092, -0.07057832181453705, 0.027626050636172295]",
         "11.8186455",
         "1.1039647",
         "-1",
         null
        ],
        [
         "19",
         "R020",
         "Economics",
         "The professional connections I made at Copenhagen were game-changing for my career path. One of my professors there recommended me for an internship that led directly to my job offer. Can't put a price on that kind of networking.",
         "[-0.0008541729766875505, 0.037206996232271194, 0.04877039045095444, 0.02096780203282833, -0.024423278868198395, 0.02649248205125332, -0.05489363521337509, 0.028876641765236855, 0.0256974957883358, -0.0373728983104229, -0.02566555142402649, -0.007344454992562532, 0.03065962716937065, 0.013120435178279877, -0.062000855803489685, 0.006393308751285076, 0.07145458459854126, -0.09296977519989014, 0.03262782096862793, -0.04747654125094414, -0.052354708313941956, -0.05319468304514885, 0.011890621855854988, -0.12835732102394104, 0.06981377303600311, 0.01781153306365013, 0.06657243520021439, 0.019695470109581947, -0.03293261304497719, 0.0580841563642025, -0.013120132498443127, 0.027783755213022232, -0.10097825527191162, -0.017348583787679672, 0.06214600056409836, 0.05782691761851311, -0.04783635959029198, -0.028195923194289207, 0.06979941576719284, 0.07484118640422821, 0.057534296065568924, 0.01239119190722704, -0.01869020238518715, -0.06669793277978897, -0.06095220148563385, -0.03048313409090042, 0.013332504779100418, 0.0028350355569273233, -0.028099892660975456, -0.030482295900583267, 0.03695950657129288, -0.08880786597728729, 0.04956592619419098, -0.018104929476976395, 0.017823973670601845, 0.005998621694743633, -0.01436164602637291, 0.049512118101119995, -0.04881767928600311, -0.0032819195184856653, 0.05298127233982086, -0.05803666263818741, 0.009121275506913662, 0.012673337012529373, 0.02116619236767292, -0.08924061059951782, -0.04324030503630638, 0.07909133285284042, -0.009028622880578041, -0.0907268300652504, -0.05421706661581993, -0.06158425658941269, -0.06571663171052933, 0.05909164249897003, 0.13928605616092682, -0.020742787048220634, 0.09771088510751724, -0.01180932205170393, 0.0746479332447052, -0.03279953822493553, 0.044113222509622574, -0.004048691596835852, -0.05517961084842682, -0.02946416102349758, -0.003783881664276123, -0.06955744326114655, 0.08186595886945724, -0.008676154538989067, 0.012370564043521881, 0.017077894881367683, -0.02855059877038002, -0.025197159498929977, -0.07704659551382065, -0.021966146305203438, -0.02707643248140812, 0.014426982030272484, -0.00818899180740118, 0.06568445265293121, -0.002593730576336384, 0.002519741654396057, -0.001988834235817194, -0.006304787937551737, -0.01839892752468586, 0.012609478086233139, -0.0625908225774765, -0.001640155678614974, 0.01854146458208561, 0.01868206448853016, 0.04084900766611099, 0.0783761516213417, -0.07706370949745178, -0.04623840004205704, -0.04317311570048332, -0.03620080277323723, -0.03426278755068779, 0.08095212280750275, 0.010747348889708519, 0.003954592626541853, 0.08614567667245865, 0.04597202688455582, -0.005700865760445595, -0.01904277876019478, -0.05296346917748451, 0.06180642172694206, -0.054867472499608994, 0.016420193016529083, -0.05631775036454201, -4.028616770255711e-33, -0.02182369865477085, 0.11577220261096954, -0.07260260730981827, -0.003329975763335824, 0.10832472890615463, -0.03798067569732666, -0.05146436393260956, -0.023964185267686844, -0.05336746945977211, 0.018728481605648994, -0.09621093422174454, 0.11354923993349075, -0.017352694645524025, 0.05165161192417145, 0.026473427191376686, -0.003990569617599249, -0.005715931765735149, -0.03567544370889664, 0.007921844720840454, 0.018592989072203636, 0.027697669342160225, -0.08985158056020737, 0.06950832903385162, 0.04083289951086044, 0.04985670745372772, -0.030224809423089027, 0.09012655913829803, -0.05003911629319191, 0.16213221848011017, -0.021731680259108543, 0.003212857525795698, 0.005265784915536642, -0.018141020089387894, -0.1011529415845871, -0.021728243678808212, 0.09338618814945221, -0.07684791088104248, -0.045202989131212234, -0.008518718183040619, -0.00559908477589488, -0.07442799210548401, -0.017486246302723885, -0.007501594722270966, -0.012400195933878422, 0.0008549821795895696, 0.02828935720026493, -0.007033903617411852, 0.007335214409977198, -0.010698786936700344, -0.06487642228603363, -0.058391023427248, -0.03160474821925163, 0.01102205365896225, 0.01855812780559063, -0.013370678760111332, -0.009699401445686817, 0.07668057084083557, 0.0873372033238411, -0.009966820478439331, -0.018412167206406593, -0.08619268238544464, -0.011214804835617542, -0.03606933727860451, 0.09496369957923889, 0.02631249465048313, 0.032770950347185135, -0.03985828906297684, 0.04023073986172676, 0.07024076581001282, -0.021308984607458115, -0.06217190995812416, 0.0182766355574131, 0.05487460643053055, -0.03820141404867172, -0.004469332285225391, 0.02485942840576172, -0.1304498165845871, -0.03842717036604881, 0.04739964008331299, 0.08861596882343292, -0.017318885773420334, 0.04008102789521217, -0.03387800231575966, 0.029590191319584846, 0.0780973881483078, -0.07069528102874756, 0.06436735391616821, 0.018213657662272453, 0.07161161303520203, 0.10655185580253601, -0.024404454976320267, 0.013252776116132736, 0.012243411503732204, 0.055067453533411026, -0.027026938274502754, 1.7940873474773475e-34, 0.00032702446333132684, 0.03821652755141258, -0.015461526811122894, -0.0007517787162214518, 0.13067474961280823, 0.06156139448285103, 0.00034148283884860575, 0.044748805463314056, -0.011135145090520382, 0.04623757302761078, 0.011225719936192036, 0.001963170478120446, -0.03049546107649803, 0.1406688094139099, -0.002764949342235923, -0.057751502841711044, -0.045100919902324677, 0.022561976686120033, 0.037486620247364044, -0.07127956300973892, 0.0766243115067482, 0.041050225496292114, 0.031545817852020264, 0.029627611860632896, 0.008832329884171486, 0.00516512943431735, -0.012412326410412788, 0.02441992051899433, -0.11502811312675476, 0.0007148194126784801, -0.0784849002957344, 0.09715543687343597, 0.018920958042144775, 0.06630220264196396, -0.04810917750000954, 0.14890587329864502, 0.04053664952516556, 0.027955463156104088, -0.007399148773401976, -0.026426246389746666, -0.000600685365498066, -0.15779948234558105, -0.04862944409251213, -0.0004154029884375632, 0.023633938282728195, -0.06875965744256973, -0.09902047365903854, -0.08162237703800201, -0.0675453171133995, -0.03432990610599518, -0.11992169171571732, 0.08059071749448776, -0.00429914565756917, -0.07978246361017227, -0.023852648213505745, 0.005698487162590027, 0.03010641410946846, 0.018187472596764565, 0.027021637186408043, -0.010480020195245743, 0.012502136640250683, 0.020286699756979942, 0.0039200736209750175, 0.06851071864366531, 0.0027184062637388706, 0.0005715847364626825, -0.015154452063143253, -0.07336999475955963, -0.005095185246318579, 0.01699616014957428, 0.07263582199811935, 0.05110130459070206, 0.0346229113638401, -0.00421723211184144, -0.005890338681638241, -0.03822050988674164, 0.03222699835896492, 0.07589996606111526, -0.03313923627138138, -0.03226405382156372, -0.08590072393417358, -0.031752705574035645, 0.024012070149183273, -0.017640339210629463, 0.07302353531122208, -0.001609809580259025, -0.013209475204348564, 0.012404702603816986, -0.04496245086193085, -0.01217871718108654, -0.026224274188280106, -0.06511878967285156, 0.0064273676835000515, -0.05924537032842636, -0.07182099670171738, -3.472266740800478e-08, 0.005577703006565571, -0.02221743017435074, 0.02351159043610096, -0.02122940495610237, -0.021652644500136375, -0.05922355502843857, -0.030315281823277473, 0.007851545698940754, 0.03177596628665924, 0.08100983500480652, -0.02714877761900425, -0.00660809176042676, -0.01955004781484604, 0.03211703523993492, 0.03149959444999695, 0.05275457352399826, -0.025523897260427475, 0.014453527517616749, -0.02024715393781662, 0.013384737074375153, 0.0028502338100224733, 0.07008710503578186, -0.03722294047474861, 0.09198543429374695, -0.010811521671712399, 0.03807288035750389, -0.03274994716048241, 0.024205254390835762, -0.04414999485015869, -0.04062212258577347, -0.0950271263718605, 0.01420891098678112, 0.06642953306436539, 0.025213994085788727, -0.0723591223359108, 0.018241116777062416, -0.048842042684555054, -0.04151323065161705, -0.04884853586554527, 0.01846914552152157, -0.042056966572999954, -0.07077838480472565, -0.0060239527374506, -0.05476140230894089, 0.03426495939493179, 0.029341628775000572, -0.023450495675206184, -0.0382537916302681, 0.06734801083803177, 0.05988335609436035, -0.07661550492048264, 0.05146469920873642, -0.007881442084908485, -0.12342289090156555, -0.012365743517875671, 0.01337549090385437, -0.02528083324432373, 0.020609889179468155, -0.02503168024122715, 0.054407231509685516, -0.03594664856791496, -0.09207510203123093, -0.029697539284825325, -0.007987121120095253]",
         "8.185027",
         "3.3415198",
         "4",
         "Professional Networking and Career Advancement"
        ],
        [
         "20",
         "R021",
         "Engineering",
         "I think the biggest benefit was learning to communicate technical concepts across cultural and language barriers. At Technical University of Denmark, I had to really improve how I explained my work, which has been super valuable.",
         "[-0.004534821026027203, 0.14291907846927643, 0.04847954213619232, -0.029455462470650673, 0.04320086911320686, 0.05103408172726631, 0.013537761755287647, 0.029177986085414886, 0.008673890493810177, -0.009199821390211582, 0.01098635420203209, 0.029940981417894363, 0.016906915232539177, 0.019130228087306023, 0.0762392207980156, -0.04085065424442291, 0.03367427736520767, -0.016488507390022278, -0.008785349316895008, -0.18156583607196808, -0.07724808156490326, -0.03742242977023125, 0.06278578191995621, 0.002187661826610565, 0.02950483188033104, 0.049150049686431885, 0.035814277827739716, -0.01739688403904438, 0.0792553722858429, -0.056077685207128525, -0.050325341522693634, 0.03360240161418915, 0.02552873268723488, 0.034374698996543884, -0.08500479906797409, 0.04840753227472305, 0.04874707758426666, -0.00402293773368001, -0.01939619518816471, -0.04623141139745712, -0.062155257910490036, -0.002826655749231577, 0.0874498039484024, -0.07749684154987335, 0.032024215906858444, -0.0592203214764595, 0.0383291132748127, -0.053671158850193024, -0.06433750689029694, 0.01619982346892357, 0.010251129977405071, 0.001901188283227384, 0.004189296625554562, -0.06507886201143265, 0.02250186912715435, -0.011465395800769329, -0.005980841349810362, 0.051143400371074677, -0.10517220199108124, -0.007352297194302082, -0.055877503007650375, -0.09795918315649033, -0.002011289354413748, 0.014263302087783813, 0.010582360439002514, -0.10505637526512146, -0.07983788847923279, 0.03332200273871422, -0.020187780261039734, 0.024224502965807915, -0.0013110070722177625, -0.020446069538593292, 0.01142909750342369, 0.00018151030235458165, 0.09306292980909348, -0.008478958159685135, 0.0033042968716472387, -0.019970744848251343, -0.02902729995548725, 0.00044107326539233327, 0.1027837023139, 0.051623065024614334, -0.04979580268263817, 0.025615982711315155, 0.0051925163716077805, -0.05297617241740227, 0.03968571498990059, -0.07276971638202667, -0.004279807209968567, -0.05359736084938049, 0.1396540105342865, -0.05982689931988716, -0.033047959208488464, 0.05477530509233475, -0.0031043044291436672, -0.05819369852542877, -0.0588407926261425, 0.03678279370069504, 0.008625827729701996, 0.018993007019162178, 0.06272053718566895, 0.059869907796382904, -0.01863964833319187, -0.000649348134174943, -0.06899192929267883, -0.01720372773706913, 0.02183116041123867, 0.024536702781915665, 0.04220763221383095, -0.0364234633743763, -0.03587740287184715, 0.055288165807724, -0.04935881495475769, 0.015803948044776917, 0.015014109201729298, 0.016323409974575043, 0.02132251299917698, 0.0003794812364503741, 0.12069961428642273, -0.014736805111169815, 0.04753372073173523, -0.0010279648704454303, -0.03571119159460068, 0.0490143746137619, -0.03811139613389969, 0.011485623195767403, -0.02931002900004387, -2.446903897883889e-33, -0.02557031810283661, 0.08802933990955353, -0.037716343998909, 0.07515920698642731, 0.03815106675028801, -0.04305364191532135, -0.021325688809156418, -0.004200886003673077, -0.010372723452746868, -0.05327169597148895, 0.011450299993157387, 0.11355555802583694, 0.04703385755419731, 0.0021863046567887068, 0.06113411486148834, -0.044717781245708466, -0.11479010432958603, 0.0066742440685629845, 0.008166467770934105, 0.09627899527549744, 0.056878454983234406, -0.052095625549554825, 0.0981920063495636, 0.02205261029303074, 0.012867217883467674, -0.04387824237346649, 0.013381903059780598, -0.03451187536120415, 0.03203677758574486, -0.0007663381402380764, 0.0056839389726519585, -0.02606498822569847, -0.06163865700364113, -0.05043323338031769, 0.036199551075696945, 0.015405205078423023, 0.028624437749385834, -0.16077834367752075, 0.04945075884461403, 0.012294525280594826, -0.012361203320324421, -0.002407208550721407, 0.050148073583841324, -0.013904704712331295, 0.05753513425588608, 0.050528574734926224, -0.028363987803459167, -0.015603121370077133, -0.01602012850344181, -0.025630464777350426, -0.09647934138774872, 0.006950833834707737, 0.002140296157449484, -0.09972639381885529, 0.11071120202541351, 0.01050193328410387, 0.014035990461707115, -0.025581080466508865, -0.018297364935278893, -0.028542233631014824, -0.08281520754098892, -0.007681224029511213, 0.02085977792739868, 0.02871447615325451, 0.01662357710301876, 0.04271094873547554, 0.06290033459663391, 0.0016389478696510196, 0.0482834093272686, -0.04233657196164131, -0.08690542727708817, -0.00729387067258358, 0.00016973278252407908, -0.05349325016140938, -0.039165105670690536, 0.05836274102330208, -0.0823131874203682, -0.08198977261781693, 0.07167671620845795, 0.03987570479512215, -0.008452877402305603, -0.008761485107243061, 0.00893296767026186, -0.025490060448646545, 0.09218044579029083, 0.023690994828939438, 0.050772860646247864, -0.08589497208595276, 0.1065479964017868, 0.022294363006949425, 0.04306207224726677, -0.021567994728684425, -0.02560430020093918, 0.046553805470466614, -0.014600449241697788, -3.642469906581963e-34, -0.03989219292998314, 0.05083685740828514, -0.05908563360571861, 0.01552458293735981, 0.013011881150305271, -0.001607234007678926, 0.04330545663833618, -0.010886508040130138, -0.03259701654314995, 0.02177615649998188, 0.0796412006020546, 0.003311041509732604, -0.04612742364406586, 0.10124925523996353, -0.057453453540802, -0.029576009139418602, 0.008013756014406681, -0.018746424466371536, -0.01728714071214199, -0.016172422096133232, 0.06575492024421692, 0.09728413820266724, -0.0441695973277092, 0.0016313375672325492, -0.013064232654869556, 0.003242563921958208, -0.15925338864326477, -0.034583400934934616, -0.03791014850139618, 0.007570926565676928, 0.04830252379179001, 0.07017679512500763, -0.044332776218652725, 0.0032134719658643007, -0.03944556787610054, 0.08820369839668274, 0.028496256098151207, 0.014018706046044827, -0.01864611543715, 0.04251663014292717, 0.026781504973769188, -0.012119796127080917, 0.015753133222460747, -6.385746382875368e-05, 0.011524330824613571, 0.03269964084029198, -0.04713813215494156, -0.01684451662003994, -0.015109282918274403, 0.012827825732529163, 0.06846647709608078, -0.019468313083052635, 0.035216670483350754, -0.13190814852714539, 0.027466775849461555, -0.054459940642118454, 0.07273693382740021, -0.13148117065429688, 0.006231195759028196, 0.032166268676519394, -0.0327790230512619, 0.03944196179509163, -0.009079421870410442, -0.0022297154646366835, -0.03844793885946274, -0.03540275990962982, -0.0010563877876847982, 0.0745764672756195, -0.05420653522014618, -0.0772869661450386, -0.0035604937002062798, 0.014355042949318886, -0.03943333774805069, 0.021939752623438835, -0.08739523589611053, 0.08435669541358948, -0.0001493145973654464, 0.019176023080945015, -0.0732719898223877, 0.028397325426340103, -0.06881541013717651, -0.04996464028954506, -0.006990943104028702, -0.08112560212612152, 0.011208883486688137, 0.12171761691570282, -0.07701385766267776, -0.05071200430393219, 0.059819746762514114, -0.11872845143079758, -0.05715038627386093, -0.031242679804563522, -0.04812077060341835, -0.049417734146118164, -0.008971468545496464, -2.749467853391252e-08, -0.08049492537975311, -0.014622721821069717, -0.023561397567391396, -0.012106919661164284, -0.07030598074197769, -0.06232393905520439, -0.06279070675373077, 0.06666576862335205, -0.03822670131921768, 0.053001366555690765, -0.09608162194490433, 0.017553677782416344, -0.026125729084014893, 0.11697952449321747, 0.1175382062792778, 0.033687394112348557, 0.05516752600669861, 0.0425875149667263, 0.009982245042920113, -0.03585406392812729, 0.08800013363361359, 0.010039038956165314, -0.031678859144449234, -0.03191401809453964, -0.07941368967294693, 0.03827108442783356, 0.02228609099984169, 0.01100236177444458, 0.012233924120664597, -0.05154429376125336, -0.023320509120821953, -0.0049966610968112946, -0.0388130359351635, 0.053828559815883636, 0.0027163526974618435, 0.004633340984582901, -0.020510349422693253, -0.015498574823141098, 0.012883588671684265, 0.050672389566898346, -0.008163485676050186, 0.01326680276542902, 0.03598123416304588, 0.036432914435863495, 0.002267163246870041, 0.01804537884891033, -0.0718974769115448, 0.0617583803832531, -0.07776539027690887, 0.08318208158016205, 0.014887554571032524, 0.009396877139806747, 0.005060033872723579, -0.003842658828943968, 0.07979798316955566, -0.003484798828139901, 0.030595652759075165, -0.047839414328336716, -0.03838421776890755, 0.05933225527405739, -0.002200416987761855, 0.020352855324745178, -0.07874002307653427, 0.031315989792346954]",
         "10.085392",
         "3.0870976",
         "-1",
         null
        ],
        [
         "21",
         "R022",
         "Environmental Studies",
         "The field research skills I developed at Williams-Mystic have been crucial for my senior project. Learning to collect and analyze data in challenging coastal environments taught me resilience and adaptability.",
         "[0.03493783622980118, 0.0435415543615818, 0.04416535794734955, 0.07954699546098709, -0.0030689556151628494, -0.04789310693740845, -0.04598945751786232, -0.016140026971697807, -0.10698245465755463, 0.006346562877297401, -0.07592493295669556, -0.002940395614132285, 0.013849420472979546, 0.02068360522389412, 0.021189795807003975, 0.11185402423143387, -0.07040771096944809, 0.05029553174972534, -0.03803114965558052, -0.024299927055835724, -0.08017183095216751, 0.05815339833498001, -0.06331057101488113, 0.021243223920464516, -0.034738413989543915, 0.036580950021743774, -0.03439101576805115, 0.06652175635099411, 0.01696173846721649, -0.027600271627306938, -0.001569993793964386, 0.04140560328960419, -0.022606808692216873, 0.026581985875964165, -0.003956258296966553, 0.10223906487226486, 0.021674061194062233, 0.023389143869280815, 0.008548920974135399, 0.04979437589645386, -0.08209772408008575, -0.0003255078918300569, 0.07295159250497818, -0.04447289556264877, -0.0297527052462101, -0.14078588783740997, 0.017291368916630745, -0.04771372675895691, 0.03452397882938385, -0.0051238443702459335, -0.08933158218860626, -0.023228256031870842, -0.0808393731713295, -0.07505771517753601, -0.02240176312625408, 0.042504437267780304, -7.04917692928575e-05, 0.017789719626307487, -0.0032176761887967587, 0.004652486182749271, 0.07143703103065491, 0.021496638655662537, -0.060013219714164734, 0.012956934049725533, 0.040145352482795715, 0.062388695776462555, -0.05798274278640747, 0.06075277924537659, 0.02696169912815094, -0.04575270786881447, -0.03574495390057564, 0.007736933883279562, -0.07907313853502274, 0.004691355861723423, 0.09834009408950806, 0.025685111060738564, -0.03839157894253731, -0.013212853111326694, 0.04208951070904732, 0.02466529980301857, 0.08877323567867279, -0.037318792194128036, -0.09551573544740677, 0.05510320886969566, -0.009313414804637432, -0.049813754856586456, 0.03333614021539688, 0.026670444756746292, 0.06922738999128342, 0.023018846288323402, 0.06906937807798386, -0.04943130910396576, -0.016865761950612068, 0.022427096962928772, -0.036320339888334274, 0.04876216500997543, -0.019115854054689407, -0.08628428727388382, -0.046138565987348557, 0.015635671094059944, 0.010508669540286064, -0.03821907564997673, 0.030070560052990913, 0.04345354437828064, -0.03464614599943161, -0.04312125965952873, 0.004405848681926727, -0.026854190975427628, -0.019988009706139565, 0.02989373542368412, -0.03385821729898453, 0.04345142841339111, -0.06255897879600525, 0.03577934578061104, 0.017864491790533066, 0.018788060173392296, -0.10600676387548447, -0.02341536059975624, -0.016443967819213867, -0.005767940543591976, 0.015334703959524632, 0.015274234116077423, 0.03992767259478569, -0.017716214060783386, 0.02854500338435173, -0.01632934994995594, 0.0006938982987776399, 6.573065370463867e-35, 0.07548968493938446, 0.07823959738016129, -0.001441786764189601, 0.14301900565624237, 0.05922023952007294, -0.06512408703565598, -0.03840096667408943, -0.036967817693948746, -0.061622295528650284, -0.033420052379369736, 0.0961831584572792, 0.09712985903024673, 0.003887949511408806, -0.030025966465473175, 0.019399480894207954, -0.011232854798436165, -0.06705551594495773, -0.07931831479072571, -0.11089654266834259, -0.011727680452167988, -0.033175356686115265, -0.027779776602983475, -0.0006757222581654787, -0.0592222660779953, 0.049125052988529205, 0.007322868797928095, 0.03503343462944031, 0.04489067569375038, -0.026668377220630646, 0.05655917525291443, -0.014365986920893192, 0.020579757168889046, -0.12198049575090408, -0.02060914784669876, 0.08444420248270035, 0.0827317014336586, 0.02467252127826214, -0.060798708349466324, 0.06400134414434433, -0.01130588911473751, -0.02267683669924736, 0.05400568246841431, 0.06664661318063736, 0.038851018995046616, 0.03635307401418686, -0.00023633493401575834, 0.0784296914935112, -0.028968028724193573, 0.0031622496899217367, -0.010743195191025734, -0.09308944642543793, -0.026821734383702278, -0.05006622150540352, -0.0842883437871933, 0.028009751811623573, 0.021127939224243164, 0.041551750153303146, 0.032674118876457214, -0.07018273323774338, -0.025946127250790596, 0.013432481326162815, -0.016633257269859314, -0.030945103615522385, 0.004879332613199949, 0.0894559919834137, 0.0690997913479805, 0.0005181056330911815, 0.016360679641366005, 0.06488201767206192, 0.014150078408420086, -0.017178229987621307, -0.026570333167910576, -0.001987408148124814, -0.011673861183226109, -0.03634649142622948, -0.04932282492518425, 0.03570352494716644, -1.3690784726350103e-05, 0.004067941103130579, 0.03902174159884453, -0.031229160726070404, 0.04422694444656372, -0.05540645495057106, 0.050814591348171234, -0.01166159100830555, -0.03302956372499466, 0.030562935397028923, -0.07652007788419724, -0.0008037600782699883, -0.022227833047509193, 0.05541476979851723, 0.011229660362005234, 0.10987988859415054, -0.06415411829948425, -0.07862822711467743, -1.2684885354353041e-33, -0.051151543855667114, -0.02830616384744644, 0.047210413962602615, 0.07235797494649887, 0.07706911116838455, -0.03703473508358002, 0.016585327684879303, -0.025356397032737732, 0.014142152853310108, -0.023494863882660866, -0.09458912163972855, 0.0317860022187233, 0.029767947271466255, 0.012899531051516533, -0.0044376845471560955, -0.027555320411920547, -0.05220344662666321, -0.023928828537464142, -0.03356052562594414, -0.06386475265026093, -0.014144428074359894, 0.04627459868788719, -0.019652264192700386, 0.04833502322435379, -0.0281218234449625, -0.0029261717572808266, -0.0005464433343149722, -0.11736542731523514, -0.01843186467885971, -0.06764386594295502, 0.04305516928434372, 0.05238357186317444, 0.046129144728183746, -0.027706634253263474, -0.12895040214061737, 0.09110218286514282, 0.07649222016334534, -0.049295153468847275, -0.045505523681640625, -0.01705016940832138, 0.04118311405181885, -0.004739802796393633, 0.023075342178344727, -0.09579957276582718, 0.007472760044038296, 0.01731821335852146, 0.0745173767209053, 0.021415287628769875, -0.039101868867874146, -0.008585956878960133, 0.05939839035272598, -0.00048090628115460277, -0.06551505625247955, -0.01592467725276947, 0.0884588435292244, -0.0029159830883145332, 0.1376311480998993, -0.08335615694522858, -0.01821952313184738, 0.020996997132897377, -0.004542873706668615, 0.03546649217605591, -0.08099207282066345, 0.08167345076799393, 0.02151930145919323, 0.01932513155043125, -0.036708611994981766, -0.002488162601366639, -0.1348612904548645, 0.0009395643137395382, 0.015471866354346275, 0.026315677911043167, 0.0077820392325520515, -0.04767417162656784, -0.008155390620231628, -0.03970308229327202, -0.1606772094964981, 0.025982938706874847, -0.09962178021669388, 0.053776051849126816, 0.036110684275627136, -0.05305700749158859, -0.07879330962896347, 0.057081032544374466, 0.007285100407898426, 0.0633024349808693, 0.003614431945607066, -0.05404144898056984, 0.015230108052492142, -0.04745570197701454, -0.08379926532506943, -0.023286355659365654, -0.11659757792949677, 0.007176175247877836, 0.02948078326880932, -2.950975641624609e-08, 0.06844516843557358, 0.04625941812992096, -0.037834614515304565, 0.010149170644581318, -0.011620242148637772, 0.021296216174960136, -0.04012005031108856, 0.07616071403026581, -0.00536671606823802, 0.04976373165845871, -0.06965986639261246, -0.026121890172362328, 0.03669805824756622, 0.06893162429332733, 0.058235738426446915, 6.575416045961902e-05, 0.11091210693120956, -0.01353664230555296, -0.06190687417984009, 0.0014214563416317105, 0.1142096072435379, 0.04560215026140213, -0.01535970438271761, 0.004893820732831955, 0.0011039949022233486, -0.017037812620401382, -0.010783445090055466, 0.03303815796971321, 0.006098670419305563, -0.014720450155436993, 0.010029946453869343, -0.0259200781583786, -0.05124887824058533, -0.0005106338066980243, 7.015806477284059e-05, -0.024632969871163368, 0.054852090775966644, -0.03380894288420677, -0.0038375044241547585, 0.014403019100427628, -0.05133629962801933, 0.0707918182015419, -0.008032435551285744, 0.07226064056158066, -0.005142302718013525, 0.11867718398571014, -0.01419083122164011, 0.04233108088374138, -0.010095206089317799, 0.01983536407351494, 0.01999450847506523, -0.02093951590359211, 0.017071668058633804, 0.016757391393184662, 0.014612961560487747, 0.10893271863460541, 0.041676465421915054, 0.05064311996102333, -0.08364017307758331, -0.014421587809920311, 0.08706735819578171, 0.039397966116666794, -0.11761367321014404, 0.012675737030804157]",
         "8.835541",
         "1.1460096",
         "5",
         "Hands-on Field Experience and Interdisciplinary Learning in Marine Conservation"
        ],
        [
         "22",
         "R023",
         "Government",
         "My time in Bangkok at Chulalongkorn gave me first-hand exposure to a political system very different from ours. The theoretical frameworks we discuss in class became concrete, and I now have a much more nuanced view of governance.",
         "[0.02840437926352024, -0.0033436347730457783, -0.023008860647678375, -0.04620903730392456, 0.05174325034022331, -0.028179040178656578, -0.050552815198898315, 0.025686994194984436, 0.04752602428197861, 0.030265741050243378, 0.011901149526238441, -0.011538292281329632, 0.018910879269242287, -0.0011051103938370943, 0.07737049460411072, -0.06516427546739578, 0.010897916741669178, -0.04001089185476303, -0.04005356878042221, 0.010740216821432114, -0.05839274078607559, -0.059601329267024994, -0.07973429560661316, 0.038853660225868225, -0.06389012932777405, -0.005348199512809515, 0.07244217395782471, 0.0029187279287725687, -0.01078016683459282, -0.04045718535780907, -0.058531709015369415, -0.012677323073148727, -0.03683764114975929, 0.043553676456213, 0.021812858060002327, 0.10793959349393845, 0.009196107275784016, 0.007663739379495382, 0.052795931696891785, -0.009229198098182678, -0.0006337111117318273, -0.012948806397616863, 0.06286276876926422, -0.08671395480632782, 0.046693895012140274, 0.005702420603483915, 0.012315552681684494, -0.06921600550413132, -0.044978074729442596, -0.10508140176534653, 0.020176688209176064, -0.024395372718572617, 0.03182849660515785, -0.0353432334959507, 0.01676288992166519, -0.04586497321724892, -0.0723690390586853, 0.11171364784240723, -0.044593844562768936, -0.06477293372154236, -0.01045229658484459, 0.056339066475629807, -0.05123643949627876, 0.026710329577326775, 0.04798209294676781, 0.03511442616581917, 0.001218046760186553, 0.044760480523109436, 0.029225822538137436, 0.007284936960786581, -0.001059641595929861, 0.005879919044673443, 0.08572757244110107, -0.007699654903262854, -0.012289278209209442, -0.1628541201353073, -0.045104604214429855, 0.10014853626489639, 0.0010081448126584291, -0.015372874215245247, 0.06667856127023697, 0.11702483892440796, -0.04475395753979683, 0.03536050394177437, -0.032764069736003876, -0.05480774864554405, -0.06310779601335526, -0.026556357741355896, -0.012406331486999989, -0.04270857200026512, 0.03582098335027695, 0.008274588733911514, 0.09679845720529556, -0.0015313701005652547, -0.06249923259019852, 0.025828257203102112, 0.026472657918930054, 0.06994406133890152, 0.04597463831305504, 0.04988010600209236, -0.03892435505986214, 0.029585113748908043, -0.09445629268884659, -0.05129934847354889, 0.02759248949587345, -0.0367659293115139, -0.05659082531929016, -0.05953947454690933, -0.012280639261007309, -0.010249292477965355, -0.08362068980932236, 0.009606962092220783, -0.013521486893296242, 0.0024264100939035416, 0.02636994980275631, -0.014987104572355747, 0.009886376559734344, -0.022380050271749496, 0.03366004675626755, 0.026427142322063446, -0.012562700547277927, -0.13000670075416565, -0.041715383529663086, -0.03146689757704735, 0.022985227406024933, 0.005039940122514963, -0.013269023038446903, 4.110462217470644e-34, -0.02995421178638935, -0.05703822523355484, 0.02859051153063774, 0.09474274516105652, 0.034433990716934204, -0.033027756959199905, 0.032648541033267975, -0.0773317739367485, -0.03205708786845207, 0.020437991246581078, 0.13063842058181763, 0.040063027292490005, 0.030060451477766037, -0.05803366005420685, 0.03742673248052597, 0.03322047367691994, -0.12167910486459732, -0.07239861786365509, -0.011813860386610031, 0.06172613054513931, -0.07023245841264725, 0.05006738379597664, 0.034905415028333664, -0.05405351519584656, 0.12753601372241974, 0.01826333813369274, 0.01684299111366272, 0.01564333401620388, 0.007851793430745602, 0.027887413278222084, -0.006007949821650982, 0.038303036242723465, -0.051947206258773804, 0.003775915829464793, -0.038933031260967255, 0.02314669080078602, 0.05287520959973335, -0.038830600678920746, 0.0810413584113121, -0.08322107046842575, -0.027754662558436394, -0.01918214187026024, -0.06316305696964264, -0.05394265428185463, 0.014318660832941532, 0.12576714158058167, 0.0008160839788615704, 0.03036748804152012, -0.07232387363910675, -0.04061680659651756, -0.010680360719561577, -0.02449873276054859, 0.07065397500991821, -0.011226150207221508, 0.014733562245965004, -0.101299948990345, -0.044871341437101364, -0.01736798696219921, -0.051443666219711304, -0.004114264156669378, 0.05628298595547676, -0.06512003391981125, -0.004464388824999332, 0.03065831959247589, 0.010584350675344467, -0.004873719997704029, -0.09712672978639603, 0.002240863163024187, 0.06381230801343918, -0.06323090195655823, -0.00769150722771883, -0.00845588929951191, -0.06214398145675659, 0.08441001176834106, -0.040873173624277115, -0.023905424401164055, -0.02421882003545761, -0.010516825132071972, -0.06865015625953674, 0.07056871056556702, 0.012317915447056293, 0.006883071269840002, 0.07933361083269119, -0.010021011345088482, 0.05941694974899292, 0.011969451792538166, 0.07646729797124863, -0.030036194249987602, 0.07583248615264893, 0.0854775607585907, -0.10254795849323273, -0.08637256175279617, 0.047772910445928574, 0.017278172075748444, -0.04251720756292343, -3.547646358885479e-33, 0.0419454388320446, -0.027930984273552895, -0.06401568651199341, -0.0068118213675916195, 0.041579678654670715, 0.03940974175930023, -0.015178767964243889, -0.039654526859521866, -0.007335213012993336, 0.002121320925652981, 0.0062509942799806595, 0.018728721886873245, 0.02569861337542534, 0.1293330192565918, 0.02795989252626896, -0.00027026707539334893, 0.015692835673689842, -0.027672573924064636, -0.015623615123331547, -0.005422145593911409, 0.014817353338003159, 0.023769637569785118, -0.056499235332012177, 0.060284700244665146, -0.018158238381147385, 0.016105065122246742, -0.13561789691448212, 0.004778403323143721, -0.07420085370540619, -0.008770608343183994, -0.03166775777935982, -0.023095518350601196, -0.0019936750177294016, 0.0006789381732232869, -0.09944228827953339, 0.01735563576221466, 0.03835981711745262, -0.09677305817604065, 0.05666482448577881, 0.01694152131676674, -0.11032244563102722, -0.09525669366121292, 0.04100693017244339, -0.006414493545889854, -0.050721921026706696, -0.004224592819809914, -0.007947545498609543, -0.019096819683909416, -0.025364484637975693, -0.1524234414100647, 0.015755625441670418, 0.0528927780687809, 0.022309113293886185, -0.03958526626229286, 0.025549227371811867, 0.01168438047170639, 0.05669030174612999, 0.014621135778725147, 0.08177874237298965, 0.024527903646230698, -0.05560721457004547, -0.027828650549054146, -0.13323208689689636, 0.023012693971395493, -0.01619122549891472, 0.030883103609085083, 0.030346285551786423, -0.019729485735297203, 0.10210888832807541, -0.03875916078686714, -0.0795789286494255, -0.04907005652785301, -0.06824667751789093, 0.11452005058526993, 0.001452749245800078, -0.013393441215157509, 0.020738957449793816, 0.08130162954330444, 0.05476363003253937, 0.013294708915054798, 0.021381214261054993, -0.06607618927955627, -0.02839202620089054, -0.11659654229879379, 0.054149895906448364, 0.09704453498125076, 0.04422977194190025, -0.053457412868738174, 0.02288343571126461, -0.04486983269453049, -0.02117156609892845, -0.03181823343038559, -0.05094229057431221, 0.037464093416929245, 0.08360161632299423, -3.634460910006965e-08, 0.10673358291387558, -0.057710010558366776, 0.011613793671131134, -0.003757417667657137, -0.08727762848138809, 0.006675404030829668, 0.019843369722366333, 0.0018575935391709208, -0.06980670243501663, 0.03203411027789116, -0.014900014735758305, 0.019397910684347153, 0.009464927949011326, 0.02865479700267315, 0.00529938330873847, -0.008117858320474625, 0.04699041694402695, 0.0647946298122406, -0.03407103568315506, 0.07388705760240555, 0.07128410786390305, 0.028812183067202568, -0.02054029144346714, -0.062301650643348694, 0.04125364497303963, 0.014500590041279793, -0.003324290970340371, 0.020769037306308746, -0.036524996161460876, 0.050910357385873795, -0.024796999990940094, 0.030064770951867104, -0.10570929944515228, 0.025160908699035645, 0.020720379427075386, 0.030232764780521393, -0.05259936675429344, -0.02145606279373169, 0.08879394084215164, -0.026724278926849365, -0.021925460547208786, -0.0026939238887280226, -0.005697013344615698, 0.027728622779250145, -0.009014405310153961, 0.03744598478078842, 0.03236493840813637, 0.06287254393100739, 0.03472486883401871, -0.008170060813426971, -0.04155384376645088, 0.039372168481349945, 0.016337111592292786, -0.033659398555755615, 0.05492831766605377, -0.03718659281730652, 0.024225182831287384, 0.07240863889455795, -0.058315813541412354, 0.004647003952413797, 0.055583834648132324, 0.062112957239151, -0.07565349340438843, 0.027778852730989456]",
         "11.869757",
         "3.3481054",
         "0",
         "Comparative Perspectives on Economic and Political Systems"
        ],
        [
         "23",
         "R024",
         "Theater",
         "The National Theater Institute program pushed me way outside my comfort zone as a performer. The intensive training and professional connections have been invaluable. I'm a completely different artist now.",
         "[0.04541163891553879, -0.011410021223127842, 0.021299520507454872, 0.018388688564300537, -0.01289911475032568, 0.06375591456890106, -0.009079290553927422, -0.07177041471004486, -0.043029725551605225, -0.06169172748923302, -0.12790778279304504, 0.044021327048540115, 0.05511267110705376, 0.035941336303949356, -0.018266743049025536, 0.0006057896534912288, 0.09780202060937881, -0.03217662498354912, 0.013389553874731064, -0.03126547113060951, -0.0999293252825737, 0.011744181625545025, -0.030278721824288368, 0.029217302799224854, -0.037917908281087875, -0.0013751473743468523, -0.03547072410583496, 0.03098645806312561, 0.01243351399898529, -0.049313824623823166, -0.061454106122255325, -0.016081316396594048, -0.06582342833280563, -0.01685257814824581, 0.07667379081249237, 0.12330269068479538, -0.007297576405107975, 0.012203111313283443, -0.008078066632151604, 0.033472903072834015, 0.05176408961415291, 0.06460005044937134, -0.018000751733779907, -0.003418177366256714, 0.06310238689184189, -0.08196261525154114, -0.05026717111468315, -0.035169798880815506, -0.012872513383626938, 0.015929201617836952, -0.019502421841025352, -0.05553925782442093, 0.03518344461917877, -0.08952807635068893, -0.010434173978865147, 0.006437093019485474, 0.04819434508681297, 0.06972330808639526, -0.02667929418385029, 0.016672536730766296, -0.007434988860040903, 0.010741312056779861, 0.0005705948569811881, -0.008662004955112934, 0.05442269518971443, 0.010147567838430405, -0.04136957973241806, 0.07513090968132019, 0.022314928472042084, -0.06203347072005272, -0.021096020936965942, -0.019107820466160774, 0.04398112744092941, -0.017956312745809555, 0.07787027955055237, 0.020216234028339386, -0.026015697047114372, -0.08539250493049622, 0.03158828243613243, 0.002258192515000701, 0.1404738426208496, 0.012811481021344662, 0.00032920806552283466, -0.019447768107056618, -0.032860781997442245, -0.06855173408985138, -0.005666359793394804, 0.008126743137836456, -0.013188042677938938, 0.02368859015405178, 0.05311335623264313, 0.030228404328227043, -0.0674329549074173, -0.0028597135096788406, 0.08079323917627335, -0.014741269871592522, -0.07694723457098007, 0.020903175696730614, -0.0031733554787933826, 0.05561791732907295, -0.015093733556568623, 0.020051414147019386, -0.005473299417644739, -0.06693046540021896, -0.003860152093693614, -0.06153525412082672, 0.0024220957420766354, 0.05116167291998863, -0.07747968286275864, 0.006333198398351669, 0.04143410176038742, 0.06626072525978088, 0.021398279815912247, 0.03713925555348396, 0.0598696693778038, 0.08250759541988373, -0.06360629200935364, 0.044521261006593704, 0.04707353189587593, 0.020003831014037132, -0.01913096010684967, 0.08924691379070282, -0.013384588062763214, 0.049111489206552505, -0.10765290260314941, -0.0630149096250534, -0.08314991742372513, -6.113591834993172e-34, -0.02781795524060726, 0.015464842319488525, 0.04135875776410103, 0.049387671053409576, 0.010901828296482563, -0.020669899880886078, -0.06612516194581985, 0.02088063769042492, -0.03898368775844574, 0.021593060344457626, 0.11923684924840927, 0.07150150090456009, 0.03532830998301506, 0.028967849910259247, -0.0005332313594408333, 0.023018158972263336, -0.053305599838495255, 0.018262425437569618, -0.016280805692076683, 0.023659471422433853, -0.06695836037397385, 0.04478880763053894, -0.05425894632935524, 0.005737443454563618, -0.05517006665468216, 0.06336334347724915, -0.045954909175634384, 0.024457402527332306, -0.0016602627001702785, -0.024185704067349434, -0.017761243507266045, 0.08744966983795166, 0.018748149275779724, -0.0503917932510376, 0.052714984863996506, -0.017260709777474403, -0.015113407745957375, -0.06757357716560364, 0.0018073217943310738, 0.022078707814216614, -0.045833002775907516, 0.0812847837805748, 0.026679277420043945, 0.017367741093039513, 0.020145263522863388, 0.12393761426210403, 0.023965999484062195, -0.0118253817781806, -0.019999315962195396, 0.04000662639737129, -0.0724196657538414, 0.056230708956718445, -0.036427196115255356, -0.053376734256744385, 0.0353301577270031, -0.0634964257478714, 0.002606829861178994, -0.008464472368359566, 0.016854533925652504, -0.11229359358549118, 0.05129428207874298, 0.09231642633676529, -0.0023309150710701942, 0.0188766997307539, -0.01735042594373226, 0.018956126645207405, -0.029265886172652245, -0.054151661694049835, 0.116872139275074, -0.023427588865160942, -0.07450338453054428, 0.001597579219378531, 0.019198305904865265, -0.035270314663648605, 0.01951460726559162, -0.11634591966867447, -0.06766239553689957, -0.0607181191444397, 0.018091285601258278, -0.007814537733793259, 0.03454562649130821, 0.09835454821586609, -0.055046431720256805, -0.0003291713946964592, 0.09888210147619247, -0.03636743873357773, -0.027218284085392952, -0.027109665796160698, 0.0470518134534359, 0.09230998158454895, 0.038670483976602554, -0.022249650210142136, -0.046515874564647675, -0.019107947126030922, -0.06394201517105103, 1.2615804857433077e-34, 0.10034535825252533, 0.04058437421917915, 0.037986282259225845, -0.0010529725113883615, 0.053358860313892365, -0.05593142658472061, -0.06721988320350647, 0.04152499884366989, 0.023321231827139854, 0.11301730573177338, 0.06449650228023529, 0.010237733833491802, 0.004855407867580652, -0.024908918887376785, -0.025858528912067413, -0.12083106487989426, -0.05593371391296387, 0.07522919028997421, -0.008546194061636925, -0.0351669043302536, 0.048056814819574356, 0.058330319821834564, 0.03749929368495941, -0.05917694792151451, -0.07441777735948563, 0.036548763513565063, -0.020301491022109985, 0.05395873263478279, -0.028506368398666382, -0.040463898330926895, 0.033851251006126404, 0.00019479084585327655, -0.060007065534591675, -0.08178068697452545, 0.009310879744589329, 0.07866216450929642, 0.029198767617344856, -0.05981360375881195, -0.09972964972257614, -0.044568225741386414, -0.060398172587156296, -0.04234455153346062, 0.008503874763846397, 0.06759609282016754, 0.03662864491343498, -0.006267753429710865, -0.028979580849409103, -0.03649264946579933, -0.03979974240064621, -0.023182353004813194, -0.10874822735786438, -0.003471820615231991, 0.034345850348472595, -0.10555431246757507, 0.03181568533182144, 0.0009597516618669033, 0.0590939037501812, -0.02155747264623642, -0.057773713022470474, 0.06712391972541809, -0.01927635632455349, 0.025859959423542023, -0.029316619038581848, -0.03315473720431328, 0.03723210468888283, 0.044381748884916306, -0.023939089849591255, 0.03169792518019676, -0.043354202061891556, 0.05993420258164406, -0.03854282572865486, 0.051977355033159256, 0.007807488553225994, 0.08016542345285416, -0.1429833173751831, -0.02137337252497673, 0.04947224631905556, 0.013786043040454388, -0.014626366086304188, 0.009515587240457535, -0.049364205449819565, -0.06783796846866608, 0.0008088914328254759, -0.023535268381237984, 0.07062220573425293, 0.19576136767864227, -0.01506612729281187, -0.03837240859866142, -0.04033701866865158, 0.059622254222631454, 0.07366528362035751, -0.022672513499855995, -0.0014700033934786916, -0.0896437019109726, 0.0012248697457835078, -3.218711341901326e-08, -0.059064093977212906, 0.042724739760160446, -0.0046946885995566845, -0.021928980946540833, -0.010936833918094635, -0.03381531685590744, -0.015278482809662819, -0.01992703042924404, -0.023572465404868126, 0.06049755588173866, 0.016154328361153603, -0.07200688868761063, 0.07438810914754868, -0.0003548807871993631, 0.07920937985181808, -0.04443914070725441, 0.05764085426926613, 0.0075422627851367, -0.05160294100642204, 0.03803456574678421, 0.003158115316182375, 0.03702530264854431, -0.008129809983074665, -0.042013030499219894, -0.047065719962120056, -0.0007549626752734184, 0.03220777213573456, 0.008833558298647404, -0.07662642002105713, 0.028451506048440933, -0.04353197291493416, 0.03806973248720169, -0.015108989551663399, -0.007204880006611347, -0.020309314131736755, -0.08125804364681244, 0.00947012659162283, -0.0469125434756279, -0.004437646362930536, 0.004217387642711401, -0.026014618575572968, -0.0021420682314783335, 0.06291535496711731, 0.0608774870634079, 0.04924783110618591, 0.05419822037220001, 0.09797460585832596, 0.049969982355833054, -0.020410586148500443, 0.05601316690444946, -0.034908782690763474, -0.009638488292694092, -0.06132865324616432, -0.02026951313018799, 0.03806193545460701, -0.025063535198569298, -0.05207580327987671, 0.12288332730531693, -0.08094806224107742, 0.10150867700576782, -0.03326448053121567, -0.0691303238272667, -0.09282437711954117, 0.0022452306002378464]",
         "8.532899",
         "4.197861",
         "-1",
         null
        ],
        [
         "24",
         "R025",
         "Anthropology",
         "Cuba program changed my life!! The immersive fieldwork experience confirmed that anthropology is what I want to do with my life. Plus made amazing friends and improved my Spanish sooooo much.",
         "[0.024010885506868362, 0.06564275175333023, 0.03708813712000847, 0.03378499299287796, 0.01143327821046114, -0.04328709840774536, -0.07386111468076706, -0.06358880549669266, -0.013716449961066246, 0.050515979528427124, -0.02195594646036625, 0.02141149528324604, -0.00039793422911316156, 0.058519814163446426, 0.01311149075627327, -0.0027480844873934984, -0.06668110191822052, -0.029415328055620193, 0.08035606145858765, -0.0044454843737185, -0.08171837031841278, 0.009438292123377323, -0.015817908570170403, 0.018432876095175743, 0.015557078644633293, 0.0737886056303978, 0.07077021151781082, 0.02120271511375904, -0.026935480535030365, -0.05519098415970802, -0.0731365904211998, 0.11049482226371765, -0.05220775678753853, 0.026897646486759186, 0.014376895502209663, 0.045750897377729416, 0.056628648191690445, -0.09243211895227432, -0.010946009308099747, 0.020839381963014603, -0.05979158356785774, 0.02952609956264496, 0.11496111750602722, -0.031678177416324615, 0.02061900496482849, -0.13943718373775482, 0.014825580641627312, 0.00145790446549654, 0.02709629014134407, 0.017860492691397667, 0.02107679657638073, -0.028753746300935745, -0.05168012157082558, -0.03849662095308304, 0.0017083782004192472, 0.04223155602812767, -0.005096457898616791, 0.0642094537615776, -0.060137271881103516, 0.02028549835085869, -0.0300234854221344, 0.004653142299503088, 0.003168055322021246, 0.007407543249428272, 0.004047594964504242, -0.02501615881919861, -0.038480497896671295, 0.06599914282560349, -0.03189403936266899, -0.08361724764108658, -0.03465950861573219, 0.0016731886425986886, 0.019283901900053024, 0.052244506776332855, 0.05983927473425865, -0.03640469163656235, -0.015193147584795952, -0.03277333453297615, -0.00889933668076992, -0.00953703187406063, 0.1390502005815506, -0.002927478402853012, -0.07432091981172562, -0.03610658273100853, -0.03034099191427231, -0.0639900267124176, -0.07933052629232407, 0.01655867137014866, 0.05496141314506531, 0.013090003281831741, 0.03501890227198601, -0.057464711368083954, -0.01440445426851511, 0.051943350583314896, -0.023460255935788155, 0.010326813906431198, -0.041437357664108276, 0.05490712448954582, 0.004073258955031633, -0.013302846811711788, 0.01665705069899559, -0.003296309383586049, 0.007736590225249529, -0.022684676572680473, -0.011768111027777195, 0.03438019007444382, 0.06204858794808388, 0.018016109243035316, 0.04370221495628357, -0.012665274553000927, -0.04719527065753937, 0.004618828184902668, -0.01058569923043251, 0.022818149998784065, 0.009789954870939255, 0.08116104453802109, 0.086339071393013, 0.07313892245292664, 0.012779062613844872, 0.03498503565788269, 0.03180495277047157, 0.041039448231458664, 0.008479557000100613, -0.024983635172247887, -0.019644664600491524, -0.014871656894683838, 0.05621189996600151, -1.041307354407604e-33, -0.012565407902002335, -0.015343989245593548, -0.009001670405268669, 0.09570278972387314, 0.07473395019769669, 0.029952261596918106, -0.04414087533950806, 0.03881393000483513, -0.11749950051307678, -0.0036628053057938814, 0.053314920514822006, 0.1324649602174759, -0.042593568563461304, 0.09030745923519135, 0.02696041390299797, -0.034103572368621826, -0.15412501990795135, 0.020642779767513275, -0.006582934409379959, 0.061574168503284454, 0.048683974891901016, 0.06774856150150299, -0.02131572552025318, 0.039639707654714584, 0.026322802528738976, 0.08102778345346451, -0.047035228461027145, -0.09687654674053192, 0.036930397152900696, -0.003278842894360423, 0.01728256605565548, 0.023883134126663208, -0.09713926166296005, -0.12054961174726486, 0.02728511206805706, -0.02632293850183487, 0.07843650132417679, -0.09363813698291779, 0.03319912776350975, 0.041711606085300446, 0.011376388370990753, 0.02942635491490364, 0.0668628066778183, -0.015399164520204067, 0.01930716075003147, 0.02033148519694805, 0.09934524446725845, 0.03271239250898361, -0.01832837238907814, 0.007909396663308144, -0.11688946187496185, -0.08147969096899033, -0.022661462426185608, -0.03929787874221802, 0.0013090375578030944, -0.03132314234972, 0.0045510935597121716, 0.0790051743388176, -0.015015896409749985, -0.05861721560359001, 0.023532157763838768, -0.00018222264770884067, 0.030847638845443726, -0.05973832681775093, 0.04503793269395828, 0.030583299696445465, 0.05670042335987091, 0.01465579029172659, 0.10004051774740219, 0.00012808729661628604, -0.07312425225973129, -0.07241072505712509, -0.06513604521751404, -0.0318768173456192, 0.00909421592950821, 0.008495654910802841, -0.0019011420663446188, -0.05924592539668083, -0.04485431686043739, 0.020510606467723846, -0.0072664860635995865, 0.06898483633995056, -0.015971552580595016, 0.0031323740258812904, 0.08620211482048035, 0.10880281776189804, 0.041028305888175964, -0.06638167053461075, 0.0415646992623806, 0.014588405378162861, 0.00010750772344181314, -0.019131937995553017, 0.031985387206077576, 0.0308607779443264, 0.025708332657814026, -1.1794216039799878e-33, -0.021792525425553322, -0.06582015007734299, 0.0018555718706920743, -0.03607321158051491, 0.06307294219732285, -0.07969287782907486, 0.002136470749974251, 0.031201688572764397, -0.02102937176823616, -0.046656038612127304, 0.04227306321263313, -0.0051128678023815155, 0.008524290286004543, 0.0922558456659317, -0.08088377118110657, -0.0034790935460478067, -0.03392977640032768, -0.01663869060575962, -0.05896882712841034, 0.04966957867145538, -0.02549448236823082, 0.13015495240688324, -0.053290680050849915, 0.07759103178977966, 0.02866075187921524, 0.010726104490458965, -0.01590551994740963, -0.010654879733920097, 0.054065901786088943, -0.006267759017646313, -0.008064569905400276, 0.1356009542942047, -0.022758295759558678, -0.0688943862915039, -0.0029845722019672394, 0.059505119919776917, -0.013818815350532532, -0.027487892657518387, -0.09197194874286652, 0.005105470307171345, 0.1056465432047844, -0.015755988657474518, -0.06462004780769348, 0.04162287339568138, -0.04849797487258911, 0.040607016533613205, -0.036771342158317566, -0.00934256985783577, -0.03254005312919617, -0.0685088261961937, -0.0635918453335762, -0.04167255014181137, -0.0036329932045191526, -0.07471902668476105, 0.06598194688558578, -0.06232659891247749, 0.034450892359018326, -0.04503057524561882, -0.013384277001023293, -0.020782874897122383, -0.09296925365924835, 0.07625307887792587, -0.0649743378162384, -0.0372440367937088, 0.037316419184207916, 0.05255945399403572, -0.03110663965344429, 0.06435655057430267, -0.09072111546993256, -0.01775478571653366, 0.008428816683590412, 0.013110716827213764, -0.05734006315469742, 0.06416275352239609, -0.03125584125518799, -0.04887307435274124, -0.01306930836290121, -0.017679013311862946, -0.03435890004038811, 0.03892810270190239, -0.019079726189374924, -0.04508485645055771, -0.014468536712229252, -0.012124069035053253, 0.03666676580905914, 0.12335104495286942, -0.10567992925643921, -0.011313467286527157, 0.03597099706530571, -0.013428516685962677, -0.018198946490883827, -0.029281653463840485, -0.02954224869608879, -0.0057662553153932095, -0.07423678040504456, -2.6815493825438352e-08, -0.0051522995345294476, -0.0032273249235004187, 0.041257042437791824, 0.014524600468575954, -0.07777199149131775, -0.011900640092790127, -0.0770263746380806, 0.03211742639541626, -0.039303891360759735, 0.03589451313018799, -0.126252219080925, 0.024084176868200302, 0.04802139848470688, 0.10394725948572159, 0.07546690106391907, 0.01692541502416134, 0.10021958500146866, 0.021751785650849342, 0.03525126352906227, 0.02721671760082245, 0.006901517976075411, 0.044641315937042236, -0.0033842383418232203, -0.031784333288669586, -0.10364357382059097, 0.008056538179516792, -0.010961274616420269, -0.04489230737090111, 0.04715324193239212, -0.009514084085822105, -0.018944278359413147, -0.012240578420460224, -0.1106414720416069, 0.01581602729856968, -0.09746607393026352, -0.12014176696538925, 0.002449551597237587, -0.09596172720193863, 0.03426282852888107, -0.055888831615448, -0.0068716006353497505, -0.05475078895688057, 0.007111144717782736, -0.02432687021791935, -0.060612473636865616, -0.03909267857670784, 0.07573544979095459, -0.05641583725810051, 0.011212654411792755, 0.04843450337648392, -0.022391879931092262, 0.014658343978226185, -0.03067924827337265, -0.021223513409495354, 0.10343243926763535, -0.008386073634028435, 0.013022495433688164, 0.03032032400369644, -0.018528934568166733, 0.0066182054579257965, 0.05539803206920624, -0.04396815225481987, -0.05177663639187813, -0.007100524380803108]",
         "10.143001",
         "1.3654207",
         "3",
         "Research Methodology and Cross-Cultural Perspectives"
        ],
        [
         "25",
         "R026",
         "Biology",
         "The research techniques I learned at Marine Biology Laboratory are ones I wouldn't have been exposed to at Dartmouth. Having that technical expertise has already helped me secure a research position for after graduation.",
         "[-0.05504651740193367, 0.014855927787721157, 0.10744690150022507, -0.05896006152033806, -0.03624510392546654, -0.048379555344581604, -0.07796453684568405, 0.01502434816211462, -0.0747632309794426, 0.06408584117889404, -0.05832492187619209, -0.009007398970425129, -0.015191885642707348, 0.03747234866023064, -0.0593496598303318, 0.030988633632659912, -0.0023205934558063745, -0.01925623044371605, 0.03684031590819359, -0.07130418717861176, -0.08589208126068115, 0.02786802314221859, 0.08955514430999756, -0.011008513160049915, 0.009621652774512768, 0.005690439138561487, 0.0006446559564210474, 0.006413406226783991, -0.03848431631922722, 0.013655077666044235, -0.02191864885389805, 0.09124146401882172, -0.05659278854727745, -0.02648196741938591, 0.02280803583562374, 0.007141681853681803, 0.08126301318407059, 0.017132798209786415, 0.021850477904081345, 0.083722785115242, -0.07414119690656662, -0.0155946034938097, 0.08670102804899216, 0.021018385887145996, -0.05470144748687744, -0.0807977169752121, 0.049628302454948425, -0.05857088789343834, 0.023555723950266838, -0.0405767560005188, -0.053983401507139206, -0.08028688281774521, -0.042343951761722565, -0.07013563066720963, -0.019065039232373238, 0.06219783425331116, -0.027148254215717316, 0.010577453300356865, -0.0023523210547864437, -0.03055296465754509, 0.07878223061561584, 0.019146468490362167, -0.022547228261828423, 0.0011404679389670491, -0.010229285806417465, -0.0006710660527460277, 0.01961655355989933, 0.03783904016017914, 0.11175274103879929, -0.04641881212592125, 0.009385969489812851, -0.009133534505963326, -0.04217231646180153, 0.03803543001413345, 0.054503340274095535, 0.021283799782395363, 0.05240883305668831, 0.018636267632246017, 0.1010778546333313, 0.020443633198738098, 0.03155581280589104, 9.385756857227534e-05, 0.008755424991250038, 0.014125682413578033, -0.04653976112604141, -0.05388454347848892, 0.021237684413790703, 0.06021231785416603, -0.03569233790040016, 0.045200545340776443, 0.07350315153598785, -0.11856875568628311, -0.0314205028116703, -0.02509305439889431, -0.05896815285086632, -0.04044649377465248, -0.003628628561273217, 0.020480824634432793, 0.04333328455686569, 0.005343030206859112, 0.013288063928484917, -0.029727943241596222, -0.01743452064692974, 0.020490305498242378, -0.021278798580169678, -0.006543750409036875, 0.06096344441175461, -0.004851209931075573, 0.090391606092453, -0.029359957203269005, -0.015533406287431717, 0.06155906245112419, -0.04338230565190315, 0.10013093799352646, -0.05093901976943016, 0.10279492288827896, -0.025014592334628105, -0.06409585475921631, 0.0335233099758625, 0.0638376995921135, -0.016474558040499687, -0.006063299253582954, -0.03139955550432205, 0.04667109623551369, -0.0017198470886796713, 0.03873100131750107, -0.0841255933046341, 2.3852346173393707e-34, -0.012537765316665173, 0.07553507387638092, -0.005612123291939497, 0.06932628154754639, 0.019497906789183617, 0.005278392694890499, -0.04793676733970642, 0.02575051411986351, 0.009212684817612171, -0.046598490327596664, -0.004894417244940996, 0.1269356608390808, -0.0034178178757429123, -0.006290250923484564, 0.016157686710357666, -0.008378926664590836, -0.02338605932891369, 0.007449552416801453, -0.04337814822793007, -0.038142308592796326, 0.0006450212094932795, -0.08663874119520187, 0.041268035769462585, -0.04026193171739578, 0.036244165152311325, -0.04798344522714615, -0.03519206866621971, -0.021577641367912292, 0.09187722951173782, 0.04584113880991936, 0.02263311669230461, -0.1023547351360321, -0.08311305195093155, -0.03457221761345863, 0.006415513809770346, 0.06033407896757126, -0.0039184559136629105, -0.0739934891462326, 0.03976298123598099, 0.03970804437994957, -0.035804178565740585, 0.06522029638290405, 0.0648927241563797, 0.027061615139245987, 0.023456569761037827, -0.005659391172230244, 0.02453567087650299, -0.010075479745864868, 0.013140865601599216, 0.004515627399086952, -0.04045458137989044, -0.025093719363212585, 0.04639117419719696, -0.12774983048439026, 0.032716017216444016, 0.13868683576583862, 0.048966117203235626, 0.04637425020337105, -0.08447887748479843, 0.023835277184844017, -0.04929514229297638, 0.07472551614046097, -0.026046335697174072, -0.038329076021909714, 0.013544104062020779, 0.10211296379566193, -0.02061506360769272, -0.03418596088886261, 0.08745244145393372, -0.0013624569401144981, -0.07276229560375214, -0.027169518172740936, 0.03130648657679558, -0.051851384341716766, 0.00032950102468021214, -0.029518043622374535, -0.0021051198709756136, -0.02589329518377781, -0.031048312783241272, 0.006410588510334492, 0.023847030475735664, -0.05226929858326912, -0.03905145823955536, 0.030201582238078117, -0.0043412670493125916, 0.020259127020835876, 0.10237443447113037, 0.03180043771862984, 0.08951626718044281, 0.04174644127488136, 0.05690964683890343, -0.05212559551000595, -0.03941858932375908, 0.020593147724866867, -0.04124699532985687, -1.140803308477614e-33, -0.060083888471126556, -0.0541386716067791, -0.01501281838864088, -0.002122004982084036, 0.036987945437431335, 0.04665438458323479, 0.058619145303964615, -0.08942080289125443, -0.020865442231297493, -0.07010417431592941, 0.007849160581827164, 0.07016284763813019, -0.027648646384477615, 0.009438982233405113, -0.028534721583127975, -0.05042101442813873, -0.06602610647678375, -0.056027691811323166, -0.03760044649243355, -0.01769023761153221, -0.049041956663131714, -0.007069481071084738, 0.01234295405447483, 0.030696198344230652, -0.0431293360888958, 0.025471817702054977, -0.02589305303990841, -0.05456065759062767, -0.03362687677145004, -0.05167466774582863, 0.009636156260967255, 0.09316568821668625, -0.00010217729141004384, -0.029671598225831985, -0.038957495242357254, 0.05485616624355316, 0.07147414237260818, 0.015553327277302742, 0.011888309381902218, -0.03244640305638313, -0.0008555757813155651, -0.041384488344192505, -0.02549094893038273, -0.09234680235385895, 0.003429725533351302, 0.048445817083120346, -0.009214063175022602, 0.03290211409330368, 0.02634589746594429, 0.0012923397589474916, -0.026269400492310524, 0.005861413199454546, -0.002814301522448659, -0.10831905156373978, 0.06886530667543411, -0.018186617642641068, 0.038613516837358475, -0.03162608668208122, -0.014867437072098255, 0.04673387110233307, 0.02872336097061634, 0.019866161048412323, -0.03137330710887909, -0.003973706159740686, -0.03778960928320885, 0.02805166505277157, -0.042561616748571396, 0.05423230677843094, -0.0914309173822403, 0.04134392738342285, 0.015178495086729527, 0.06999065726995468, 0.04068819805979729, -0.013635004870593548, -0.0334041565656662, -0.05018472671508789, -0.0606691874563694, -0.10844028741121292, -0.10851806402206421, -0.018355485051870346, -0.027241315692663193, -0.056648850440979004, -0.018795903772115707, 0.012162713333964348, 0.027887318283319473, 0.025616932660341263, 0.052003875374794006, 0.006571832112967968, -0.02150554582476616, -0.1613101214170456, -0.04705875739455223, -0.07353093475103378, -0.0859343558549881, -0.045767299830913544, 0.0009209203999489546, -3.152564076458475e-08, 0.10578647255897522, -0.01292655523866415, 0.07949500530958176, 0.060630038380622864, -0.04893901199102402, 0.0108867846429348, -0.1320030242204666, 0.07994290441274643, 0.031770721077919006, -0.05265296250581741, -0.07709953188896179, -0.015072573907673359, -0.0048914882354438305, 0.07569840550422668, 0.09095261991024017, 0.06688991189002991, 0.05482199043035507, -0.09019847214221954, -0.04732176661491394, -0.027696125209331512, -0.025841429829597473, 0.0755249634385109, -0.0071356878615915775, 0.04422561451792717, 0.0013811590615659952, 0.05304468423128128, 0.09641778469085693, 0.010729361325502396, 0.053469859063625336, -0.00518316775560379, -0.025494147092103958, -0.015222815796732903, -0.056877512484788895, 0.04038570076227188, 0.07883264869451523, -0.04545637220144272, -0.0011241972679272294, -0.005271009635180235, -0.03848596662282944, 0.037422727793455124, -0.06390321254730225, -0.010033703409135342, -0.03263825923204422, 0.07384063303470612, 0.007744092959910631, 0.07512019574642181, 0.07446450740098953, 0.07010067254304886, 0.022606585174798965, 0.05250594764947891, 0.07880347967147827, 0.007176025304943323, -0.031195206567645073, 0.015531735494732857, -0.05053866282105446, 0.16199153661727905, 0.0011516056256368756, -0.07424785941839218, -0.1398395299911499, 0.04496290162205696, 0.04871762543916702, 0.015208528377115726, -0.022509204223752022, 0.011474624276161194]",
         "8.7411995",
         "2.0736823",
         "6",
         "Mentorship and Technical Skill Development"
        ],
        [
         "26",
         "R027",
         "Asian Studies",
         "Keio University's approach to international relations from an Asian perspective completely changed how I understand global politics. The academic perspective was so different from what we get in US classrooms.",
         "[0.002278847387060523, 0.07409386336803436, 0.020053351297974586, 0.0014080082764849067, 0.022923341020941734, -0.019561640918254852, -0.06459715962409973, -0.019307199865579605, 0.032223086804151535, 0.0098695894703269, 0.00024599445168860257, 0.04133862257003784, -0.08535327017307281, 0.02602306380867958, -0.0005359295173548162, 0.04981837421655655, -0.033287640661001205, -0.03408382087945938, -0.11274134367704391, -0.025262674316763878, -0.0019440564792603254, -0.06093914434313774, 0.010916467756032944, 0.003335470100864768, -0.039802636951208115, 0.015335368923842907, 0.10285943001508713, 0.018074054270982742, -0.03470901772379875, -0.021079793572425842, -0.03715323284268379, 0.0654844269156456, -0.05282237008213997, 0.02982523664832115, 0.06535699218511581, 0.0881137102842331, 0.06910034269094467, 0.013793393038213253, -0.004099390469491482, -0.010842027142643929, 0.009528616443276405, 0.0031835276167839766, 0.07959648221731186, -0.12227169424295425, -0.0138280363753438, -0.01000851672142744, -0.011876589618623257, -0.030438635498285294, -0.0029786142986267805, -0.0012312394101172686, -0.039912085980176926, -0.0005757060134783387, -0.011659172363579273, -0.044113919138908386, 0.05762145295739174, -0.03599908947944641, 0.023722847923636436, 0.08027981221675873, -0.04106102138757706, -0.07234375923871994, -0.054513197392225266, -0.04588736221194267, 0.05687796324491501, 0.10524002462625504, -0.008255258202552795, -0.02211575210094452, -0.036947257816791534, 0.03399989381432533, -0.020809436216950417, -0.012011739425361156, 0.016099223867058754, 0.056758880615234375, 0.09041019529104233, -0.02784896083176136, 0.036291394382715225, -0.08612792193889618, 0.07367467880249023, 0.05239256098866463, 0.01693565770983696, -0.006876204162836075, 0.08726013451814651, 0.06825621426105499, 0.029403822496533394, -0.08525127172470093, 0.03335778787732124, -0.02729719877243042, -0.024485718458890915, -0.10647177696228027, -0.028817377984523773, 0.054434213787317276, -0.026693983003497124, -0.05834278464317322, 0.055308640003204346, 0.04936028644442558, -0.007707607001066208, -0.02004770003259182, 0.05009926110506058, 0.029763011261820793, 0.01312181819230318, 0.05944241210818291, -0.02411533333361149, 0.05819094553589821, -0.09319299459457397, -0.050621870905160904, -0.011027906090021133, -0.08610787242650986, -0.010641221888363361, -0.034299902617931366, -0.0702882632613182, 0.06451482325792313, -0.039107613265514374, -0.04249102622270584, -0.04357507824897766, 0.03623904287815094, 0.05254009738564491, -0.058727726340293884, 0.08703835308551788, 0.0072957370430231094, -0.0176024679094553, 0.01666739583015442, -0.007439370267093182, -0.09019038826227188, -0.06498654186725616, -0.02652803063392639, -0.07238434255123138, -0.05355405807495117, 0.021353160962462425, -2.166356008012826e-33, 0.0007682417635805905, -0.016930485144257545, 0.012722733430564404, -0.009466100484132767, -0.07422526180744171, 0.0018810904584825039, 0.03323516994714737, 0.04371681064367294, -0.012862777337431908, -0.025385838001966476, 0.04883747175335884, 0.16025155782699585, 0.0705963671207428, 0.002146401908248663, 0.046455539762973785, 0.024398835375905037, -0.11827674508094788, 0.06042366847395897, 0.022806700319051743, 0.07069908827543259, -0.022546932101249695, 0.04119130223989487, 0.05905333161354065, -0.11665371805429459, 0.043097879737615585, 0.08353730291128159, 0.02490038424730301, -0.01632899045944214, -0.06456556916236877, 0.01925259456038475, 0.026377763599157333, 0.004521293565630913, -0.15968263149261475, 0.014837078750133514, 0.015170371159911156, 0.0318426787853241, -0.008277405053377151, -0.0413234680891037, 0.0009140180773101747, -0.043107789009809494, 0.014513186179101467, 0.014952498488128185, -0.09041380882263184, -0.019286366179585457, 0.08852614462375641, 0.07605894654989243, 0.014288731850683689, -0.03266241028904915, -0.009846806526184082, -0.0033598500303924084, -0.08279818296432495, -0.02520669810473919, 0.059451133012771606, -0.09186612814664841, 0.08704856038093567, -0.03441053628921509, -0.016677897423505783, 0.022564314305782318, -0.053655121475458145, -0.07900337874889374, -0.0006591524579562247, 0.021134067326784134, -0.036924395710229874, 0.04171881824731827, -0.016230681911110878, 0.011566993780434132, -0.15066517889499664, -0.04590820148587227, 0.0019732490181922913, -0.0945797711610794, -0.01581668294966221, -0.03385729715228081, 0.03548850119113922, 0.06679831445217133, -0.12401296198368073, 0.015643402934074402, 0.011046149767935276, -0.028954779729247093, 0.032009780406951904, 0.048244819045066833, -0.00827403087168932, 0.005292606074362993, 0.14171463251113892, -0.011417356319725513, -0.041933394968509674, 0.08743002265691757, 0.10071180760860443, 0.00418861536309123, 0.13145361840724945, 0.044506628066301346, -0.017611805349588394, -0.08166496455669403, -0.02257552184164524, -0.011677776463329792, 0.0017848588759079576, -8.351394205977984e-34, 0.08455699682235718, 0.014744788408279419, -0.056899938732385635, -0.019362827762961388, 0.03887380659580231, 0.045609548687934875, -0.03775365650653839, 0.017766565084457397, 0.01478162594139576, -0.031116928905248642, 0.05398276820778847, -0.0368206761777401, 0.061530955135822296, 0.12267478555440903, -0.002046688925474882, -0.014259889721870422, 0.08193643391132355, -0.00775565579533577, -0.040663644671440125, -0.007051683962345123, 0.051112100481987, 0.02845616452395916, -0.03882241249084473, -0.028875360265374184, -0.03683246672153473, -0.04694969579577446, 0.07408367842435837, -0.055345647037029266, -0.05834244191646576, -0.020446425303816795, 0.05549538880586624, 0.047494880855083466, -0.06846930831670761, 0.07669389247894287, -0.05323990061879158, 0.02052953466773033, -0.09076697379350662, -0.03663719817996025, 0.04644453898072243, -0.011865787208080292, -0.06311630457639694, -0.05758417397737503, 0.003671526676043868, -0.006483479868620634, -0.043469998985528946, 0.030721932649612427, -0.06138326972723007, 0.04085603356361389, -0.051984965801239014, -0.04552198946475983, -0.05222360044717789, 0.04819534346461296, -0.03365340456366539, -0.09069614857435226, 0.03981499746441841, 0.02005975879728794, 0.027086028829216957, -0.03805742412805557, -0.017309311777353287, 0.015455152839422226, -0.010499116964638233, -0.012119697406888008, -0.008140447549521923, 0.008974021300673485, -0.08492971956729889, 0.055202849209308624, 0.05419920012354851, -0.05690217390656471, 0.02250349521636963, -0.0015164463547989726, 0.017740007489919662, 0.029930785298347473, -0.06525136530399323, 0.004667615983635187, 0.020539643242955208, 0.00952199287712574, -0.031061403453350067, -0.007973687723279, -0.03577534481883049, -0.017290154471993446, 0.03780382126569748, -0.026874789968132973, -0.055399443954229355, -0.03839034587144852, 0.04714392498135567, 0.10639094561338425, 0.014947040006518364, 0.031150666996836662, 0.046276070177555084, -0.0666527971625328, -0.010530427098274231, -0.014022373594343662, -0.05570681765675545, -0.055893149226903915, -0.05930022895336151, -2.789710151773761e-08, -0.03954459726810455, -0.08788100630044937, 0.02079591155052185, 0.09347008168697357, -0.10356254875659943, 0.0354054756462574, -0.04034905880689621, -0.021155793219804764, -0.02394755370914936, 0.05281253904104233, 0.04777528718113899, 0.06922449916601181, -0.04695373773574829, 0.036164890974760056, 0.04055400565266609, -0.03390074148774147, 0.06888103485107422, -0.006059007253497839, 0.0330289751291275, 0.09546298533678055, 0.00696697598323226, -0.019988954067230225, -0.04612698778510094, -0.030342264100909233, 0.07535739988088608, 0.07359695434570312, -0.009122696705162525, -0.004258185625076294, -0.007584440987557173, -0.06986384093761444, -0.01979944482445717, 0.011032218113541603, -0.07552099972963333, 0.011995743960142136, -0.04160843789577484, 0.011760691180825233, -0.00033812870969995856, 0.020052572712302208, 0.030667530372738838, -0.004899384919553995, -0.027874933555722237, -0.005581172648817301, 0.03846656531095505, 0.035186439752578735, -0.02197575755417347, 0.077693872153759, 0.013330921530723572, 0.023995324969291687, -0.02579580247402191, 0.052871283143758774, -0.057662200182676315, 0.019214250147342682, -0.024446265771985054, -0.047619786113500595, 0.1021251529455185, 0.03928171843290329, 0.01738971471786499, -0.031506963074207306, -0.05853039026260376, 0.10057996213436127, 0.06771815568208694, -0.01270055677741766, -0.07625187933444977, 0.04236790910363197]",
         "11.485671",
         "4.180251",
         "0",
         "Comparative Perspectives on Economic and Political Systems"
        ],
        [
         "27",
         "R028",
         "Economics",
         "The biggest benefit was seeing how economic theory plays out differently in European contexts. At Bocconi, the focus on social welfare alongside market efficiency gave me a more balanced view of economic systems.",
         "[-0.02820134535431862, 0.059182602912187576, -0.0757184848189354, -0.06680479645729065, 0.13074417412281036, 0.02060779370367527, 0.006103730760514736, 0.07817608118057251, -0.03211689367890358, -0.026030177250504494, -0.008228916674852371, 0.07653266936540604, -0.010179615579545498, -0.03869251161813736, 0.045188918709754944, -0.05408797785639763, 0.06877577304840088, 0.0021496061235666275, 0.009322469122707844, -0.051526717841625214, -0.07276804000139236, -0.1215948536992073, -0.008788776583969593, 0.08083245903253555, -0.004253084305673838, -0.013754794374108315, 0.009624062106013298, -0.023153437301516533, -0.011323612183332443, -0.04910343885421753, -0.0454489141702652, 0.04358202591538429, 0.09013336896896362, -0.051367830485105515, -0.05081440508365631, 0.0043937829323112965, 0.09072080999612808, -0.023908812552690506, -0.04316513240337372, -0.04958098754286766, -0.01881994679570198, -0.020523054525256157, 0.004576313309371471, -0.020858388394117355, 0.003909044899046421, -0.02517022378742695, 0.05865785852074623, -0.02390560880303383, -0.07629170268774033, -0.025910761207342148, 0.035733412951231, 0.036211833357810974, -0.03592609986662865, -0.042777594178915024, 0.027598347514867783, 0.04077039286494255, -0.034456320106983185, 0.03396482765674591, -0.0405200831592083, 0.01737678050994873, 0.00923925545066595, -0.062486231327056885, -0.018447069451212883, 0.015620505437254906, 0.0881735309958458, -0.0792209655046463, -0.06569132953882217, 0.0372956246137619, -0.1087697446346283, 0.005825214087963104, 0.04495865851640701, -0.06061568856239319, -0.019456207752227783, -0.05854308232665062, 0.04644514620304108, -0.006997684948146343, -0.007179491221904755, 0.00010634073260007426, -0.023211462423205376, 0.02104627527296543, 0.07770946621894836, 0.03658983111381531, -0.0909339189529419, 0.013339619152247906, 0.00024866301100701094, -0.0687318816781044, 0.0028586876578629017, -0.2074834406375885, 0.004367065150290728, -0.02567892335355282, 0.09527795761823654, -0.00698425155133009, -0.040093522518873215, -0.004002412315458059, -0.007441232912242413, 0.01178167387843132, 0.005472281947731972, 0.06987426429986954, -0.0062082065269351006, 0.05657825618982315, 0.013337978161871433, -0.029259534552693367, 0.05501838028430939, 0.03029801696538925, -0.0152326924726367, -0.09379395842552185, 0.015034450218081474, 0.01535910926759243, 0.10346636921167374, -0.014601907692849636, -0.04494770988821983, 0.0033167500514537096, 0.0227955374866724, -0.025842970237135887, -0.01866159588098526, 0.007572990842163563, 0.03527945280075073, -0.01683115027844906, 0.1266554743051529, -0.018194906413555145, 0.0841984823346138, 0.011168194934725761, -0.04507642239332199, 0.0202220119535923, -0.01640041545033455, 0.062451768666505814, -0.05147360637784004, 1.2840555703890452e-33, -0.08236352354288101, 0.00320420996285975, 0.02857908234000206, 0.03118552453815937, 0.010344494134187698, -0.015620141290128231, -0.04755615442991257, -0.03398960456252098, -0.017369244247674942, -0.0045057120732963085, -0.024189677089452744, 0.0846206322312355, 0.08712895214557648, 0.037494249641895294, 0.03404054790735245, -0.0148251848295331, -0.11187054216861725, 0.008825555443763733, 0.0338720865547657, 0.06993331760168076, 0.10217875987291336, 0.0308090653270483, 0.007479051593691111, -0.0021249980200082064, 0.019206000491976738, -0.012523832730948925, -0.023422112688422203, -0.07023677974939346, 0.0033863603603094816, 0.040103815495967865, 0.07574500143527985, 0.1014673113822937, -0.07954585552215576, -0.05352705717086792, -0.02052648924291134, -0.033306192606687546, -0.03842351958155632, -0.12141813337802887, -0.021442830562591553, -0.04625361040234566, -0.04081627354025841, 0.010696882382035255, 0.021133210510015488, 0.04126831144094467, 0.08187253773212433, 0.017664046958088875, 0.00048550128121860325, 0.02515290305018425, 0.034852635115385056, -0.02134072780609131, -0.048340894281864166, -0.015889199450612068, -0.014444037340581417, -0.1029878556728363, 0.018391480669379234, 0.04350918531417847, -0.06344982236623764, -0.0331542082130909, -0.033174991607666016, -0.01856190524995327, 0.005106675438582897, -0.051033321768045425, 0.06610669195652008, -0.0808815285563469, -0.013908187858760357, 0.09765181690454483, -0.00143825716804713, -0.028122292831540108, -0.01042876671999693, -0.012464088387787342, -0.03922661021351814, 0.045661117881536484, -0.000590108335018158, -0.03534859046339989, -0.051738716661930084, 0.09731249511241913, -0.019392943009734154, 0.011477654799818993, -0.03583894297480583, -0.018170643597841263, -0.01818695291876793, -0.03174056112766266, 0.09978058934211731, 0.0030697332695126534, 0.07499421387910843, 0.05715565383434296, 0.039932623505592346, -0.05195463076233864, 0.08057348430156708, 0.011987468227744102, -0.009078062139451504, -0.04331961274147034, -0.009094985201954842, -0.04771982133388519, -0.04017440229654312, -2.4787316931293485e-33, 0.009640069678425789, -0.04331714287400246, -0.03398306667804718, -0.06550756096839905, 0.021018942818045616, 0.007926211692392826, -0.08021954447031021, -0.07431431114673615, -0.03351118415594101, 0.04433456435799599, 0.03241315484046936, 0.01913064531981945, 0.022876014932990074, 0.07670357823371887, -0.03323358669877052, -0.025177884846925735, -0.009698067791759968, -0.07334302365779877, 0.008094889111816883, 0.027086731046438217, 0.03761138767004013, 0.10632070153951645, 0.02577894739806652, 0.015304792672395706, 0.020997026935219765, -0.035256899893283844, -0.13782839477062225, -0.05627180635929108, -0.0032610883936285973, -0.016086678951978683, -0.03963809832930565, 0.06043676286935806, -0.025885596871376038, 0.011765177361667156, -0.024300592020154, 0.11294737458229065, -0.02674599178135395, -0.022125890478491783, -0.009374460205435753, 0.026306690648198128, -0.043305229395627975, -0.0549003966152668, 0.012404641136527061, -0.001926459139212966, 0.027060167863965034, 0.040847048163414, -0.03937065228819847, -0.00023943759151734412, 0.018057197332382202, 0.03566887229681015, 0.06404056400060654, 0.040000058710575104, 0.010488906875252724, -0.05071984604001045, -0.019695904105901718, -0.06760712713003159, 0.047244369983673096, -0.06903688609600067, -0.007702147122472525, 0.02294510044157505, -0.05073965713381767, 0.04977700486779213, -0.07698296010494232, 0.07251239567995071, 0.003463098546490073, 0.0014643138274550438, -0.07067956775426865, -0.04001710191369057, 0.038480691611766815, -0.11583100259304047, -0.09665483981370926, -0.03866467624902725, -0.024289211258292198, 0.1033957302570343, -0.02405334822833538, 0.09662341326475143, 0.03302125260233879, 0.043893080204725266, -0.019302023574709892, 0.08222444355487823, -0.09576185792684555, -0.04778343066573143, 0.022922096773982048, -0.07740972191095352, -0.013222101144492626, 0.026196051388978958, -0.051395874470472336, -0.03519445285201073, 0.06110240891575813, -0.029983200132846832, -0.07371485978364944, -0.03142840415239334, 0.015189317055046558, 0.0283996369689703, 0.09852355718612671, -2.7122974088911178e-08, -0.012918972410261631, 0.022665373980998993, 0.0017292308621108532, 0.12465614080429077, -0.08696615695953369, -0.043294087052345276, -0.06334598362445831, 0.04954134300351143, -0.08054162561893463, 0.09055885672569275, -0.14724119007587433, 0.08351758867502213, 0.01962963491678238, 0.05643268674612045, 0.0818038284778595, 0.025479229167103767, 0.040492136031389236, -0.03073497675359249, -0.02072392776608467, 0.06523922830820084, 0.10755740106105804, 0.04684567078948021, -0.028262661769986153, -0.006475958973169327, -0.0179166030138731, 0.007130159065127373, -0.0029501146636903286, 0.03570486977696419, 0.04399630427360535, -0.0573534332215786, 0.031459975987672806, 0.02091493085026741, -0.05254904180765152, 0.020645497366786003, 0.021191207692027092, 0.029879940673708916, -0.08282292634248734, 0.05462607741355896, 0.02494524046778679, 0.02714434079825878, 0.02860867604613304, 0.005341688636690378, -0.007660865783691406, 0.02512754127383232, 0.02372714690864086, 0.04267238453030586, -0.03802483156323433, 0.04349702596664429, -0.03601166978478432, 0.05433052033185959, -0.007688499987125397, 0.04464232921600342, 0.04995192214846611, 0.029980868101119995, 0.09377124905586243, -0.06900004297494888, 0.04869120568037033, -0.01962856575846672, -0.04096875339746475, 0.06030093505978584, 0.031164275482296944, 0.04405644163489342, -0.03435797616839409, 0.015699241310358047]",
         "11.52275",
         "2.6955132",
         "0",
         "Comparative Perspectives on Economic and Political Systems"
        ],
        [
         "28",
         "R029",
         "Computer Science",
         "The problem-solving approaches at AIT Budapest were so different from what we learn at Dartmouth. I'm now able to tackle coding challenges from multiple angles, which has made me a much stronger programmer.",
         "[-0.04036639630794525, -0.00666707893833518, 0.03563918173313141, -0.034042663872241974, -0.0046478500589728355, -0.018397215753793716, -0.04546600952744484, 0.05243086814880371, -0.10916304588317871, 0.0262078195810318, -0.04374150559306145, 0.01771293580532074, -0.05624998360872269, 0.0271757822483778, 0.04273799806833267, 0.017369993031024933, -0.09524283558130264, -0.055480215698480606, 0.03138784319162369, -0.15489867329597473, -0.05492830276489258, -0.06505930423736572, 0.03328923135995865, -0.037140246480703354, 0.0377444364130497, 0.02265096642076969, 0.04381290078163147, -0.05182662978768349, 0.07157248258590698, -0.054267510771751404, -0.00026463880203664303, 0.06301045417785645, -0.039942044764757156, 0.03588797152042389, 0.014181249774992466, 0.06018126383423805, -0.011794151738286018, -0.03279285505414009, -0.006039672531187534, -0.016855167225003242, -0.06292373687028885, 0.07000528275966644, 0.012184626422822475, -0.07837375998497009, 0.014496239833533764, -0.054181475192308426, -0.054744791239500046, -0.02540876343846321, -0.00673322519287467, -0.029295163229107857, -0.06718716025352478, -0.06045543774962425, -0.01380257960408926, -0.16695553064346313, 0.029696619138121605, -0.009520922787487507, 0.06995609402656555, 0.0759485512971878, -0.03224186971783638, -0.01391463354229927, 0.009267049841582775, 0.009106005541980267, -0.0843355655670166, 0.03392228111624718, 0.007260853424668312, 0.0185202956199646, -0.015824519097805023, 0.044894490391016006, -0.03723945468664169, -0.028457442298531532, -0.044964879751205444, -0.023081449791789055, -0.07920088618993759, 0.07581105828285217, 0.14676335453987122, -0.04313349723815918, 0.0565253309905529, -0.030626222491264343, 0.024814492091536522, 0.07196839153766632, 0.051939770579338074, 0.003312201239168644, -0.004727882333099842, 0.11128203570842743, 0.041129205375909805, -0.07323839515447617, -0.06755707412958145, 0.07461342960596085, 0.08217592537403107, -0.01265114825218916, 0.043579187244176865, -0.10671228915452957, 0.01046826783567667, 0.07680925726890564, 0.06500225514173508, -0.0013584918342530727, 0.024227062240242958, 0.06057343631982803, -0.04705267399549484, 0.014059393666684628, -0.015663105994462967, 0.0537416897714138, 0.0037902449257671833, -0.030061883851885796, -0.014676375314593315, 0.042818985879421234, 0.13347715139389038, -0.016074126586318016, 0.023123646154999733, -0.05424453690648079, 0.0125418771058321, -0.026359830051660538, 0.07278274744749069, -0.07056650519371033, 0.005115801934152842, 0.010445636697113514, 0.02135508693754673, 0.048691526055336, 0.042538028210401535, 0.051758892834186554, -0.019935186952352524, 0.05253387242555618, -0.030335543677210808, 0.06456661969423294, 0.00996649544686079, 0.051111768931150436, -0.0725451186299324, -1.7685784542571568e-33, -0.04688918590545654, 0.03970501199364662, 0.03559057414531708, 0.03028740920126438, 0.04273518919944763, -0.05028467997908592, 0.027586715295910835, 0.08539962768554688, -0.014347299933433533, 0.004339533858001232, 0.03534116595983505, 0.0003408492775633931, -0.01008964516222477, -0.03140120208263397, 0.04259520396590233, -0.03481041267514229, -0.08454723656177521, -0.019688384607434273, -0.1130497083067894, 0.05636690929532051, 0.010260870680212975, -0.08219470083713531, 0.05520540848374367, -0.047447625547647476, 0.06449205428361893, 0.03219728544354439, 0.10887875407934189, 0.012004237622022629, 0.048382483422756195, 0.012701273895800114, -0.0629463791847229, 0.03601973131299019, -0.12286850064992905, 0.08992861956357956, 0.0044798776507377625, 0.0643780529499054, 0.019460007548332214, -0.05610431730747223, 0.03172261267900467, 0.011197790503501892, -0.04475800320506096, 0.08089765161275864, 0.04303884506225586, 0.009968127124011517, 0.10305440425872803, 0.06343524158000946, 0.02697713114321232, -0.03214007616043091, -0.053961131721735, 0.0017891888273879886, -0.12858889997005463, 0.06983407586812973, -0.042813435196876526, -0.055601611733436584, 0.05586184188723564, 0.023600097745656967, 0.0006354659562930465, 0.0010430306429043412, 0.0399647057056427, 0.07851280272006989, 0.009659850969910622, 0.02615589089691639, 0.005933124106377363, -0.012948174960911274, -0.01019162219017744, 0.09398898482322693, -0.08335200697183609, -0.007498619612306356, 0.07971535623073578, 0.019094761461019516, -0.04674644395709038, -0.018750976771116257, 0.052815645933151245, -0.024754852056503296, -0.013034578412771225, 0.022537345066666603, 0.009762155823409557, -0.02458445355296135, -0.040047310292720795, -0.04827829450368881, -0.052045341581106186, 0.016795162111520767, 0.06233643740415573, -0.02908276952803135, 0.06703760474920273, -0.025521185249090195, 0.0832831934094429, -0.02019244246184826, 0.00871657207608223, 0.048142801970243454, 0.051096297800540924, -0.04723670706152916, 0.05175475403666496, 0.04980117827653885, 0.02333122119307518, 1.4314254604417122e-33, -0.06751441210508347, 0.017130209133028984, -0.12875604629516602, -0.04357529431581497, -0.037515170872211456, -0.039500780403614044, 0.014760985039174557, -0.012338395230472088, 0.030988704413175583, 0.02752814255654812, -0.03849463164806366, -0.05525936186313629, -0.04249123856425285, 0.033347804099321365, 0.01188871543854475, -0.06129727140069008, 0.008237889036536217, -0.01498913299292326, 0.026854321360588074, 0.05267082154750824, -0.037885092198848724, 0.0754261165857315, -0.08349840342998505, -0.055468205362558365, -0.01782468892633915, 0.02801530621945858, -0.017362406477332115, -0.03099926747381687, -0.018057823181152344, 0.008913422003388405, 0.035968463867902756, -0.018051424995064735, -0.018741102889180183, -0.020970720797777176, 0.015746332705020905, 0.06456012278795242, 0.055453430861234665, -0.05415932461619377, -0.05697659030556679, 0.042130544781684875, 0.0034608393907546997, -0.09502245485782623, -0.009700584225356579, 0.03104618936777115, 0.05809124559164047, 0.09072116017341614, -0.06382881850004196, -0.03835843876004219, -0.023345064371824265, -0.04330025240778923, -0.043295398354530334, -0.058355044573545456, 0.00020054129709023982, -0.07852065563201904, 3.608949918998405e-05, -0.012924310751259327, 0.08331457525491714, -0.004396091680973768, 0.01348048634827137, 0.037928059697151184, -0.040003616362810135, -0.028337620198726654, 0.07314474135637283, -0.022364452481269836, -0.024756863713264465, -0.0901782438158989, -0.03927680477499962, 0.06531155854463577, -0.10332704335451126, -0.014063447713851929, -0.10058336704969406, 0.03289177268743515, -0.0028429916128516197, 0.02012382447719574, -0.08248952031135559, 0.051531631499528885, -0.017638009041547775, -0.008019670844078064, -0.0735379233956337, -0.035104721784591675, 0.03591474890708923, -0.07260914146900177, -0.012389051727950573, 0.04901716485619545, -0.0282857958227396, 0.08756160736083984, 0.07245255261659622, 0.012551432475447655, -0.021657239645719528, -0.02024018205702305, -0.01348765380680561, 0.060686785727739334, 0.02912943623960018, 0.015383247286081314, -0.004286278039216995, -3.004091198022252e-08, 0.016741348430514336, -0.01658056303858757, -0.04845239967107773, -0.0035582655109465122, -0.07216678559780121, 0.0019520689966157079, -0.07434424012899399, 0.08296602964401245, -0.046167001128196716, 0.06301731616258621, -0.0328298881649971, 0.06896039843559265, -0.014901585876941681, 0.06877239048480988, 0.04064013808965683, 0.053711388260126114, -0.018499573692679405, -0.00667167641222477, 0.0012204617960378528, -0.014743468724191189, 0.06062935292720795, 0.03934118151664734, -0.03430337831377983, 0.010858411900699139, -0.08836785703897476, 0.01413505058735609, 0.0419771745800972, 0.03000449948012829, 0.04988466203212738, -0.007027800660580397, -0.0772119015455246, 0.042198296636343, 0.03888555243611336, 0.02762152999639511, 0.0340275876224041, -0.07834825664758682, 0.038561441004276276, -0.021954145282506943, 0.012303387746214867, -0.031015828251838684, -0.02117929980158806, -0.0321049690246582, 0.01663580723106861, 0.000915016804356128, 0.008283011615276337, 0.031087875366210938, 0.06606436520814896, -0.021649612113833427, 0.03532968461513519, -0.02309344708919525, -0.0021900602150708437, 0.04590464383363724, -0.02677706629037857, 0.04928561672568321, 0.15960188210010529, 0.024980800226330757, -0.06634650379419327, -0.07730253785848618, -0.06303506344556808, 0.10947517305612564, 0.015550869517028332, 0.04786510393023491, -0.0368959940969944, 0.059057965874671936]",
         "6.6073008",
         "4.1964407",
         "1",
         "Collaborative and Innovative Problem-Solving Approaches"
        ],
        [
         "29",
         "R030",
         "Art History",
         "Living in Milan while studying at Bocconi meant I could visit the art we were studying anytime. That kind of immediate access to cultural treasures made art history come alive in ways campus classes never could.",
         "[0.02644417993724346, 0.09325573593378067, 0.0009207907132804394, 0.022097885608673096, -0.018034929409623146, -0.03726727142930031, -0.026003336533904076, -0.07795313000679016, -0.027856679633259773, -0.050652023404836655, 0.051529061049222946, 0.032757703214883804, -0.02146110311150551, 0.020435752347111702, -0.06196596473455429, -0.024116262793540955, 0.01641024835407734, -0.030247488990426064, 0.07766090333461761, 0.024770792573690414, 0.02625502459704876, -0.028427304700016975, 0.017296619713306427, 0.0632629245519638, 0.042904339730739594, 0.048802632838487625, 0.002586954040452838, 0.02427840791642666, 0.04119272157549858, -0.008729636669158936, -0.0737312063574791, 0.11470016092061996, -0.020853180438280106, -0.01954232156276703, 0.011785861104726791, 0.08848914504051208, 0.057190146297216415, -0.008334778249263763, 0.07196947932243347, 0.013690300285816193, -0.027245236560702324, 0.1139824166893959, 0.026112280786037445, 0.0005673853447660804, 0.0400175116956234, -0.07014618068933487, 0.025639109313488007, -0.07310038059949875, -0.03316700831055641, 0.08970258384943008, 0.00157997477799654, 0.01601528190076351, -0.037116795778274536, -0.10341645032167435, -0.03600708395242691, 0.013455723412334919, -0.015695922076702118, 0.03730078041553497, -0.01627263054251671, 0.050886884331703186, 0.0012338734231889248, -0.029612978920340538, -0.009439236484467983, 0.004152885638177395, -0.03792824596166611, -0.060994040220975876, -0.09260033816099167, 0.05213512107729912, 0.0048369173891842365, -0.02650824561715126, 0.09097786247730255, -0.06143500283360481, -0.011372782289981842, 0.06429003179073334, 0.1029730960726738, 0.04577090963721275, -0.014589894562959671, -0.060496337711811066, -0.04043992608785629, -0.08033343404531479, 0.09638804942369461, -0.03479978069663048, -0.045115888118743896, 0.00644734688103199, -0.02172083780169487, -0.01370107289403677, 0.010384095832705498, -0.049325745552778244, 0.048513900488615036, -0.021564127877354622, 0.07747837901115417, -0.007752981502562761, -0.0956968441605568, -0.03851049765944481, 0.027669714763760567, -0.07432994246482849, 0.01586565561592579, 0.05954207107424736, 0.028809014707803726, 0.05994149297475815, -0.037292443215847015, 0.031478654593229294, 0.10112126916646957, 0.029757937416434288, -0.05083376541733742, -0.05813150852918625, 0.03762824088335037, -0.012660983018577099, -0.02002391777932644, 0.0445520281791687, 0.006434382870793343, -0.0213105920702219, -0.024399638175964355, -0.009585036896169186, -0.024516548961400986, 0.06398168951272964, 0.034039098769426346, -0.066868856549263, 0.026860440149903297, -0.026382554322481155, -0.012989322654902935, 0.040427327156066895, 0.00833767931908369, -0.034024111926555634, -0.0499064140021801, -0.08913619816303253, -0.06476851552724838, 2.3816904100361454e-33, 0.03036579117178917, 0.006367545109242201, -0.0013819526648148894, 0.035044342279434204, 0.03405071794986725, -0.02640305459499359, 0.0013363751349970698, 0.02313792146742344, -0.04119322448968887, -0.046923454850912094, 0.10586085915565491, 0.024140560999512672, 0.04796388000249863, 0.04721378535032272, 0.03854672610759735, 0.050773147493600845, -0.028729937970638275, -0.027486393228173256, 0.018699264153838158, -0.006680364720523357, 0.030935220420360565, -0.06227117404341698, -0.007759337313473225, -0.0401625856757164, -0.024451162666082382, 0.04474451020359993, -0.014817100018262863, 0.011244216933846474, 0.008201930671930313, 0.0043142433278262615, 0.06680655479431152, 0.07730017602443695, 0.005746643058955669, -0.09734958410263062, 0.03197384253144264, 0.008037849329411983, -0.009440435096621513, -0.06277209520339966, -0.006746973842382431, -0.0313139334321022, -0.005876542534679174, 0.03359362483024597, -0.006503200624138117, 0.03422244265675545, 0.04554124176502228, 0.039980448782444, 0.01443480420857668, 0.013794885016977787, -0.004801448900252581, -0.003058284753933549, -0.04289223626255989, 0.007192566990852356, -0.08558943122625351, -0.03387456759810448, -0.013759573921561241, 0.09072008728981018, -0.010564403608441353, -0.0045200856402516365, 0.009260491468012333, -0.06973998993635178, 0.0642489567399025, 0.06785515695810318, -0.0011507578892633319, 0.053042713552713394, 0.022418471053242683, 0.040112949907779694, -0.03487899526953697, 0.0022702389396727085, 0.06055689975619316, -0.0761418268084526, -0.0468728169798851, -0.050600677728652954, -0.023828132078051567, -0.07447352260351181, -0.030049286782741547, 0.08535031229257584, -0.04157980531454086, -0.005348432809114456, -0.010418606922030449, -0.019561508670449257, -0.028188573196530342, -0.08522476255893707, 0.05455432087182999, 0.05964137241244316, 0.05334179103374481, 0.1337687373161316, 0.10229240357875824, -0.07334061712026596, 0.015084890648722649, 0.07490610331296921, 0.06063588708639145, -0.034187447279691696, -0.007034812122583389, -0.09040471911430359, -0.10843224078416824, -3.105896316530433e-33, 0.05361250787973404, -0.04710699990391731, -0.014295543543994427, -0.04380226507782936, -0.0319691076874733, -0.05426136031746864, -0.10130586475133896, -0.011429821141064167, 0.0011267426889389753, 0.04628632217645645, 0.05641385540366173, -0.053303398191928864, -0.016853002831339836, 0.007291723508387804, -0.01990976370871067, -0.046230390667915344, 0.0451015830039978, -0.0028578368946909904, -0.1145036518573761, 0.09817222505807877, -0.04041844233870506, 0.06297001987695694, 0.010928086005151272, -0.06129373610019684, -0.15185748040676117, 0.002963908249512315, -0.027853714302182198, -0.022545577958226204, -0.08434794098138809, 0.04764631763100624, -0.024115346372127533, -0.0278412327170372, -0.008913426660001278, -0.022252455353736877, 0.035509999841451645, 0.056588172912597656, 0.04226654767990112, -0.03927376866340637, -0.04899386316537857, 0.04934031143784523, -0.029554985463619232, -0.02578924596309662, -0.08419580012559891, 0.05995381250977516, 0.07883819937705994, -0.02107737585902214, -0.061726536601781845, 0.019889870658516884, -0.07580434530973434, 0.009681632742285728, -0.008377526886761189, -0.029054690152406693, 0.02279210090637207, -0.12250868231058121, 0.05614393949508667, -0.010744436644017696, 0.0334562212228775, -0.0007820921018719673, -0.10588885843753815, 0.042878832668066025, 0.02673950605094433, -0.023913756012916565, -0.10968689620494843, 0.016689470037817955, -0.025356454774737358, 0.03892447426915169, -0.10267865657806396, 0.11259927600622177, -0.0974302589893341, -0.002959264675155282, -0.02013569325208664, 0.02010282315313816, -0.040490005165338516, 0.04980380833148956, -0.07519454509019852, 0.017109107226133347, 0.04684284329414368, 0.06388719379901886, 0.05646958947181702, -0.0007454087608493865, -0.08180461078882217, -0.04161807522177696, -0.07194700837135315, 0.022666776552796364, 0.06553710252046585, -0.012144451960921288, -0.1276971995830536, -0.06869734078645706, 0.07042583078145981, -0.01340560894459486, 0.017101220786571503, -0.00914090033620596, 0.03287731483578682, -0.08674940466880798, 0.014285427518188953, -2.8591280454293155e-08, -0.0488736629486084, 0.04984942078590393, 0.020595733076334, 0.06373631209135056, 0.009440488182008266, -0.0451497882604599, -0.015397658571600914, -0.0016682501882314682, 0.03567260131239891, 0.12619802355766296, -0.07647280395030975, 0.016525065526366234, -0.004208909347653389, -0.039729055017232895, 0.01701550930738449, 0.07468823343515396, 0.1290956735610962, -0.07315807789564133, -0.02704893983900547, 0.002463727258145809, -0.023791572079062462, -0.01581036113202572, 0.0031042832415550947, 0.029976801946759224, -0.07069849222898483, -0.008000531233847141, 0.014421911910176277, 0.024811137467622757, 0.04475525766611099, 0.012378647923469543, -0.0131231052801013, 0.02158205769956112, -0.025132659822702408, -0.031999021768569946, 0.05962499603629112, -0.056281592696905136, -0.010982431471347809, -0.05789439007639885, 0.0058362288400530815, -0.034573204815387726, -0.026432864367961884, -0.13082163035869598, 0.025256022810935974, 0.031681127846241, 0.04950060695409775, 0.06737937778234482, 0.04775488004088402, 0.03601257503032684, 0.007506757043302059, 0.08145193755626678, -0.06735269725322723, 0.03975020349025726, 0.05586070939898491, -0.00993326585739851, 0.1007075384259224, -0.022537551820278168, -0.004315398167818785, 0.05032452940940857, -0.0465807169675827, 0.09898670017719269, 0.08268724381923676, 0.03532092273235321, -0.04898650571703911, -0.012535465881228447]",
         "8.992957",
         "3.6125784",
         "4",
         "Professional Networking and Career Advancement"
        ],
        [
         "30",
         "R031",
         "Linguistics",
         "The language immersion at Yonsei was incredible for my Korean skills. But beyond that, observing how language shapes culture firsthand gave me research insights I'm still unpacking in my senior thesis.",
         "[0.014527050778269768, 0.027148105204105377, 0.07637599110603333, -0.03754496946930885, -0.03537949547171593, -0.06125437468290329, -0.053724583238363266, 0.021768834441900253, -0.02234717831015587, -0.024150624871253967, 0.05983903259038925, -0.0009637009934522212, -0.007939632050693035, 0.0025463257916271687, 0.09671679884195328, -0.032289035618305206, 0.029542721807956696, 0.06514643877744675, -0.06050512567162514, -0.1223260760307312, 0.031182412058115005, -0.048082321882247925, 0.11628565192222595, -0.026305733248591423, 0.035450998693704605, 0.009409693069756031, 0.1001635491847992, 0.011626952327787876, 0.06000485271215439, -0.05599459260702133, -0.08394023030996323, 0.09392338246107101, -0.0012116726720705628, 0.06717685610055923, -0.03877593204379082, 0.08750416338443756, 0.05189139023423195, 0.019683992490172386, -0.015151157043874264, -0.04600616917014122, -0.08646133542060852, 0.009064528159797192, 0.1419166773557663, -0.09897564351558685, 0.1171419769525528, -0.08256947994232178, -0.07114415615797043, -0.040826961398124695, -0.06277073919773102, 0.013013170100748539, -0.03942316770553589, -0.07303664833307266, 0.019099632278084755, -0.011511589400470257, -0.057634539902210236, 0.00656997412443161, -0.015464977361261845, 0.06955099105834961, -0.00570084759965539, 0.03230686113238335, -0.04103722423315048, -0.07452027499675751, 0.0019594053737819195, 0.06273379176855087, -0.02229238674044609, -0.051191940903663635, 0.009182685986161232, 0.027091866359114647, -0.013016586191952229, -0.006478942930698395, 0.016906702890992165, 0.03464348241686821, 0.052042778581380844, 0.06836438179016113, -0.014034220948815346, 0.0318584218621254, 0.022446975111961365, -0.05749906599521637, 0.00493691535666585, -0.06855560839176178, 0.06912984699010849, 0.07005631178617477, 0.05633037909865379, 0.013836715370416641, -0.044356655329465866, -0.048629313707351685, -0.0880790427327156, -0.037755195051431656, -0.02531856670975685, 0.021521063521504402, 0.05443931370973587, 0.0205367524176836, -0.04892200604081154, 0.0035628483165055513, 0.026066739112138748, -0.015342728234827518, -0.10576187819242477, 0.06657371670007706, -0.011948294006288052, 0.007683855947107077, 0.019852174445986748, 0.0418488085269928, 0.03956584259867668, 0.0004479912167880684, -0.029861245304346085, -0.06449447572231293, 0.05036906152963638, -0.046292517334222794, -0.05050352215766907, -0.01614580862224102, -0.011524672619998455, -0.005730046425014734, -0.0327746756374836, 0.06519794464111328, 0.05159715935587883, -0.007729829754680395, 0.0397566594183445, 0.028755487874150276, 0.010355387814342976, -0.02275657467544079, -0.026141701266169548, 0.0005529009504243731, -0.008240513503551483, -0.052139297127723694, -0.01443958654999733, 0.033129096031188965, 0.036919787526130676, 3.177513447607525e-34, 0.04602556675672531, 0.054818689823150635, -0.04337814077734947, 0.05644482001662254, 0.019003378227353096, -0.10169123858213425, 0.036005325615406036, 0.02545003965497017, -0.031241416931152344, -0.06745459139347076, -0.014889487065374851, 0.060179341584444046, -0.06444283574819565, -0.030385352671146393, -0.029952939599752426, -0.04742956906557083, -0.037862323224544525, 0.027304140850901604, -0.04702286794781685, 0.048191193491220474, 0.0611206479370594, 0.03471137955784798, 0.07101503759622574, -0.10465678572654724, -0.01705462671816349, 0.007929287850856781, 0.021352194249629974, -0.08069276809692383, 0.004961671307682991, 0.03871971741318703, -0.01712724380195141, -0.009880724363029003, -0.07580157369375229, -0.027730677276849747, 0.014158238656818867, 0.024385908618569374, 0.06322614848613739, -0.06544152647256851, 0.04588107764720917, -0.037276577204465866, 0.0065629202872514725, 0.03387909755110741, -0.029217464849352837, 0.031354065984487534, -0.0071547008119523525, 0.07915502041578293, 0.030303537845611572, -0.05537284538149834, 0.0025833395775407553, -0.043973371386528015, -0.04745493829250336, -0.04776327311992645, -0.01855964958667755, -0.04582550376653671, 0.08498181402683258, 0.01964736357331276, 0.043570250272750854, -0.007119363639503717, -0.03830590844154358, 0.01096962671726942, -0.024318575859069824, 0.05147786810994148, -0.06200256571173668, 0.02278631553053856, 0.039007339626550674, 0.05044974386692047, -0.06621703505516052, -0.062733955681324, 0.02284369058907032, -0.05872979760169983, -0.038636356592178345, -0.0575263686478138, -0.05594296008348465, -0.004861184861510992, -0.034128423780202866, 0.0012361564440652728, -0.026198945939540863, -0.08556634187698364, 0.02650543302297592, 0.05156838521361351, -0.04614221677184105, -0.015744654461741447, -0.03339899703860283, 0.015197225846350193, 0.0246683768928051, 0.021118272095918655, 0.09309025853872299, -0.08107320219278336, 0.12508803606033325, 0.033234190195798874, 0.06780281662940979, -0.0773714929819107, 0.040109049528837204, -0.05089056119322777, -0.0333961620926857, -5.605427004665139e-34, -0.03356460854411125, 0.030011622235178947, -0.06287803500890732, 0.0713353157043457, -0.00016177953511942178, -0.008899612352252007, 0.004022194072604179, 0.07180117070674896, -0.020807718858122826, -0.09740668535232544, 0.002237966749817133, -0.03537270054221153, 0.09172065556049347, 0.06927098333835602, -0.0343676321208477, -0.0869303047657013, 0.015884922817349434, 0.046553365886211395, 0.012089282274246216, 0.04660109803080559, 0.040212325751781464, 0.05137515813112259, -0.04752720519900322, -0.03509596362709999, -0.029964756220579147, 0.06984047591686249, -0.053729262202978134, -0.02170179970562458, -0.0964016392827034, 0.052212104201316833, 0.08867813646793365, 0.0330660380423069, 0.017734521999955177, -0.026448631659150124, 0.012698596343398094, 0.05277504399418831, 0.014123110100626945, -0.06472771614789963, -0.005080015864223242, -0.02992718107998371, -0.014355781488120556, -0.014239209704101086, -0.06024269759654999, 0.031960055232048035, 0.014232807792723179, 0.0459543876349926, -0.07269883155822754, -0.0017279053572565317, -0.07950182259082794, -0.07887020707130432, -0.04592277854681015, 0.0056747677735984325, -0.0260850191116333, -0.15214593708515167, 0.0008446232532151043, -0.03057009167969227, 0.08615418523550034, -0.08905671536922455, -0.04287136718630791, -0.028663789853453636, -0.057343870401382446, -0.009759616106748581, -0.03374194726347923, -0.04248485341668129, 0.009687568061053753, 0.032735034823417664, 0.14729554951190948, 0.041441719979047775, 0.06317155063152313, -0.10007494688034058, 0.03120618686079979, 0.030954718589782715, -0.03962239623069763, 0.05116342380642891, -0.03747399151325226, 0.0053229196928441525, -0.014338517561554909, -0.011157754808664322, 0.029440423473715782, 0.006247379817068577, -0.03374870494008064, 0.07054641842842102, -0.06578654795885086, -0.028525525704026222, 0.06408601254224777, 0.14700384438037872, -0.05967895686626434, 0.039466604590415955, 0.013620426878333092, 0.004197981674224138, 0.011218272149562836, -0.024530472233891487, -0.06535014510154724, 0.05712492763996124, 0.003946101758629084, -3.034202578078293e-08, -0.031325601041316986, 0.007497384212911129, 0.03405031934380531, 0.04998307675123215, -0.03344995528459549, 0.010647028684616089, -0.06030680611729622, 0.013611380010843277, -0.05781140178442001, 0.10597799718379974, -0.02851869724690914, 0.08555769175291061, -0.020449159666895866, 0.05097842961549759, 0.012564620934426785, -0.012362305074930191, 0.07752333581447601, 0.07810339331626892, 0.0005142050213180482, 0.006441159639507532, 0.14189845323562622, 0.04726328328251839, -0.014582069590687752, -0.015138841234147549, -0.005197780206799507, -0.007447807118296623, -0.10539223253726959, 0.025811174884438515, 0.018315918743610382, -0.07299234718084335, -0.05421112850308418, 0.05114138871431351, 0.009215793572366238, 0.007434368599206209, 0.028201259672641754, 0.013076628558337688, -0.02035951055586338, -0.03240346536040306, 0.024770231917500496, 0.010937956161797047, 0.06048320606350899, 0.005568991415202618, 0.052009135484695435, 0.015032761730253696, 0.02909018099308014, 0.032988257706165314, 0.06042676419019699, -0.023321092128753662, -0.0501338355243206, 0.05983336642384529, -0.04074157774448395, -0.00012355891522020102, -0.034980855882167816, 0.08357749134302139, 0.03831189125776291, 0.0188321340829134, -0.06365452706813812, -0.007938341237604618, -0.07400396466255188, 0.03420067951083183, 0.07399304956197739, 0.12670177221298218, -0.08456198871135712, -0.024286845698952675]",
         "10.714156",
         "5.1885104",
         "2",
         "Language and Cultural Immersion"
        ],
        [
         "31",
         "R032",
         "Geography",
         "Williams-Mystic program taught me field research methods I wouldn't have learned on campus. The hands-on experience collecting and analyzing coastal data has been directly applicable to my senior project.",
         "[0.01263247150927782, 0.0507628470659256, 0.07432162016630173, 0.02239028550684452, -0.014647970907390118, -0.0987621322274208, -0.0896592065691948, -0.03455489128828049, -0.07995615154504776, 0.04918938875198364, -0.012907871976494789, -0.021689096465706825, -0.04635944962501526, 0.02020435407757759, 0.04790389537811279, 0.08941739052534103, -0.055308327078819275, -0.003415250452235341, 0.012626723386347294, -0.008363408036530018, -0.08603949844837189, 0.044192202389240265, -0.049260880798101425, -0.01196996122598648, 0.01213960349559784, -0.016219008713960648, -0.01645534113049507, 0.023610085248947144, 0.024695176631212234, -0.007378002628684044, -0.026164406910538673, 0.11976510286331177, -0.00014968117466196418, 0.03125827759504318, 1.3967323866381776e-05, 0.042907942086458206, -0.017233213409781456, 0.05151422321796417, -0.03224916011095047, 0.10396229475736618, -0.08882084488868713, 0.005678870715200901, 0.1099143847823143, 0.020937347784638405, -0.011548394337296486, -0.09693095833063126, -0.030392566695809364, -0.06191880628466606, 0.04118466004729271, 0.034006860107183456, -0.10216294229030609, -0.03572623431682587, -0.10745573788881302, -0.047453854233026505, -0.024692228063941002, 0.009753675200045109, -0.03050958551466465, -0.030391864478588104, 0.0170229971408844, 0.0025835142005234957, 0.055713143199682236, 0.005898329429328442, -0.10602523386478424, 0.007368016988039017, 0.062059950083494186, 0.05983961001038551, -0.04753049835562706, 0.05084589123725891, 0.057456035166978836, -0.11998412758111954, -0.011187455616891384, 0.029349759221076965, -0.08788268268108368, 0.020023662596940994, 0.050645727664232254, 0.01768394373357296, -0.02114616148173809, 0.027384787797927856, 0.018213916569948196, -0.0776500403881073, 0.04916946962475777, -0.01653941534459591, -0.08618583530187607, 0.0058778561651706696, -0.007880523800849915, -0.022927919402718544, -0.0021271673031151295, 0.060690030455589294, 0.01187876146286726, 0.0403546541929245, 0.0639045387506485, -0.10160908102989197, -0.08277986198663712, -0.03262242302298546, -0.07575108855962753, 0.07527461647987366, -0.023933369666337967, -0.08280206471681595, 0.015161725692451, -0.01229964941740036, 0.021039901301264763, -0.025894850492477417, -0.008388589136302471, -0.0017203710740432143, -0.029209403321146965, -0.05345374718308449, 0.0241191778331995, -0.02066418156027794, 0.026952285319566727, 0.04612479731440544, -0.0194593146443367, 0.024901745840907097, -0.1266244798898697, -0.004176897928118706, 0.022618424147367477, 0.037500813603401184, 0.024317655712366104, -0.022311221808195114, -0.022190023213624954, -0.025222711265087128, 0.001248351065441966, -0.0026932135224342346, 0.04480757936835289, 0.009742439724504948, 0.0002525822492316365, -0.0026220385916531086, -0.022803692147135735, 1.3371768029511775e-33, 0.08513075113296509, 0.058885715901851654, 0.003784723812714219, 0.08223212510347366, -0.0007518322672694921, -0.054202549159526825, -0.046156030148267746, -0.02300865575671196, -0.035516440868377686, 0.016847027465701103, 0.03822360932826996, 0.151937797665596, 0.0063241650350391865, -0.008718593046069145, 0.073513925075531, -0.08858896046876907, -0.035289883613586426, -0.05981069058179855, -0.12327307462692261, 0.0074189756996929646, 0.011290762573480606, -0.00605287728831172, 0.02186383120715618, -0.04870086535811424, 0.06621602922677994, -0.016367172822356224, -0.010160352103412151, 0.0402638278901577, -0.013369170017540455, 0.05830305069684982, 0.030821101740002632, -0.011843761429190636, -0.10289202630519867, 0.005981698632240295, 0.10899058729410172, 0.08862537145614624, 0.021446194499731064, -0.04445628821849823, 0.05651889741420746, -0.028574595227837563, 0.015580687671899796, 0.020366735756397247, 0.06256324052810669, 0.050081342458724976, 0.0044973064213991165, -0.03571021184325218, 0.05804932117462158, -0.014152552001178265, 0.07672601193189621, -0.03911013901233673, -0.042183611541986465, -0.022234534844756126, -0.07124441862106323, -0.05190685763955116, 0.03734061121940613, 0.09040535986423492, 0.03399252891540527, -0.0035097289364784956, -0.08037859946489334, 0.012358538806438446, 0.014869438484311104, -0.00984814204275608, -0.005168428644537926, -0.04825059697031975, 0.010488418862223625, 0.10200485587120056, -0.03742755949497223, -0.01079360581934452, 0.05137009173631668, -0.001632428145967424, 0.001289646839722991, 0.009286213666200638, 0.008515175431966782, -0.001942336792126298, -0.021522892639040947, 0.02845684438943863, 0.024371866136789322, 0.025035608559846878, 0.016593780368566513, 0.04139241203665733, -0.03790361434221268, 0.019899340346455574, -0.019155388697981834, 0.029850391671061516, -0.04072798416018486, 0.01242576539516449, 0.04419182613492012, -0.008527711033821106, 0.012727584689855576, -0.055088188499212265, 0.014475139789283276, 0.07586736977100372, 0.054881367832422256, -0.03354671597480774, -0.05841974914073944, -2.62092169385672e-33, -0.056742794811725616, -0.02341133914887905, 0.04960828274488449, 0.04072091728448868, 0.02015356346964836, -0.05056174844503403, 0.02192511409521103, -0.022281737998127937, 0.050945449620485306, -0.04609198123216629, -0.10670891404151917, 0.05530021712183952, 0.0032827446702867746, -0.007889091968536377, 0.004710751120001078, 0.007174171507358551, -0.007883871905505657, -0.042941924184560776, -0.05593914911150932, -0.02597571164369583, -0.10287173092365265, 0.03541221469640732, -0.01297108456492424, 0.02238200418651104, -0.06399565935134888, -0.0010342660825699568, -0.0030305490363389254, -0.11727597564458847, -0.03859947994351387, -0.04525909572839737, 0.017545489594340324, 0.04946881905198097, 0.038638774305582047, -0.07256157696247101, -0.18133853375911713, 0.0623217448592186, 0.1273622214794159, 0.003097668755799532, -0.021729927510023117, -0.029564380645751953, 0.0716380923986435, -0.008241004310548306, 0.05020502954721451, -0.07867338508367538, -0.0076014273799955845, 0.01344778947532177, 0.024503745138645172, 0.09419369697570801, -0.05762757360935211, 0.05163450911641121, 0.014576255343854427, 0.01449019368737936, -0.00809364952147007, 0.0017322379862889647, 0.07467222958803177, 0.0047873505391180515, 0.1220303401350975, -0.05550208315253258, -0.051999274641275406, -0.00014675973216071725, 0.022074203938245773, 0.040934011340141296, -0.06751425564289093, 0.04677696153521538, 0.017699189484119415, 0.03297314792871475, -0.004088264424353838, -0.05313081294298172, -0.13302619755268097, 0.005614467430859804, -0.006350155454128981, 0.030479086562991142, -0.02814658358693123, -0.027970947325229645, -0.011950149200856686, 0.02366895228624344, -0.10086918622255325, -0.014821993187069893, -0.050260212272405624, 0.06880436837673187, 0.065622478723526, -0.062219392508268356, -0.046381447464227676, 0.07763484865427017, 0.011638824827969074, 0.010892486199736595, -0.027451951056718826, -0.13128747045993805, -0.006559973116964102, -0.02459592930972576, -0.08722537755966187, -0.05476703494787216, -0.10876224935054779, -0.024756714701652527, 0.02376577816903591, -3.305071061276976e-08, 0.08246180415153503, -0.009297472424805164, 0.038609739392995834, 0.03565017879009247, -0.02870173007249832, 0.03407797962427139, -0.006014795508235693, 0.08689981698989868, 0.02653529681265354, -0.000584870926104486, -0.07901465147733688, 0.027476413175463676, -0.01609361544251442, 0.020814701914787292, 0.0692310556769371, -0.014925805851817131, 0.12441816926002502, -0.037863589823246, -0.05909475311636925, 0.00769397197291255, 0.06297651678323746, 0.06134994328022003, -0.01740720309317112, 0.003162930253893137, 0.038273315876722336, 0.054828040301799774, 0.005971467588096857, 0.07508762925863266, 0.04943261295557022, -0.05118144303560257, 0.03216072916984558, -0.016726123169064522, -0.025197334587574005, -0.005289885681122541, 0.023721376433968544, -0.049945782870054245, 0.026172354817390442, -0.010248077102005482, -0.0074597750790417194, 0.03870220482349396, -0.014328984543681145, 0.050378140062093735, -0.04466206207871437, 0.05984249711036682, 0.024374831467866898, 0.12756440043449402, -0.0013773231767117977, 0.01955915242433548, 0.006220721639692783, 0.07084891200065613, 0.013859156519174576, -0.02358095534145832, -0.008175329305231571, 0.02934257499873638, 0.00418899254873395, 0.10790535062551498, 0.014730124734342098, -0.01509862020611763, -0.04983706399798393, -0.02272866666316986, 0.0775500237941742, 0.024506695568561554, -0.11296591907739639, 0.04157690703868866]",
         "8.998984",
         "1.0724568",
         "5",
         "Hands-on Field Experience and Interdisciplinary Learning in Marine Conservation"
        ],
        [
         "32",
         "R033",
         "Mathematics",
         "At Technical University of Denmark, the applied approach to mathematics was very different from Dartmouth's theoretical focus. Having both perspectives has made me much more versatile in my problem-solving approaches.",
         "[-0.06613504141569138, 0.04535173997282982, 0.046266745775938034, -0.06643202900886536, -0.05144687741994858, -0.044562928378582, -0.021413765847682953, 0.11842139065265656, 0.032026685774326324, 0.07758863270282745, -0.03140447288751602, 0.02153889089822769, 0.031760770827531815, 0.01009101327508688, 0.04720819741487503, -0.030402516946196556, -0.019658057019114494, -0.08502575755119324, 0.03216961771249771, -0.034606024622917175, -0.06487639248371124, -0.04826132953166962, -0.005919600836932659, -0.06560153514146805, 0.02297794446349144, 0.026965392753481865, 0.08859992772340775, -0.010128620080649853, 0.018229424953460693, -0.01794155314564705, -0.03576868399977684, 0.1313779652118683, -0.07450086623430252, 0.003710003336891532, -0.040576327592134476, 0.07029396295547485, 0.008692514151334763, 0.025267919525504112, -0.005576152354478836, 0.031773120164871216, -0.066337950527668, 0.01296901423484087, 0.06478022038936615, -0.08377110958099365, 0.01810557208955288, -0.04376867413520813, 0.0029374812729656696, -0.018416784703731537, -0.03192957118153572, -0.05122716352343559, -0.08334596455097198, -0.00705020921304822, -0.06970244646072388, -0.11667224019765854, 0.0364847406744957, 0.03609311208128929, 0.060079894959926605, 0.0786357894539833, -0.014790967106819153, -0.060609158128499985, 0.017616290599107742, 0.015060251578688622, 0.049220066517591476, 0.03992839530110359, 0.011811889708042145, -0.006930215284228325, -0.04390402138233185, 0.007446479983627796, -0.03280074521899223, 0.004075170494616032, 0.011693058535456657, 0.09827913343906403, -0.042364452034235, -0.00016317084373440593, 0.07386705279350281, -0.08332835882902145, 0.019205627962946892, 0.009770919568836689, -0.02487000823020935, 0.031074175611138344, 0.08109243959188461, -0.03482606261968613, -0.05366073176264763, -0.0021176559384912252, 0.008821162395179272, -0.024007493630051613, -0.028718801215291023, -0.02981729619204998, -0.009504062123596668, -0.05630149319767952, 0.09489016234874725, -0.05770622566342354, -0.057103198021650314, 0.06813699752092361, 0.019399384036660194, -0.02138040028512478, 0.02078229747712612, 0.11652685701847076, 0.024147817865014076, 0.04458439722657204, 0.025687597692012787, 0.062009409070014954, -0.032966915518045425, -0.032214511185884476, 0.05430983752012253, -0.03008865937590599, 0.05689828470349312, -0.036597296595573425, 0.06338492780923843, -0.05998118221759796, 0.0023789526894688606, -0.0774858146905899, 0.012747625820338726, 0.04674486070871353, -0.012583539821207523, -0.01072772964835167, 0.03061729110777378, -0.02113824523985386, 0.06142769753932953, 0.03293808922171593, 0.011681711301207542, 0.034864213317632675, -0.007111750543117523, 0.05334434658288956, 0.028185173869132996, 0.08273956179618835, -0.03337286412715912, -2.2338782402339815e-33, -0.1440347284078598, 0.0169856958091259, 0.03368045762181282, 0.06048949807882309, 0.01120669487863779, -0.01925886981189251, 0.009822405874729156, 0.03462250903248787, 0.0870550200343132, -0.034347813576459885, 0.03167855739593506, 0.1312660276889801, 0.04417356103658676, -0.0007440894842147827, 0.05905609577894211, -0.0017715521389618516, -0.06890358775854111, 0.009725653566420078, -0.056011538952589035, 0.04988233745098114, 0.0013278991682454944, -0.0015826481394469738, 0.04010786861181259, -0.008786296471953392, 0.003184475237503648, 0.043870072811841965, 0.03658958151936531, 0.014062483794987202, 0.0460832305252552, -0.01757228933274746, 0.046798791736364365, 0.055103134363889694, -0.14909906685352325, 0.021684087812900543, -0.018054690212011337, 0.005517207086086273, 0.05300277844071388, -0.09152335673570633, 0.004523804411292076, -0.04390101507306099, -0.05960863456130028, 0.03359369933605194, 0.04671245068311691, 0.054066210985183716, 0.04067371413111687, 0.05410328507423401, -0.0020465452689677477, -0.014797519892454147, -0.011225149966776371, -0.043549131602048874, -0.08465724438428879, -0.013547316193580627, 0.04450908303260803, -0.08642519265413284, 0.03853122889995575, 0.02937418594956398, -0.02944895252585411, 0.025601522997021675, -0.008398974314332008, 0.007036544382572174, -0.0052504586055874825, -0.0061086914502084255, -0.01656528376042843, -0.08067017793655396, -0.050554897636175156, 0.07043591886758804, -0.06553936749696732, -0.04600147157907486, 0.03956281766295433, -0.0104804877191782, -0.036184437572956085, -0.008363999426364899, 0.0618961937725544, 0.048188041895627975, 0.0065612029284238815, -0.05198165774345398, -0.0016125771217048168, -0.014640094712376595, -0.056059397757053375, -0.0064149340614676476, -0.0627269521355629, 0.035542868077754974, -0.0212639719247818, -0.04750466346740723, 0.03142924606800079, 0.01197599433362484, 0.0748421922326088, 0.00047301864833571017, 0.08426470309495926, -0.003525370731949806, 0.023447172716259956, -0.021529998630285263, -0.06736935675144196, 0.012266824953258038, 0.033992983400821686, -1.1211206657635525e-33, -0.057919036597013474, 0.046418577432632446, -0.09548278898000717, 0.02786443941295147, 0.07830481231212616, 0.007495125290006399, -0.008682775311172009, -0.030899519100785255, 0.05181826651096344, -0.05133873596787453, 0.03653964027762413, 0.04924049600958824, -0.014602603390812874, 0.056337881833314896, -0.07957827299833298, -0.04449955001473427, 0.008921380154788494, 0.0035475525073707104, -0.0567486509680748, 0.030660418793559074, -0.029478022828698158, 0.0014163544401526451, -0.03659675642848015, -0.07917013019323349, 0.015114600770175457, -0.013007668778300285, 0.038263652473688126, 0.0009413013467565179, -0.09625420719385147, -0.050144974142313004, 0.025880102068185806, -0.008151095360517502, -0.042142104357481, -0.03690122440457344, -0.06323552876710892, 0.04744110628962517, 0.02614266239106655, 0.021038997918367386, 0.03688359260559082, -0.019413258880376816, -0.02788819931447506, -0.11508435755968094, 0.034756194800138474, 0.0044879671186208725, 0.023419732227921486, 0.0380149781703949, -0.025172781199216843, -0.013741428032517433, 0.040904104709625244, 0.0117969810962677, -0.02322574332356453, -0.01169212069362402, 0.044205937534570694, -0.10448615998029709, 0.07454220950603485, 0.0277152881026268, 0.10195601731538773, -0.011866034008562565, -0.037858426570892334, 0.058338675647974014, 0.020194506272673607, 0.02535165846347809, 0.03770773112773895, 0.004170590545982122, -0.07358381152153015, 0.036584384739398956, -0.09583238512277603, 0.03263336792588234, -0.10179401934146881, -0.021538948640227318, -0.14199629426002502, -0.028764884918928146, 0.038911186158657074, 0.036705341190099716, -0.02493075281381607, -0.016733475029468536, 0.01299580279737711, 0.012732154689729214, -0.08374796062707901, -0.07708699256181717, -0.034112222492694855, -0.08434253185987473, 0.007419909350574017, -0.012231849133968353, -0.09294389933347702, 0.036919526755809784, 0.04426718130707741, -0.07817177474498749, 0.023618025705218315, -0.12259235233068466, -0.0737142562866211, -0.011377193033695221, -0.028833424672484398, -0.04860745370388031, -0.03351638838648796, -3.303037843238599e-08, -0.0012829425977542996, 0.028648870065808296, 0.055105503648519516, 0.00012168390094302595, -0.04284151270985603, 0.029474252834916115, -0.07711466401815414, 0.010907983407378197, -0.10922262072563171, -0.005524277687072754, -0.1308073252439499, 0.0776548832654953, -0.06392886489629745, 0.08121183514595032, 0.04575937241315842, 0.037497732788324356, -0.014521844685077667, -0.08906020224094391, -0.018350187689065933, 0.028853705152869225, 0.027598518878221512, 0.08284548670053482, -0.045876313000917435, 0.02161959744989872, -0.015599257312715054, 0.07875446230173111, 0.05788083001971245, -0.05693831667304039, 0.011780117638409138, -0.03796740993857384, -0.048146504908800125, 0.08176818490028381, -0.024157186970114708, 0.05001845583319664, -0.03905874118208885, -0.1020597368478775, 0.03795980289578438, 0.05247218906879425, 0.006964800413697958, 0.003206392517313361, -0.04377801716327667, -0.09667278081178665, -0.020400740206241608, -0.0002567684859968722, 0.050422947853803635, 0.05042482540011406, 0.08451779186725616, 0.03084227815270424, 0.04131021350622177, 0.08085102587938309, 0.011954373680055141, 0.07208968698978424, -0.050148528069257736, -0.015073027461767197, 0.08889305591583252, 0.025977429002523422, -0.020722851157188416, -0.11228831112384796, -0.10852071642875671, 0.062192630022764206, 0.03733834996819496, 0.020511919632554054, -0.0003343875869177282, 0.07361755520105362]",
         "7.0720778",
         "3.4759576",
         "-1",
         null
        ],
        [
         "33",
         "R034",
         "Sociology",
         "Vassar's approach to community-based research methodologies completely changed how I approach my work. I'm now much more conscious of ethical considerations and community engagement in research design.",
         "[0.024704059585928917, 0.059666410088539124, -0.03767673298716545, 0.014829117804765701, 0.0030098494607955217, -0.005449729040265083, -0.07624533772468567, 0.015817390754818916, 0.012217638082802296, 0.02832438237965107, -0.005571017973124981, 0.04330120235681534, -0.07492336630821228, 0.08429627120494843, 0.03459716588258743, -0.023064633831381798, 0.010316179133951664, -0.032261937856674194, 0.003315093694254756, 0.016082389280200005, -0.07781650871038437, 0.03388061374425888, 0.030608203262090683, 0.017748409882187843, -0.007214074023067951, -0.029715521261096, 0.004645036533474922, -0.013133766129612923, 0.008082080632448196, -0.053854480385780334, -0.06783903390169144, 0.02710151858627796, -0.05319466441869736, 0.016722330823540688, 0.0047676158137619495, 0.041359469294548035, 0.042827118188142776, 0.11321511119604111, 0.025148089975118637, -0.005721213761717081, -0.040626160800457, -0.036903124302625656, -0.03531448170542717, -0.037777844816446304, 0.029356222599744797, -0.03137226775288582, -0.015276764519512653, -0.045012690126895905, -0.05551271140575409, -0.019601253792643547, -0.054018326103687286, -0.11103861033916473, -0.025473546236753464, -0.00831461139023304, -0.06106286495923996, -0.06015438586473465, 0.05040614306926727, 0.04746032878756523, -0.014213081449270248, -0.09485280513763428, 0.01785990409553051, 0.0411035418510437, -0.07627975195646286, 0.06434091925621033, -0.009573976509273052, -0.005960577633231878, -0.02902067080140114, 0.021732568740844727, 0.0018693023594096303, -0.06394430994987488, -0.03680124506354332, -0.0003439646097831428, -0.008319730870425701, -0.04333877936005592, 0.05828924849629402, 0.035231780260801315, -0.014513972215354443, 0.01195927057415247, 0.11755312234163284, -0.09100227802991867, 0.12384431809186935, 0.01779966801404953, -0.005404110066592693, 0.10746061056852341, -0.055388953536748886, -0.04722188413143158, -0.038374558091163635, -0.09351275861263275, 0.07676703482866287, -0.03168531134724617, -0.018901735544204712, 0.06154215708374977, 0.04284246638417244, -0.03391038998961449, -0.07012508809566498, 0.007948794402182102, -0.02202107012271881, 0.026345442980527878, -0.006802904885262251, 0.08486393839120865, -0.017295705154538155, -0.02656703256070614, -0.04845164716243744, -0.0828203335404396, 0.021253788843750954, -0.0008224024786613882, -0.009070220403373241, -0.01540799718350172, 0.03602856770157814, 0.05633328855037689, -0.05066468566656113, 0.037143100053071976, -0.04477003589272499, -0.030282147228717804, 0.09412866830825806, 0.023818595334887505, -0.04634131118655205, 0.06469397246837616, 0.020485853776335716, 0.05275971069931984, -0.015908416360616684, -0.04481425881385803, 0.030893536284565926, -0.03348078206181526, -0.01327294111251831, -0.01283793244510889, -0.02537747286260128, -2.160443822441167e-33, -0.04224105924367905, 0.02556648664176464, 0.007987638004124165, 0.08840348571538925, 0.04799789562821388, -0.07052785158157349, 0.05494767054915428, 0.03270043432712555, -0.062147535383701324, -0.05399822071194649, 0.1261950433254242, 0.054006222635507584, 0.057831406593322754, 0.08667679876089096, -0.0169296246021986, -0.0058980374597013, -0.06650687009096146, -0.028783122077584267, 0.0014865503180772066, -0.0329599529504776, 0.04454979673027992, -0.024150047451257706, 0.048417527228593826, -0.007925000041723251, -0.021673934534192085, -0.043764494359493256, -0.01448105089366436, 0.01392247062176466, -0.04275086894631386, 0.05207517743110657, 0.021017465740442276, 0.08819077163934708, -0.0023737922310829163, -0.06941182911396027, -4.1080278606386855e-05, 0.11287819594144821, 0.05123076215386391, -0.09429608285427094, 0.010770934633910656, 0.011423763819038868, -0.03427916020154953, 0.041555847972631454, 0.017178881913423538, -0.054216302931308746, 0.045529428869485855, 0.08407717198133469, 0.03760695084929466, -0.07647757232189178, 0.001135291182436049, 0.032110463827848434, -0.006248037330806255, -0.0011927654268220067, 0.041606489568948746, 0.07452917844057083, 0.07793975621461868, -0.04354880750179291, 0.0024947389028966427, 0.051292940974235535, 0.004734707064926624, -0.08160337060689926, 0.06120118498802185, 0.005363817792385817, -0.01895716041326523, 0.07212723046541214, 0.027316708117723465, 0.018222007900476456, -0.02629641257226467, -0.034808214753866196, 0.04968293756246567, -0.047103509306907654, -0.06212177127599716, 0.006590524688363075, -0.0513632670044899, -0.050713397562503815, -0.1656053364276886, -0.06790965050458908, -0.08912734687328339, 0.04500195384025574, 0.09449949115514755, -0.0387282520532608, -0.037023913115262985, 0.050970759242773056, -0.032114993780851364, 0.03125555440783501, 0.07031381130218506, -0.038374874740839005, 0.028848400339484215, 0.05193551257252693, 0.04954661428928375, -0.029299933463335037, 0.014880883507430553, 0.054420944303274155, 0.07089891284704208, 0.050023943185806274, 0.016867872327566147, 5.085414476977764e-34, 0.0026189321652054787, -0.021666569635272026, 0.017016131430864334, 0.08373387902975082, 0.027378343045711517, -0.028318900614976883, -0.07843659073114395, -0.1082335039973259, 0.09671293199062347, 0.08778737485408783, 0.018987387418746948, -0.04405362904071808, 0.028477532789111137, 0.0702144056558609, -0.0009117033914662898, -0.04456024989485741, -0.042831748723983765, -0.08839016407728195, -0.009384558536112309, 0.01836966723203659, -0.02270343154668808, 0.04397304728627205, -0.11185723543167114, -0.006499789655208588, 0.08246541768312454, -0.018696868792176247, -0.012293612584471703, -0.06065076217055321, 0.03087306208908558, -0.08133168518543243, -0.028845787048339844, 0.05255582928657532, 0.02717764675617218, -0.04175258427858353, -0.023835308849811554, 0.05239414423704147, 0.0033571948297321796, -0.0026967490557581186, 0.01908298023045063, -0.06432133167982101, 0.02747022919356823, -0.017070583999156952, -0.050236139446496964, -0.07144667208194733, -0.016603028401732445, -0.0013506817631423473, -0.019061850383877754, -0.016466939821839333, -0.006553024053573608, -0.037707045674324036, 0.03914809599518776, -0.05179246515035629, -0.029393505305051804, -0.08668351173400879, 0.021368183195590973, 0.042793817818164825, 0.07802103459835052, 0.049925465136766434, -0.03651818260550499, 0.012845072895288467, 0.02598990499973297, -0.0029949399176985025, -0.07319856435060501, 0.006654636934399605, 0.026841947808861732, 0.031046062707901, 0.015546021051704884, 0.010027701035141945, -0.09526237845420837, -0.0022420117165893316, 0.0011530849151313305, -0.038216352462768555, -0.045157041400671005, -0.02783937193453312, 0.011331474408507347, -0.03754785656929016, 0.0409926138818264, -0.03968953713774681, -0.08550919592380524, 0.018852056935429573, -0.007337273098528385, -0.11486290395259857, 0.032009098678827286, -0.059931252151727676, 0.048350319266319275, 0.06204213947057724, -0.05818689987063408, 0.056077100336551666, -0.03551733121275902, 0.016278427094221115, -0.10103554278612137, -0.11335637420415878, 0.031640421599149704, 0.005829893052577972, -0.0072825453244149685, -3.251809843618503e-08, 0.06833822280168533, 0.006408202461898327, -0.002514480147510767, 0.07522144168615341, -0.0010740449652075768, 0.04282985255122185, -0.08228601515293121, 0.0392642579972744, -0.05856267735362053, 0.08451301604509354, -0.015059519559144974, 0.039306510239839554, 0.05247798562049866, 0.129562109708786, 0.047499220818281174, 0.008463944308459759, 0.053101375699043274, -0.02716345340013504, -0.05795939639210701, 0.006329547613859177, -0.005503146443516016, 0.08967723697423935, -0.07335870712995529, -0.06730549037456512, 0.0393272303044796, -0.0019243439892306924, -0.05729222670197487, 0.03728869557380676, 0.0008681847248226404, -0.0812884196639061, 0.023884635418653488, 0.09600644558668137, -0.020938707515597343, -0.0046617076732218266, -0.031012259423732758, -0.06745180487632751, -0.01623626798391342, 0.00933046080172062, 0.06678487360477448, 0.043593697249889374, 0.011074109934270382, 0.012787331826984882, 0.03997368365526199, 0.01848079077899456, -0.07156547904014587, 0.1014375388622284, 0.045532893389463425, 0.09091869741678238, -0.11169992387294769, 0.028874468058347702, -0.08115292340517044, -0.004775966517627239, -0.0008716632728464901, 0.043669190257787704, 0.0904926285147667, 0.05111008509993553, 0.023112738505005836, 0.0451258048415184, -0.0423707515001297, 0.005419763270765543, 0.13735796511173248, -0.021805424243211746, -0.02711106836795807, -0.07970714569091797]",
         "10.281883",
         "0.72797006",
         "3",
         "Research Methodology and Cross-Cultural Perspectives"
        ],
        [
         "34",
         "R035",
         "Environmental Studies",
         "The biggest benefit was the networking with international researchers at University of Auckland. Those connections led to my current research collaboration, which will likely turn into my graduate work.",
         "[-0.01932958886027336, 0.11910860985517502, 0.05905849114060402, 0.049126483500003815, 0.09069722145795822, 0.04554830864071846, -0.04674838110804558, -0.024599911645054817, 0.006973990239202976, 0.05126500129699707, -0.03186801075935364, 0.08253757655620575, -0.029781129211187363, 0.04213108867406845, 0.03441896289587021, 0.026926692575216293, -0.020406121388077736, -0.11442559212446213, -0.018787674605846405, -0.11857254058122635, -0.10140188038349152, -0.04070881009101868, 0.03722986578941345, -0.01153825968503952, 0.06686908006668091, 0.0392104871571064, -0.01268373429775238, 0.010033846832811832, 0.05204712972044945, -0.031213484704494476, -0.033450648188591, 0.05194701999425888, -0.052504055202007294, 0.021093100309371948, -0.009069375693798065, 0.04838617518544197, 0.06607010215520859, 0.0416436605155468, -0.01571858860552311, -0.04875785857439041, 0.026410100981593132, 0.014149817638099194, 0.05715290457010269, -0.0022932051215320826, 0.006622618064284325, -0.1294592022895813, 0.0029373876750469208, -0.0140247056260705, -0.042726486921310425, 0.03010208159685135, 0.05900972709059715, -0.02629430778324604, 0.004004877060651779, -0.07405820488929749, -0.0035806247033178806, 0.018582778051495552, -0.005562972277402878, 0.018019894137978554, -0.07193870097398758, -0.004251908510923386, 0.009769494645297527, -0.058999255299568176, -0.03297412022948265, -0.0031831974629312754, 0.05471334233880043, -0.1141827329993248, -0.010007103905081749, 0.07439425587654114, -0.022530194371938705, -0.031603772193193436, 0.0011446084827184677, -0.05302181839942932, -0.010446666739881039, 0.009525472298264503, 0.05492077395319939, 0.013274287804961205, 0.03334943205118179, 0.00445187371224165, 0.030267994850873947, 0.026991188526153564, 0.15534985065460205, 0.05310192331671715, -0.038725920021533966, 0.04417943209409714, 0.004968356806784868, -0.07160580158233643, 0.0012780955294147134, -0.09481491148471832, -0.0029420373030006886, -0.060483600944280624, 0.026408342644572258, -0.09039747714996338, -0.03185023367404938, 0.03566708788275719, -0.04081648215651512, -0.052882131189107895, -0.07139722257852554, 0.019190272316336632, 0.011138678528368473, 0.036637838929891586, 0.022662781178951263, -0.014027665369212627, -0.003298563649877906, 0.055851418524980545, -0.07082314044237137, 0.03126504272222519, 0.03681687265634537, 0.0046803709119558334, 0.0748373419046402, 0.051803383976221085, -0.04179123789072037, 0.08758625388145447, -0.058454111218452454, 0.052597563713788986, 0.012573936022818089, 0.015586824156343937, -0.009667769074440002, 0.0459459163248539, 0.0779496505856514, -0.0006855239043943584, -0.030059846118092537, 0.025731397792696953, -0.055414412170648575, -0.009624532423913479, -0.10733076184988022, -0.033077169209718704, -0.0636143684387207, -1.4714709713898774e-33, -0.018735986202955246, 0.06554665416479111, -0.024932272732257843, 0.04985339939594269, 0.10028881579637527, -0.0615391805768013, -0.043753188103437424, 0.009565882384777069, -0.07191157341003418, -0.03280144929885864, 0.0013493337901309133, 0.12728410959243774, 0.09106794744729996, 0.044454630464315414, 0.01939000003039837, -0.026576677337288857, -0.033236704766750336, 0.017264176160097122, 0.039204344153404236, 0.042923446744680405, 0.022275762632489204, -0.08223454654216766, 0.034754443913698196, 0.058132871985435486, -0.005916522350162268, -0.04956736043095589, -0.0023254347033798695, -0.03238978609442711, 0.029046161100268364, 0.0011957905953750014, 0.03639107197523117, 0.03213672339916229, -0.0938563421368599, -0.07601131498813629, -0.004894575569778681, 0.041684340685606, -0.0315435416996479, -0.176675945520401, 0.03465663641691208, 0.03550264239311218, 0.027805451303720474, -0.004640632774680853, 0.023151153698563576, 0.003677076892927289, 0.04428935423493385, 0.05548016354441643, -0.029172156006097794, 0.04000025987625122, 0.049780506640672684, 0.0008247711812146008, -0.07771894335746765, -0.0018895455868914723, -0.10797632485628128, -0.06891453266143799, 0.07098280638456345, 0.020807819440960884, -0.020870303735136986, -0.013126738369464874, 0.010942605324089527, -0.010835348628461361, -0.07321648299694061, -0.032632216811180115, -0.03730621561408043, 0.026498809456825256, -0.009950671344995499, 0.030755337327718735, 0.08351682871580124, -0.06226120889186859, 0.09939397871494293, -0.033173441886901855, -0.10005176812410355, -0.023343540728092194, 0.034410201013088226, -0.05570776388049126, -0.05042487382888794, -0.0019542539957910776, -0.09794142097234726, 0.002222490729764104, 0.06775129586458206, 0.07918811589479446, 0.021818779408931732, 0.03414854034781456, -0.006426142528653145, -0.00018011609790846705, 0.07203806191682816, 0.025658268481492996, 0.06305768340826035, -0.09661559760570526, 0.0725042000412941, 0.06251528859138489, 0.04805437847971916, -0.01502734050154686, 0.015164214186370373, 0.039530232548713684, -0.04760098457336426, -1.1215152828905434e-33, 0.009854651056230068, -0.016894280910491943, 0.004369006026536226, -0.04347452148795128, 0.051439981907606125, -0.008527916856110096, 0.04113401472568512, -0.05534513667225838, -0.030020544305443764, 0.029907532036304474, 0.04075078293681145, 0.038527265191078186, 0.0011401157826185226, 0.08442332595586777, -0.01410570926964283, -0.020897764712572098, 0.025875626131892204, -0.09481961280107498, 0.017593158408999443, -0.045132942497730255, 0.07003440707921982, 0.05907188355922699, 0.029811028391122818, 0.0012211741413921118, 0.0156696829944849, 0.005454650614410639, -0.0667281448841095, -0.09875026345252991, -0.009561226703226566, -0.0017735958099365234, 0.025508783757686615, 0.14303424954414368, -0.09058374166488647, -0.04315227270126343, -0.05838979408144951, 0.12654699385166168, 0.014669602736830711, 0.016828952357172966, -0.03210170194506645, -0.03704635053873062, 0.0014153901720419526, -0.002618179190903902, 0.014466118067502975, -0.030634483322501183, 0.01432572677731514, 0.042460255324840546, -0.051127977669239044, 0.024060282856225967, -0.03689046949148178, -0.01269371435046196, 0.029229292646050453, 0.07180899381637573, -0.01932757906615734, -0.08584602177143097, 0.021760104224085808, -0.04419383779168129, 0.006158349569886923, -0.08992492407560349, -0.025130227208137512, 0.01834816299378872, -0.015083615668118, 0.027597002685070038, -0.04391881078481674, 0.0394347682595253, -0.030561508610844612, -0.014232746325433254, 0.0674130767583847, 0.02576104737818241, -0.025080181658267975, -0.010398097336292267, 0.0010636098450049758, 0.06249111145734787, -0.004382625687867403, 0.050243206322193146, -0.0871729776263237, 0.016972750425338745, 0.001503541017882526, -0.021110381931066513, -0.07301142811775208, 0.042625561356544495, -0.13191047310829163, -0.007183810230344534, 0.018362564966082573, -0.03848746791481972, 0.02410607784986496, 0.028376292437314987, -0.02601027861237526, -0.007575080264359713, 0.05708419531583786, -0.10603708028793335, -0.03137217089533806, -0.08441251516342163, -0.05254291743040085, -0.08219536393880844, 0.03775379806756973, -2.3880437183265713e-08, -0.02877766266465187, 0.008854903280735016, -0.08168711513280869, -0.0002622458559926599, -0.07462328672409058, -0.04946896806359291, -0.09231434017419815, 0.082570381462574, 0.07404373586177826, 0.04947857931256294, -0.09148576855659485, 0.034978725016117096, -0.0382305271923542, 0.09677683562040329, 0.08521703630685806, 0.03661118447780609, 0.06732295453548431, -0.016332965344190598, 0.016652153804898262, -0.017575567588210106, 0.023922912776470184, 0.05532580986618996, -0.039342399686574936, -0.023728065192699432, -0.036204587668180466, 0.0472625233232975, 0.026265492662787437, 0.004845968447625637, -0.011425955221056938, -0.02891809679567814, -0.07964023947715759, 0.010767937637865543, -0.02018273063004017, 0.0071651265025138855, 0.03529217094182968, -0.008637198247015476, 0.03623459115624428, -0.07632134109735489, -0.0068074301816523075, 0.009414843283593655, 0.0062487078830599785, 0.01740768738090992, 0.020541267469525337, 0.03709618002176285, -0.06638073921203613, -0.013581318780779839, -0.011941393837332726, 0.08603842556476593, -0.06969642639160156, 0.04929317906498909, -0.01869332231581211, 0.016525888815522194, -0.014568864367902279, 0.006803958676755428, 0.052381712943315506, -0.022045908495783806, -0.04934694245457649, -0.0681307464838028, -0.062460146844387054, 0.07737801969051361, 0.04262669011950493, -0.06309755891561508, -0.09730543941259384, -0.028355369344353676]",
         "9.748834",
         "2.7878861",
         "6",
         "Mentorship and Technical Skill Development"
        ],
        [
         "35",
         "R036",
         "Middle Eastern Studies",
         "My Arabic improved 1000% at American University of Kuwait! But more importantly, the cultural immersion helped me understand regional complexities in ways that classroom learning never could. Best decision I made at Dartmouth.",
         "[0.07416532188653946, 0.043309591710567474, 0.02911762334406376, -0.047951895743608475, -0.09394432604312897, -0.004894882906228304, -0.051155317574739456, -0.10605783015489578, 0.0448136180639267, 0.02077593468129635, 0.05225028470158577, 0.01667429879307747, 0.01505187712609768, -0.05142141878604889, 0.03539366275072098, -0.02381712757050991, 0.03803468495607376, -0.027015799656510353, -0.013037378899753094, -0.1487644612789154, -0.04072383791208267, 0.016200872138142586, 0.10325398296117783, 0.01681562513113022, 0.09009934961795807, 0.0558033250272274, 0.04303702712059021, 0.03289054334163666, 0.052529968321323395, -0.0849471390247345, -0.07727427780628204, 0.04352542385458946, -0.03285522013902664, -0.040427014231681824, 0.008664930239319801, 0.11809830367565155, 0.040217626839876175, -0.0746026411652565, 0.026885483413934708, 0.07318075746297836, 0.001954486593604088, 0.029544683173298836, 0.10456270724534988, -0.04602505639195442, 0.011216732673346996, -0.053538061678409576, 0.033462077379226685, 0.028602510690689087, 0.013653429225087166, 0.023957770317792892, -0.029143910855054855, 0.010257343761622906, -0.0012386550661176443, -0.11883708089590073, -0.025955837219953537, 0.045194245874881744, 0.007103289943188429, 0.049241356551647186, -0.0655546709895134, 0.00885009951889515, -0.07415679842233658, -0.02498951554298401, 0.036097560077905655, 0.078585684299469, -0.047554947435855865, -0.023844877257943153, -0.0340999960899353, -0.053044505417346954, -0.021694984287023544, -0.03023563325405121, 0.005404716357588768, 0.033152855932712555, 0.03939101845026016, 0.04391288384795189, 0.05381597578525543, -0.02713138237595558, -0.012955320999026299, -0.10722941905260086, -0.04216976836323738, 0.03770332783460617, 0.10313049703836441, 0.05875802040100098, -0.01214328408241272, -0.07349751889705658, 0.049176182597875595, -0.14050844311714172, 0.04372164607048035, -0.034705016762018204, -0.07030585408210754, -0.03580113872885704, 0.09375087171792984, -0.033621251583099365, -0.029023170471191406, 0.04336985573172569, 0.01699826866388321, -0.00303480657748878, -0.029620178043842316, 0.04788830503821373, -0.010192987509071827, 0.012854870408773422, 0.013454558327794075, 0.01013427134603262, -0.07912199944257736, -0.02044687047600746, -0.0050393701530992985, -0.028911584988236427, 0.015399115160107613, 0.03283107280731201, -0.021638283506035805, -0.06272204220294952, 0.03982837125658989, -0.02414839155972004, -0.060158926993608475, 0.04848882928490639, 0.05295845493674278, 0.05317055061459541, 0.10100556164979935, -0.058563098311424255, 0.02999069169163704, 0.010377437807619572, -0.02470945008099079, -0.058407362550497055, 0.0491572804749012, -0.0007636670488864183, -0.060686077922582626, -0.012199345044791698, -0.025381896644830704, 3.1889003603648947e-34, 0.01589842699468136, 0.03191128000617027, 0.012906516902148724, 0.02116474322974682, -0.02748790942132473, -0.04393133148550987, 0.030760280787944794, 0.06304227560758591, -0.05177481099963188, -0.09582789242267609, 0.07677488029003143, 0.09316883981227875, 0.04380426183342934, 0.021791530773043633, 0.02080969139933586, -0.025155730545520782, -0.04959658160805702, 0.0021590932738035917, -0.031686633825302124, 0.016695477068424225, 0.04075981304049492, 0.0379900187253952, 0.08817387372255325, -0.10229808837175369, -0.016682684421539307, -0.019691551104187965, 0.056571535766124725, -0.021588237956166267, 0.04679740220308304, 0.04169017821550369, -0.004970054142177105, -0.07938200980424881, -0.08217709511518478, -0.017532959580421448, -0.00034610647708177567, -0.0035262596793472767, -0.03544854372739792, -0.03302476182579994, 0.024456897750496864, 0.014209081418812275, -0.023499125614762306, 0.05023936554789543, 0.07935799658298492, -0.020138172432780266, 0.06458831578493118, 0.10019396245479584, 0.06234251335263252, 0.0194508396089077, -0.031586285680532455, -0.02058231458067894, -0.045148566365242004, -0.05588098615407944, -0.008039177395403385, -0.08274705708026886, 0.03280261904001236, 0.05616919696331024, 0.04271814972162247, 0.051883257925510406, -0.08894847333431244, -0.0021026397589594126, -0.06343061476945877, 0.023237444460392, -0.01325067225843668, -0.022653231397271156, -0.0013629583409056067, 0.021339604631066322, 0.006637288723140955, -0.08236432075500488, 0.04441465437412262, -0.12092345207929611, -0.04938642308115959, -0.019574081525206566, 0.05507912486791611, 0.05024287849664688, -0.02159060351550579, 0.03485339507460594, -0.020671434700489044, -0.05637506768107414, 0.017472198233008385, 0.001562336110509932, 0.003382614813745022, -0.006595993414521217, 0.031078362837433815, 0.04860105738043785, -0.062455613166093826, 0.008449402637779713, 0.08466517925262451, -0.07889761030673981, 0.05656052008271217, 0.03356511518359184, 0.08510811626911163, -0.017552122473716736, 0.013575210236012936, 0.015597532503306866, 0.044460345059633255, -2.067565075046821e-33, 0.10138300806283951, 0.017254460602998734, -0.0174411628395319, 0.0038385551888495684, -0.011905338615179062, -0.007142142858356237, 0.07849834859371185, 0.08146336674690247, -0.013117427937686443, -0.0822027176618576, 0.08000154048204422, 0.00833094585686922, 0.03640182688832283, 0.03231855481863022, -0.06823836266994476, -0.07256106287240982, -0.007911105640232563, -0.04687933251261711, 0.00944601558148861, 0.0072522698901593685, 0.006117588374763727, 0.061153851449489594, 0.019495980814099312, -0.004649006295949221, -0.01625840738415718, -0.028906190767884254, -0.09046729654073715, -0.005545199383050203, -0.017391279339790344, 0.0035252633970230818, 0.054782964289188385, 0.037926167249679565, -0.012701313942670822, 0.03327507525682449, -0.04094573110342026, 0.06407991796731949, -0.027703849598765373, -0.038117263466119766, -0.045561183243989944, 0.07709784805774689, 0.027013024315238, -0.0013189426390454173, -0.024113483726978302, -2.0888042854494415e-05, 0.07225640118122101, 0.056480761617422104, 0.016537802293896675, -0.04493389651179314, -0.036395084112882614, -0.08203010261058807, -0.08716517686843872, 0.011936682276427746, -0.05332039296627045, -0.07483872771263123, 0.08191221952438354, -0.0025312677025794983, 0.08576132357120514, -0.06706572324037552, -0.024876682087779045, -0.028241999447345734, -0.054338108748197556, 0.06282515823841095, 0.05923188477754593, -0.07384004443883896, -0.0318743959069252, -9.74096983554773e-05, -0.008391929790377617, 0.08516234159469604, -0.010521987453103065, -0.013705447316169739, 0.013404134660959244, 0.03366805985569954, -0.052276093512773514, -0.04157453775405884, -0.026253599673509598, 0.04966147616505623, 0.0016549358842894435, -0.018861550837755203, -0.08923489600419998, 0.011562850326299667, -0.01616697758436203, -0.02499094232916832, -0.13667476177215576, -0.017957502976059914, 0.06085149198770523, 0.13408797979354858, 0.03238100931048393, -0.06377898901700974, 0.028050623834133148, -0.02639167010784149, -0.02173744887113571, 0.03771147504448891, -0.04454641416668892, -0.06691327691078186, -0.020855356007814407, -2.736643089917834e-08, -0.08382546901702881, 0.05078260600566864, 0.03103531524538994, 0.0433405376970768, -0.06338384747505188, 0.01813528873026371, -0.0483374260365963, 0.06434383243322372, -0.06592416018247604, -0.013022763654589653, -0.08575156331062317, -0.009234603494405746, -0.029669713228940964, 0.03465837985277176, -0.02098851092159748, 0.08121120929718018, 0.036137212067842484, 0.029196711257100105, 0.03925090655684471, -0.04596174508333206, 0.024615196511149406, 0.02950162999331951, 0.002588536124676466, -0.03250550851225853, -0.12145408987998962, 0.023474687710404396, 0.037059277296066284, 0.003854702692478895, 0.014767427928745747, -0.056271493434906006, -0.051387619227170944, -0.05175295099616051, -0.05785823240876198, 0.03524532541632652, -0.029098467901349068, -0.024245722219347954, -0.0899321436882019, -0.017407694831490517, 0.0379192940890789, 0.03376994654536247, 0.029207786545157433, -0.0669408068060875, 0.02723621390759945, -0.017628522589802742, 0.03542435169219971, 0.04336278513073921, 0.019523197785019875, 0.015478215180337429, 0.01142868585884571, 0.09805697947740555, 0.048756182193756104, -0.04167211055755615, -0.07061982154846191, 0.04943419247865677, 0.10281236469745636, 0.020222527906298637, -0.05011792853474617, -0.10724519193172455, -0.060429930686950684, 0.09775961190462112, 0.02298920601606369, 0.020741842687129974, -0.10659587383270264, 0.04743015021085739]",
         "10.1834",
         "4.536952",
         "2",
         "Language and Cultural Immersion"
        ],
        [
         "36",
         "R037",
         "Government",
         "The policy analysis frameworks I learned at UCL were more sophisticated than what we typically use in US contexts. Having that comparative perspective has strengthened my analytical skills tremendously.",
         "[-0.008800986222922802, 0.0024649088736623526, -0.0376938059926033, -0.08271817862987518, 0.02781023643910885, 0.07001438736915588, -0.043767333030700684, -0.004412489477545023, 0.01785595715045929, 0.05605299025774002, 0.018519297242164612, 0.06717707216739655, 0.010992711409926414, 0.028511399403214455, 0.024135058745741844, -0.03879902511835098, -0.006438317243009806, -0.031668636947870255, -0.05102017521858215, -0.05123547092080116, -0.0418371856212616, -0.04638012871146202, 0.010776197537779808, 0.021870901808142662, -0.0605512335896492, -0.00041803481872193515, 0.011622469872236252, 0.015051561407744884, -0.003093193517997861, -0.014819886535406113, -0.0026032773312181234, -0.011789163574576378, 0.009837793186306953, -0.03233315423130989, -0.026364030316472054, 0.07224909961223602, -0.014942679554224014, -0.02192744053900242, -0.03278495371341705, -0.016784993931651115, -0.0662672221660614, 0.0006686757551506162, -0.013881545513868332, 0.026796609163284302, -0.03395168483257294, -0.0060251569375395775, 0.0005666544893756509, -0.04960808902978897, -0.04397483170032501, -0.019061703234910965, -0.05413462594151497, 0.0717746764421463, 0.016008995473384857, -0.14077544212341309, 0.06615106761455536, 0.028195302933454514, -0.010232907719910145, 0.04595884308218956, -0.02079770714044571, -0.054939933121204376, -0.06496600061655045, -0.02137323096394539, -0.06850074976682663, 0.036653321236371994, -0.025696488097310066, -0.023676078766584396, -0.08876384794712067, 0.045736122876405716, -0.040558889508247375, 0.03703486546874046, -0.10246030241250992, -0.056613739579916, 0.01504233106970787, 0.02219437249004841, 0.03646531328558922, -0.08857221156358719, 0.0847901701927185, 0.05909629538655281, 0.06276173889636993, -0.058091118931770325, 0.05997677519917488, 0.03619549795985222, 0.006478245370090008, 0.026073472574353218, 0.016690900549292564, -0.10176604986190796, -0.07213765382766724, -0.07195666432380676, 0.02615433745086193, -0.01613502949476242, 0.09026286751031876, -0.01723293401300907, 0.10744230449199677, 0.015744967386126518, 0.07339772582054138, -0.010157491080462933, -0.07560984790325165, -0.019536998122930527, -0.04570019245147705, 0.02448451705276966, 0.020756393671035767, 0.01773558370769024, -0.0595792792737484, 0.015063720755279064, 0.006862818729132414, -0.04598891735076904, -0.033930111676454544, -0.0024440952111035585, -0.001456112484447658, -0.03388364613056183, 0.0044183023273944855, 3.808552719419822e-05, 0.019368724897503853, -0.003786819288507104, 0.025294072926044464, -0.13138462603092194, 0.041820429265499115, -0.012287830002605915, 0.07991871982812881, -0.0314723365008831, -0.013661500066518784, -0.1017116904258728, -0.01857951283454895, 0.003464051289483905, 0.015619494952261448, -0.03384653478860855, -0.0192473866045475, -1.4377936092517958e-33, -0.03340374305844307, 0.014745491556823254, 0.0052461279556155205, 0.0251994039863348, -0.04930347204208374, -0.00017279002349823713, 0.009361098520457745, -0.018434641882777214, 0.04386664181947708, -0.0012246848782524467, 0.09623365104198456, 0.1935034543275833, 0.044232819229364395, 0.030378179624676704, 0.05736532062292099, -0.05526338145136833, -0.11832764744758606, 0.10635188966989517, -0.010060211643576622, 0.05917872115969658, -0.023326613008975983, 0.015120013616979122, 0.05508400872349739, -0.13445337116718292, 0.10491975396871567, 0.01679840125143528, 0.006724623031914234, 0.04538413882255554, -0.022349374368786812, 0.008848125115036964, 0.07415542006492615, 0.041380852460861206, -0.09340105205774307, 0.04251425340771675, 0.03299664333462715, 0.046881794929504395, -0.007079667411744595, 0.01887362450361252, -0.024242576211690903, -0.038864776492118835, -0.038554929196834564, -0.025607286021113396, 0.04873242229223251, 0.03805353492498398, 0.06435173004865646, 0.019627641886472702, -0.04285038262605667, -0.010172783397138119, -0.07596952468156815, -0.06959119439125061, -0.0033843619748950005, -0.02196766994893551, 0.0032621321734040976, -0.10003006458282471, 0.015228092670440674, 0.00838472880423069, -0.053560927510261536, 0.057239796966314316, -0.03571702912449837, -0.033389508724212646, 0.016691094264388084, 0.04474727064371109, -0.054470498114824295, -0.03574420511722565, -0.04013766720890999, 0.02864397130906582, -0.1587114930152893, 0.03076164610683918, 0.043416108936071396, 0.0021324707195162773, -0.02201062999665737, 0.06705281883478165, 0.0786832794547081, 0.03196528181433678, 0.028659608215093613, -0.009132697246968746, 0.013708183541893959, 0.06251000612974167, 0.04915658012032509, -0.025036688894033432, -0.12900306284427643, 0.026433361694216728, 0.08758623152971268, -0.01870710402727127, 0.021133923903107643, 0.02045462280511856, 0.05817539989948273, 0.02486364357173443, 0.08392202109098434, 0.018010985106229782, -0.08034709841012955, -0.11737939715385437, 0.003347022458910942, 0.08720897138118744, 0.05486707761883736, -3.180180212662709e-33, 0.03203747794032097, -0.02482707053422928, 0.07020136713981628, 0.04992009699344635, -0.010849113576114178, -0.010369233787059784, 0.08167776465415955, -0.048624005168676376, 0.007140269037336111, -0.07794228196144104, 0.045698489993810654, 0.04245241731405258, 0.00026086813886649907, 0.04238196089863777, 0.03206401318311691, -0.032642215490341187, -0.006253120955079794, -0.09437206387519836, -0.024435508996248245, -0.01575862430036068, 0.04615360125899315, 0.031179284676909447, -0.039235323667526245, 0.06903669238090515, -0.018824972212314606, -0.06892789900302887, 0.000574802397750318, -0.09267862141132355, 0.010926736518740654, -0.1238631084561348, 0.016739357262849808, 0.007049976848065853, -0.011613452807068825, 0.025548605248332024, -0.0974871888756752, 0.04213191941380501, -0.015084424056112766, -0.053440507501363754, -0.04340977966785431, 0.0008834058535285294, 0.00047886648098938167, -0.033541012555360794, 0.00038459734059870243, -0.05190184339880943, -0.007398258429020643, 0.01938912831246853, 0.008878241293132305, -0.023473070934414864, -0.040662478655576706, -0.04018918052315712, -0.03104334883391857, -0.021903682500123978, -0.07424134016036987, -0.036374013870954514, -0.05167248100042343, -0.03293182700872421, 0.13606993854045868, -0.09247053414583206, 0.02396377921104431, 0.04924759268760681, 0.0008406993583776057, 0.09976234287023544, -0.031374890357255936, 0.03225146606564522, 0.002555854618549347, 0.0074769570492208, -0.03796227648854256, -0.0092617804184556, 0.05010504275560379, -0.028528429567813873, -0.09148314595222473, -0.0618242546916008, -0.05142052471637726, 0.027774373069405556, 0.03908223286271095, -0.0028065242804586887, 0.042930588126182556, -0.02469346672296524, -0.058997221291065216, 0.03964998573064804, 0.013247746042907238, -0.04456755146384239, -0.02619512937963009, -0.006878192536532879, -0.0031286899466067553, 0.13609586656093597, -0.0032920795492827892, -0.05179581791162491, 0.05123567581176758, 0.0048904321156442165, -0.1594340205192566, -0.05996565893292427, -0.0004904977977275848, -0.05332981422543526, -0.019813379272818565, -3.526536929143731e-08, -0.02014114521443844, 0.05413372814655304, 0.1060478538274765, 0.05642196163535118, -0.060394544154405594, 0.025979096069931984, -0.09093517065048218, 0.030311061069369316, -0.05828411877155304, 0.043989211320877075, -0.00577850267291069, 0.09025637060403824, -0.011606172658503056, -0.028223155066370964, 0.0033316267654299736, 0.08236012607812881, 0.058781884610652924, 0.02148447372019291, 0.03805132955312729, 0.03935667499899864, 0.03972446545958519, 0.07888349145650864, -0.05130266025662422, -0.0241770651191473, 0.013334093615412712, 0.01573418267071247, -0.03237956762313843, 0.05766583979129791, -0.020103901624679565, -0.02753884345293045, 0.010048758238554, 0.059641215950250626, -0.053349774330854416, -0.0488288514316082, 0.060388486832380295, -0.04108007997274399, 0.06092659384012222, 0.0015590074472129345, 0.09763733297586441, -0.008952992036938667, -0.05620817095041275, 0.012419185601174831, 0.020446380600333214, 0.04344115033745766, 0.01019296795129776, 0.04154638946056366, -0.016575675457715988, 0.038643818348646164, 0.01678374595940113, 0.002861226908862591, 0.07069244980812073, -0.0018871158827096224, -0.027311937883496284, -0.011332469992339611, 0.06474687159061432, -0.017807409167289734, 0.02682460844516754, -0.10014116764068604, -0.0458657331764698, 0.08818668872117996, 0.07710074633359909, -0.0008831838495098054, -0.043886832892894745, 0.01154837105423212]",
         "12.128835",
         "3.0756097",
         "0",
         "Comparative Perspectives on Economic and Political Systems"
        ],
        [
         "37",
         "R038",
         "Engineering",
         "Hands-on lab experience at Technical University of Denmark gave me technical skills that set me apart from other job applicants. Already had two interviews where employers were specifically interested in that experience.",
         "[-0.093613401055336, 0.05557667836546898, 0.07414426654577255, 0.06397584080696106, -0.0158035047352314, -0.07842732220888138, -0.0117433350533247, 0.07257097959518433, -0.06719407439231873, -0.08918201923370361, -0.02684023231267929, -0.09126320481300354, 0.027043653652071953, 0.011431118473410606, 0.018603110685944557, -0.006600504741072655, 0.04565493389964104, -0.03446882963180542, 0.08184780925512314, -0.12077151983976364, -0.09623298794031143, -0.03890277072787285, 0.08150580525398254, -0.1186557337641716, 0.034144215285778046, 0.033218465745449066, 0.04927130416035652, 0.0047151208855211735, 0.043933767825365067, -0.01801246777176857, -0.054526764899492264, 0.0422743484377861, -0.095686174929142, 0.03163623809814453, 0.044604137539863586, 0.028305821120738983, -0.03200163319706917, 0.021058307960629463, 0.03932676464319229, -0.02102464623749256, -0.001822429709136486, -0.034836310893297195, 0.05716893821954727, -0.10633298009634018, 0.03690965473651886, -0.07245287299156189, 0.06393866240978241, -0.04713301360607147, 0.005383391864597797, -0.013345519080758095, -0.031903065741062164, -0.06321083009243011, 0.05021967366337776, -0.08248960226774216, 0.00046902630128897727, -0.01908857934176922, 0.037095922976732254, 0.07739823311567307, -0.008497770875692368, 0.028720447793602943, 0.02316368743777275, 0.0016370060620829463, -0.05258039012551308, 0.050670258700847626, 0.024202799424529076, -0.02415812946856022, -0.0647849440574646, 0.0782078355550766, 0.011114062741398811, -0.09508934617042542, -0.03316211327910423, -0.033444494009017944, -0.07541272044181824, 0.04066266492009163, 0.10628905892372131, -0.01039744634181261, -0.026577480137348175, -0.04547489434480667, 0.008319655433297157, 0.02264881134033203, 0.027459634467959404, -0.03531191870570183, -0.12319445610046387, 0.012666279450058937, -0.052648890763521194, -0.05127017945051193, -0.01720578223466873, 0.026776853948831558, -0.0022655760403722525, 0.0011730627156794071, 0.11017484217882156, -0.10114718228578568, -0.07924745976924896, 0.03145371749997139, 0.07195579260587692, -0.03522130474448204, 0.03797134757041931, 0.08692481368780136, 0.016417456790804863, -0.031143108382821083, 0.010556524619460106, 0.0014129343908280134, -0.04769836366176605, 0.06021341308951378, -0.06788904964923859, -0.0013522098306566477, -0.061636783182621, -0.03283228725194931, 0.07846411317586899, -0.01070399209856987, -0.055151913315057755, 0.02104800194501877, -0.07147768884897232, 0.013309227302670479, -0.006357949692755938, 0.04700544849038124, 0.005384933203458786, 0.010471927933394909, 0.031674254685640335, 0.05278557911515236, -0.02146155945956707, 0.037482064217329025, -0.036444470286369324, -0.010762020945549011, 0.06586939841508865, -0.030930567532777786, 0.003942540381103754, -1.7688030838807592e-34, -0.01453629694879055, 0.041332632303237915, -0.062210530042648315, 0.05336154252290726, 0.09430059045553207, -0.0021275137551128864, -0.08294565975666046, 0.08192889392375946, -0.04238274320960045, 0.06720775365829468, 0.025825245305895805, 0.13546298444271088, -0.021323543041944504, 0.02365886978805065, -0.01793578453361988, 0.013675926253199577, -0.06745964288711548, 0.00022884867212269455, 0.020410513505339622, 0.07574808597564697, -0.03276124969124794, -0.002523352624848485, 0.061935268342494965, 0.07441189885139465, 0.03853735327720642, -0.01258193701505661, 0.005762116052210331, 0.021572159603238106, 0.07309383153915405, -0.0032143027056008577, 0.010005178861320019, 0.04320356249809265, -0.06906295567750931, -0.05384316295385361, 0.013782919384539127, 0.1416313797235489, -0.045821089297533035, -0.1058136522769928, 0.07071273773908615, 0.039078205823898315, 0.013513379730284214, -0.012687930837273598, 0.03933856263756752, -0.03854983299970627, 0.021831035614013672, -0.04710490629076958, -0.05009815841913223, -0.01990444026887417, -0.029330648481845856, -0.03263213485479355, -0.08049394935369492, 0.017999064177274704, 0.059976618736982346, -0.03487594053149223, 0.05794544890522957, 0.05492551252245903, 0.060531362891197205, 0.04210932180285454, -0.04820701852440834, 0.09425616264343262, -0.008765080012381077, 0.06438498944044113, -0.0776282548904419, 0.0099642900750041, -0.001678386121056974, -0.04625435173511505, 0.003529028734192252, 0.03353225812315941, 0.05926097556948662, 0.03895615413784981, -0.09467308968305588, 0.013890509493649006, 0.041853081434965134, -0.028499336913228035, 0.011198676191270351, -0.022668367251753807, -0.08170803636312485, -0.04904559627175331, -0.014607959426939487, 0.02805088274180889, 0.006236950401216745, 0.005933787673711777, -0.010516644455492496, -0.048486918210983276, 0.12124703079462051, 0.03316030278801918, 0.0005580573924817145, -0.04976141080260277, 0.015636218711733818, -0.014588398858904839, 0.0326518751680851, -0.010215165093541145, -0.04368260130286217, 0.05153162404894829, 0.0003283803234808147, -2.8108279490198456e-33, -0.052411749958992004, -0.0012187081156298518, -0.056088510900735855, 0.06021285429596901, 0.12592726945877075, 0.0048685576766729355, 0.09671001136302948, 0.009440119378268719, -0.01748763769865036, 0.031191999092698097, 0.06763765215873718, 0.0435318686068058, 0.03015124425292015, 0.06532686203718185, -0.05255582183599472, 0.01070905290544033, -0.09291765838861465, 0.008403707295656204, 0.009564915671944618, -0.04267638549208641, 0.03320452198386192, 0.034008342772722244, 0.009182862937450409, 0.03207620233297348, -0.005802263971418142, -0.030218277126550674, -0.07508376240730286, -0.062054574489593506, -0.08476248383522034, -0.01804465614259243, -0.03732577711343765, 0.06164610758423805, 0.021313922479748726, 0.029122238978743553, 0.018288228660821915, 0.030142592266201973, 0.07581102848052979, -0.013061843812465668, 0.04062386229634285, 0.08707292377948761, 0.020406126976013184, -0.024483995512127876, -0.0373554490506649, -0.048000819981098175, -0.02159370668232441, 0.0020968038588762283, -0.03943187743425369, -0.038973573595285416, -0.002517045009881258, -0.07336138188838959, -0.003859529970213771, 0.026591066271066666, 0.0022842285688966513, -0.08306249231100082, 0.006176363211125135, -0.03564165532588959, 0.10064627975225449, -0.053292930126190186, 0.00168940972071141, -0.008184601552784443, 0.005266793537884951, 0.023781893774867058, 0.05402637645602226, -0.00829874724149704, 0.009191752411425114, -0.029199175536632538, -0.01320674829185009, 0.05687067657709122, -0.11137056350708008, -0.02616311050951481, -0.0323755256831646, 0.05704161524772644, 0.06519953161478043, -0.03187655657529831, -0.0045886957086622715, -0.05672604963183403, -0.034103184938430786, 0.005041782278567553, -0.06901679933071136, -0.044777411967515945, -0.06013292819261551, -0.055472034960985184, 0.005256867501884699, 0.06767693161964417, 0.0600786991417408, 0.14389781653881073, -0.07094424217939377, -0.07335880398750305, 0.01849709078669548, -0.1365715116262436, -0.05843702331185341, 0.006923977751284838, -0.034309059381484985, -0.05162367969751358, -0.03914527967572212, -3.32429408445023e-08, -0.009599920362234116, -0.023726480081677437, 0.024249769747257233, 0.00021677854238077998, -0.01377062313258648, -0.023021096363663673, -0.1124102845788002, 0.06834403425455093, -0.05690279230475426, -0.03576623648405075, -0.12284991890192032, 0.0032284085173159838, -0.04476138576865196, 0.05454455316066742, 0.11133131384849548, 0.04625299200415611, 0.010852701961994171, 0.01765131764113903, 0.009099905379116535, -0.023624468594789505, 0.07990337908267975, 0.07084839046001434, 0.015703435987234116, 0.03667930141091347, 0.0131969740614295, -0.02384117990732193, -0.03458702936768532, -0.05119791999459267, -0.018824363127350807, -0.04044417664408684, -0.08594952523708344, -0.04374511167407036, 0.0352611318230629, -0.04147401824593544, 0.030976461246609688, -0.03386146202683449, 0.039403144270181656, -0.07620418816804886, 0.004233297426253557, -0.016064347699284554, -0.07116739451885223, 0.005133466329425573, -0.03873090818524361, -0.004921513143926859, 0.042592376470565796, 0.007272928487509489, -0.010058552026748657, 0.01794167049229145, 0.0014442242681980133, 0.07644107937812805, 0.02597053535282612, 0.026826009154319763, 0.0018808238673955202, 0.008415822871029377, 0.056611042469739914, 0.046757109463214874, 0.005811271257698536, -0.03247683867812157, -0.05490272864699364, 0.06764017790555954, 0.0174871813505888, 0.03218730911612511, -0.04250023514032364, 0.022084437310695648]",
         "8.200277",
         "2.3950312",
         "-1",
         null
        ],
        [
         "38",
         "R039",
         "Anthropology",
         "CASA Cuba program taught me how to conduct ethical fieldwork in complex cultural contexts. Those research skills and ethical frameworks have been crucial for my senior thesis work.",
         "[0.0397973470389843, 0.11955270916223526, -0.11526904255151749, 0.005786786787211895, -0.02241462655365467, 0.0075071388855576515, -0.12539738416671753, -0.11363670229911804, -0.021841861307621002, 0.049830082803964615, -0.0030917299445718527, 0.04687393456697464, -0.06802669912576675, 0.01832643151283264, 0.020982127636671066, 0.01787460967898369, -0.05523277074098587, 0.054813411086797714, 0.038972243666648865, 0.026046253740787506, -0.033094119280576706, -0.024230588227510452, 0.06350924074649811, 0.041337527334690094, -0.053956739604473114, -0.0023431091103702784, 0.107968769967556, -0.0503959059715271, 0.014637916348874569, -0.019219372421503067, -0.04044851288199425, 0.09451797604560852, 0.06113630160689354, -0.002278093481436372, -0.02931049093604088, 0.06048943102359772, 0.00877534132450819, 0.013656165450811386, 0.024956366047263145, 0.019141776487231255, -0.06572234630584717, -0.032129786908626556, 0.09214483946561813, -0.05741911754012108, 0.024092767387628555, -0.13688534498214722, -0.009691769257187843, 0.020833509042859077, -0.004145837854593992, -0.06980302929878235, -0.0496973916888237, -0.011029005981981754, -0.051729246973991394, 0.0260853823274374, -0.015849659219384193, -0.040256235748529434, 0.09620100259780884, 0.03023708239197731, -0.014881267212331295, 0.04282040148973465, 0.0002575483813416213, 0.03146754577755928, -0.06859229505062103, 0.0230726208537817, -0.002267567440867424, 0.002049603033810854, -0.043053749948740005, 0.08502194285392761, -0.10454578697681427, -0.05516993999481201, 0.004058858845382929, -0.0672936961054802, 0.0030346852727234364, 0.03808208182454109, 0.00041809151298366487, 0.03215468302369118, -0.012980753555893898, -0.033640578389167786, -0.02587079256772995, -0.030423274263739586, 0.06124962493777275, -0.038861826062202454, 0.03634393587708473, -0.01041714008897543, -0.02547941729426384, -0.0005444505368359387, -0.02772335335612297, 0.006215158384293318, 0.09387067705392838, 0.07545433193445206, 0.03238930180668831, -0.019105855375528336, -0.021511217579245567, -0.036175914108753204, -0.02756221406161785, 0.012781502678990364, -0.04318694397807121, 0.03473735600709915, -0.03659543767571449, -0.002233468694612384, 0.028649955987930298, -0.008097938261926174, -0.02425048127770424, -0.010522840544581413, -0.013546738773584366, 0.05290520191192627, -0.003219516947865486, 0.004705956671386957, -0.015599366277456284, 0.023741839453577995, -0.09966481477022171, 0.05602790415287018, -0.14150266349315643, -0.005231551826000214, 0.07262948155403137, 0.02489674836397171, 0.10399483144283295, 0.012710870243608952, 0.0101768271997571, -0.06930264830589294, 0.021131398156285286, -0.03777873516082764, 0.05081108585000038, -0.03469812124967575, 0.0018843307625502348, -0.10428420454263687, -0.0260442104190588, -1.6041567329488662e-34, -0.009446822106838226, -0.01714075170457363, -0.006755119189620018, 0.05375182628631592, 0.043946534395217896, -0.008350678719580173, -0.02076277881860733, -0.0012754591880366206, -0.02848571352660656, 0.05525759235024452, 0.10367394238710403, 0.06632130593061447, 0.04226964712142944, -0.0019069066038355231, -0.04115525260567665, -0.03038126789033413, -0.09643160551786423, -0.07470185309648514, -0.048095691949129105, 0.0068924385122954845, 0.07267257571220398, 0.030001303181052208, 0.019239993765950203, 0.008912941440939903, 0.011743351817131042, 0.029461197555065155, -0.023063896223902702, -0.1081170067191124, 0.012084919959306717, 0.046629179269075394, 0.012138632126152515, 0.02645169384777546, -0.07087525725364685, -0.05169064924120903, 0.013684327714145184, 0.15839532017707825, 0.0431305356323719, -0.02621479518711567, 0.022161021828651428, 0.02099369838833809, 0.01794346235692501, -0.021827658638358116, 0.13634362816810608, 0.008520105853676796, 0.06695352494716644, 0.0030825315043330193, 0.10271994024515152, -0.06565454602241516, 0.013367810286581516, 0.10998324304819107, -0.047730568796396255, -0.027329549193382263, 0.004443798214197159, -0.08040722459554672, 0.014615057967603207, 0.012093117460608482, 0.009211624972522259, 0.0840023085474968, -0.016479095444083214, -0.0731155127286911, 0.0373791940510273, -0.04217369481921196, -0.06540878117084503, 0.02611454389989376, -0.013917743228375912, -0.006732227746397257, -0.009157096035778522, 0.015256084501743317, 0.0846569836139679, -0.04096221551299095, -0.010862946510314941, -0.01988125592470169, 0.0351092554628849, 0.045648448169231415, -0.1055171936750412, 0.04312998801469803, -0.0015237625921145082, -0.022629477083683014, 0.021723521873354912, 0.018814517185091972, -0.026167334988713264, 0.028019065037369728, 0.027829794213175774, 0.050791285932064056, 0.022271588444709778, 0.0698804259300232, 0.020641032606363297, -0.01367024052888155, 0.039821017533540726, 0.054658666253089905, 0.03261072188615799, 0.038244299590587616, 0.05851898714900017, -0.007773957680910826, -0.024178439751267433, -3.148451783424092e-33, 0.0017057886580005288, -0.07964435964822769, -0.020652679726481438, 0.024493783712387085, 0.10928381234407425, -0.01293967105448246, -0.03881552815437317, 0.005325441248714924, -0.001088385353796184, -0.0014384405221790075, -0.035610977560281754, -0.05372970923781395, -0.007884979248046875, 0.04378862679004669, 0.02274348773062229, -0.045131031423807144, -0.04561487212777138, -0.02806871384382248, -0.06824936717748642, 0.01907789707183838, -0.031187398359179497, 0.11296571046113968, -0.00919635221362114, 0.052790191024541855, 0.04921021685004234, -0.015965992584824562, -0.04043314978480339, -0.0828905776143074, 0.05718579143285751, -0.0022347576450556517, -0.009367194958031178, 0.07701344043016434, 0.008111893199384212, -0.006160900462418795, -0.07798799127340317, 0.06292888522148132, 0.00043158043990843, 0.012079760432243347, -0.029430558905005455, 0.017221754416823387, 0.038052789866924286, 0.05664297938346863, -0.12106959521770477, -0.015151703730225563, -0.051121048629283905, -0.03970959782600403, -0.08516994118690491, -0.00869660172611475, 0.008707743138074875, -0.07201138883829117, -0.03996304050087929, -0.04642036184668541, -0.04501135274767876, -0.026195595040917397, 0.051508575677871704, -0.03129517659544945, 0.07264085114002228, -0.05144255980849266, 0.06572405248880386, 0.055318351835012436, 0.04367697238922119, 0.08117415755987167, -0.10297267138957977, -0.014714875258505344, 0.024953627958893776, 0.022569362074136734, -0.028598835691809654, 0.035878509283065796, -0.10735705494880676, 0.03632169961929321, -0.009182367473840714, 0.0044840374030172825, -0.05378223583102226, 0.018827324733138084, -0.032391246408224106, -0.008515908382833004, -0.04404078796505928, -0.05697605758905411, -0.01982569321990013, -0.001384311937727034, 0.0860205739736557, -0.12744776904582977, -0.0548885352909565, 0.029019905254244804, -0.0068934522569179535, 0.057623013854026794, -0.07803718000650406, 0.013776787556707859, -0.015214386396110058, -0.005985133815556765, -0.09930606931447983, -0.05045228824019432, -0.02628987282514572, -0.032642658799886703, -0.04705517739057541, -2.788342001736055e-08, 0.0445035882294178, -0.009612039662897587, 0.04263285547494888, -0.001631811261177063, -0.10301551222801208, 0.0060813892632722855, -0.053017716854810715, -0.017862966284155846, -0.04519914835691452, 0.09731368720531464, -0.08524332195520401, 0.025484507903456688, 0.04783811420202255, 0.08554625511169434, -0.013436262495815754, 0.004140461329370737, 0.08140948414802551, 0.015110787004232407, 0.011762064881622791, 0.030378952622413635, 0.09540899842977524, 0.03465655818581581, -0.053231801837682724, -0.05854763463139534, -0.010322118178009987, 0.01187336165457964, -0.08632221072912216, 0.04989005997776985, 0.014160389080643654, -0.011503474786877632, 0.007017815485596657, 0.02185770310461521, -0.07099322229623795, -0.0595359243452549, -0.07649781554937363, -0.02929733879864216, -0.014051537960767746, -0.1277116984128952, 0.04206283390522003, -0.0361124649643898, 0.0027686371468007565, -0.041760239750146866, 0.007302410900592804, -0.04993676394224167, -0.012213160283863544, -0.002974474336951971, 0.015952104702591896, 0.11195999383926392, -0.02457369863986969, 0.0915459617972374, -0.023388175293803215, 0.014155889861285686, -0.0286560095846653, -0.03362518176436424, 0.08163776248693466, 0.01657058857381344, 0.10581035912036896, 0.05150017887353897, -0.002283661160618067, -0.030250919982790947, 0.06603159010410309, 0.03486629202961922, -0.032899029552936554, -0.09169945865869522]",
         "10.513982",
         "0.79973227",
         "3",
         "Research Methodology and Cross-Cultural Perspectives"
        ],
        [
         "39",
         "R040",
         "Psychology",
         "Cross-cultural perspectives on developmental psychology at Auckland completely changed my research interests. I'm now focusing on cultural variations in child development for my graduate work.",
         "[0.06583299487829208, 0.04757784679532051, -0.036040015518665314, 0.08764295279979706, 0.036381691694259644, 0.049690812826156616, -0.07464279979467392, -0.06736645847558975, -0.0004554531769827008, 0.0874638482928276, 0.0225793719291687, -0.036246683448553085, -0.09681762009859085, 0.07387383282184601, 0.058611758053302765, 0.051737334579229355, -0.029644427821040154, -0.04513804242014885, 0.0457717627286911, -0.0371636226773262, 0.006900407839566469, -0.018908673897385597, 0.07704726606607437, 0.023057153448462486, 0.03243154287338257, 0.05559636652469635, 0.09150978922843933, 0.03355652466416359, 0.10227276384830475, -0.00015420420095324516, -0.034708257764577866, 0.04934696853160858, -0.023943888023495674, -0.041565511375665665, 0.018920550122857094, 0.08318261057138443, 0.046483539044857025, 0.06813933700323105, 0.017780659720301628, 0.03751874342560768, -0.02427983283996582, 0.07088468968868256, -0.003990154713392258, -0.056359730660915375, -0.01734842173755169, -0.06142817437648773, -0.037495944648981094, -0.02675926499068737, -0.11831944435834885, 0.03197184577584267, -0.03466544672846794, -0.013144977390766144, 0.030683716759085655, -0.04818715155124664, -0.023388361558318138, -0.04567115753889084, 0.015081869438290596, 0.07003450393676758, 0.039588987827301025, 0.06269454956054688, 0.015027335844933987, -0.07119351625442505, -0.07924997806549072, -0.00014246386126615107, 0.029509631916880608, -0.01770675741136074, -0.04897557944059372, 0.046749066561460495, -0.02431561052799225, -0.1448737233877182, -0.03611022233963013, -0.001945697469636798, 0.09380453079938889, 0.13768647611141205, 0.016557736322283745, 0.022601285949349403, 0.021173145622015, -0.02591068111360073, -0.09451868385076523, -0.0013946719700470567, 0.07049458473920822, 0.036955300718545914, -0.02564222551882267, -0.021048743277788162, 0.02046826295554638, 0.0029802259523421526, -0.0180275309830904, -0.027576886117458344, -0.01600016839802265, 0.013304373249411583, -0.023505890741944313, -0.025149960070848465, 0.012037255801260471, 0.06950714439153671, 0.0015222716610878706, -0.03481186553835869, -0.060750812292099, -0.04273642227053642, 0.027002321556210518, -0.060745880007743835, 0.01786595769226551, 0.050221581012010574, -0.001356776338070631, 0.12787404656410217, -0.03668927028775215, -0.014089391566812992, -0.028127893805503845, -0.0323236808180809, -0.07249105721712112, 0.014408187940716743, -0.04639843851327896, 0.04182446002960205, -0.04718193784356117, 0.07231903821229935, 0.043188389390707016, -0.03148429095745087, -0.011196239851415157, 0.01938646472990513, 0.029119130223989487, -0.060986630618572235, 0.04418010637164116, 0.05471988767385483, 0.006836429703980684, -0.042898595333099365, -0.06574530154466629, -0.07491615414619446, -0.04652190953493118, -4.6312544285204e-34, 0.01881401054561138, 0.0014468564186245203, -0.053469929844141006, 0.07379631698131561, 0.054903801530599594, -0.02791309356689453, 0.05268724635243416, 0.021021461114287376, -0.00977389421314001, 0.0028744677547365427, 0.04303302615880966, 0.049649808555841446, 0.047977644950151443, -0.02495947852730751, -0.08861338347196579, 0.022081300616264343, -0.06426440924406052, -0.028015708550810814, 0.017483022063970566, 0.0989016592502594, -0.013574179261922836, 0.05268799141049385, 0.06390085071325302, -0.025329334661364555, 0.004237758461385965, -0.002455893438309431, 0.023725004866719246, -0.049323875457048416, -0.00371407438069582, -0.0038662103470414877, -0.02553016133606434, 0.05008027330040932, -0.11379072815179825, -0.06669605523347855, 0.03288546949625015, 0.03993925452232361, 0.0494220070540905, -0.03262746334075928, 0.0261576846241951, 0.04185348376631737, 0.00679280050098896, -0.06460117548704147, -0.024636894464492798, 0.02570931985974312, 0.05098322778940201, 0.02574997954070568, -0.016344046220183372, -0.040438681840896606, -0.016602059826254845, 0.04576666280627251, -0.05763719230890274, -0.036615073680877686, -0.08857307583093643, -0.08766062557697296, 0.008238363079726696, 0.04741211235523224, 0.0003730329917743802, 0.02685759775340557, -0.004885626956820488, -0.09239784628152847, 0.05885496735572815, -0.04754249006509781, -0.0553872287273407, -0.07887661457061768, -0.0023118990939110518, -0.028470514342188835, 0.05743659287691116, -0.1000966727733612, 0.09348401427268982, -0.1189768835902214, -0.002361757680773735, -0.017645850777626038, 0.06470850110054016, 0.04202505946159363, -0.032130949199199677, -0.031781166791915894, 0.0018954277038574219, 0.049080368131399155, 0.06006931886076927, -0.006461592856794596, -0.049217864871025085, 0.0764763355255127, -0.020624766126275063, 0.015689151361584663, -0.01458314061164856, -0.03476618230342865, 0.029159778729081154, -0.032158367335796356, 0.013766184449195862, 0.04570147022604942, 0.0036142130848020315, -0.06319179385900497, 0.06800013035535812, -0.00616595009341836, 0.014596892520785332, -4.424835324628603e-34, 0.061840057373046875, -0.07341951876878738, -0.008143126964569092, -0.03258289769291878, -0.022477198392152786, -0.03483562171459198, 0.05101076886057854, 0.021214570850133896, -0.009664151817560196, 0.01494128629565239, 0.00019381378660909832, 0.0024851893540471792, 0.061676230281591415, 0.08136685192584991, -0.03127218037843704, -0.022286634892225266, 0.003070624079555273, 0.0538402758538723, 0.04929281026124954, -0.02586129680275917, 0.05573032423853874, 0.10696142166852951, -0.09011726081371307, 0.025126254186034203, 0.024478338658809662, 0.022213086485862732, -0.006383046507835388, -0.08258914947509766, -0.03224707394838333, -0.023981669917702675, -0.03238275647163391, 0.024019742384552956, 0.03953595086932182, 0.004974512383341789, -0.04753674939274788, 0.03039538487792015, -0.08829274028539658, -0.036297205835580826, -0.04329070448875427, -0.004154509864747524, -0.08088855445384979, 0.019945984706282616, -0.012636399827897549, -0.03810746967792511, -0.010611381381750107, 0.02324082888662815, 0.0149688133969903, -0.0034951975103467703, -0.03342270106077194, -0.008003143593668938, 0.06887777149677277, 0.035437241196632385, -0.08014900982379913, -0.11600537598133087, 0.06688474118709564, -0.0032887523993849754, 0.11529885232448578, -0.08391407132148743, -0.027021531015634537, 0.010153762064874172, 0.09081432968378067, 0.024822058156132698, -0.03742000088095665, -0.02762230485677719, -0.061470575630664825, 0.006775954272598028, -0.0003093250561505556, -0.005143729969859123, 0.030851181596517563, 0.001377295469865203, -0.0735030472278595, 0.09169792383909225, 0.046677365899086, -0.06118403747677803, -0.006202688906341791, -0.025364190340042114, -0.04107516631484032, -0.02353024296462536, -0.012374121695756912, 0.02891099452972412, -0.07004217058420181, -0.04121260717511177, -0.0453997366130352, 0.006380079314112663, -0.0012469117064028978, 0.06271304190158844, -0.04641418531537056, 0.021411564201116562, 0.036076415330171585, -0.06763971596956253, -0.07399651408195496, -0.015771735459566116, -0.08522693812847137, -0.0425880141556263, 0.022111186757683754, -2.6731248325972956e-08, 0.03799688443541527, -0.004685642197728157, -0.007582229096442461, 0.025047194212675095, -0.01271644327789545, 0.021334461867809296, -0.07138168066740036, 0.06381227821111679, 0.003424669848755002, 0.04391445592045784, -0.1446385532617569, 0.06257656216621399, 0.0285759549587965, 0.050665900111198425, 0.005747775547206402, -0.04219059273600578, 0.11188307404518127, 0.002005492802709341, 0.060070306062698364, 0.030724043026566505, 0.0717952623963356, 0.1412176489830017, -0.025502583011984825, 0.01062103919684887, -0.07034718245267868, -0.05249646306037903, -0.08948428928852081, -0.01305351685732603, -0.07169796526432037, -0.10169599205255508, 0.016842899844050407, 0.08040928095579147, -0.005294380709528923, -0.07059811055660248, 0.035498667508363724, -0.06998813152313232, 0.02051028609275818, 0.02125508524477482, 0.007142537739127874, 0.01733129471540451, 0.09168878942728043, -0.04730435460805893, 0.06403610855340958, 0.04091989994049072, -0.053915396332740784, -0.010574854910373688, -0.03209887817502022, 0.07116430252790451, -0.048609182238578796, 0.03255290538072586, -0.004350741859525442, -0.02480328269302845, -0.046063877642154694, 0.011364899575710297, 0.10152644664049149, 0.024785291403532028, -0.050130877643823624, -0.038485344499349594, -0.05224437639117241, 0.10007831454277039, 0.10252918303012848, 0.10432322323322296, -0.021189620718359947, -0.0039639766328036785]",
         "11.331079",
         "0.24127342",
         "3",
         "Research Methodology and Cross-Cultural Perspectives"
        ],
        [
         "40",
         "R041",
         "Biology",
         "The marine research techniques I learned at MBL were cutting-edge. Having that technical expertise on my resume helped me land a competitive research assistant position for after graduation.",
         "[-0.10465814918279648, 0.014467716217041016, 0.05544985458254814, 0.04312606528401375, -0.008986377157270908, -0.018886635079979897, -0.05121859535574913, 0.015560517087578773, -0.0757560133934021, -0.02325361594557762, -0.08103550970554352, 0.03319311514496803, 0.05266590043902397, 0.017703356221318245, 0.029655519872903824, 0.06676271557807922, 0.05392824113368988, -0.019005198031663895, 0.008364683017134666, -0.06433284282684326, -0.037758029997348785, 0.05253272503614426, 0.07653170078992844, 0.009770732372999191, -0.03794504702091217, 0.028710369020700455, 0.03146902471780777, 0.01217824500054121, -0.02377619594335556, 0.0003406753239687532, 0.003383353352546692, 0.06010472774505615, -0.0004729352658614516, 0.0070893969386816025, 0.10259155929088593, 0.08773930370807648, 0.023836636915802956, 0.06531069427728653, -0.023637862876057625, 0.005580017808824778, -0.09499286860227585, -0.03903459385037422, 0.05553589016199112, -0.013348259031772614, 0.034235745668411255, -0.14923112094402313, 0.07382411509752274, -0.08674193173646927, 0.015519147738814354, -0.023456040769815445, -0.06954856961965561, -0.08758725225925446, -0.006265091244131327, -0.05858331546187401, -0.020516566932201385, 0.0822811871767044, -0.035077136009931564, 0.005598671268671751, 0.01930561289191246, -0.021354613825678825, 0.028497453778982162, -0.004016267601400614, -0.07274258136749268, 0.006029065698385239, -0.026085298508405685, -0.005915880668908358, -0.035761673003435135, 0.020377198234200478, 0.03315064683556557, -0.06427206099033356, -0.014533886685967445, 0.026010509580373764, -0.054625969380140305, 0.08864261955022812, 0.07929597049951553, -0.009994476102292538, 0.048774801194667816, 0.04591301456093788, 0.09284641593694687, 0.0024192698765546083, 0.04285109043121338, -0.025404157117009163, -0.05676364526152611, 0.04175301641225815, -0.06004868075251579, -0.10447382926940918, -0.017821725457906723, -0.04437387362122536, -0.04717784374952316, 0.0438787005841732, 0.14597557485103607, -0.07792878895998001, 0.009228956885635853, -0.024879207834601402, -0.03382492810487747, -0.061198100447654724, -0.00019996918854303658, -0.0028762095607817173, 0.05484885722398758, 0.016278943046927452, 0.003694373881444335, -0.03720008209347725, -0.04137250781059265, 0.01643209531903267, -0.06969840079545975, -0.023829247802495956, 0.04944368451833725, 0.03965386003255844, 0.04484615474939346, -0.04603654518723488, -0.015361921861767769, 0.06558778136968613, -0.11614213138818741, 0.09519212692975998, -0.024180378764867783, 0.07462747395038605, -0.06809388846158981, -0.04310651123523712, 0.05104207247495651, 0.04880848154425621, -0.036639504134655, -0.013470112346112728, -0.0005999180721119046, 0.044211048632860184, -0.013084319420158863, 0.013936634175479412, -0.00931631214916706, -4.462132933860728e-34, 0.06045407056808472, 0.04694763198494911, 0.007054544519633055, 0.06025543808937073, 0.036209866404533386, -0.01716884784400463, -0.04343189299106598, -0.031457073986530304, 0.02240360528230667, -0.044142913073301315, -0.020919913426041603, 0.17977359890937805, -0.0003645865945145488, -0.029794977977871895, -0.005877561867237091, -0.001591100008226931, -0.12616665661334991, 0.003513081232085824, -0.05498940125107765, 0.014217955060303211, 0.020017031580209732, 0.0007985991542227566, 0.04000823572278023, -0.03329998627305031, 0.01174397673457861, -0.007426918484270573, 0.010187366977334023, -0.05534141883254051, 0.07110095769166946, 0.07673675566911697, 0.02963530831038952, -0.05288727208971977, -0.07926678657531738, -0.050355225801467896, 0.03311428055167198, 0.09627074003219604, 0.004507182631641626, -0.10876891016960144, 0.01872357353568077, 0.026419714093208313, -0.0508890226483345, 0.04367201775312424, 0.04784105345606804, -0.020036818459630013, -0.011700144037604332, -0.03707057982683182, 0.0014464177656918764, 0.003262345213443041, 0.005159781314432621, 0.06782051175832748, 0.003950945567339659, -0.018461087718605995, 0.040861569344997406, -0.1036701500415802, 0.015700172632932663, 0.044595763087272644, 0.07834412902593613, 0.0878468006849289, -0.03132549673318863, 0.060387201607227325, -0.010970615781843662, 0.0316818468272686, 0.022755233570933342, 0.004144088830798864, 0.04549216106534004, 0.044924478977918625, 0.039747804403305054, -0.02143726497888565, 0.03195655718445778, 0.01355675794184208, -0.04109582304954529, -0.0108418520539999, 0.06392402201890945, -0.020478319376707077, -0.037285301834344864, -0.09020250290632248, -0.06395458430051804, 0.003408564953133464, 0.008950959891080856, 0.052330538630485535, 0.04788624867796898, -0.002055159769952297, -0.004827471915632486, -0.004188744351267815, 0.054518211632966995, -0.013598890043795109, 0.07257676124572754, -0.0707467645406723, 0.0568099319934845, 0.033333491533994675, 0.005990889389067888, -0.009698101319372654, 0.02249760739505291, 0.07422826439142227, -0.05630174279212952, 1.2898427448915593e-34, -0.0007222412968985736, -0.05190328136086464, 0.07660099118947983, 0.04506457597017288, 0.0332779660820961, -0.028309959918260574, 0.09205605089664459, -0.0636349767446518, -0.05883445963263512, -0.014212409034371376, 0.018701400607824326, 0.035707563161849976, -0.018169663846492767, 0.026157710701227188, -0.035589344799518585, -0.04570170119404793, -0.07795983552932739, -0.06393010914325714, -0.02702985145151615, -0.018532654270529747, 0.013530563563108444, -0.04836367443203926, 0.04955414682626724, 0.036010127514600754, 0.0074306330643594265, 0.023588787764310837, -0.03476623818278313, -0.024559441953897476, -0.03224875405430794, -0.03920082375407219, 0.07597748190164566, 0.09931377321481705, -0.01644013822078705, -0.04671122133731842, -0.06481455266475677, 0.051499731838703156, -0.02588636614382267, 0.017924293875694275, 0.02904519811272621, 0.0052750445902347565, 0.009388486854732037, -0.07346139848232269, -0.0043379152193665504, -0.10449698567390442, -0.02013087086379528, -0.01697433553636074, -0.023593638092279434, 0.02811232954263687, 0.009341609664261341, -0.0784069076180458, -0.03946578875184059, 0.006865515373647213, 0.00498150335624814, -0.05375557392835617, 0.023510858416557312, -0.0011463250266388059, 0.025069402530789375, -0.05296304449439049, 0.012725183740258217, 0.007221858482807875, 0.032649677246809006, 0.049864962697029114, 0.0010658218525350094, 0.0051461621187627316, 0.04252060130238533, 0.008912243880331516, 0.04781399667263031, 0.020248811691999435, -0.1268753707408905, 0.010168952867388725, 0.037239231169223785, 0.009048592299222946, 0.007908853702247143, 0.003019938711076975, -0.020709671080112457, -0.047670286148786545, -0.06006360426545143, -0.06190233305096626, -0.07963822782039642, 0.033527471125125885, -0.095177561044693, 0.0010367896175011992, -0.04806029424071312, -0.019465122371912003, -0.0170110035687685, 0.09698047488927841, 0.005734954494982958, 0.004161863122135401, -0.011065463535487652, -0.15154458582401276, -0.06425826251506805, -0.07573762536048889, -0.019972529262304306, -0.024338679388165474, -0.048336710780858994, -2.721478331579874e-08, 0.005505364388227463, -0.00969966035336256, 0.01910416968166828, 0.08619559556245804, -0.016154048964381218, -0.02135937474668026, -0.12172902375459671, 0.08304013311862946, 0.05390311777591705, -0.048988766968250275, -0.0476071760058403, -0.055422231554985046, -0.02066456526517868, 0.043189115822315216, 0.0910329595208168, 0.03488780930638313, 0.09489189833402634, -0.007219627033919096, -0.012637140229344368, -0.035397060215473175, 0.08459223806858063, 0.06453868746757507, 0.05065200477838516, -0.021878067404031754, 0.0015270841540768743, 0.037357065826654434, -0.014184695668518543, 0.08151394873857498, 0.06733294576406479, 0.0032248864881694317, -0.021885070949792862, -0.021250423043966293, -0.07540486752986908, 0.007570924237370491, 0.10009194910526276, -0.018903201445937157, 0.049903977662324905, -0.025962434709072113, -0.058477990329265594, 0.03023568168282509, -0.08714239299297333, 0.02723008021712303, 0.029348600655794144, 0.050226401537656784, 0.025910569354891777, 0.07301541417837143, -0.00181951851118356, 0.07181377708911896, -0.036300379782915115, 0.023160839453339577, 0.05647563934326172, -0.030959194526076317, -0.02166825346648693, 0.06141287460923195, -0.026126164942979813, 0.12270356714725494, 0.043038107454776764, -0.05999292805790901, -0.10494813323020935, 0.05481626093387604, 0.04340260103344917, -0.054881881922483444, -0.12211830168962479, 0.07385119795799255]",
         "8.757991",
         "2.1174843",
         "6",
         "Mentorship and Technical Skill Development"
        ],
        [
         "41",
         "R042",
         "Asian Studies",
         "Tokyo was amazing!!! Waseda University's language program improved my Japanese dramatically, and the cultural immersion was incredible. Made friends I'll have for life and professional connections that are already helping my job search.",
         "[0.022902337834239006, -0.027792729437351227, 0.0505201481282711, 0.011833814904093742, -0.015384540893137455, 0.02326425164937973, -0.030167486518621445, 0.041734728962183, -0.07268159091472626, -0.01671016216278076, 0.018593600019812584, 0.02389320731163025, -0.008816146291792393, 0.03608535975217819, 0.012365820817649364, -0.033939387649297714, 0.046876680105924606, -0.059401728212833405, 0.04223193973302841, -0.13251061737537384, -0.00971369631588459, -0.01405819971114397, 0.02041478268802166, 0.003704529255628586, 0.0688285157084465, 0.0803871899843216, 0.049454305320978165, 0.03640597686171532, 0.034651804715394974, -0.017369292676448822, -0.07947748899459839, 0.062164485454559326, 0.025716770440340042, 0.0741543248295784, 0.023202070966362953, 0.07865779101848602, 0.04693833738565445, -0.07125980406999588, -0.014769325032830238, -0.05751900002360344, -0.08106140047311783, 0.08846183866262436, 0.08164657652378082, -0.0012149668764322996, 0.048039309680461884, -0.04392659291625023, 0.03172362223267555, -0.015580939128994942, 0.013968316838145256, 0.0016124682733789086, -0.0002489159523975104, -0.06234785169363022, 0.04044454172253609, -0.012355878949165344, -0.043594785034656525, 0.03930525481700897, 0.008173559792339802, 0.008803506381809711, -0.07901857793331146, 0.004883639980107546, -0.05026383325457573, -0.05331408977508545, 0.024798888713121414, -0.0013497874606400728, 0.020550737157464027, -0.03802710399031639, -0.09233838319778442, 0.023638471961021423, -0.019663702696561813, -0.06348922848701477, 0.04723773151636124, 0.015931328758597374, 0.08833295851945877, 0.06895972788333893, 0.006788916420191526, 0.025430619716644287, -0.025450270622968674, -0.02666735276579857, -0.0031489520333707333, 0.007325055543333292, 0.09786054491996765, -0.045329224318265915, -0.01882321946322918, 0.000627033703494817, -0.02391720376908779, -0.08145248889923096, -0.06587789207696915, -0.09198827296495438, 0.038679588586091995, 0.03683094307780266, 0.06782550364732742, 0.05080244317650795, -0.044299978762865067, -0.011872237548232079, -0.057738713920116425, -0.04077382758259773, -0.04900607094168663, 0.04272828623652458, 0.0337945930659771, -0.02326369471848011, -0.02482762187719345, 0.045358672738075256, -0.024076716974377632, -0.09060391038656235, -0.06097220629453659, 0.018229274079203606, 0.05107216536998749, -0.034830257296562195, -0.02083360031247139, 0.055618491023778915, -0.0024776787031441927, 0.022276386618614197, -0.012656105682253838, 0.03253878653049469, -0.01662435755133629, 0.08804381638765335, 0.07830463349819183, 0.08666878938674927, -0.0571105033159256, 0.02119298093020916, -0.013164270669221878, 0.04365624859929085, 0.05256827548146248, -0.01689370721578598, -0.08810672909021378, 0.022677822038531303, 0.01571774110198021, -7.277372109103027e-34, -0.006476931273937225, 0.036511871963739395, -0.04039890691637993, 0.03918790444731712, 0.0030787147115916014, -0.06500288844108582, -0.005277892109006643, 0.07481617480516434, -0.09129322320222855, -0.04884360730648041, -0.012336590327322483, 0.026024768128991127, -0.023516839370131493, -0.04642776772379875, 0.011166797019541264, -0.027086397632956505, -0.044309332966804504, 0.02415536157786846, -0.006629972718656063, 0.0722474604845047, 0.061220716685056686, 0.014622343704104424, -0.010627475567162037, -0.0386415533721447, -0.03599416837096214, 0.020329637452960014, 0.014953028410673141, -0.03229985758662224, 0.06168408691883087, 0.020080771297216415, -0.01531551405787468, -0.005190230440348387, -0.07264890521764755, 0.006813592277467251, 0.025417234748601913, -0.014406252652406693, 0.03427252173423767, -0.09762035310268402, 0.003336238441988826, 0.06106718257069588, 0.033008888363838196, 0.04201279580593109, 0.025267502292990685, -0.020634645596146584, 0.08344290405511856, 0.05200974643230438, -0.020311549305915833, -0.00965883955359459, 0.09969189018011093, -0.03309866040945053, -0.1385212540626526, -0.09120386838912964, 0.0024385545402765274, 0.023269036784768105, 0.06973696500062943, 0.0666903555393219, 0.05021446943283081, 0.01633881777524948, -0.038870472460985184, 0.048347946256399155, -0.05953371152281761, 0.07803846895694733, -0.044149093329906464, -0.06574878096580505, 0.021881116554141045, 0.0379006452858448, 0.059676144272089005, -0.08284888416528702, 0.06836706399917603, -0.0655352994799614, -0.046963054686784744, -0.07073995471000671, 0.022050932049751282, -0.009273510426282883, -0.050603076815605164, 0.01059988047927618, -0.06609335541725159, -0.01212352141737938, 0.031181970611214638, 0.030793286859989166, 0.0137697234749794, 0.02429763413965702, -0.049790434539318085, 0.006831286009401083, 0.08638136833906174, 0.0827101618051529, 0.04892686754465103, -0.09236569702625275, 0.011962912045419216, 0.0118057606741786, 0.13884015381336212, -0.047562867403030396, 0.11096379160881042, 0.01684986986219883, 0.01809866912662983, 9.860345998414823e-34, 0.04096648097038269, 0.014731199480593204, -0.015432178974151611, -0.008882541209459305, -0.005250066984444857, 0.05140514299273491, -0.01876729540526867, 0.053265899419784546, -0.014238357543945312, -0.028935274109244347, 0.00636268500238657, -0.006451640278100967, 0.05026960372924805, 0.045133158564567566, -0.09359296411275864, 0.024522047489881516, 0.06577271968126297, -0.021693607792258263, -0.04833918809890747, -0.015154795721173286, 0.042486321181058884, 0.06300565600395203, -0.04133208841085434, 0.0195988230407238, -0.02740349993109703, 0.054520133882761, -0.00793971586972475, 0.016101598739624023, -0.02270727977156639, 0.07175596803426743, -0.01872115209698677, 0.06432878226041794, -0.03990751504898071, -0.01685245707631111, 0.03725101798772812, 0.06172716245055199, 0.013409904204308987, -0.024617202579975128, -0.06437446177005768, 0.01809293031692505, -0.057001132518053055, 0.013673766516149044, -0.043043527752161026, 0.05443165823817253, 0.0008940882980823517, 0.015874581411480904, -0.09038323909044266, 0.016410140320658684, -0.05041711777448654, -0.08809822052717209, -0.08752287924289703, -0.0404389388859272, -0.05035441741347313, -0.10043402761220932, -0.006327863782644272, -0.09295090287923813, 0.07531025260686874, -0.057289112359285355, -0.07749219238758087, -0.031386345624923706, -0.0406268909573555, -0.02054961770772934, -0.009426510892808437, -0.0031451061367988586, -0.05606713891029358, -0.008215531706809998, 0.1259116232395172, -0.012432826682925224, -0.017605241388082504, -0.07526978105306625, -0.0471840426325798, 0.05206320807337761, -0.02012837864458561, 0.1551852822303772, -0.04265991598367691, -0.0061733052134513855, 0.03630524501204491, -0.008434751071035862, 0.027347827330231667, 0.055556803941726685, -0.000772156345192343, 0.12354562431573868, -0.0538504458963871, -0.005924751982092857, 0.10947902500629425, 0.11665397137403488, -0.03470727056264877, -0.0008539393893443048, 0.05684150755405426, -0.028433596715331078, 0.017970943823456764, 0.08067179471254349, -0.025821801275014877, -0.0665876567363739, -0.008386172354221344, -2.2880863426166798e-08, -0.019146690145134926, -0.055171575397253036, -0.022228920832276344, -0.02401180937886238, -0.03237869590520859, -0.10342530906200409, -0.06470287591218948, 0.07141278684139252, -0.0029566949233412743, 0.025411229580640793, -0.08150393515825272, 0.1043919175863266, -0.07280439883470535, 0.0745227113366127, 0.05369219928979874, 0.0029467123094946146, 0.13132867217063904, 0.09764411300420761, 0.023524384945631027, -0.052321989089250565, 0.060591261833906174, 0.056915611028671265, -0.025065260007977486, -0.05224011465907097, -0.018105527386069298, 0.02078111842274666, -0.05558403581380844, -0.010700012557208538, -0.02933580055832863, -0.02995837666094303, -0.020621569827198982, -0.039793044328689575, -0.03808237612247467, 0.014935017563402653, -0.04479792341589928, -0.0320412777364254, 0.013403024524450302, -0.09304202347993851, 0.003455984639003873, 0.011968925595283508, 0.044589538127183914, -0.0319732241332531, -0.051716070622205734, 0.008063527755439281, 0.015716202557086945, 0.06830554455518723, 0.05342673137784004, -0.02289084531366825, 0.006661305204033852, -0.011008361354470253, -0.04358759522438049, -0.014940728433430195, -0.047186125069856644, 0.001978398999199271, 0.023588260635733604, 0.020635133609175682, -0.09209463745355606, -0.047785039991140366, -0.06851492077112198, 0.09513414651155472, 0.07998081296682358, 0.02742736227810383, -0.1182074025273323, 0.048684779554605484]",
         "10.639987",
         "5.3961053",
         "2",
         "Language and Cultural Immersion"
        ],
        [
         "42",
         "R043",
         "Economics",
         "The biggest benefit was seeing how economic policies play out differently in European welfare states. Copenhagen's approach to market economics with strong social supports gave me a more nuanced perspective.",
         "[-0.052445247769355774, 0.11313612759113312, -0.033396512269973755, -0.07070703059434891, 0.11214051395654678, 0.11985401809215546, -0.05041670426726341, 0.09247192740440369, -0.026942139491438866, -0.0032455474138259888, 0.033184997737407684, 0.05469556152820587, -0.005529892630875111, 0.01266076322644949, 0.05430179461836815, -0.014010799117386341, 0.07623735070228577, -0.021211812272667885, -0.020194143056869507, 0.013548484072089195, -0.08184172958135605, -0.08396442234516144, 0.0015019959537312388, -0.02430710941553116, 0.011801925487816334, 0.029245808720588684, 0.040820419788360596, -0.039830710738897324, 0.017440414056181908, 0.017960790544748306, 0.03142336383461952, -0.008412513881921768, -0.02677326276898384, -0.006934249307960272, -0.026030786335468292, -0.030167240649461746, -0.003984436392784119, -0.05305027961730957, -0.04344675689935684, -0.026212409138679504, 0.008750081062316895, -0.04060417413711548, -0.015614696778357029, -0.04136483371257782, 0.01420816034078598, 0.0013439272297546268, 0.08721323311328888, -0.023830238729715347, -0.12187248468399048, -0.04943244904279709, 0.030473416671156883, -0.002821965841576457, 0.011046640574932098, -0.04694675654172897, 0.025594597682356834, -0.011264088563621044, -0.030639003962278366, 0.05159794166684151, -0.08343035727739334, -0.01993446610867977, 0.034861717373132706, -0.0621366873383522, -0.028583122417330742, 0.0110324053093791, 0.0699266791343689, -0.08622319251298904, -0.07713790237903595, 0.023093661293387413, -0.08001123368740082, 0.013988467864692211, -0.023774001747369766, -0.056627895683050156, 0.00851842574775219, -0.057822052389383316, 0.04866662994027138, -0.0836261436343193, -0.009081306867301464, 0.0037910365499556065, 0.0059011997655034065, -0.05099770799279213, 0.05227278172969818, 0.0030346610583364964, -0.12481290847063065, 0.012471452355384827, 0.04246858134865761, -0.039125218987464905, 0.06295190006494522, -0.1559327393770218, 0.013465789146721363, 0.014322985894978046, 0.06427182257175446, -0.00026356728631071746, -0.024817900732159615, 0.032646674662828445, 0.009767746552824974, 0.000841297791339457, -0.01901782490313053, 0.08558952808380127, -0.06546726822853088, 0.020837239921092987, 0.06101067736744881, 0.0667731836438179, -0.006438355427235365, 0.011791392229497433, 0.00031332107027992606, -0.09885004907846451, -0.027186952531337738, 0.022285055369138718, 0.07268667966127396, -0.03235801309347153, -0.06716958433389664, -0.03220553696155548, -0.001038678688928485, -0.01741207391023636, -0.005490258801728487, -0.007784723304212093, 0.08565963804721832, -0.004497704561799765, 0.10949227958917618, -0.011521955020725727, 0.09843549132347107, -0.08922265470027924, -0.021231476217508316, 0.08320992439985275, 0.012158544734120369, 0.0708065778017044, -0.033105310052633286, 5.237364570565815e-34, -0.10212709754705429, 0.013539966195821762, -0.01564738340675831, 0.021486841142177582, 0.012609335593879223, -0.041503410786390305, -0.051456987857818604, -0.05415450781583786, -0.0571109801530838, -0.0037887422367930412, -0.0007511922158300877, 0.0813775435090065, 0.05452219396829605, 0.0649971142411232, -0.013460073620080948, -0.03749798983335495, -0.1406535804271698, 0.0766991451382637, 0.00975203886628151, 0.08967658877372742, 0.11744704097509384, 0.051514651626348495, 0.07428496330976486, 0.01327232550829649, 0.03036368452012539, -0.02711789682507515, 0.03457687795162201, -0.052215784788131714, -0.009065982885658741, 0.003048235783353448, 0.01836390048265457, 0.07576588541269302, -0.0661882683634758, -0.0967811644077301, -0.0018340479582548141, 0.030080849304795265, -0.01526428759098053, -0.10286767780780792, -0.03818760812282562, -0.06949519366025925, -2.5111223294516094e-05, -0.012400451116263866, 0.03844417631626129, 0.017352964729070663, 0.06948479264974594, 0.050518590956926346, -0.047592855989933014, -0.0016089316923171282, 0.015017219819128513, -0.07471976429224014, -0.007572955451905727, -0.006954649928957224, 0.019035542383790016, -0.06513763964176178, 0.01934593729674816, -0.013517496176064014, -0.08325040340423584, 0.016713788732886314, -0.047763217240571976, -0.05064411833882332, -0.05196608975529671, -0.08803150057792664, 0.04822630062699318, -0.031683579087257385, -0.00202079676091671, 0.10998991876840591, 0.01231327187269926, -0.03249834477901459, -0.06797993928194046, 0.05227700620889664, -0.03510639816522598, 0.03920810669660568, 0.08252415806055069, -0.04002682864665985, -0.046681806445121765, 0.024611759930849075, -0.04485464468598366, 0.02080702781677246, 0.015622320584952831, -0.008246729150414467, -0.024404315277934074, -0.06719763576984406, 0.06777293980121613, -0.05617809668183327, 0.035825952887535095, 0.008550609461963177, 0.021635934710502625, -0.04924764111638069, 0.11180680245161057, -0.023868486285209656, -0.008373996242880821, -0.011139662936329842, 0.008829047903418541, -0.020041512325406075, -0.04097992926836014, -2.4557605131333655e-33, -0.016438111662864685, -0.013148462399840355, -0.0779932290315628, -0.039963286370038986, 0.048486627638339996, 0.03388890251517296, -0.05929884314537048, -0.04127636179327965, 0.001848911982960999, 0.0511123426258564, 0.059163033962249756, 0.030090846121311188, -0.016908472403883934, 0.12010817229747772, -0.07763198018074036, -0.021404877305030823, 0.057683613151311874, -0.06945919245481491, 0.041135210543870926, 0.028590930625796318, 0.06021750718355179, 0.07517807185649872, -0.020938502624630928, 0.08362356573343277, 0.04728248715400696, 0.015107883140444756, -0.07875214517116547, -0.04494573175907135, 0.01073086354881525, -0.09055826812982559, -0.011889209970831871, 0.051069244742393494, -0.013352550566196442, -0.012695557437837124, -0.05930546671152115, 0.1522367149591446, -0.02626032941043377, 0.022264892235398293, -0.03171173483133316, 0.037537943571805954, 0.003134464845061302, -0.09594158083200455, -0.00604465464130044, 0.03378579020500183, 0.02368548884987831, 0.004914216231554747, -0.05192980170249939, 0.0323517881333828, -0.0341145321726799, 0.036869119852781296, 0.021811623126268387, 0.05983350798487663, 0.023607226088643074, -0.004812114872038364, -0.016553301364183426, -0.040947675704956055, 0.025981701910495758, -0.08271351456642151, 0.032300062477588654, 0.0052667101845145226, -0.08305258303880692, 0.07173172384500504, -0.09036576002836227, 0.037064328789711, -0.03986138850450516, -0.035968393087387085, -0.07378705590963364, -0.06186208873987198, 0.04831026494503021, -0.08926964551210403, -0.0491294227540493, -0.026616785675287247, -0.03781675919890404, 0.042187925428152084, 0.02945839613676071, 0.06022226810455322, 0.03655914217233658, 0.05278127267956734, -0.05774586647748947, 0.047727882862091064, -0.07478245347738266, -0.06752735376358032, 0.026112928986549377, -0.07043956220149994, 0.004872292745858431, 0.04992394521832466, -0.025490565225481987, -0.05031432956457138, 0.010560577735304832, -0.04650105535984039, -0.08547256886959076, -0.028999846428632736, -0.023417357355356216, 0.016703225672245026, 0.06278393417596817, -2.5986025775637245e-08, 0.02433578297495842, -0.03307401016354561, -0.016199104487895966, 0.02006419003009796, -0.05964767187833786, -0.04305090010166168, -0.04679792374372482, 0.07243504375219345, -0.09298202395439148, 0.09917296469211578, -0.06973619014024734, 0.07863686978816986, -0.019228067249059677, 0.06398019194602966, 0.052674394100904465, 0.04224316030740738, -0.02034866437315941, 0.005536332260817289, -0.011959453113377094, 0.08785944432020187, 0.04575728625059128, 0.09989438951015472, -0.019466359168291092, -0.027833154425024986, -0.011924173682928085, 0.06261192262172699, -0.007290306035429239, 0.037800759077072144, 0.004216924775391817, -0.07202211022377014, 0.028370672836899757, 0.023331889882683754, 0.011889288201928139, 0.044023897498846054, -0.007880943827331066, 0.04103047028183937, -0.016303155571222305, 0.054763659834861755, 0.06644441932439804, 0.05280889943242073, -0.010157576762139797, 0.06365598738193512, -0.0008237385773099959, 0.03270847722887993, -0.03162498399615288, 0.021934645250439644, -0.04987533763051033, -0.008892637677490711, -0.01973011903464794, 0.025782739743590355, -0.028384707868099213, 0.04361018165946007, 0.006038777530193329, -0.04390425235033035, 0.07635864615440369, -0.022379470989108086, -0.009052534587681293, -0.007258655037730932, -0.02740292437374592, 0.07350156456232071, 0.07058683037757874, 0.03116128407418728, -0.008365428075194359, 0.0427597276866436]",
         "11.50783",
         "2.7410257",
         "0",
         "Comparative Perspectives on Economic and Political Systems"
        ],
        [
         "43",
         "R044",
         "Computer Science",
         "AIT Budapest connected me with tech startups in ways I couldn't have accessed from campus. One connection led to my summer internship, which then led to my job offer. The professional network was invaluable.",
         "[-0.03341810777783394, 0.0027024862356483936, 0.055071841925382614, -0.004953241441398859, 0.005943457130342722, -0.022162489593029022, -0.008786561898887157, 0.059292178601026535, -0.03113669715821743, -0.06849350035190582, 0.036440808326005936, 0.0887591764330864, -0.057606372982263565, 0.02572360262274742, -0.03176401928067207, -0.02811090648174286, -0.02163989283144474, -0.14408749341964722, 0.0384046696126461, -0.17788639664649963, -0.06891140341758728, -0.0812281146645546, 0.019541751593351364, -0.058166101574897766, 0.09654154628515244, -0.060236528515815735, 0.010162546299397945, 0.017402732744812965, 0.00120811618398875, -0.021982328966259956, -0.023220650851726532, 0.040159668773412704, -0.11165940761566162, -0.027762847021222115, 0.04848868399858475, -0.00017325070803053677, -0.017542337998747826, -0.015912875533103943, 0.06706364452838898, -0.0380014069378376, 0.10318229347467422, -0.0003751697950065136, -0.017609719187021255, -0.040846116840839386, -0.00661322521045804, -0.04014371708035469, -0.01731964573264122, -0.0583672858774662, -0.0180361308157444, 0.054890021681785583, 0.029857683926820755, -0.044976845383644104, 0.028463589027523994, -0.024677816778421402, 0.001373076462186873, 0.04999302327632904, 0.0503462553024292, 0.043221019208431244, -0.03658502548933029, -0.0019697544630616903, 0.07697200030088425, 0.003243586514145136, -0.06749621778726578, 0.010592707432806492, -0.012248670682311058, 0.028130026534199715, -0.029738452285528183, 0.0613459050655365, 0.02533133514225483, -0.06729942560195923, 0.003823900828137994, -0.1135118156671524, -0.12973348796367645, 0.13635367155075073, 0.08625306189060211, -0.0023432006128132343, 0.08916664123535156, -0.04176511988043785, 0.0797051265835762, -0.010471457615494728, 0.03799203783273697, 0.09032981842756271, -0.0051023829728364944, 0.014694875106215477, -0.07703009247779846, -0.0370030514895916, -0.03341757878661156, -0.006913542747497559, 0.09574460983276367, 0.011794724501669407, -0.031477104872465134, -0.04839833453297615, -0.07839515060186386, 0.012145628221333027, 0.03294042497873306, -0.026920365169644356, 0.00191471294965595, 0.005736884661018848, -0.027030838653445244, 0.05682963505387306, 0.029416978359222412, 0.02262970246374607, -0.02836962230503559, 0.021287785843014717, -0.08340610563755035, 0.04113997519016266, 0.0813760831952095, -0.02530820295214653, 0.032798733562231064, 0.0921413004398346, -0.028968986123800278, -0.022499585524201393, 0.01410861499607563, -0.0627373680472374, -0.02426711656153202, 0.03510000929236412, -0.03751671314239502, 0.0870598629117012, 0.059144314378499985, 0.05307678133249283, -0.027443595230579376, 0.03206919506192207, -0.0449223518371582, -0.009650887921452522, -0.07203053683042526, -0.029825665056705475, -0.07932273298501968, -7.668396516689844e-35, -0.036107320338487625, 0.04842296615242958, -0.0332133024930954, 0.0560121089220047, 0.06993503123521805, -0.06341817229986191, -0.012037960812449455, 0.011515981517732143, -0.021854646503925323, -0.03551647439599037, -0.08486196398735046, 0.05681120231747627, 0.009463569149374962, -0.09823649376630783, 0.006806088611483574, -0.03331960737705231, 0.04336189851164818, 0.01079663634300232, -0.015059847384691238, 0.0636177733540535, 0.0066671306267380714, -0.05995061621069908, 0.007647612597793341, -0.06117378547787666, 0.05350258946418762, -0.06625814735889435, -0.014233818277716637, 0.06766265630722046, 0.10965641587972641, 0.007147583179175854, -0.004440882708877325, 0.055948738008737564, -0.030204318463802338, -0.014673054218292236, 0.022455992177128792, 0.05834454670548439, -0.02075551077723503, -0.09089779853820801, 0.023493148386478424, -0.00805335957556963, 0.0065896278247237206, 0.05057217553257942, 0.006719696335494518, -0.023303106427192688, 0.07541120797395706, 0.08030008524656296, 0.002714305417612195, 0.00828432384878397, 0.038743022829294205, -0.009826595894992352, -0.16831539571285248, 0.02621717005968094, -0.06181426718831062, -0.005795535631477833, 0.0028884010389447212, 0.09320740401744843, 0.027974871918559074, 0.053811315447092056, 0.040582623332738876, 0.052874501794576645, 0.005490520969033241, 0.012198549695312977, -0.033627282828092575, 0.048060353845357895, 0.012036032043397427, 0.009487838484346867, -0.027958450838923454, 0.010743721388280392, 0.024957038462162018, -0.013230355456471443, -0.08815661817789078, -0.011307904496788979, 0.015272819437086582, -0.04380810260772705, -0.02440386451780796, 0.039394721388816833, -0.12234846502542496, 0.055721212178468704, -0.05591941997408867, 0.047494832426309586, 0.01263683196157217, -0.0035994676873087883, 0.021746216341853142, 0.052232466638088226, 0.09190395474433899, 0.01820659264922142, 0.06134327873587608, -0.02711605280637741, 0.04610072448849678, 0.08268986642360687, -0.003614602843299508, 0.05211206525564194, 0.025092942640185356, 0.08637523651123047, -0.03100726753473282, -6.932958692796828e-34, 0.014348126016557217, 0.01255485974252224, 0.024358483031392097, -0.052754610776901245, 0.05997725576162338, -0.01661015674471855, 0.004617046564817429, 0.052735336124897, -0.028111131861805916, 0.15074816346168518, 0.08634667843580246, -0.06281819939613342, -0.012194016017019749, -0.01584535278379917, -0.028638560324907303, -0.023103393614292145, 0.029136408120393753, -0.01537027396261692, 0.029951032251119614, 0.047310177236795425, 0.03265390172600746, 0.039292801171541214, -0.018861807882785797, 0.008491383865475655, -0.02337036281824112, 0.054033394902944565, -0.06430675089359283, 0.006576978601515293, -0.11073700338602066, 0.06229115650057793, 0.0007353778928518295, 0.05360627546906471, -0.007802369073033333, 0.05715261772274971, 0.04472747817635536, 0.12713932991027832, 0.11038590222597122, -0.01476358063519001, -0.0635102242231369, -0.049648646265268326, 0.05018216371536255, -0.031893715262413025, -0.04363100975751877, 0.0425170361995697, 0.024051550775766373, -0.012803378514945507, -0.025071242824196815, -0.045485202223062515, -0.08696698397397995, -0.10521426796913147, -0.03392202407121658, 0.01257767342031002, 0.10147332400083542, -0.01553171593695879, -0.016412021592259407, -0.004254098515957594, 0.10885753482580185, 0.032178863883018494, -0.04075910151004791, 0.01734008453786373, 0.03296720236539841, -0.07142464816570282, 0.014516562223434448, 0.011723694391548634, -0.02296815812587738, -0.12473465502262115, 0.04552413895726204, 0.02963925153017044, -0.024299152195453644, 0.014143258333206177, -0.0018636593595147133, 0.046556297689676285, 0.004011283162981272, -0.02830670401453972, -0.042144909501075745, -0.010173817165195942, 0.028834911063313484, -0.027761003002524376, -0.08770260214805603, -0.0034712664783000946, -0.009179266169667244, 0.004282228648662567, -0.05351242050528526, -0.019969280809164047, 0.08817140758037567, 0.026530299335718155, -0.011440357193350792, -0.0023806788958609104, -0.004834269639104605, -0.009126071818172932, -0.014816045761108398, -0.04243095964193344, -0.008993846364319324, 0.03639107570052147, -0.046839915215969086, -3.4434858520171474e-08, -0.004928795155137777, -0.015262770466506481, -0.012959368526935577, 0.04388299211859703, -0.05032828822731972, -0.0998382642865181, -0.039802830666303635, 0.011546600610017776, 0.03266369178891182, 0.04816540703177452, -0.13700395822525024, 0.005941344425082207, -0.07952175289392471, 0.045003004372119904, 0.047620270401239395, 0.034310393035411835, -0.025956211611628532, 0.030522741377353668, -0.00929307285696268, 0.03169860318303108, 0.04907076433300972, 0.023193882778286934, -0.011013202369213104, 0.03707852587103844, -0.011267788708209991, 0.014365628361701965, -0.0014217080315575004, 0.05808999761939049, -6.597845640499145e-05, 0.03466951847076416, -0.1339864879846573, -0.004259580280631781, 0.021956317126750946, -0.04625099152326584, -0.037732768803834915, 0.026232676580548286, 0.025088487192988396, -0.06172380968928337, -0.027734987437725067, -0.012922480702400208, 0.02485114522278309, -0.0418417751789093, 0.06886681914329529, 0.00400254363194108, 0.022228844463825226, 0.03156350553035736, -0.019273700192570686, -0.03604954853653908, 0.09803351014852524, -0.07843443006277084, -0.015268315561115742, 0.028993550688028336, 0.008325588889420033, -0.058579497039318085, 0.009834833443164825, -0.05747738480567932, -0.06815192848443985, 0.004746435210108757, -0.09710277616977692, 0.06173179671168327, 0.030443940311670303, -0.061764635145664215, -0.037850987166166306, -0.028339432552456856]",
         "7.794186",
         "3.8436573",
         "-1",
         null
        ],
        [
         "44",
         "R045",
         "History",
         "The archival research skills I developed at Oxford have been directly applicable to my thesis work. Learning how to navigate historical documents and primary sources has made me a much stronger researcher.",
         "[-0.006958430632948875, -0.002983536571264267, -0.009472186677157879, -0.026587139815092087, 0.019039688631892204, 0.04243195801973343, -0.08215142786502838, -0.0009658409981057048, -0.07877259701490402, 0.05787954479455948, -0.06962970644235611, 0.10580968856811523, -0.03982739523053169, 0.0016757509438320994, -0.03728992119431496, 0.08278363943099976, -0.010667451657354832, 0.05892156437039375, 0.028028666973114014, -0.04016072303056717, -0.09397469460964203, 0.015124557539820671, 0.10926342010498047, -0.025740690529346466, -0.014816892333328724, 0.07526075094938278, 0.005425218492746353, -0.04653855785727501, 0.06119922176003456, -0.03259653598070145, -0.024707339704036713, 0.0026549578178673983, -0.06675206869840622, -0.017939971759915352, -0.017022911459207535, 0.05695348605513573, 0.054815541952848434, 0.061978451907634735, 0.025290662422776222, 0.05886508524417877, -0.01768002286553383, 0.008726243861019611, 0.023536013439297676, -0.08134738355875015, 0.0015730628510937095, -0.048911143094301224, 0.07653824985027313, -0.006090379320085049, 0.0020831699948757887, 0.07477813959121704, -0.02057058922946453, 0.03683988004922867, 0.011098162271082401, -0.03331302851438522, -0.06199229881167412, 0.016998127102851868, -0.008974614553153515, 0.06641065329313278, -0.049368977546691895, -0.051094792783260345, -0.00488679064437747, 0.003025915240868926, -0.11011436581611633, -0.034835513681173325, 0.03682715445756912, 0.0450068861246109, -0.008435745723545551, 0.08097656071186066, -0.008391575887799263, 0.03461859002709389, -0.05912817642092705, 0.002722105011343956, 0.0011630458757281303, 0.06763418763875961, 0.07823077589273453, -0.02129148319363594, 0.0064400783739984035, -0.025972401723265648, -0.006274463143199682, 0.014817335642874241, 0.07951755076646805, -0.010155935771763325, -0.004356425255537033, 0.005502562969923019, -0.045481953769922256, -0.0919649749994278, 0.005938019137829542, -0.03725884109735489, 0.029682282358407974, 0.0014241598546504974, 0.10790067166090012, -0.10626466572284698, 0.10291552543640137, -0.02061527408659458, 0.05487966164946556, -0.0029065252747386694, 0.007578364107757807, 0.006695162504911423, 0.0638149157166481, 0.016909433528780937, 0.025573762133717537, 0.007648894097656012, 0.009367436170578003, 0.041529133915901184, -0.046255748718976974, 0.005060409661382437, -0.03474326431751251, 0.006608088035136461, 0.007375235203653574, -0.01778257265686989, 0.004619636107236147, 0.019323749467730522, -0.07106117159128189, 0.050315070897340775, 0.07002745568752289, -0.013200276531279087, -0.09603916853666306, 0.001262568635866046, -0.031075483188033104, -0.013257558457553387, -0.016415853053331375, 0.014678438194096088, 0.08841049671173096, -0.0031117163598537445, -0.027273204177618027, -0.06513428688049316, 0.020938891917467117, -4.516544317390636e-35, 0.052722617983818054, 0.06500204652547836, -0.054019466042518616, 0.052245430648326874, -0.0346110574901104, 0.019375648349523544, -0.014680944383144379, 0.06696276366710663, 0.011825882829725742, -0.03904889151453972, 0.06717748194932938, 0.11259615421295166, -0.03841551020741463, -0.05777011066675186, -0.060608647763729095, 0.026030967012047768, -0.06739568710327148, 0.0660044401884079, 0.026640310883522034, -0.03145194426178932, 0.0011381496442481875, -0.039725806564092636, 0.08526888489723206, -0.03158123418688774, 0.008574943989515305, -0.0338408425450325, 0.05300953984260559, -0.053833574056625366, -0.02454959787428379, 0.0041403938084840775, 0.03218616172671318, 0.0015269042924046516, -0.11933545768260956, -0.03096323274075985, 0.0069047543220222, 0.08783631771802902, 0.015997877344489098, -0.07293287664651871, 0.08986885100603104, 0.0001089918368961662, -0.021098056808114052, -0.04904145002365112, 0.11837630718946457, 0.008364211767911911, 0.013446028344333172, 0.014178245328366756, 0.02792016603052616, -0.03203417733311653, 0.026324082165956497, 0.027403507381677628, -0.007944916374981403, -0.03441544249653816, -0.10366105288267136, -0.09832765907049179, 0.05246135592460632, 0.07303769886493683, -0.04077797383069992, 0.09147558361291885, 0.04350549355149269, -0.053591929376125336, 0.047314733266830444, 0.037095289677381516, -0.020376106724143028, 0.03472010791301727, -0.004038853105157614, 0.08748216181993484, -0.03972049802541733, 0.00626766961067915, 0.08249560743570328, -0.01408119685947895, -0.02731180749833584, -0.06117004156112671, 0.04163011908531189, -0.03742857277393341, -0.007468747440725565, 0.028543325141072273, -0.012881943956017494, 0.02901162952184677, 0.02664978615939617, 0.011291609145700932, -0.07937224954366684, -0.015411226078867912, -0.031493399292230606, 0.0026643273886293173, 0.027007028460502625, 0.03980810567736626, 0.0323483906686306, -0.0722869411110878, 0.08790203183889389, 0.07009556144475937, 0.09521245211362839, -0.04731253907084465, -0.08385748416185379, -0.030750013887882233, -0.028907865285873413, -2.0190072860420235e-34, -0.014711248688399792, -0.10055007040500641, 0.005885977763682604, 0.08239588141441345, 0.0049945577047765255, 0.013039510697126389, -0.03641124442219734, -0.025895336642861366, -0.04163000360131264, 0.008775953203439713, -0.026748349890112877, -0.0013985013356432319, -0.031353551894426346, -0.01509108953177929, -0.062110960483551025, -0.09114068001508713, -0.005550399888306856, -0.08406199514865875, -0.04532301425933838, 0.04237745329737663, -0.053842514753341675, -0.03557831048965454, -0.022082408890128136, 0.011343855410814285, -0.0024770142044872046, -0.005982918199151754, 0.024295195937156677, -0.1067587211728096, 0.015980543568730354, -0.0429452508687973, -0.007852919399738312, 0.031619954854249954, -0.024449506774544716, -0.06114094331860542, -0.07237695157527924, 0.0765056312084198, 0.046474605798721313, -0.010480946861207485, -0.04254066199064255, -0.017963966354727745, -0.047451239079236984, 0.09918036311864853, -0.020956281572580338, -0.12213364243507385, -0.009743047878146172, -0.016050191596150398, -0.13852743804454803, 0.07605541497468948, 0.025832638144493103, 0.00836443342268467, 0.06661944091320038, 0.01867021434009075, 0.004262502305209637, -0.08347015082836151, 0.020594842731952667, 0.011178293265402317, 0.0560842864215374, -0.0455021969974041, 0.037726737558841705, 0.055770307779312134, -0.053770244121551514, 0.032138314098119736, -0.10801541805267334, 0.011858497746288776, -0.020232824608683586, -0.0602276474237442, -0.06372197717428207, 0.030143221840262413, -0.09048299491405487, 0.05887657403945923, -0.01735212281346321, -0.08029612898826599, 0.13344256579875946, -0.0018868178594857454, -0.005414361134171486, -0.02776755765080452, 0.012822202406823635, -0.005540880374610424, 0.008166146464645863, -0.03862987086176872, -0.05076485872268677, 0.00631801737472415, 0.0019434617133811116, 0.003033405402675271, 0.01997111737728119, 0.1269804686307907, -0.004020849708467722, -0.008172173984348774, 0.02460966259241104, -0.08362383395433426, -0.013874386437237263, -0.09078052639961243, -0.048783496022224426, -0.04868185892701149, 0.02656891569495201, -2.8868276658045033e-08, -0.05725689232349396, 0.044667068868875504, 0.048345956951379776, 0.04885726794600487, 0.015051704831421375, -0.029613351449370384, -0.042127661406993866, 0.09932788461446762, -0.0759313702583313, -0.017569757997989655, -0.0338265635073185, -0.037169549614191055, -0.0295637845993042, 0.04300917312502861, 0.05535745620727539, 0.015275300480425358, 0.13699668645858765, -0.08719547837972641, -0.03295734152197838, 0.014204435981810093, 0.07818950712680817, -0.0016105703543871641, 0.06484553217887878, 0.029016241431236267, 0.03416779637336731, 0.043767157942056656, 0.015247613191604614, 0.011102031916379929, 0.040851254016160965, 0.004392886534333229, -0.04154156893491745, 0.0796937495470047, -0.02955172397196293, -0.09581469744443893, 0.06710042804479599, -0.005344257690012455, 0.08113082498311996, -0.023871125653386116, -0.03405274078249931, -0.018542876467108727, -0.015967613086104393, -0.028728632256388664, 0.02192765474319458, 0.04052227362990379, -0.013267750851809978, 0.03461245074868202, 0.01452228706330061, 0.07135219126939774, -0.03935346379876137, 0.029202256351709366, 0.022441046312451363, -0.04836973547935486, 0.10517698526382446, 0.051970988512039185, 0.025872167199850082, 0.04299422726035118, 0.060195498168468475, -0.039913587272167206, -0.04333486780524254, 0.015679361298680305, 0.16669036448001862, 0.005599507596343756, -0.08534754067659378, 0.032482415437698364]",
         "11.698984",
         "0.9995889",
         "-1",
         null
        ],
        [
         "45",
         "R046",
         "Environmental Studies",
         "Williams-Mystic program taught me to communicate science to non-specialists, which has been surprisingly valuable. Learning to translate complex environmental concepts for different audiences is a skill I use constantly.",
         "[0.03559808060526848, 0.009381867945194244, 0.03902658820152283, 0.021783269941806793, -0.013509557582437992, -0.10191413760185242, 0.0295474361628294, -0.04814518243074417, 0.0022344111930578947, -0.009539884515106678, -0.06301233172416687, -0.06242620199918747, -0.07531203329563141, 0.0630619078874588, 0.02901475876569748, 0.027940619736909866, 0.0005587831838056445, 0.07792812585830688, -0.015037172473967075, -0.07336537539958954, -0.07746586948633194, 0.051893915981054306, 0.08740981668233871, 0.06765220314264297, 0.0075529892928898335, 0.0037583799567073584, -0.013855177909135818, 0.03454417735338211, 0.0928971916437149, -0.02798382379114628, -0.02114580199122429, 0.12942180037498474, 0.0009503255714662373, -8.355911268154159e-05, -0.03188067302107811, 0.11755290627479553, -0.05247116833925247, -0.009867971763014793, -0.027967361733317375, 0.030814390629529953, -0.05644896253943443, 0.049081847071647644, 0.0312120970338583, -0.056896571069955826, 0.006836300250142813, -0.09273174405097961, 0.030355170369148254, -0.06368636339902878, 0.0013780603185296059, -0.011380885727703571, -0.16146932542324066, -0.03598892688751221, -0.12345168739557266, 0.004947936628013849, -0.012647910974919796, -0.031231017783284187, 0.07554120570421219, -0.016012337058782578, -0.009259182028472424, -0.07568812370300293, 0.04960436001420021, -0.08223148435354233, -0.09563327580690384, 0.055434901267290115, 0.016758183017373085, 0.06853950023651123, -0.07319033145904541, 0.12813502550125122, 0.035111214965581894, -0.1045282855629921, -0.07500553131103516, 0.05544120818376541, 0.031059740111231804, 0.08065411448478699, 0.09227478504180908, 0.023362817242741585, -0.005225358996540308, -0.027944328263401985, -0.008784719742834568, -0.006691782735288143, 0.10330288112163544, -0.03413202986121178, -0.07054102420806885, 0.004997272975742817, 0.01793481782078743, -0.004839055705815554, -0.005246787331998348, 0.056636177003383636, -0.0048470264300704, 0.028133882209658623, -0.01807631365954876, -0.06357456743717194, 0.039491888135671616, -0.011246086098253727, -0.05729402229189873, 0.039700090885162354, 0.039456550031900406, -0.11896572262048721, 0.008615232072770596, 0.03160037100315094, -0.0047445413656532764, 0.04794314131140709, -0.020766673609614372, -0.018028851598501205, -0.04549898952245712, -0.09582336992025375, 4.529198122327216e-05, -0.05096050724387169, 0.03391589596867561, -0.015440781600773335, 0.019197527319192886, -0.01673029735684395, -0.07626283168792725, 0.041232384741306305, 0.015995951369404793, 0.046075522899627686, 0.0875893086194992, -0.010233370587229729, 0.05877280235290527, -0.0022114000748842955, 0.00292754708789289, 0.01924087665975094, 0.007562028709799051, 0.020697081461548805, 0.02986118011176586, -0.024915562942624092, 0.02926548384130001, -1.76648423760277e-33, 0.019479190930724144, 0.05117081105709076, 0.06277542561292648, 0.1067553386092186, 0.05142225697636604, 0.018581360578536987, 0.001021133386529982, -0.023728815838694572, -0.011359808966517448, -0.027583662420511246, 0.06593578308820724, 0.12652568519115448, 0.023189544677734375, 0.04256928712129593, -0.02547563426196575, -0.03745248541235924, -0.06601245701313019, -0.02307695522904396, 0.017905037850141525, 0.018934624269604683, 0.0008920797263272107, 0.04579182341694832, -0.08452252298593521, -0.039441268891096115, 0.056136589497327805, -0.020295733585953712, 0.038755275309085846, -0.00834829080849886, 0.0528276264667511, 0.008300467394292355, -0.0034613562747836113, 0.06885888427495956, -0.04655091464519501, 0.032836537808179855, 0.15133129060268402, -0.04039715602993965, -0.0012204792583361268, -0.043795086443424225, 0.09409672021865845, -0.03876809403300285, 0.0003824942104984075, 0.011938760988414288, 0.017890337854623795, -0.003980649169534445, 0.009172927588224411, 0.06132815405726433, 0.0620645172894001, -0.0177023746073246, -0.04364696517586708, -0.0004451934073586017, -0.11785350739955902, -0.023347221314907074, -0.056288570165634155, -0.06831094622612, 0.05428646132349968, 0.03626185283064842, 0.05691741406917572, 0.003267451887950301, -0.06293368339538574, -0.06771841645240784, -0.022828200832009315, 0.10481773316860199, 0.03299139440059662, 0.03432730957865715, 0.07290765643119812, -0.003529999405145645, -0.06505724042654037, -0.011858583427965641, 0.065939761698246, -0.06437414884567261, -0.09977956116199493, 0.03436530753970146, -0.021068990230560303, 0.0001401882473146543, -0.02054949291050434, -0.06818804889917374, -0.006011070683598518, -0.04486051946878433, -0.007937106303870678, 0.10062745958566666, -0.03328890725970268, -0.023935750126838684, -0.018561458215117455, 0.004568340722471476, -0.04321040213108063, -0.025649791583418846, -0.011171260848641396, -0.02087974175810814, 0.03809492662549019, 0.012678312137722969, 0.03878586366772652, 0.006481577642261982, 0.01006916631013155, 0.0016238633543252945, -0.058624621480703354, -4.877976458256094e-34, -0.02758905105292797, -0.015189392492175102, -0.00625517126172781, 0.06507104635238647, 0.030035721138119698, -0.05166613310575485, -0.04292197525501251, 0.012713342905044556, 0.04287157952785492, -0.015841202810406685, -0.027525050565600395, 0.05481591448187828, -0.023968175053596497, -0.01221820805221796, 0.0029136359225958586, -0.07075526565313339, -0.03163408488035202, 0.028465285897254944, -0.014789976179599762, 0.0024817283265292645, -0.057656992226839066, 0.07362017035484314, -0.10287625342607498, 0.009053976275026798, -0.057345446199178696, -0.0036465402226895094, 0.015616018325090408, -0.010395710356533527, -0.03000606596469879, 0.017246274277567863, 0.0016381378518417478, 0.015442654490470886, 0.011951673775911331, -0.017097799107432365, -0.1251712143421173, 0.09101299941539764, 0.12470061331987381, -0.04039709270000458, -0.07503950595855713, -0.006345737725496292, 0.0461263433098793, -0.011297251097857952, -0.020261971279978752, -0.059906840324401855, -0.003950783517211676, 0.051187653094530106, -0.027494309470057487, -0.014544269070029259, -0.04937317967414856, 0.029082071036100388, 0.04913811758160591, -0.02340184524655342, -0.0898553878068924, -0.11100979894399643, 0.11203773319721222, 0.005378523841500282, 0.1334930658340454, -0.048555146902799606, -0.007519485428929329, 0.009317286312580109, 0.03555775061249733, -0.01947718858718872, 0.026692166924476624, -0.013742074370384216, -0.06715630739927292, 0.010304468683898449, -0.027463136240839958, 0.10491202771663666, 0.008785138837993145, -0.02540128491818905, 0.030266480520367622, 0.055674221366643906, -0.02896703965961933, -0.09263000637292862, -0.012025266885757446, 0.0007401256007142365, -0.051777005195617676, -0.005279804579913616, -0.08732502162456512, 0.00904802791774273, 0.036459047347307205, -0.019773414358496666, -0.004730686545372009, 0.05822343751788139, 0.10205219686031342, 0.046375572681427, -0.08254700154066086, -0.02799798548221588, -0.02755635417997837, 0.012245353311300278, -0.015326475724577904, 0.023443711921572685, -0.05907662212848663, -0.025265466421842575, 0.008385526947677135, -3.245746071911526e-08, 1.4714721146447118e-05, -0.03699684515595436, 0.04978429526090622, -0.025087380781769753, -0.021443534642457962, 0.023546863347291946, -0.04728725552558899, -0.01056815218180418, -0.0708397924900055, 0.07318610697984695, -0.08828321099281311, 0.012655209749937057, 0.04373515397310257, 0.0903191789984703, 0.0708514153957367, 0.0018684571841731668, 0.09261675179004669, -0.022491315379738808, -0.04897455498576164, 0.03608781844377518, 0.08640552312135696, 0.022032450884580612, 0.02450653538107872, 0.003142107743769884, 0.0052181086502969265, -0.017121581360697746, -0.028776628896594048, -0.010128424502909184, 0.06614188849925995, -0.07133778929710388, -0.0113113047555089, 0.015381873585283756, -0.02844311110675335, 0.0001814819115679711, 0.00416234927251935, -0.06730230897665024, -0.008009735494852066, -0.05930246785283089, 0.008794113993644714, 0.010593464598059654, -0.004690862726420164, 0.015437020920217037, -0.055261194705963135, 0.08362504094839096, 0.011455638334155083, 0.03930201008915901, -0.003385941032320261, -0.0319262258708477, 0.003713966580107808, 0.09332451224327087, 0.031463056802749634, -0.023771805688738823, -0.021478110924363136, 0.007921546697616577, 0.04210707172751427, 0.053318846970796585, -0.04503657668828964, 0.011255600489675999, -0.08607891201972961, 0.03142136335372925, 0.03533024340867996, 0.10614549368619919, -0.11299505829811096, -0.0075883809477090836]",
         "9.184011",
         "0.7231183",
         "5",
         "Hands-on Field Experience and Interdisciplinary Learning in Marine Conservation"
        ],
        [
         "46",
         "R047",
         "Theater",
         "NTI program was intense but transformative. The professional-level training and connections to working artists gave me both skills and a network that's already helping my career prospects.",
         "[-0.07056055963039398, 0.014924397692084312, 0.014971963129937649, -0.0032605493906885386, -0.0445222444832325, 0.015857283025979996, -0.01648579351603985, -0.007250242400914431, -0.07884138822555542, -0.0819331482052803, -0.14380000531673431, 0.0013869763351976871, 0.023454880341887474, 0.00426819920539856, -0.04209812730550766, -0.003642356488853693, 0.032517071813344955, -0.05417818948626518, 0.027901630848646164, -0.08057886362075806, -0.07470473647117615, -0.001927472883835435, -0.004923662170767784, -0.0683443546295166, 0.06161928176879883, 0.06386242061853409, 0.012562367133796215, 0.015826525166630745, 0.06773382425308228, -0.008140713907778263, -0.05073415860533714, 0.06882962584495544, -0.06542598456144333, 0.009593809954822063, 0.01038832776248455, 0.06157870963215828, -0.006093877833336592, 0.06766186654567719, -0.024144822731614113, -0.04117735102772713, 0.05911906808614731, 0.0584067702293396, -0.021139293909072876, -0.04329916834831238, 0.0652403011918068, -0.13798773288726807, -0.009793892502784729, -0.06467964500188828, -0.021937118843197823, 0.009953989647328854, -0.020946171134710312, -0.06022019311785698, 0.034496404230594635, -0.0452919565141201, -0.02353513240814209, 0.0482531376183033, 0.06380507349967957, 0.0880158543586731, -0.07015608996152878, 0.012804169207811356, 0.0009991331025958061, -0.016289060935378075, -0.02852843515574932, 0.009686882607638836, 0.11459917575120926, 0.018387649208307266, -0.08146023005247116, 0.0777827650308609, 0.06090349704027176, -0.1394614726305008, -0.02343709021806717, -0.03334479033946991, -0.060306940227746964, 0.03715596720576286, 0.08721838146448135, 0.004219218157231808, 0.05857732146978378, -0.04317321255803108, -0.01361021026968956, -0.046944137662649155, 0.09913413971662521, 0.07493764162063599, 0.006229292135685682, 0.006113398354500532, -0.01562449149787426, -0.043030139058828354, -0.062176432460546494, 0.0052584270015358925, -0.024314576759934425, 0.018557734787464142, 0.094437375664711, 0.02969341352581978, 0.0012466742191463709, 0.020969299599528313, 0.09659639000892639, -0.0525934100151062, -0.00718459440395236, -0.0322590172290802, 0.04113242030143738, 0.05471223220229149, -0.03823200985789299, -0.021229924634099007, -0.04575541988015175, -0.047748759388923645, -0.07374636828899384, -0.04046674445271492, 0.05516993626952171, -0.004827586933970451, -0.005296351388096809, 0.03004719689488411, 0.028208324685692787, 0.047342706471681595, -0.05879148840904236, -0.0074958475306630135, 0.02856888622045517, 0.08641126751899719, -0.09121999144554138, 0.11673922836780548, 0.08325771242380142, 0.045865751802921295, -0.08382250368595123, 0.07591477781534195, -0.08353748917579651, 0.03637074679136276, 0.002606390742585063, -0.05094670504331589, 0.0008069511968642473, -1.584271960307761e-33, -0.008763376623392105, 0.07829747349023819, -0.00897650234401226, 0.06180331110954285, 0.11031138896942139, -0.06122537702322006, -0.04477865621447563, -0.00031018650042824447, -0.022434106096625328, 0.025958653539419174, 0.02425779029726982, 0.11582652479410172, -0.031021902337670326, -0.011460312642157078, 0.018896261230111122, -0.037525638937950134, -0.07464221119880676, 0.03126201778650284, 0.06600746512413025, 0.014233273454010487, 0.015605680644512177, 0.04395272582769394, -0.013562165200710297, -0.019292965531349182, -0.0679503083229065, 0.057633668184280396, -0.038870006799697876, -0.005205657798796892, 0.09932369738817215, -0.007014061324298382, -0.015986884012818336, 0.03737516328692436, -0.05416707694530487, -0.09815909713506699, 0.008682973682880402, 0.05999830365180969, 0.005884092301130295, -0.09491501748561859, 0.05193604156374931, 0.028897088021039963, -0.03815095126628876, 0.07857142388820648, 0.039827268570661545, -0.05210630223155022, -0.001076613087207079, 0.039745815098285675, -0.006994172465056181, -0.02095763012766838, -0.015522761270403862, 0.07680145651102066, -0.10076268017292023, -0.02518514171242714, 0.024293210357427597, -0.040491558611392975, 0.009786189533770084, 0.009344757534563541, 0.046079281717538834, 0.03323372080922127, 0.03727234899997711, 0.014630314894020557, 0.07794838398694992, 0.051586832851171494, 0.002404436469078064, 0.022829322144389153, -0.029638370499014854, -0.002834505867213011, -0.030881857499480247, -0.05473296344280243, 0.12765638530254364, -0.012730726972222328, -0.1526314914226532, 0.03201022744178772, 0.03652840107679367, -0.07353224605321884, 0.03229013830423355, -0.030236849561333656, -0.05652148276567459, -0.031123023480176926, -0.022934263572096825, 0.07272553443908691, -0.011171674355864525, 0.05715888366103172, -0.0327317975461483, -0.04091579467058182, 0.13715146481990814, 0.011807043105363846, 0.01373360212892294, -0.057463228702545166, 0.021532906219363213, 0.03942323103547096, 0.07814903557300568, -0.010810770094394684, -0.02045755460858345, 0.04141669347882271, 0.000626685272436589, 9.099685440707644e-34, 0.05661274492740631, 0.03376332297921181, 0.008642622269690037, -0.00536749605089426, 0.06764224171638489, -0.008781272917985916, -0.07922783493995667, 0.03687560558319092, 0.011080853641033173, 0.09921755641698837, 0.146502286195755, -0.013687532395124435, -0.012986300513148308, 0.027388421818614006, -0.031013667583465576, -0.09652504324913025, -0.039732109755277634, 0.037754543125629425, 0.005927898921072483, -0.011378470808267593, 0.042690906673669815, 0.07358848303556442, -0.07785642147064209, -0.04784227907657623, -0.01838977076113224, 0.04373502358794212, -0.036535199731588364, 0.03581110015511513, -0.000672084919642657, 0.02380678988993168, 0.06825659424066544, 0.030290260910987854, -0.03722626343369484, -0.04081154242157936, 0.01973971165716648, 0.07852272689342499, 0.06402129679918289, -0.044054508209228516, -0.0607907734811306, 0.004991140216588974, -0.02104705385863781, -0.05649131163954735, -0.023130318149924278, 0.04672141373157501, -0.021815970540046692, -0.0041717588901519775, -0.025409312918782234, -0.003299092175439, -0.028514448553323746, -0.024245090782642365, -0.001091987476684153, 0.012144515290856361, 0.06960263103246689, -0.07767609506845474, 0.04605185613036156, -0.02236393466591835, 0.1098434329032898, -0.02553880400955677, -0.016393277794122696, 0.0032447115518152714, -0.035653918981552124, -0.030328575521707535, 0.011795916594564915, -0.04268498346209526, -0.0563478097319603, 0.02078680880367756, -0.006540264468640089, 0.020822208374738693, -0.061674464493989944, -0.00040281066321767867, -0.010562696494162083, 0.09134513884782791, 0.05530058965086937, 0.0471368208527565, -0.12595926225185394, -0.06658559292554855, 0.029820935800671577, 0.029773855581879616, -0.02145010232925415, -0.023279966786503792, -0.08569848537445068, -0.03446487709879875, -0.02001269720494747, 0.009390454739332199, 0.07588274776935577, 0.17919214069843292, -0.0016824973281472921, -0.05701277032494545, 0.024028804153203964, -0.02735305391252041, -0.0030064969323575497, -0.012140104547142982, 0.042628366500139236, -0.04792340099811554, -0.022379277274012566, -2.8401109020137483e-08, -0.05213942006230354, -0.018131935968995094, -0.05848303064703941, -0.020590191707015038, -0.01647602953016758, -0.0013951382134109735, -0.06469735503196716, 0.05743216723203659, -0.055317290127277374, 0.04066788777709007, -0.02759765461087227, -0.032005079090595245, -0.011927654035389423, 0.004471621476113796, 0.10372256487607956, 0.012529897503554821, 0.10994117707014084, -0.02711069956421852, -0.004026154056191444, 0.002486476441845298, 0.05152431130409241, 0.02979346737265587, 0.055921267718076706, -0.023686394095420837, -0.01392319705337286, -0.018483685329556465, 0.0001258471456822008, -0.01746409758925438, -0.020971911028027534, -0.040043238550424576, -0.025225045159459114, 0.02608257345855236, 0.02671581134200096, 0.004865042399615049, -0.0339469350874424, -0.03943806141614914, 0.02376401051878929, 0.01838628016412258, -0.021491462364792824, -0.05189890414476395, -0.037914544343948364, -0.0048742033541202545, 0.02159012481570244, 0.022700758650898933, -0.004873496014624834, 0.002307575661689043, 0.03333822637796402, 0.023390652611851692, 0.022156666964292526, -0.07296689599752426, -0.059322893619537354, 0.024821270257234573, -0.036957066506147385, -0.011514229699969292, 0.04727226495742798, 0.01588277332484722, -0.04877636581659317, 0.029403595253825188, -0.07928984612226486, 0.08405129611492157, 0.003907924517989159, -0.05581657588481903, -0.11176272481679916, -0.02505319006741047]",
         "8.19567",
         "3.810659",
         "4",
         "Professional Networking and Career Advancement"
        ],
        [
         "47",
         "R048",
         "Sociology",
         "Spelman College exchange challenged many of my assumptions about race and education in America. That kind of perspective-shifting experience is exactly what a liberal arts education should provide.",
         "[0.059138450771570206, -0.024790719151496887, -0.00470270961523056, 0.03504015505313873, 0.00877635832875967, 0.09044158458709717, -0.06168932467699051, -0.07239320129156113, 0.0009545859065838158, -0.04152033105492592, 0.016811149194836617, 0.08817469328641891, -0.06652218848466873, -0.027616439387202263, -0.009296487085521221, 0.06789200752973557, 0.03505768999457359, 0.02252952754497528, 0.005230603273957968, -0.013056610710918903, -0.06998208910226822, -0.08104531466960907, -0.03436056524515152, 0.049988191574811935, 0.026393167674541473, -0.037790268659591675, 0.021810855716466904, -0.03572788089513779, -0.051050733774900436, 0.030351174995303154, 0.03433284908533096, 0.023690607398748398, -0.044614266604185104, 0.04259687289595604, 0.04769012704491615, 0.10574977844953537, 0.06406566500663757, 0.07433146238327026, 0.04009823873639107, 0.030668597668409348, -0.022551029920578003, 0.015256913378834724, -0.015520879998803139, 0.026385676115751266, 0.007098748814314604, -0.05052396282553673, -0.025360601022839546, -0.024682587012648582, -0.04340871796011925, -0.004708520602434874, -0.014963412657380104, -0.02709731087088585, -0.006432121153920889, -0.0764741450548172, -0.05012183263897896, 0.07950323075056076, -0.01821359060704708, 0.04539654776453972, -0.028464339673519135, 0.04072440788149834, -0.04529264196753502, -0.02445673942565918, 0.015437828376889229, 0.05529371649026871, -0.06940413266420364, 0.038669295608997345, -0.057671524584293365, -0.0008402769453823566, -0.00041033007437363267, -0.031037447974085808, 0.048363931477069855, 0.07048323005437851, -0.015974782407283783, -0.013536971062421799, 0.1451040506362915, -0.0641772672533989, -0.005566827487200499, 0.018650658428668976, -0.011617538519203663, 0.006905099842697382, 0.11741697788238525, 0.04783925786614418, -0.06029549241065979, -0.048087578266859055, 0.01297161728143692, -0.06404522061347961, -0.033395908772945404, 0.005986375268548727, -0.012287975288927555, 0.05246596038341522, -0.01519530639052391, -0.01649673655629158, 0.010835769586265087, -0.0394834540784359, 0.10685358196496964, -0.016222825273871422, 0.009104232303798199, 0.021206561475992203, 0.010134159587323666, 0.010593283921480179, -0.0862627848982811, 0.002677247626706958, -0.04086565971374512, -0.005061656702309847, -0.01415722630918026, -0.11110503226518631, -0.040803633630275726, -0.008640012703835964, -0.04540466144680977, -0.03383355587720871, 0.09423289448022842, 0.013063776306807995, 0.022981824353337288, 0.0876610055565834, 0.04326489567756653, 0.029040729627013206, 0.05628959834575653, -0.013874244876205921, 0.025251394137740135, 0.02639533206820488, -0.034928157925605774, -0.005848065949976444, -0.07756008952856064, -0.014480202458798885, -0.04661376029253006, -0.16458694636821747, -0.05480243265628815, 9.9970238489918e-35, 0.006849671248346567, 0.044644009321928024, 0.048442959785461426, 0.019142381846904755, -0.07158100605010986, -0.02543407306075096, -0.01634056307375431, -0.01713976450264454, -0.04897576943039894, -0.0329999178647995, 0.07319455593824387, 0.10056622326374054, 0.01627492904663086, 0.10076570510864258, 0.030828118324279785, 0.021258842200040817, -0.12584592401981354, 0.08178940415382385, 0.017424290999770164, 0.033298321068286896, 0.038336992263793945, -0.009609539061784744, -0.03697940334677696, -0.0999923050403595, -0.10998488962650299, -0.026961464434862137, 0.017595764249563217, -0.00906070601195097, 0.03359431028366089, -0.027171121910214424, -0.06483534723520279, 0.049690812826156616, -0.06984905153512955, 0.0047322106547653675, 0.05595848336815834, 0.009171225130558014, 0.021617082878947258, -0.04120049253106117, -0.010380299761891365, 0.018346337601542473, -0.047362588346004486, 0.06614523380994797, 0.015501719899475574, 0.010239224880933762, 0.06016692519187927, 0.0814158171415329, 0.11801080405712128, -0.01693386398255825, 0.03739782050251961, 0.01784129999577999, -0.033814385533332825, 0.012532916851341724, 0.02601279877126217, -0.04016802832484245, 0.03427056595683098, 0.03785956650972366, 0.021002603694796562, 0.05675313249230385, -0.04645192623138428, -0.04745999723672867, -0.04049931466579437, 0.025580529123544693, -0.003344239667057991, -0.027426842600107193, -0.01004062220454216, 0.010228617116808891, -0.08164843171834946, -0.05916726961731911, 0.06240112707018852, -0.06981585174798965, 0.0061669619753956795, -0.07126834243535995, -0.036424051970243454, 0.008540884591639042, -0.06615659594535828, -0.011587304063141346, 0.0045782276429235935, -0.05679187551140785, 0.07715145498514175, -0.07184387743473053, 0.01847331039607525, -0.03214624896645546, 0.045663826167583466, -0.04066440835595131, 0.008678551763296127, 0.04425651952624321, 0.06925073266029358, -0.00926769245415926, 0.060583312064409256, 0.00557502917945385, -0.0015747571596875787, -0.09366033971309662, -0.07360746711492538, 0.04797378182411194, 0.035533882677555084, -2.1376392320352146e-33, 0.013610911555588245, -0.07228351384401321, -0.03305601701140404, 0.06342563033103943, 0.05839892104268074, 0.009156087413430214, 0.06754610687494278, 0.037400707602500916, 0.11884407699108124, 0.05985742062330246, 0.06909751147031784, 0.040602367371320724, -0.02747080847620964, 0.10741234570741653, -0.046618759632110596, -0.07499078661203384, 0.06813495606184006, 0.012897768057882786, -0.04263855889439583, 0.0068335579708218575, -0.0029733646661043167, 0.07027418166399002, 0.025822874158620834, -0.017380112782120705, 0.009802473708987236, 0.013354633934795856, -0.026491552591323853, 0.02883954904973507, -0.06876947730779648, -0.019546039402484894, 0.052565205842256546, 0.04910120740532875, 0.051153555512428284, 0.04408701881766319, -0.007524189539253712, 0.05795585364103317, 0.020175939425826073, 0.02067224122583866, -0.017663033679127693, 0.056145209819078445, -0.0443875752389431, -0.09024170786142349, -0.037205252796411514, 0.006919856183230877, 0.0316774882376194, 0.03375377506017685, -0.0049659679643809795, 0.06132396683096886, -0.07259132713079453, 0.019757796078920364, -0.137231707572937, 0.009076626971364021, -0.027149304747581482, -0.04938501492142677, 0.06382250785827637, -0.038570426404476166, 0.034547071903944016, -0.05132106691598892, -0.09380526095628738, 0.032912373542785645, 0.038694385439157486, 0.08214125782251358, -0.020693978294730186, -0.06967354565858841, -0.019384991377592087, -0.07687848061323166, -0.05242961272597313, -0.05130171403288841, -0.04657520726323128, 0.03635411709547043, 0.004038070794194937, 0.029751257970929146, -0.027025088667869568, -0.07282915711402893, -0.05073465779423714, 0.01483872625976801, 0.04289394989609718, 0.0025884199421852827, -0.02658834494650364, 0.04301651939749718, -0.07032056152820587, -0.0791216716170311, 0.007466339040547609, 0.0028893796261399984, 0.014266070909798145, 0.1023339033126831, -0.06425127387046814, -0.009697726927697659, 0.08919910341501236, -0.03310941159725189, -0.02402963675558567, -0.036228276789188385, 0.008560759015381336, -0.08296095579862595, -0.08333679288625717, -2.8092545178992623e-08, -0.002626249101012945, 0.031134193763136864, -0.017043478786945343, 0.04818051680922508, -0.09906748682260513, 0.048617348074913025, 0.0184056144207716, -0.04983620345592499, -0.024067796766757965, 0.055235911160707474, -0.11787045001983643, -0.05158790200948715, 0.026424696668982506, -0.008498014882206917, 0.024661580100655556, 0.02931644767522812, 0.07165851444005966, -0.06579431891441345, -0.04352059215307236, 0.01904304325580597, 0.024298731237649918, -0.014582511968910694, 0.02980702556669712, 0.029746707528829575, -0.09314988553524017, 0.06463547050952911, 0.009103268384933472, -0.03579181805253029, -0.004184376914054155, 0.05533871054649353, -0.07285070419311523, -0.010268142446875572, -0.03970139101147652, 0.009788933210074902, 0.03610082343220711, -0.03435741737484932, -0.0015251262811943889, 0.10796181857585907, 0.08608115464448929, 0.050002265721559525, -0.04642242565751076, -0.08542492240667343, 0.033325452357530594, -0.01798236556351185, 0.0047629824839532375, 0.039820946753025055, -0.038152117282152176, 0.10079898685216904, 0.041020628064870834, 0.14361420273780823, 0.03811786696314812, -0.05435353145003319, -0.11505240201950073, -0.07065771520137787, 0.08910435438156128, -0.030178789049386978, -0.014751393347978592, -0.029650377109646797, -0.053390562534332275, 0.0009258731151930988, -0.011210824362933636, -0.007936477661132812, -0.032106176018714905, 0.044564396142959595]",
         "9.673354",
         "4.115347",
         "-1",
         null
        ],
        [
         "48",
         "R049",
         "Asian Studies",
         "The biggest benefit was definitely language acquisition. My Japanese improved more in one term at Kanda than in two years of campus classes. The immersion experience is just unbeatable for language learning.",
         "[0.04256391152739525, -0.020496096462011337, 0.06483404338359833, -0.0007604296552017331, -0.0199580155313015, 0.06734712421894073, 0.005178594961762428, -0.010519392788410187, -0.019662845879793167, 0.03818945214152336, 0.08577004075050354, 0.0549757294356823, -0.02506580948829651, 0.05327409505844116, 0.10504544526338577, -0.018043141812086105, 0.0524890273809433, 0.004250105004757643, 0.0077360691502690315, -0.11608513444662094, -0.05128004029393196, 0.00664077652618289, 0.031939223408699036, -0.009109708480536938, 0.0630388930439949, 0.02403530292212963, 0.03605678305029869, 0.013352942653000355, 0.07528417557477951, -0.05710900202393532, -0.05375198274850845, 0.018322059884667397, 0.05767257884144783, 0.031689856201410294, -0.02124728634953499, 0.01433709729462862, 0.08672388643026352, -0.03363129124045372, -0.03956659138202667, -0.043124970048666, -0.09268411993980408, 0.046755921095609665, 0.07505720853805542, -0.025445260107517242, 0.04686104506254196, -0.10434994846582413, 0.03792600333690643, -0.08568038791418076, -0.023694464936852455, 0.04428042471408844, 0.01938406378030777, -0.027757424861192703, -0.00337800825946033, -0.05612541735172272, -0.04956679418683052, -0.006285366602241993, -0.04379004240036011, 0.03888864815235138, -0.0496697835624218, 0.04015711694955826, -0.06826869398355484, -0.07182441651821136, 0.060956500470638275, 0.020999375730752945, -0.06153907999396324, -0.1234980896115303, -0.034650564193725586, 0.00030366270220838487, 0.02669391967356205, 0.01218503713607788, 0.037533294409513474, 0.04759861156344414, 0.03238174319267273, -0.02551068179309368, 0.012179327197372913, -0.01358523964881897, 0.007236423436552286, -0.07606378942728043, -0.013141600415110588, 0.007388051133602858, 0.10077451914548874, 0.07137622684240341, 0.034152910113334656, -0.02390436641871929, 0.007548895198851824, -0.03684956580400467, -0.017130214720964432, -0.1058196872472763, -0.05414114147424698, -0.011281603947281837, 0.12557309865951538, -0.05348746478557587, -0.05471649393439293, 0.006365503184497356, -0.03354640305042267, -0.06628207117319107, -0.08125943690538406, 0.05408065393567085, 0.01986495405435562, -0.00906350277364254, 0.004734440241008997, 0.03657400608062744, -0.038875237107276917, -0.048273421823978424, -0.04953267052769661, -0.01438988372683525, 0.03376913443207741, -0.04825698584318161, 0.012561095878481865, -0.004487276542931795, 0.01653864048421383, 0.025598756968975067, -0.0633549839258194, 0.05752745643258095, 0.029939860105514526, 0.050887759774923325, 0.07893579453229904, 0.023572297766804695, 0.04550577700138092, 0.035511042922735214, 0.031432509422302246, -0.02544921264052391, 0.04657191410660744, 0.0074006179347634315, -0.09224040061235428, -0.007015997543931007, 0.008707866072654724, 1.2668821489365085e-33, 0.017165226861834526, 0.06309979408979416, -0.03700001537799835, 0.027554858475923538, 0.008261684328317642, -0.1174883022904396, 0.04378170892596245, -0.021243691444396973, -0.02461506985127926, -0.04215400293469429, -0.01533468533307314, 0.09782093018293381, 0.011959459632635117, 0.018076397478580475, 0.054779693484306335, -0.06034360080957413, -0.11971233785152435, 0.05257890000939369, 0.024137185886502266, 0.06171245872974396, 0.08519835025072098, 0.00673253508284688, 0.060919929295778275, -0.0538296103477478, -0.02010427601635456, -0.05174269899725914, 0.04210570827126503, -0.027343546971678734, 0.018344637006521225, 0.015014602802693844, -0.0367785207927227, -0.01716899499297142, -0.0805995911359787, 0.021171674132347107, 0.04058757796883583, -0.0234724972397089, 0.08838465809822083, -0.06837448477745056, 0.024285705760121346, 0.005691473837941885, -0.016151797026395798, 0.05489840358495712, 0.009080938994884491, -0.011041127145290375, 0.04799257218837738, 0.006631611846387386, 0.04368579015135765, -0.018316755071282387, -0.05464830622076988, 0.029016191139817238, -0.13649338483810425, -0.05626681074500084, -0.0229056254029274, -0.06317178905010223, 0.08212342858314514, 0.027211681008338928, 0.06861121952533722, -0.005851490888744593, -0.04404547065496445, 0.02598307654261589, -0.1249576061964035, -0.028652731329202652, -0.022385699674487114, -0.015981921926140785, 0.01872125454246998, 0.014500140212476254, 0.05164143815636635, -0.09921307861804962, 0.029418885707855225, -0.11161407828330994, -0.07120703160762787, -0.06358399987220764, -0.030293060466647148, -0.08028420060873032, -0.016934823244810104, -0.06755350530147552, -0.055798664689064026, -0.06636375933885574, 0.026801377534866333, 0.05825110524892807, 0.027112986892461777, -0.03808209300041199, 0.01259057316929102, 0.030926067382097244, 0.06085548922419548, 0.060864124447107315, 0.03341381251811981, -0.11527880281209946, 0.08515036851167679, 0.03967953845858574, 0.11748666316270828, -0.020233621820807457, 0.025908075273036957, -0.0007926532998681068, 0.05310893803834915, -2.591285644562567e-33, 0.022235414013266563, 0.04241867735981941, -0.0694495439529419, -0.00915807206183672, 0.008798804134130478, 0.003058024449273944, 0.07064716517925262, 0.008581051602959633, -0.029181070625782013, -0.09693685173988342, -0.014738140627741814, 0.005134166684001684, 0.004557871259748936, 0.08141303807497025, -0.0628887265920639, -0.04339791089296341, 0.008330848067998886, 0.003677621018141508, -0.009938168339431286, 0.020761806517839432, 0.07286394387483597, 0.0858202874660492, 0.0036708114203065634, -0.015248861163854599, -0.005871341563761234, 0.00840851105749607, -0.13949672877788544, -0.01668894849717617, -0.02464175596833229, 0.06307655572891235, 0.07593026757240295, 0.053018808364868164, 0.01639476604759693, -0.057707902044057846, -0.0010261302813887596, 0.04156769439578056, 0.02520284801721573, 0.041048116981983185, -0.06354434788227081, 0.0763385072350502, 0.04093988612294197, 0.024001749232411385, 0.01735628768801689, 0.006058833096176386, 0.013714629225432873, 0.048408571630716324, -0.0240004975348711, 0.010012132115662098, 0.0075712078250944614, 0.0007856988231651485, -0.044198177754879, -0.06756976246833801, -0.021837782114744186, -0.11882626265287399, 0.04998335242271423, -0.08682407438755035, 0.08104529231786728, -0.10193341225385666, -0.05227270722389221, 0.03751028701663017, 0.014274409972131252, 0.0036513861268758774, 0.015356214717030525, -0.024035213515162468, -0.011961319483816624, 0.039760198444128036, 0.04025460407137871, 0.05138898640871048, -0.0337742455303669, -0.08057568967342377, -0.022258857265114784, -0.008578880690038204, -0.025355760008096695, 0.03347315266728401, -0.09821475297212601, 0.034303728491067886, -0.02084389142692089, 0.008171149529516697, -0.01654856465756893, 0.04343256726861, -0.06106993556022644, -0.00761518906801939, -0.058327946811914444, -0.06715131551027298, 0.05157323181629181, 0.10602682828903198, -0.005476941354572773, -0.037161070853471756, 0.03366009145975113, -0.12614712119102478, 0.03366975858807564, -0.005078535992652178, -0.02738405391573906, -0.02830067090690136, -0.0012306509306654334, -2.3277989313896796e-08, -0.06859897077083588, -0.02673940733075142, 0.0035614597145467997, -0.008219946175813675, -0.044973526149988174, -0.056287236511707306, -0.04600341245532036, 0.05636697635054588, -0.0062316167168319225, 0.028162606060504913, -0.022993579506874084, 0.10586855560541153, 0.01178648229688406, 0.0799703449010849, 0.08734133839607239, 0.07324691861867905, 0.08802342414855957, 0.07599885016679764, 0.016360297799110413, -0.05588870123028755, 0.04325634613633156, 0.029354562982916832, 0.005420977715402842, -0.04158519580960274, -0.1190241128206253, 0.03958849608898163, 0.005505464505404234, 0.058637503534555435, 0.0770941749215126, -0.07162701338529587, -0.0554138720035553, -0.005261105485260487, -0.05335313454270363, 0.03611646592617035, 0.01225175429135561, -0.012128891423344612, -0.013903630897402763, -0.029458539560437202, -0.03817892447113991, 0.06754742562770844, -0.018314016982913017, 0.012161037884652615, -2.7944495286646998e-06, -0.0022973669692873955, 0.025984691455960274, 0.0731133446097374, -0.00668233772739768, 0.033857863396406174, -0.025389932096004486, 0.024025369435548782, -0.03257952630519867, -0.002881551394239068, -0.07188932597637177, 0.03469381853938103, 0.049058377742767334, 0.06771953403949738, -0.04745808616280556, -0.039465900510549545, -0.0774870291352272, 0.052094291895627975, -0.04122050106525421, 0.02855633571743965, -0.10411141067743301, 0.022435303777456284]",
         "10.111187",
         "5.0412927",
         "2",
         "Language and Cultural Immersion"
        ],
        [
         "49",
         "R050",
         "Engineering",
         "The collaborative approach to problem-solving at Technical University of Denmark was refreshing. Learning to work effectively in international teams has been valuable for every group project since.",
         "[-0.014214161783456802, 0.05889938026666641, -0.009576525539159775, 0.008049124851822853, -0.013699029572308064, -0.0033177100121974945, 0.01414696779102087, 0.03451129421591759, 0.015271076932549477, 0.02016535773873329, -0.0334143340587616, 0.015414564870297909, 0.005843430757522583, 0.1087099090218544, 0.021170219406485558, -0.07062710076570511, -0.06273498386144638, -0.07500610500574112, 0.01601669192314148, -0.1534353643655777, -0.08334428071975708, -0.09634581208229065, 0.006305004004389048, -0.03329252079129219, -0.053507134318351746, 0.0017948499880731106, 0.06183144077658653, -0.04132762923836708, 0.019693709909915924, -0.04105103015899658, -0.07469915598630905, 0.04385090991854668, -0.005515857134014368, 0.00845971331000328, -0.0011436103377491236, 0.14702758193016052, -0.019069062545895576, -0.010880510322749615, 0.03492961451411247, 0.006012000609189272, -0.06944198161363602, 0.017047218978405, 0.040721602737903595, -0.10781100392341614, -0.008344743400812149, -0.008086185902357101, -0.01651155576109886, 0.011570533737540245, -0.0341915562748909, 0.03372027352452278, -0.04004634544253349, -0.05581991747021675, -0.0093797342851758, -0.07811788469552994, 0.10215044766664505, -0.03356926143169403, 0.04478337988257408, -0.0035467089619487524, -0.055051106959581375, -0.12215261906385422, -0.003656902350485325, -0.029522299766540527, -0.020512238144874573, 0.01373749878257513, -0.008220590651035309, -0.02334401197731495, -0.0034653886687010527, 0.09874827414751053, -0.029251743108034134, -0.03333602100610733, 0.014320158399641514, 0.0005800178623758256, -0.040451083332300186, -0.01653287000954151, 0.14145614206790924, 0.0563284307718277, -0.023832790553569794, -0.040956076234579086, 0.032746873795986176, -0.0036345815751701593, 0.09244314581155777, 0.03740169480443001, -0.062166713178157806, 0.03842105343937874, 0.09254966676235199, -0.07605358958244324, 0.0018336073262616992, 0.01680110953748226, 0.001458237413316965, 0.0066187577322125435, 0.013306780718266964, -0.021330388262867928, 0.01499046478420496, 0.05845785513520241, 0.010035981424152851, 0.01922079734504223, 0.09615348279476166, 0.10049206018447876, -0.03164612129330635, 0.04645448550581932, 0.01667625829577446, 0.0865122452378273, 0.00849114079028368, -0.015860339626669884, -0.097506083548069, 0.04736435040831566, 0.06630127131938934, 0.05682818964123726, 0.12971718609333038, -0.0627875030040741, -0.07467401027679443, -0.05968983471393585, -0.057951319962739944, -0.023457681760191917, -0.0344441682100296, 0.0026689190417528152, 0.04645192623138428, 0.010561519302427769, -0.005762882996350527, -0.026874875649809837, 0.06168806180357933, 0.009568529203534126, 0.015668321400880814, 0.06916357576847076, 0.038186799734830856, 0.09268542379140854, 0.013918770477175713, -2.0002050243118806e-33, -0.0004167844890616834, 0.06611375510692596, -0.010278506204485893, 0.017313404008746147, 0.0012267287820577621, -0.03245151787996292, -0.030210481956601143, 0.09862694144248962, -0.09229445457458496, -0.06165040284395218, 0.01193771418184042, 0.0480927936732769, 0.07034680992364883, -0.0022743092849850655, 0.05508935824036598, -0.09144381433725357, -0.10527367144823074, 0.01386190764605999, -0.09610028564929962, 0.03722381219267845, 0.01059745717793703, -0.06703028827905655, 0.09520113468170166, -0.0006014163373038173, 0.015389649197459221, 0.00811076071113348, 0.05303574353456497, -0.005608535837382078, 0.07461151480674744, 0.00143250054679811, 0.005440905690193176, 0.04024617001414299, -0.12696056067943573, 0.08723131567239761, -0.049016691744327545, 0.06895402073860168, 0.02527082897722721, -0.04744803532958031, 0.028783613815903664, 0.029583757743239403, 0.005069965962320566, -0.0028146246913820505, -0.03312433511018753, -0.0158919058740139, 0.08760417252779007, 0.037326596677303314, -0.025480039417743683, -0.03186912462115288, -0.031237779185175896, -0.052831340581178665, -0.09624844044446945, -0.04564737528562546, 0.04553508013486862, -0.08028367906808853, 0.09517060220241547, 0.028194408863782883, 0.02873225510120392, -0.02200872078537941, 0.01900268718600273, -0.06130200996994972, 0.021601174026727676, -0.015800716355443, -0.02657604217529297, 0.051022738218307495, -0.009774352423846722, 0.05498337373137474, 0.016378767788410187, 0.009844949468970299, 0.13265027105808258, -0.14619196951389313, 0.0052592940628528595, -0.0004324198525864631, 0.07076837867498398, 0.023191848769783974, -0.015025305561721325, 0.02946530655026436, -0.011341157369315624, -0.002167152240872383, 0.029334692284464836, 0.029893090948462486, -0.03962913900613785, 0.004195913672447205, -0.012776256538927555, -0.0466766394674778, 0.024789663031697273, 0.026419011875987053, 0.010328066535294056, -0.00966863427311182, 0.016524815931916237, 0.10116635262966156, 0.03527240455150604, 0.019017957150936127, 0.012559077702462673, 0.09490564465522766, 0.02604079432785511, 1.4971940938637307e-34, -0.011446229182183743, 0.03878471255302429, -0.06331351399421692, 0.017397573217749596, 0.11646062880754471, -0.02360759861767292, -0.03325355798006058, -0.07227930426597595, 0.0453404039144516, 0.042927708476781845, 0.025806274265050888, -0.037635255604982376, -0.05069093778729439, 0.0632803738117218, -0.009675213135778904, -0.030704807490110397, 0.028883930295705795, 0.004897140432149172, -0.0022704163566231728, 0.035578057169914246, 0.008745105937123299, -0.026749368757009506, 0.03383199870586395, -0.015256071463227272, -0.016136452555656433, 0.000140172298415564, 0.02737446129322052, -0.06852041929960251, -0.024043051525950432, -0.003764100605621934, 0.050947465002536774, -0.037370190024375916, -0.060291219502687454, -0.001905867480672896, -0.07000832259654999, 0.07322133332490921, -0.07403933256864548, 0.0013880280312150717, -0.02628142200410366, 0.061990126967430115, 0.02811749279499054, -0.06346462666988373, -0.10406166315078735, -0.023852288722991943, 0.031916294246912, -0.006186378188431263, -0.023923415690660477, -0.058005813509225845, -0.047400373965501785, 0.007053586188703775, 0.0303521566092968, -0.012079233303666115, 0.0217925813049078, -0.14975881576538086, -0.01920763961970806, 0.06722979992628098, 0.0894111767411232, -0.030457042157649994, -0.018491368740797043, 0.04534892737865448, 0.011387141421437263, 0.0016397713916376233, 0.05888131260871887, 0.024862060323357582, -0.06143807992339134, -0.028411852195858955, -0.032902419567108154, 0.12204943597316742, -0.06376491487026215, 0.024110864847898483, -0.11200127750635147, 0.010861251503229141, -0.010541739873588085, -0.016106901690363884, 0.06298081576824188, -0.0266738161444664, -0.10081616044044495, -0.02440369501709938, -0.021358918398618698, -0.08586018532514572, -0.014538017101585865, -0.020558763295412064, -0.006500664167106152, 0.026576371863484383, -0.05500081181526184, 0.0601985827088356, 0.005363573785871267, 0.07303889095783234, -0.0013832674594596028, -0.08054696768522263, -0.061124444007873535, -0.02985498122870922, 0.046237554401159286, -0.03564169630408287, -0.04070252180099487, -2.711686342138364e-08, 0.0056097302585840225, 0.009411380626261234, 0.03368314355611801, 0.013154679909348488, -0.020892886444926262, -0.060445915907621384, -0.07341450452804565, 0.0494062639772892, -0.009456182830035686, 0.07832498103380203, -0.07148507237434387, 0.013910866342484951, -0.0036365888081490993, 0.06562693417072296, -0.0036260380875319242, 0.025961317121982574, -0.004408420994877815, 0.004042142070829868, -0.0446009524166584, -0.08335341513156891, 0.03239332512021065, -0.021718967705965042, -0.09433156996965408, 0.026474837213754654, -0.03907933458685875, 0.00017197160923387855, 0.0007088333368301392, 0.036397967487573624, 0.043599456548690796, -0.05347311496734619, -0.03591266646981239, 0.04886966198682785, -0.02437225915491581, 0.03996912017464638, 0.04520254582166672, -0.043970320373773575, 0.03842782601714134, -0.037888191640377045, -0.018837150186300278, -0.06480787694454193, -0.03211699053645134, 0.032659441232681274, -0.008273787796497345, 0.01343233697116375, -0.00241009215824306, 0.029982764273881912, -0.07461128383874893, -0.018557723611593246, -0.0725262314081192, 0.012095985002815723, -0.0070503647439181805, 0.03675180301070213, -0.04830893129110336, 0.053842801600694656, 0.12546244263648987, 0.06291819363832474, 0.04997137933969498, -0.06413932889699936, 0.01747019775211811, 0.04191035404801369, -0.01968402788043022, 0.05120908096432686, -0.04643014818429947, 0.07421895116567612]",
         "7.0200763",
         "4.621595",
         "1",
         "Collaborative and Innovative Problem-Solving Approaches"
        ]
       ],
       "shape": {
        "columns": 8,
        "rows": 100
       }
      },
      "text/html": [
       "<div>\n",
       "<style scoped>\n",
       "    .dataframe tbody tr th:only-of-type {\n",
       "        vertical-align: middle;\n",
       "    }\n",
       "\n",
       "    .dataframe tbody tr th {\n",
       "        vertical-align: top;\n",
       "    }\n",
       "\n",
       "    .dataframe thead th {\n",
       "        text-align: right;\n",
       "    }\n",
       "</style>\n",
       "<table border=\"1\" class=\"dataframe\">\n",
       "  <thead>\n",
       "    <tr style=\"text-align: right;\">\n",
       "      <th></th>\n",
       "      <th>Respondent_ID</th>\n",
       "      <th>Major</th>\n",
       "      <th>Response</th>\n",
       "      <th>embeddings</th>\n",
       "      <th>x</th>\n",
       "      <th>y</th>\n",
       "      <th>cluster</th>\n",
       "      <th>topic</th>\n",
       "    </tr>\n",
       "  </thead>\n",
       "  <tbody>\n",
       "    <tr>\n",
       "      <th>0</th>\n",
       "      <td>R001</td>\n",
       "      <td>Economics</td>\n",
       "      <td>The biggest benefit of Guarini Exchange was de...</td>\n",
       "      <td>[-0.02808222733438015, 0.008524204604327679, 0...</td>\n",
       "      <td>9.312801</td>\n",
       "      <td>3.329983</td>\n",
       "      <td>-1</td>\n",
       "      <td>None</td>\n",
       "    </tr>\n",
       "    <tr>\n",
       "      <th>1</th>\n",
       "      <td>R002</td>\n",
       "      <td>Computer Science</td>\n",
       "      <td>Learning to code in a different cultural conte...</td>\n",
       "      <td>[-0.023660454899072647, 0.011696777306497097, ...</td>\n",
       "      <td>6.883540</td>\n",
       "      <td>4.101231</td>\n",
       "      <td>1</td>\n",
       "      <td>Collaborative and Innovative Problem-Solving A...</td>\n",
       "    </tr>\n",
       "    <tr>\n",
       "      <th>2</th>\n",
       "      <td>R003</td>\n",
       "      <td>Environmental Studies</td>\n",
       "      <td>Studying at Williams-Mystic completely changed...</td>\n",
       "      <td>[-0.013019781559705734, 0.04203595221042633, 0...</td>\n",
       "      <td>8.967394</td>\n",
       "      <td>1.310911</td>\n",
       "      <td>5</td>\n",
       "      <td>Hands-on Field Experience and Interdisciplinar...</td>\n",
       "    </tr>\n",
       "    <tr>\n",
       "      <th>3</th>\n",
       "      <td>R004</td>\n",
       "      <td>Asian Studies</td>\n",
       "      <td>My time at Waseda Uni in Tokyo improved my Jap...</td>\n",
       "      <td>[-0.004582987632602453, -0.045444514602422714,...</td>\n",
       "      <td>10.744184</td>\n",
       "      <td>5.385358</td>\n",
       "      <td>2</td>\n",
       "      <td>Language and Cultural Immersion</td>\n",
       "    </tr>\n",
       "    <tr>\n",
       "      <th>4</th>\n",
       "      <td>R005</td>\n",
       "      <td>Government</td>\n",
       "      <td>The Guarini program gave me confidence I never...</td>\n",
       "      <td>[0.0012159398756921291, -0.03586733713746071, ...</td>\n",
       "      <td>9.520711</td>\n",
       "      <td>3.627601</td>\n",
       "      <td>-1</td>\n",
       "      <td>None</td>\n",
       "    </tr>\n",
       "    <tr>\n",
       "      <th>...</th>\n",
       "      <td>...</td>\n",
       "      <td>...</td>\n",
       "      <td>...</td>\n",
       "      <td>...</td>\n",
       "      <td>...</td>\n",
       "      <td>...</td>\n",
       "      <td>...</td>\n",
       "      <td>...</td>\n",
       "    </tr>\n",
       "    <tr>\n",
       "      <th>95</th>\n",
       "      <td>R096</td>\n",
       "      <td>Psychology</td>\n",
       "      <td>Cross-cultural perspectives on developmental p...</td>\n",
       "      <td>[0.06583299487829208, 0.04757784679532051, -0....</td>\n",
       "      <td>11.198199</td>\n",
       "      <td>0.410375</td>\n",
       "      <td>3</td>\n",
       "      <td>Research Methodology and Cross-Cultural Perspe...</td>\n",
       "    </tr>\n",
       "    <tr>\n",
       "      <th>96</th>\n",
       "      <td>R097</td>\n",
       "      <td>Computer Science</td>\n",
       "      <td>AIT Budapest's creative approach to problem-so...</td>\n",
       "      <td>[-0.06781381368637085, 0.07236985117197037, 0....</td>\n",
       "      <td>6.428737</td>\n",
       "      <td>4.433134</td>\n",
       "      <td>1</td>\n",
       "      <td>Collaborative and Innovative Problem-Solving A...</td>\n",
       "    </tr>\n",
       "    <tr>\n",
       "      <th>97</th>\n",
       "      <td>R098</td>\n",
       "      <td>Asian Studies</td>\n",
       "      <td>My time at Keio improved my Japanese dramatica...</td>\n",
       "      <td>[-0.0008568129851482809, 0.08134118467569351, ...</td>\n",
       "      <td>11.306201</td>\n",
       "      <td>5.250633</td>\n",
       "      <td>2</td>\n",
       "      <td>Language and Cultural Immersion</td>\n",
       "    </tr>\n",
       "    <tr>\n",
       "      <th>98</th>\n",
       "      <td>R099</td>\n",
       "      <td>Environmental Studies</td>\n",
       "      <td>The biggest benefit was seeing environmental c...</td>\n",
       "      <td>[0.01006466243416071, 0.08017655462026596, 0.0...</td>\n",
       "      <td>9.277708</td>\n",
       "      <td>1.327294</td>\n",
       "      <td>5</td>\n",
       "      <td>Hands-on Field Experience and Interdisciplinar...</td>\n",
       "    </tr>\n",
       "    <tr>\n",
       "      <th>99</th>\n",
       "      <td>R100</td>\n",
       "      <td>Government</td>\n",
       "      <td>UCL's comparative approach to political system...</td>\n",
       "      <td>[-0.05885228514671326, -0.0027636357117444277,...</td>\n",
       "      <td>11.953079</td>\n",
       "      <td>3.198130</td>\n",
       "      <td>0</td>\n",
       "      <td>Comparative Perspectives on Economic and Polit...</td>\n",
       "    </tr>\n",
       "  </tbody>\n",
       "</table>\n",
       "<p>100 rows × 8 columns</p>\n",
       "</div>"
      ],
      "text/plain": [
       "   Respondent_ID                  Major  \\\n",
       "0           R001              Economics   \n",
       "1           R002       Computer Science   \n",
       "2           R003  Environmental Studies   \n",
       "3           R004          Asian Studies   \n",
       "4           R005             Government   \n",
       "..           ...                    ...   \n",
       "95          R096             Psychology   \n",
       "96          R097       Computer Science   \n",
       "97          R098          Asian Studies   \n",
       "98          R099  Environmental Studies   \n",
       "99          R100             Government   \n",
       "\n",
       "                                             Response  \\\n",
       "0   The biggest benefit of Guarini Exchange was de...   \n",
       "1   Learning to code in a different cultural conte...   \n",
       "2   Studying at Williams-Mystic completely changed...   \n",
       "3   My time at Waseda Uni in Tokyo improved my Jap...   \n",
       "4   The Guarini program gave me confidence I never...   \n",
       "..                                                ...   \n",
       "95  Cross-cultural perspectives on developmental p...   \n",
       "96  AIT Budapest's creative approach to problem-so...   \n",
       "97  My time at Keio improved my Japanese dramatica...   \n",
       "98  The biggest benefit was seeing environmental c...   \n",
       "99  UCL's comparative approach to political system...   \n",
       "\n",
       "                                           embeddings          x         y  \\\n",
       "0   [-0.02808222733438015, 0.008524204604327679, 0...   9.312801  3.329983   \n",
       "1   [-0.023660454899072647, 0.011696777306497097, ...   6.883540  4.101231   \n",
       "2   [-0.013019781559705734, 0.04203595221042633, 0...   8.967394  1.310911   \n",
       "3   [-0.004582987632602453, -0.045444514602422714,...  10.744184  5.385358   \n",
       "4   [0.0012159398756921291, -0.03586733713746071, ...   9.520711  3.627601   \n",
       "..                                                ...        ...       ...   \n",
       "95  [0.06583299487829208, 0.04757784679532051, -0....  11.198199  0.410375   \n",
       "96  [-0.06781381368637085, 0.07236985117197037, 0....   6.428737  4.433134   \n",
       "97  [-0.0008568129851482809, 0.08134118467569351, ...  11.306201  5.250633   \n",
       "98  [0.01006466243416071, 0.08017655462026596, 0.0...   9.277708  1.327294   \n",
       "99  [-0.05885228514671326, -0.0027636357117444277,...  11.953079  3.198130   \n",
       "\n",
       "   cluster                                              topic  \n",
       "0       -1                                               None  \n",
       "1        1  Collaborative and Innovative Problem-Solving A...  \n",
       "2        5  Hands-on Field Experience and Interdisciplinar...  \n",
       "3        2                    Language and Cultural Immersion  \n",
       "4       -1                                               None  \n",
       "..     ...                                                ...  \n",
       "95       3  Research Methodology and Cross-Cultural Perspe...  \n",
       "96       1  Collaborative and Innovative Problem-Solving A...  \n",
       "97       2                    Language and Cultural Immersion  \n",
       "98       5  Hands-on Field Experience and Interdisciplinar...  \n",
       "99       0  Comparative Perspectives on Economic and Polit...  \n",
       "\n",
       "[100 rows x 8 columns]"
      ]
     },
     "execution_count": 11,
     "metadata": {},
     "output_type": "execute_result"
    }
   ],
   "source": [
    "llm = ChatDartmouthCloud(model_name=\"openai.gpt-4o-mini-2024-07-18\")\n",
    "\n",
    "\n",
    "def find_cluster_label(responses):\n",
    "    responses = \"\\n--\\n\".join(responses)\n",
    "    prompt = (\n",
    "        \"The following are responses to the question: \"\n",
    "        \"'What do you think was the biggest benefit of the Guarini Exchange Program \"\n",
    "        \"for your personal or professional development?' \"\n",
    "        \"All of these responses share a common theme or topic, similar to a headline. \"\n",
    "        \"Take a few moments to analyze the responses, then identify the most salient topic. \"\n",
    "        \"Finally, respond with the topic between the tags <topic_label></topic_label>. \"\n",
    "        \"Here are the responses:\\n\\n\"\n",
    "        f\"{responses}\"\n",
    "    )\n",
    "    response = llm.invoke(prompt)\n",
    "    label = re.findall(\n",
    "        pattern=r\"<topic_label>(.*)</topic_label>\", string=response.content\n",
    "    )[0]\n",
    "    return label\n",
    "\n",
    "\n",
    "df[\"topic\"] = None\n",
    "for cluster in df.cluster.unique():\n",
    "    if cluster == \"-1\":\n",
    "        continue\n",
    "    subset = df[df.cluster == cluster]\n",
    "    df.loc[df.cluster == cluster, \"topic\"] = find_cluster_label(subset.Response)\n",
    "df"
   ]
  },
  {
   "cell_type": "code",
   "execution_count": 12,
   "metadata": {},
   "outputs": [
    {
     "data": {
      "application/vnd.plotly.v1+json": {
       "config": {
        "plotlyServerURL": "https://plot.ly"
       },
       "data": [
        {
         "customdata": [
          [
           "Learning to code in a different cultural context at AIT Budapest was eye-opening. The approach to problem-solving was completely different than what we do at Dartmouth. It made me a more flexible thinker and programmer."
          ],
          [
           "The collaborative coding culture at AIT Budapest was so different from Dartmouth's more competitive environment. I learned how to work better in teams and communicate technical concepts across language barriers."
          ],
          [
           "The problem-solving approaches at AIT Budapest were so different from what we learn at Dartmouth. I'm now able to tackle coding challenges from multiple angles, which has made me a much stronger programmer."
          ],
          [
           "The collaborative approach to problem-solving at Technical University of Denmark was refreshing. Learning to work effectively in international teams has been valuable for every group project since."
          ],
          [
           "Budapest was life-changing! The programming challenges at AIT were so different from our coursework at Dartmouth. I learned to approach problems from completely new angles, which has made me a much stronger coder."
          ],
          [
           "AIT Budapest's focus on creative problem-solving rather than just technical implementation made me a much more innovative programmer. I approach challenges differently now, looking for elegant solutions rather than just functional ones."
          ],
          [
           "The collaborative coding culture at AIT Budapest showed me new ways of approaching team projects. I've brought those practices back to group work at Dartmouth with great results."
          ],
          [
           "The problem-solving approaches at AIT Budapest were so different from what we learn at Dartmouth. I'm now able to tackle coding challenges from multiple angles, which has made me a much stronger programmer."
          ],
          [
           "AIT Budapest's creative approach to problem-solving made me a much more innovative programmer. I approach challenges differently now, looking for elegant solutions rather than just functional ones."
          ]
         ],
         "hovertemplate": "topic=Collaborative and Innovative Problem-Solving Approaches<br>x=%{x}<br>y=%{y}<br>Response=%{customdata[0]}<extra></extra>",
         "legendgroup": "Collaborative and Innovative Problem-Solving Approaches",
         "marker": {
          "color": "#EF553B",
          "symbol": "circle"
         },
         "mode": "markers",
         "name": "Collaborative and Innovative Problem-Solving Approaches",
         "orientation": "v",
         "showlegend": true,
         "type": "scatter",
         "x": {
          "bdata": "9kXcQPhp2UACb9NAd6TgQAfI3UBQHdJAKnzgQNLv0EA2uM1A",
          "dtype": "f4"
         },
         "xaxis": "x",
         "y": {
          "bdata": "ST2DQKzMikA+SYZAG+STQD3IiUBuaIVAgEyQQKzUgkA83I1A",
          "dtype": "f4"
         },
         "yaxis": "y"
        },
        {
         "customdata": [
          [
           "Studying at Williams-Mystic completely changed how I view marine conservation. Getting hands-on experience with coastal communities facing climate change impacts gave me real-world context for my research interests. Best decision I ever made."
          ],
          [
           "The marine biology program completely changed my career path. I was pre-med before, but after working in the field at MBL, I'm now pursuing marine conservation. The hands-on research experience was transformative."
          ],
          [
           "The field research skills I developed at Williams-Mystic have been crucial for my senior project. Learning to collect and analyze data in challenging coastal environments taught me resilience and adaptability."
          ],
          [
           "Williams-Mystic program taught me field research methods I wouldn't have learned on campus. The hands-on experience collecting and analyzing coastal data has been directly applicable to my senior project."
          ],
          [
           "Williams-Mystic program taught me to communicate science to non-specialists, which has been surprisingly valuable. Learning to translate complex environmental concepts for different audiences is a skill I use constantly."
          ],
          [
           "The interdisciplinary approach at Williams-Mystic showed me how to integrate scientific data with policy considerations and community needs. That holistic perspective has shaped my approach to environmental work."
          ],
          [
           "The field research methods I learned at Williams-Mystic have been directly applicable to my senior project. Learning to collect and analyze environmental data in challenging conditions taught me both technical skills and resilience."
          ],
          [
           "Williams-Mystic taught me to communicate complex environmental concepts to different audiences. That skill has been surprisingly valuable in every research presentation and paper since."
          ],
          [
           "Williams-Mystic program taught me how to integrate scientific data with policy considerations and community needs. That interdisciplinary approach has been valuable for all my environmental work since."
          ],
          [
           "Williams-Mystic's interdisciplinary approach showed me how to integrate scientific data with policy considerations and community needs. That holistic perspective has shaped all my environmental work since."
          ],
          [
           "The biggest benefit was seeing environmental challenges firsthand in coastal communities. Williams-Mystic program made abstract concepts concrete in ways that transformed my understanding and commitment."
          ]
         ],
         "hovertemplate": "topic=Hands-on Field Experience and Interdisciplinary Learning in Marine Conservation<br>x=%{x}<br>y=%{y}<br>Response=%{customdata[0]}<extra></extra>",
         "legendgroup": "Hands-on Field Experience and Interdisciplinary Learning in Marine Conservation",
         "marker": {
          "color": "#00cc96",
          "symbol": "circle"
         },
         "mode": "markers",
         "name": "Hands-on Field Experience and Interdisciplinary Learning in Marine Conservation",
         "orientation": "v",
         "showlegend": true,
         "type": "scatter",
         "x": {
          "bdata": "cnoPQbYOD0FgXg1B1/sPQbbxEkE1hRFBTpcTQTrxD0HWyg9BIroNQX5xFEE=",
          "dtype": "f4"
         },
         "xaxis": "x",
         "y": {
          "bdata": "8sunP7Tp9T9xsJI/REaJP0geOT/Umv8+ZkyBP0k0ST/XJhg/JnAJP8bkqT8=",
          "dtype": "f4"
         },
         "yaxis": "y"
        },
        {
         "customdata": [
          [
           "My time at Waseda Uni in Tokyo improved my Japanese like crazy!!! Couldn't really hold a conversation b4 the program, now I'm pretty much fluent. Also made amazing friends who I still talk to everyday."
          ],
          [
           "The language immersion was incredible. I went to Berlin barely able to order coffee in German and came back able to discuss literature. The Federation program's language focus was exactly what I needed."
          ],
          [
           "My time at American University of Kuwait helped me understand the region beyond stereotypes. Living there and making local friends gave me nuanced perspectives that no amount of reading could provide. Plus my Arabic improved tremendously."
          ],
          [
           "Kanda University's language immersion was intense but effective. My Japanese improved more in one term than in two years of campus study. Plus living with a host family taught me cultural nuances you can't learn in a classroom."
          ],
          [
           "Spelman College exchange opened my eyes to different perspectives on race and gender in America. As a white student, this experience was humbling and educational in ways I'm still processing. Most valuable term of my college experience."
          ],
          [
           "The language immersion at Yonsei was incredible for my Korean skills. But beyond that, observing how language shapes culture firsthand gave me research insights I'm still unpacking in my senior thesis."
          ],
          [
           "My Arabic improved 1000% at American University of Kuwait! But more importantly, the cultural immersion helped me understand regional complexities in ways that classroom learning never could. Best decision I made at Dartmouth."
          ],
          [
           "Tokyo was amazing!!! Waseda University's language program improved my Japanese dramatically, and the cultural immersion was incredible. Made friends I'll have for life and professional connections that are already helping my job search."
          ],
          [
           "The biggest benefit was definitely language acquisition. My Japanese improved more in one term at Kanda than in two years of campus classes. The immersion experience is just unbeatable for language learning."
          ],
          [
           "My time at Yonsei University in Seoul improved my Korean dramatically, but the cultural insights were even more valuable. Understanding business etiquette and social norms has been surprisingly helpful in job interviews."
          ],
          [
           "My language skills improved dramatically, but more importantly, I gained research insights into how language shapes cultural identity. My thesis work on this topic directly stems from observations during my time in Seoul."
          ],
          [
           "Waseda's language program improved my Japanese dramatically, but the cultural immersion was equally valuable. Understanding business etiquette and social norms has been surprisingly helpful in job interviews with Japanese companies."
          ],
          [
           "My time at Keio wasn't just about language improvement - though that was significant. The cultural insights and professional connections have shaped my career interests in international business."
          ],
          [
           "The biggest benefit was definitely language acquisition. My Japanese improved more in one term at Kanda than in two years of campus classes. The immersion experience is just unbeatable for language learning."
          ],
          [
           "Beyond just language improvement, my time at Waseda gave me cultural insights that have been valuable for my job search in international business. Understanding Japanese business culture has been a major selling point."
          ],
          [
           "My time at Keio improved my Japanese dramatically, but the cultural insights were even more valuable. Understanding business etiquette and social norms has been surprisingly helpful in job interviews."
          ]
         ],
         "hovertemplate": "topic=Language and Cultural Immersion<br>x=%{x}<br>y=%{y}<br>Response=%{customdata[0]}<extra></extra>",
         "legendgroup": "Language and Cultural Immersion",
         "marker": {
          "color": "#ab63fa",
          "symbol": "circle"
         },
         "mode": "markers",
         "name": "Language and Cultural Immersion",
         "orientation": "v",
         "showlegend": true,
         "type": "scatter",
         "x": {
          "bdata": "LegrQew1J0EJiCVB3tIlQdPQHUEvbStBNe8iQWM9KkFsxyFBguAyQRvtLUHKcjJB2X0yQeF0JUGcvC5BM+Y0QQ==",
          "dtype": "f4"
         },
         "xaxis": "x",
         "y": {
          "bdata": "2lSsQLNMmkD6bYtAVJCfQM7VfkBHCKZAti6RQOWsrEBFUqFA0n+qQDFHmkCwDaVAeRydQFyOpUBphqRALwWoQA==",
          "dtype": "f4"
         },
         "yaxis": "y"
        },
        {
         "customdata": [
          [
           "Studying at Bocconi gave me a completely different perspective on economic systems. The European approach is so different from what we learn in the US. I think I'm much more well-rounded in my understanding now."
          ],
          [
           "My time in Bangkok at Chulalongkorn gave me first-hand exposure to a political system very different from ours. The theoretical frameworks we discuss in class became concrete, and I now have a much more nuanced view of governance."
          ],
          [
           "Keio University's approach to international relations from an Asian perspective completely changed how I understand global politics. The academic perspective was so different from what we get in US classrooms."
          ],
          [
           "The biggest benefit was seeing how economic theory plays out differently in European contexts. At Bocconi, the focus on social welfare alongside market efficiency gave me a more balanced view of economic systems."
          ],
          [
           "The policy analysis frameworks I learned at UCL were more sophisticated than what we typically use in US contexts. Having that comparative perspective has strengthened my analytical skills tremendously."
          ],
          [
           "The biggest benefit was seeing how economic policies play out differently in European welfare states. Copenhagen's approach to market economics with strong social supports gave me a more nuanced perspective."
          ],
          [
           "The comparative perspective on democratic systems I gained at UCL has been crucial for my thesis work. Seeing how different governments approach similar problems gave me analytical frameworks I still use."
          ],
          [
           "The biggest benefit was seeing economic theories applied in different cultural contexts. Copenhagen's approach to balancing market efficiency with social welfare gave me new perspectives on policy design."
          ],
          [
           "The biggest benefit was seeing how different political systems approach similar problems. My time at University College London gave me comparative frameworks that have strengthened my analytical skills tremendously."
          ],
          [
           "Seeing economic policies in action in Copenhagen gave me concrete examples of theoretical concepts we discuss in class. That real-world application has deepened my understanding immensely."
          ],
          [
           "The international perspective on economic systems I gained at Bocconi has made me much more thoughtful about policy design. Seeing different approaches to market regulation gave me new analytical frameworks."
          ],
          [
           "Studying comparative politics at UCL while Brexit was happening was an incredible learning opportunity. Seeing major political change up close gave me insights no textbook could provide."
          ],
          [
           "The biggest benefit was seeing how economic theories play out differently in European contexts. Copenhagen's balance of market efficiency and social welfare gave me new perspectives on policy design."
          ],
          [
           "UCL's comparative approach to political systems gave me analytical frameworks that have strengthened my thesis work tremendously. Seeing how different governments approach similar problems was enlightening."
          ]
         ],
         "hovertemplate": "topic=Comparative Perspectives on Economic and Political Systems<br>x=%{x}<br>y=%{y}<br>Response=%{customdata[0]}<extra></extra>",
         "legendgroup": "Comparative Perspectives on Economic and Political Systems",
         "marker": {
          "color": "#FFA15A",
          "symbol": "circle"
         },
         "mode": "markers",
         "name": "Comparative Perspectives on Economic and Political Systems",
         "orientation": "v",
         "showlegend": true,
         "type": "scatter",
         "x": {
          "bdata": "um82QYbqPUFPxTdBL104QbUPQkESIDhB+UlAQRTuPEEjBjNBF2I8QVz4OkFFgDtB0QI2QdA/P0E=",
          "dtype": "f4"
         },
         "xaxis": "x",
         "y": {
          "bdata": "+KkpQFxHVkCexIVASoMsQMrWRED3bC9ANzhRQNIUIkAeW0xAOPsqQLAdN0DE21dAcA06QCuuTEA=",
          "dtype": "f4"
         },
         "yaxis": "y"
        },
        {
         "customdata": [
          [
           "The cross-cultural research methods I learned at University of Auckland have been super helpful for my honors thesis. I'm now incorporating international perspectives that I wouldn't have considered before."
          ],
          [
           "Cuba program changed my life!! The immersive fieldwork experience confirmed that anthropology is what I want to do with my life. Plus made amazing friends and improved my Spanish sooooo much."
          ],
          [
           "Vassar's approach to community-based research methodologies completely changed how I approach my work. I'm now much more conscious of ethical considerations and community engagement in research design."
          ],
          [
           "CASA Cuba program taught me how to conduct ethical fieldwork in complex cultural contexts. Those research skills and ethical frameworks have been crucial for my senior thesis work."
          ],
          [
           "Cross-cultural perspectives on developmental psychology at Auckland completely changed my research interests. I'm now focusing on cultural variations in child development for my graduate work."
          ],
          [
           "Field research methods I learned in the Cuba program have been directly applicable to my senior thesis. The practical experience of designing and conducting ethnographic research was invaluable."
          ],
          [
           "Auckland's approach to indigenous psychology opened my eyes to completely different frameworks. I'm now incorporating those perspectives into my research in ways that make it much more inclusive and comprehensive."
          ],
          [
           "CASA Cuba program taught me how to navigate complex cultural contexts as a researcher. The ethical frameworks and methodological approaches have been foundational for my independent work since."
          ],
          [
           "Cross-cultural research methods I learned at Auckland have completely shaped my thesis approach. I'm now incorporating international perspectives that make my work much more comprehensive and nuanced."
          ],
          [
           "The biggest benefit was learning to conduct ethical fieldwork in complex cultural contexts. CASA Cuba program gave me methodological frameworks that have been essential for my independent research since."
          ],
          [
           "Auckland's approach to research methodology was refreshingly different from Dartmouth's. Having both perspectives has made me a much more versatile researcher and strengthened my graduate school applications."
          ],
          [
           "CASA Cuba program taught me research methods I wouldn't have learned on campus. The practical experience of designing and conducting ethnographic research has been essential for my senior thesis."
          ],
          [
           "Cross-cultural perspectives on developmental psychology at Auckland completely changed my research interests. I'm now focusing on cultural variations in child development for my graduate work."
          ]
         ],
         "hovertemplate": "topic=Research Methodology and Cross-Cultural Perspectives<br>x=%{x}<br>y=%{y}<br>Response=%{customdata[0]}<extra></extra>",
         "legendgroup": "Research Methodology and Cross-Cultural Perspectives",
         "marker": {
          "color": "#19d3f3",
          "symbol": "circle"
         },
         "mode": "markers",
         "name": "Research Methodology and Cross-Cultural Perspectives",
         "orientation": "v",
         "showlegend": true,
         "type": "scatter",
         "x": {
          "bdata": "QcwzQbtJIkGYgiRBRTkoQRlMNUEmhCVBhuszQfQ8J0FDETNBuMYmQWq2LkE1sShB0yszQQ==",
          "dtype": "f4"
         },
         "xaxis": "x",
         "y": {
          "bdata": "UNJOPxvGrj8/XDo/QbtMP2EQdz6FkV4/8Sm2PmECMz8wJwo/Y6qYP5oC2T7hAX8/phzSPg==",
          "dtype": "f4"
         },
         "yaxis": "y"
        },
        {
         "customdata": [
          [
           "The biggest benefit was definitely the mentorship from my faculty director at Trinity. She connected me with local writers and helped me develop my creative voice in ways that wouldn't have happened on campus."
          ],
          [
           "The research techniques I learned at Marine Biology Laboratory are ones I wouldn't have been exposed to at Dartmouth. Having that technical expertise has already helped me secure a research position for after graduation."
          ],
          [
           "The biggest benefit was the networking with international researchers at University of Auckland. Those connections led to my current research collaboration, which will likely turn into my graduate work."
          ],
          [
           "The marine research techniques I learned at MBL were cutting-edge. Having that technical expertise on my resume helped me land a competitive research assistant position for after graduation."
          ],
          [
           "The biggest benefit was definitely the hands-on research experience at Marine Biology Lab. Getting to work alongside leading scientists and use cutting-edge equipment gave me skills that set my grad school applications apart."
          ],
          [
           "The research techniques I learned at MBL have been directly applicable to my thesis work. Having that technical expertise has strengthened both my research and my grad school applications."
          ],
          [
           "Technical University of Denmark's approach to sustainable engineering opened my eyes to new possibilities. I'm now focusing my career on green technology solutions, which wasn't on my radar before."
          ],
          [
           "The mentorship from researchers at MBL helped me refine my research interests and strengthen my grad school applications. Having guidance from leading scientists in my field was invaluable."
          ]
         ],
         "hovertemplate": "topic=Mentorship and Technical Skill Development<br>x=%{x}<br>y=%{y}<br>Response=%{customdata[0]}<extra></extra>",
         "legendgroup": "Mentorship and Technical Skill Development",
         "marker": {
          "color": "#FF6692",
          "symbol": "circle"
         },
         "mode": "markers",
         "name": "Mentorship and Technical Skill Development",
         "orientation": "v",
         "showlegend": true,
         "type": "scatter",
         "x": {
          "bdata": "yEYYQfTbC0E5+xtBuyAMQWp/FkGCjhJBYOEEQUPfF0E=",
          "dtype": "f4"
         },
         "xaxis": "x",
         "y": {
          "bdata": "r6dAQDa3BEC6bDJA3YQHQD8xKEDJdhRAt5AeQG5VDEA=",
          "dtype": "f4"
         },
         "yaxis": "y"
        },
        {
         "customdata": [
          [
           "The professional connections I made at Copenhagen were game-changing for my career path. One of my professors there recommended me for an internship that led directly to my job offer. Can't put a price on that kind of networking."
          ],
          [
           "Living in Milan while studying at Bocconi meant I could visit the art we were studying anytime. That kind of immediate access to cultural treasures made art history come alive in ways campus classes never could."
          ],
          [
           "NTI program was intense but transformative. The professional-level training and connections to working artists gave me both skills and a network that's already helping my career prospects."
          ],
          [
           "The professional networking at Bocconi was incredible. The connections I made there led directly to my internship last summer, which has now turned into a job offer. The career impact has been tremendous."
          ],
          [
           "The professional-level training at National Theater Institute transformed my technical abilities. I gained skills in areas like movement and voice that we don't focus on as much in campus productions."
          ],
          [
           "The professional connections I made at Bocconi have been game-changing for my career path. One professor there recommended me for an internship that led directly to my current job offer."
          ]
         ],
         "hovertemplate": "topic=Professional Networking and Career Advancement<br>x=%{x}<br>y=%{y}<br>Response=%{customdata[0]}<extra></extra>",
         "legendgroup": "Professional Networking and Career Advancement",
         "marker": {
          "color": "#B6E880",
          "symbol": "circle"
         },
         "mode": "markers",
         "name": "Professional Networking and Career Advancement",
         "orientation": "v",
         "showlegend": true,
         "type": "scatter",
         "x": {
          "bdata": "3/UCQSfjD0F3IQNBUzAKQa3DCUFPKAtB",
          "dtype": "f4"
         },
         "xaxis": "x",
         "y": {
          "bdata": "dttVQHw0Z0DW4XNACl5jQF60g0DAU11A",
          "dtype": "f4"
         },
         "yaxis": "y"
        }
       ],
       "layout": {
        "legend": {
         "title": {
          "text": "topic"
         },
         "tracegroupgap": 0
        },
        "margin": {
         "t": 60
        },
        "template": {
         "data": {
          "bar": [
           {
            "error_x": {
             "color": "#2a3f5f"
            },
            "error_y": {
             "color": "#2a3f5f"
            },
            "marker": {
             "line": {
              "color": "#E5ECF6",
              "width": 0.5
             },
             "pattern": {
              "fillmode": "overlay",
              "size": 10,
              "solidity": 0.2
             }
            },
            "type": "bar"
           }
          ],
          "barpolar": [
           {
            "marker": {
             "line": {
              "color": "#E5ECF6",
              "width": 0.5
             },
             "pattern": {
              "fillmode": "overlay",
              "size": 10,
              "solidity": 0.2
             }
            },
            "type": "barpolar"
           }
          ],
          "carpet": [
           {
            "aaxis": {
             "endlinecolor": "#2a3f5f",
             "gridcolor": "white",
             "linecolor": "white",
             "minorgridcolor": "white",
             "startlinecolor": "#2a3f5f"
            },
            "baxis": {
             "endlinecolor": "#2a3f5f",
             "gridcolor": "white",
             "linecolor": "white",
             "minorgridcolor": "white",
             "startlinecolor": "#2a3f5f"
            },
            "type": "carpet"
           }
          ],
          "choropleth": [
           {
            "colorbar": {
             "outlinewidth": 0,
             "ticks": ""
            },
            "type": "choropleth"
           }
          ],
          "contour": [
           {
            "colorbar": {
             "outlinewidth": 0,
             "ticks": ""
            },
            "colorscale": [
             [
              0,
              "#0d0887"
             ],
             [
              0.1111111111111111,
              "#46039f"
             ],
             [
              0.2222222222222222,
              "#7201a8"
             ],
             [
              0.3333333333333333,
              "#9c179e"
             ],
             [
              0.4444444444444444,
              "#bd3786"
             ],
             [
              0.5555555555555556,
              "#d8576b"
             ],
             [
              0.6666666666666666,
              "#ed7953"
             ],
             [
              0.7777777777777778,
              "#fb9f3a"
             ],
             [
              0.8888888888888888,
              "#fdca26"
             ],
             [
              1,
              "#f0f921"
             ]
            ],
            "type": "contour"
           }
          ],
          "contourcarpet": [
           {
            "colorbar": {
             "outlinewidth": 0,
             "ticks": ""
            },
            "type": "contourcarpet"
           }
          ],
          "heatmap": [
           {
            "colorbar": {
             "outlinewidth": 0,
             "ticks": ""
            },
            "colorscale": [
             [
              0,
              "#0d0887"
             ],
             [
              0.1111111111111111,
              "#46039f"
             ],
             [
              0.2222222222222222,
              "#7201a8"
             ],
             [
              0.3333333333333333,
              "#9c179e"
             ],
             [
              0.4444444444444444,
              "#bd3786"
             ],
             [
              0.5555555555555556,
              "#d8576b"
             ],
             [
              0.6666666666666666,
              "#ed7953"
             ],
             [
              0.7777777777777778,
              "#fb9f3a"
             ],
             [
              0.8888888888888888,
              "#fdca26"
             ],
             [
              1,
              "#f0f921"
             ]
            ],
            "type": "heatmap"
           }
          ],
          "histogram": [
           {
            "marker": {
             "pattern": {
              "fillmode": "overlay",
              "size": 10,
              "solidity": 0.2
             }
            },
            "type": "histogram"
           }
          ],
          "histogram2d": [
           {
            "colorbar": {
             "outlinewidth": 0,
             "ticks": ""
            },
            "colorscale": [
             [
              0,
              "#0d0887"
             ],
             [
              0.1111111111111111,
              "#46039f"
             ],
             [
              0.2222222222222222,
              "#7201a8"
             ],
             [
              0.3333333333333333,
              "#9c179e"
             ],
             [
              0.4444444444444444,
              "#bd3786"
             ],
             [
              0.5555555555555556,
              "#d8576b"
             ],
             [
              0.6666666666666666,
              "#ed7953"
             ],
             [
              0.7777777777777778,
              "#fb9f3a"
             ],
             [
              0.8888888888888888,
              "#fdca26"
             ],
             [
              1,
              "#f0f921"
             ]
            ],
            "type": "histogram2d"
           }
          ],
          "histogram2dcontour": [
           {
            "colorbar": {
             "outlinewidth": 0,
             "ticks": ""
            },
            "colorscale": [
             [
              0,
              "#0d0887"
             ],
             [
              0.1111111111111111,
              "#46039f"
             ],
             [
              0.2222222222222222,
              "#7201a8"
             ],
             [
              0.3333333333333333,
              "#9c179e"
             ],
             [
              0.4444444444444444,
              "#bd3786"
             ],
             [
              0.5555555555555556,
              "#d8576b"
             ],
             [
              0.6666666666666666,
              "#ed7953"
             ],
             [
              0.7777777777777778,
              "#fb9f3a"
             ],
             [
              0.8888888888888888,
              "#fdca26"
             ],
             [
              1,
              "#f0f921"
             ]
            ],
            "type": "histogram2dcontour"
           }
          ],
          "mesh3d": [
           {
            "colorbar": {
             "outlinewidth": 0,
             "ticks": ""
            },
            "type": "mesh3d"
           }
          ],
          "parcoords": [
           {
            "line": {
             "colorbar": {
              "outlinewidth": 0,
              "ticks": ""
             }
            },
            "type": "parcoords"
           }
          ],
          "pie": [
           {
            "automargin": true,
            "type": "pie"
           }
          ],
          "scatter": [
           {
            "fillpattern": {
             "fillmode": "overlay",
             "size": 10,
             "solidity": 0.2
            },
            "type": "scatter"
           }
          ],
          "scatter3d": [
           {
            "line": {
             "colorbar": {
              "outlinewidth": 0,
              "ticks": ""
             }
            },
            "marker": {
             "colorbar": {
              "outlinewidth": 0,
              "ticks": ""
             }
            },
            "type": "scatter3d"
           }
          ],
          "scattercarpet": [
           {
            "marker": {
             "colorbar": {
              "outlinewidth": 0,
              "ticks": ""
             }
            },
            "type": "scattercarpet"
           }
          ],
          "scattergeo": [
           {
            "marker": {
             "colorbar": {
              "outlinewidth": 0,
              "ticks": ""
             }
            },
            "type": "scattergeo"
           }
          ],
          "scattergl": [
           {
            "marker": {
             "colorbar": {
              "outlinewidth": 0,
              "ticks": ""
             }
            },
            "type": "scattergl"
           }
          ],
          "scattermap": [
           {
            "marker": {
             "colorbar": {
              "outlinewidth": 0,
              "ticks": ""
             }
            },
            "type": "scattermap"
           }
          ],
          "scattermapbox": [
           {
            "marker": {
             "colorbar": {
              "outlinewidth": 0,
              "ticks": ""
             }
            },
            "type": "scattermapbox"
           }
          ],
          "scatterpolar": [
           {
            "marker": {
             "colorbar": {
              "outlinewidth": 0,
              "ticks": ""
             }
            },
            "type": "scatterpolar"
           }
          ],
          "scatterpolargl": [
           {
            "marker": {
             "colorbar": {
              "outlinewidth": 0,
              "ticks": ""
             }
            },
            "type": "scatterpolargl"
           }
          ],
          "scatterternary": [
           {
            "marker": {
             "colorbar": {
              "outlinewidth": 0,
              "ticks": ""
             }
            },
            "type": "scatterternary"
           }
          ],
          "surface": [
           {
            "colorbar": {
             "outlinewidth": 0,
             "ticks": ""
            },
            "colorscale": [
             [
              0,
              "#0d0887"
             ],
             [
              0.1111111111111111,
              "#46039f"
             ],
             [
              0.2222222222222222,
              "#7201a8"
             ],
             [
              0.3333333333333333,
              "#9c179e"
             ],
             [
              0.4444444444444444,
              "#bd3786"
             ],
             [
              0.5555555555555556,
              "#d8576b"
             ],
             [
              0.6666666666666666,
              "#ed7953"
             ],
             [
              0.7777777777777778,
              "#fb9f3a"
             ],
             [
              0.8888888888888888,
              "#fdca26"
             ],
             [
              1,
              "#f0f921"
             ]
            ],
            "type": "surface"
           }
          ],
          "table": [
           {
            "cells": {
             "fill": {
              "color": "#EBF0F8"
             },
             "line": {
              "color": "white"
             }
            },
            "header": {
             "fill": {
              "color": "#C8D4E3"
             },
             "line": {
              "color": "white"
             }
            },
            "type": "table"
           }
          ]
         },
         "layout": {
          "annotationdefaults": {
           "arrowcolor": "#2a3f5f",
           "arrowhead": 0,
           "arrowwidth": 1
          },
          "autotypenumbers": "strict",
          "coloraxis": {
           "colorbar": {
            "outlinewidth": 0,
            "ticks": ""
           }
          },
          "colorscale": {
           "diverging": [
            [
             0,
             "#8e0152"
            ],
            [
             0.1,
             "#c51b7d"
            ],
            [
             0.2,
             "#de77ae"
            ],
            [
             0.3,
             "#f1b6da"
            ],
            [
             0.4,
             "#fde0ef"
            ],
            [
             0.5,
             "#f7f7f7"
            ],
            [
             0.6,
             "#e6f5d0"
            ],
            [
             0.7,
             "#b8e186"
            ],
            [
             0.8,
             "#7fbc41"
            ],
            [
             0.9,
             "#4d9221"
            ],
            [
             1,
             "#276419"
            ]
           ],
           "sequential": [
            [
             0,
             "#0d0887"
            ],
            [
             0.1111111111111111,
             "#46039f"
            ],
            [
             0.2222222222222222,
             "#7201a8"
            ],
            [
             0.3333333333333333,
             "#9c179e"
            ],
            [
             0.4444444444444444,
             "#bd3786"
            ],
            [
             0.5555555555555556,
             "#d8576b"
            ],
            [
             0.6666666666666666,
             "#ed7953"
            ],
            [
             0.7777777777777778,
             "#fb9f3a"
            ],
            [
             0.8888888888888888,
             "#fdca26"
            ],
            [
             1,
             "#f0f921"
            ]
           ],
           "sequentialminus": [
            [
             0,
             "#0d0887"
            ],
            [
             0.1111111111111111,
             "#46039f"
            ],
            [
             0.2222222222222222,
             "#7201a8"
            ],
            [
             0.3333333333333333,
             "#9c179e"
            ],
            [
             0.4444444444444444,
             "#bd3786"
            ],
            [
             0.5555555555555556,
             "#d8576b"
            ],
            [
             0.6666666666666666,
             "#ed7953"
            ],
            [
             0.7777777777777778,
             "#fb9f3a"
            ],
            [
             0.8888888888888888,
             "#fdca26"
            ],
            [
             1,
             "#f0f921"
            ]
           ]
          },
          "colorway": [
           "#636efa",
           "#EF553B",
           "#00cc96",
           "#ab63fa",
           "#FFA15A",
           "#19d3f3",
           "#FF6692",
           "#B6E880",
           "#FF97FF",
           "#FECB52"
          ],
          "font": {
           "color": "#2a3f5f"
          },
          "geo": {
           "bgcolor": "white",
           "lakecolor": "white",
           "landcolor": "#E5ECF6",
           "showlakes": true,
           "showland": true,
           "subunitcolor": "white"
          },
          "hoverlabel": {
           "align": "left"
          },
          "hovermode": "closest",
          "mapbox": {
           "style": "light"
          },
          "paper_bgcolor": "white",
          "plot_bgcolor": "#E5ECF6",
          "polar": {
           "angularaxis": {
            "gridcolor": "white",
            "linecolor": "white",
            "ticks": ""
           },
           "bgcolor": "#E5ECF6",
           "radialaxis": {
            "gridcolor": "white",
            "linecolor": "white",
            "ticks": ""
           }
          },
          "scene": {
           "xaxis": {
            "backgroundcolor": "#E5ECF6",
            "gridcolor": "white",
            "gridwidth": 2,
            "linecolor": "white",
            "showbackground": true,
            "ticks": "",
            "zerolinecolor": "white"
           },
           "yaxis": {
            "backgroundcolor": "#E5ECF6",
            "gridcolor": "white",
            "gridwidth": 2,
            "linecolor": "white",
            "showbackground": true,
            "ticks": "",
            "zerolinecolor": "white"
           },
           "zaxis": {
            "backgroundcolor": "#E5ECF6",
            "gridcolor": "white",
            "gridwidth": 2,
            "linecolor": "white",
            "showbackground": true,
            "ticks": "",
            "zerolinecolor": "white"
           }
          },
          "shapedefaults": {
           "line": {
            "color": "#2a3f5f"
           }
          },
          "ternary": {
           "aaxis": {
            "gridcolor": "white",
            "linecolor": "white",
            "ticks": ""
           },
           "baxis": {
            "gridcolor": "white",
            "linecolor": "white",
            "ticks": ""
           },
           "bgcolor": "#E5ECF6",
           "caxis": {
            "gridcolor": "white",
            "linecolor": "white",
            "ticks": ""
           }
          },
          "title": {
           "x": 0.05
          },
          "xaxis": {
           "automargin": true,
           "gridcolor": "white",
           "linecolor": "white",
           "ticks": "",
           "title": {
            "standoff": 15
           },
           "zerolinecolor": "white",
           "zerolinewidth": 2
          },
          "yaxis": {
           "automargin": true,
           "gridcolor": "white",
           "linecolor": "white",
           "ticks": "",
           "title": {
            "standoff": 15
           },
           "zerolinecolor": "white",
           "zerolinewidth": 2
          }
         }
        },
        "xaxis": {
         "anchor": "y",
         "domain": [
          0,
          1
         ],
         "title": {
          "text": "x"
         }
        },
        "yaxis": {
         "anchor": "x",
         "domain": [
          0,
          1
         ],
         "title": {
          "text": "y"
         }
        }
       }
      }
     },
     "metadata": {},
     "output_type": "display_data"
    }
   ],
   "source": [
    "fig = px.scatter(df, x=\"x\", y=\"y\", hover_data=[\"Response\"], color=\"topic\")\n",
    "fig.show()"
   ]
  },
  {
   "cell_type": "code",
   "execution_count": 13,
   "metadata": {},
   "outputs": [
    {
     "data": {
      "application/vnd.plotly.v1+json": {
       "config": {
        "plotlyServerURL": "https://plot.ly"
       },
       "data": [
        {
         "bingroup": "x",
         "hovertemplate": "Major=Economics<br>topic=%{x}<br>count=%{y}<extra></extra>",
         "legendgroup": "Economics",
         "marker": {
          "color": "#636efa",
          "pattern": {
           "shape": ""
          }
         },
         "name": "Economics",
         "orientation": "v",
         "showlegend": true,
         "type": "histogram",
         "x": [
          null,
          "Comparative Perspectives on Economic and Political Systems",
          "Professional Networking and Career Advancement",
          "Comparative Perspectives on Economic and Political Systems",
          "Comparative Perspectives on Economic and Political Systems",
          null,
          "Comparative Perspectives on Economic and Political Systems",
          "Professional Networking and Career Advancement",
          "Comparative Perspectives on Economic and Political Systems",
          "Comparative Perspectives on Economic and Political Systems",
          "Comparative Perspectives on Economic and Political Systems",
          "Professional Networking and Career Advancement"
         ],
         "xaxis": "x",
         "yaxis": "y"
        },
        {
         "bingroup": "x",
         "hovertemplate": "Major=Computer Science<br>topic=%{x}<br>count=%{y}<extra></extra>",
         "legendgroup": "Computer Science",
         "marker": {
          "color": "#EF553B",
          "pattern": {
           "shape": ""
          }
         },
         "name": "Computer Science",
         "orientation": "v",
         "showlegend": true,
         "type": "histogram",
         "x": [
          "Collaborative and Innovative Problem-Solving Approaches",
          "Collaborative and Innovative Problem-Solving Approaches",
          "Collaborative and Innovative Problem-Solving Approaches",
          null,
          "Collaborative and Innovative Problem-Solving Approaches",
          "Collaborative and Innovative Problem-Solving Approaches",
          "Collaborative and Innovative Problem-Solving Approaches",
          null,
          "Collaborative and Innovative Problem-Solving Approaches",
          "Collaborative and Innovative Problem-Solving Approaches"
         ],
         "xaxis": "x",
         "yaxis": "y"
        },
        {
         "bingroup": "x",
         "hovertemplate": "Major=Environmental Studies<br>topic=%{x}<br>count=%{y}<extra></extra>",
         "legendgroup": "Environmental Studies",
         "marker": {
          "color": "#00cc96",
          "pattern": {
           "shape": ""
          }
         },
         "name": "Environmental Studies",
         "orientation": "v",
         "showlegend": true,
         "type": "histogram",
         "x": [
          "Hands-on Field Experience and Interdisciplinary Learning in Marine Conservation",
          "Hands-on Field Experience and Interdisciplinary Learning in Marine Conservation",
          "Mentorship and Technical Skill Development",
          "Hands-on Field Experience and Interdisciplinary Learning in Marine Conservation",
          "Hands-on Field Experience and Interdisciplinary Learning in Marine Conservation",
          "Hands-on Field Experience and Interdisciplinary Learning in Marine Conservation",
          null,
          "Hands-on Field Experience and Interdisciplinary Learning in Marine Conservation"
         ],
         "xaxis": "x",
         "yaxis": "y"
        },
        {
         "bingroup": "x",
         "hovertemplate": "Major=Asian Studies<br>topic=%{x}<br>count=%{y}<extra></extra>",
         "legendgroup": "Asian Studies",
         "marker": {
          "color": "#ab63fa",
          "pattern": {
           "shape": ""
          }
         },
         "name": "Asian Studies",
         "orientation": "v",
         "showlegend": true,
         "type": "histogram",
         "x": [
          "Language and Cultural Immersion",
          "Language and Cultural Immersion",
          "Comparative Perspectives on Economic and Political Systems",
          "Language and Cultural Immersion",
          "Language and Cultural Immersion",
          "Language and Cultural Immersion",
          "Language and Cultural Immersion",
          "Language and Cultural Immersion",
          "Language and Cultural Immersion",
          "Language and Cultural Immersion",
          "Language and Cultural Immersion"
         ],
         "xaxis": "x",
         "yaxis": "y"
        },
        {
         "bingroup": "x",
         "hovertemplate": "Major=Government<br>topic=%{x}<br>count=%{y}<extra></extra>",
         "legendgroup": "Government",
         "marker": {
          "color": "#FFA15A",
          "pattern": {
           "shape": ""
          }
         },
         "name": "Government",
         "orientation": "v",
         "showlegend": true,
         "type": "histogram",
         "x": [
          null,
          "Comparative Perspectives on Economic and Political Systems",
          "Comparative Perspectives on Economic and Political Systems",
          "Comparative Perspectives on Economic and Political Systems",
          "Comparative Perspectives on Economic and Political Systems",
          "Comparative Perspectives on Economic and Political Systems",
          "Comparative Perspectives on Economic and Political Systems"
         ],
         "xaxis": "x",
         "yaxis": "y"
        },
        {
         "bingroup": "x",
         "hovertemplate": "Major=Engineering<br>topic=%{x}<br>count=%{y}<extra></extra>",
         "legendgroup": "Engineering",
         "marker": {
          "color": "#19d3f3",
          "pattern": {
           "shape": ""
          }
         },
         "name": "Engineering",
         "orientation": "v",
         "showlegend": true,
         "type": "histogram",
         "x": [
          null,
          null,
          null,
          "Collaborative and Innovative Problem-Solving Approaches",
          null,
          "Mentorship and Technical Skill Development",
          null
         ],
         "xaxis": "x",
         "yaxis": "y"
        },
        {
         "bingroup": "x",
         "hovertemplate": "Major=Anthropology<br>topic=%{x}<br>count=%{y}<extra></extra>",
         "legendgroup": "Anthropology",
         "marker": {
          "color": "#FF6692",
          "pattern": {
           "shape": ""
          }
         },
         "name": "Anthropology",
         "orientation": "v",
         "showlegend": true,
         "type": "histogram",
         "x": [
          null,
          "Research Methodology and Cross-Cultural Perspectives",
          "Research Methodology and Cross-Cultural Perspectives",
          "Research Methodology and Cross-Cultural Perspectives",
          "Research Methodology and Cross-Cultural Perspectives",
          "Research Methodology and Cross-Cultural Perspectives",
          "Research Methodology and Cross-Cultural Perspectives"
         ],
         "xaxis": "x",
         "yaxis": "y"
        },
        {
         "bingroup": "x",
         "hovertemplate": "Major=Biology<br>topic=%{x}<br>count=%{y}<extra></extra>",
         "legendgroup": "Biology",
         "marker": {
          "color": "#B6E880",
          "pattern": {
           "shape": ""
          }
         },
         "name": "Biology",
         "orientation": "v",
         "showlegend": true,
         "type": "histogram",
         "x": [
          "Hands-on Field Experience and Interdisciplinary Learning in Marine Conservation",
          "Mentorship and Technical Skill Development",
          "Mentorship and Technical Skill Development",
          "Mentorship and Technical Skill Development",
          null,
          "Mentorship and Technical Skill Development",
          "Mentorship and Technical Skill Development"
         ],
         "xaxis": "x",
         "yaxis": "y"
        },
        {
         "bingroup": "x",
         "hovertemplate": "Major=Comparative Literature<br>topic=%{x}<br>count=%{y}<extra></extra>",
         "legendgroup": "Comparative Literature",
         "marker": {
          "color": "#FF97FF",
          "pattern": {
           "shape": ""
          }
         },
         "name": "Comparative Literature",
         "orientation": "v",
         "showlegend": true,
         "type": "histogram",
         "x": [
          "Language and Cultural Immersion"
         ],
         "xaxis": "x",
         "yaxis": "y"
        },
        {
         "bingroup": "x",
         "hovertemplate": "Major=Art History<br>topic=%{x}<br>count=%{y}<extra></extra>",
         "legendgroup": "Art History",
         "marker": {
          "color": "#FECB52",
          "pattern": {
           "shape": ""
          }
         },
         "name": "Art History",
         "orientation": "v",
         "showlegend": true,
         "type": "histogram",
         "x": [
          null,
          "Professional Networking and Career Advancement",
          null
         ],
         "xaxis": "x",
         "yaxis": "y"
        },
        {
         "bingroup": "x",
         "hovertemplate": "Major=Geography<br>topic=%{x}<br>count=%{y}<extra></extra>",
         "legendgroup": "Geography",
         "marker": {
          "color": "#636efa",
          "pattern": {
           "shape": ""
          }
         },
         "name": "Geography",
         "orientation": "v",
         "showlegend": true,
         "type": "histogram",
         "x": [
          null,
          "Hands-on Field Experience and Interdisciplinary Learning in Marine Conservation",
          "Hands-on Field Experience and Interdisciplinary Learning in Marine Conservation",
          "Hands-on Field Experience and Interdisciplinary Learning in Marine Conservation",
          "Hands-on Field Experience and Interdisciplinary Learning in Marine Conservation"
         ],
         "xaxis": "x",
         "yaxis": "y"
        },
        {
         "bingroup": "x",
         "hovertemplate": "Major=Middle Eastern Studies<br>topic=%{x}<br>count=%{y}<extra></extra>",
         "legendgroup": "Middle Eastern Studies",
         "marker": {
          "color": "#EF553B",
          "pattern": {
           "shape": ""
          }
         },
         "name": "Middle Eastern Studies",
         "orientation": "v",
         "showlegend": true,
         "type": "histogram",
         "x": [
          "Language and Cultural Immersion",
          "Language and Cultural Immersion"
         ],
         "xaxis": "x",
         "yaxis": "y"
        },
        {
         "bingroup": "x",
         "hovertemplate": "Major=Psychology<br>topic=%{x}<br>count=%{y}<extra></extra>",
         "legendgroup": "Psychology",
         "marker": {
          "color": "#00cc96",
          "pattern": {
           "shape": ""
          }
         },
         "name": "Psychology",
         "orientation": "v",
         "showlegend": true,
         "type": "histogram",
         "x": [
          "Research Methodology and Cross-Cultural Perspectives",
          "Research Methodology and Cross-Cultural Perspectives",
          "Research Methodology and Cross-Cultural Perspectives",
          "Research Methodology and Cross-Cultural Perspectives",
          "Research Methodology and Cross-Cultural Perspectives",
          "Research Methodology and Cross-Cultural Perspectives"
         ],
         "xaxis": "x",
         "yaxis": "y"
        },
        {
         "bingroup": "x",
         "hovertemplate": "Major=Sociology<br>topic=%{x}<br>count=%{y}<extra></extra>",
         "legendgroup": "Sociology",
         "marker": {
          "color": "#ab63fa",
          "pattern": {
           "shape": ""
          }
         },
         "name": "Sociology",
         "orientation": "v",
         "showlegend": true,
         "type": "histogram",
         "x": [
          "Language and Cultural Immersion",
          "Research Methodology and Cross-Cultural Perspectives",
          null
         ],
         "xaxis": "x",
         "yaxis": "y"
        },
        {
         "bingroup": "x",
         "hovertemplate": "Major=English<br>topic=%{x}<br>count=%{y}<extra></extra>",
         "legendgroup": "English",
         "marker": {
          "color": "#FFA15A",
          "pattern": {
           "shape": ""
          }
         },
         "name": "English",
         "orientation": "v",
         "showlegend": true,
         "type": "histogram",
         "x": [
          "Mentorship and Technical Skill Development"
         ],
         "xaxis": "x",
         "yaxis": "y"
        },
        {
         "bingroup": "x",
         "hovertemplate": "Major=History<br>topic=%{x}<br>count=%{y}<extra></extra>",
         "legendgroup": "History",
         "marker": {
          "color": "#19d3f3",
          "pattern": {
           "shape": ""
          }
         },
         "name": "History",
         "orientation": "v",
         "showlegend": true,
         "type": "histogram",
         "x": [
          null,
          null
         ],
         "xaxis": "x",
         "yaxis": "y"
        },
        {
         "bingroup": "x",
         "hovertemplate": "Major=Theater<br>topic=%{x}<br>count=%{y}<extra></extra>",
         "legendgroup": "Theater",
         "marker": {
          "color": "#FF6692",
          "pattern": {
           "shape": ""
          }
         },
         "name": "Theater",
         "orientation": "v",
         "showlegend": true,
         "type": "histogram",
         "x": [
          null,
          "Professional Networking and Career Advancement",
          null,
          null,
          "Professional Networking and Career Advancement"
         ],
         "xaxis": "x",
         "yaxis": "y"
        },
        {
         "bingroup": "x",
         "hovertemplate": "Major=Linguistics<br>topic=%{x}<br>count=%{y}<extra></extra>",
         "legendgroup": "Linguistics",
         "marker": {
          "color": "#B6E880",
          "pattern": {
           "shape": ""
          }
         },
         "name": "Linguistics",
         "orientation": "v",
         "showlegend": true,
         "type": "histogram",
         "x": [
          "Language and Cultural Immersion",
          "Language and Cultural Immersion"
         ],
         "xaxis": "x",
         "yaxis": "y"
        },
        {
         "bingroup": "x",
         "hovertemplate": "Major=Mathematics<br>topic=%{x}<br>count=%{y}<extra></extra>",
         "legendgroup": "Mathematics",
         "marker": {
          "color": "#FF97FF",
          "pattern": {
           "shape": ""
          }
         },
         "name": "Mathematics",
         "orientation": "v",
         "showlegend": true,
         "type": "histogram",
         "x": [
          null
         ],
         "xaxis": "x",
         "yaxis": "y"
        }
       ],
       "layout": {
        "barmode": "relative",
        "legend": {
         "title": {
          "text": "Major"
         },
         "tracegroupgap": 0
        },
        "margin": {
         "t": 60
        },
        "template": {
         "data": {
          "bar": [
           {
            "error_x": {
             "color": "#2a3f5f"
            },
            "error_y": {
             "color": "#2a3f5f"
            },
            "marker": {
             "line": {
              "color": "#E5ECF6",
              "width": 0.5
             },
             "pattern": {
              "fillmode": "overlay",
              "size": 10,
              "solidity": 0.2
             }
            },
            "type": "bar"
           }
          ],
          "barpolar": [
           {
            "marker": {
             "line": {
              "color": "#E5ECF6",
              "width": 0.5
             },
             "pattern": {
              "fillmode": "overlay",
              "size": 10,
              "solidity": 0.2
             }
            },
            "type": "barpolar"
           }
          ],
          "carpet": [
           {
            "aaxis": {
             "endlinecolor": "#2a3f5f",
             "gridcolor": "white",
             "linecolor": "white",
             "minorgridcolor": "white",
             "startlinecolor": "#2a3f5f"
            },
            "baxis": {
             "endlinecolor": "#2a3f5f",
             "gridcolor": "white",
             "linecolor": "white",
             "minorgridcolor": "white",
             "startlinecolor": "#2a3f5f"
            },
            "type": "carpet"
           }
          ],
          "choropleth": [
           {
            "colorbar": {
             "outlinewidth": 0,
             "ticks": ""
            },
            "type": "choropleth"
           }
          ],
          "contour": [
           {
            "colorbar": {
             "outlinewidth": 0,
             "ticks": ""
            },
            "colorscale": [
             [
              0,
              "#0d0887"
             ],
             [
              0.1111111111111111,
              "#46039f"
             ],
             [
              0.2222222222222222,
              "#7201a8"
             ],
             [
              0.3333333333333333,
              "#9c179e"
             ],
             [
              0.4444444444444444,
              "#bd3786"
             ],
             [
              0.5555555555555556,
              "#d8576b"
             ],
             [
              0.6666666666666666,
              "#ed7953"
             ],
             [
              0.7777777777777778,
              "#fb9f3a"
             ],
             [
              0.8888888888888888,
              "#fdca26"
             ],
             [
              1,
              "#f0f921"
             ]
            ],
            "type": "contour"
           }
          ],
          "contourcarpet": [
           {
            "colorbar": {
             "outlinewidth": 0,
             "ticks": ""
            },
            "type": "contourcarpet"
           }
          ],
          "heatmap": [
           {
            "colorbar": {
             "outlinewidth": 0,
             "ticks": ""
            },
            "colorscale": [
             [
              0,
              "#0d0887"
             ],
             [
              0.1111111111111111,
              "#46039f"
             ],
             [
              0.2222222222222222,
              "#7201a8"
             ],
             [
              0.3333333333333333,
              "#9c179e"
             ],
             [
              0.4444444444444444,
              "#bd3786"
             ],
             [
              0.5555555555555556,
              "#d8576b"
             ],
             [
              0.6666666666666666,
              "#ed7953"
             ],
             [
              0.7777777777777778,
              "#fb9f3a"
             ],
             [
              0.8888888888888888,
              "#fdca26"
             ],
             [
              1,
              "#f0f921"
             ]
            ],
            "type": "heatmap"
           }
          ],
          "histogram": [
           {
            "marker": {
             "pattern": {
              "fillmode": "overlay",
              "size": 10,
              "solidity": 0.2
             }
            },
            "type": "histogram"
           }
          ],
          "histogram2d": [
           {
            "colorbar": {
             "outlinewidth": 0,
             "ticks": ""
            },
            "colorscale": [
             [
              0,
              "#0d0887"
             ],
             [
              0.1111111111111111,
              "#46039f"
             ],
             [
              0.2222222222222222,
              "#7201a8"
             ],
             [
              0.3333333333333333,
              "#9c179e"
             ],
             [
              0.4444444444444444,
              "#bd3786"
             ],
             [
              0.5555555555555556,
              "#d8576b"
             ],
             [
              0.6666666666666666,
              "#ed7953"
             ],
             [
              0.7777777777777778,
              "#fb9f3a"
             ],
             [
              0.8888888888888888,
              "#fdca26"
             ],
             [
              1,
              "#f0f921"
             ]
            ],
            "type": "histogram2d"
           }
          ],
          "histogram2dcontour": [
           {
            "colorbar": {
             "outlinewidth": 0,
             "ticks": ""
            },
            "colorscale": [
             [
              0,
              "#0d0887"
             ],
             [
              0.1111111111111111,
              "#46039f"
             ],
             [
              0.2222222222222222,
              "#7201a8"
             ],
             [
              0.3333333333333333,
              "#9c179e"
             ],
             [
              0.4444444444444444,
              "#bd3786"
             ],
             [
              0.5555555555555556,
              "#d8576b"
             ],
             [
              0.6666666666666666,
              "#ed7953"
             ],
             [
              0.7777777777777778,
              "#fb9f3a"
             ],
             [
              0.8888888888888888,
              "#fdca26"
             ],
             [
              1,
              "#f0f921"
             ]
            ],
            "type": "histogram2dcontour"
           }
          ],
          "mesh3d": [
           {
            "colorbar": {
             "outlinewidth": 0,
             "ticks": ""
            },
            "type": "mesh3d"
           }
          ],
          "parcoords": [
           {
            "line": {
             "colorbar": {
              "outlinewidth": 0,
              "ticks": ""
             }
            },
            "type": "parcoords"
           }
          ],
          "pie": [
           {
            "automargin": true,
            "type": "pie"
           }
          ],
          "scatter": [
           {
            "fillpattern": {
             "fillmode": "overlay",
             "size": 10,
             "solidity": 0.2
            },
            "type": "scatter"
           }
          ],
          "scatter3d": [
           {
            "line": {
             "colorbar": {
              "outlinewidth": 0,
              "ticks": ""
             }
            },
            "marker": {
             "colorbar": {
              "outlinewidth": 0,
              "ticks": ""
             }
            },
            "type": "scatter3d"
           }
          ],
          "scattercarpet": [
           {
            "marker": {
             "colorbar": {
              "outlinewidth": 0,
              "ticks": ""
             }
            },
            "type": "scattercarpet"
           }
          ],
          "scattergeo": [
           {
            "marker": {
             "colorbar": {
              "outlinewidth": 0,
              "ticks": ""
             }
            },
            "type": "scattergeo"
           }
          ],
          "scattergl": [
           {
            "marker": {
             "colorbar": {
              "outlinewidth": 0,
              "ticks": ""
             }
            },
            "type": "scattergl"
           }
          ],
          "scattermap": [
           {
            "marker": {
             "colorbar": {
              "outlinewidth": 0,
              "ticks": ""
             }
            },
            "type": "scattermap"
           }
          ],
          "scattermapbox": [
           {
            "marker": {
             "colorbar": {
              "outlinewidth": 0,
              "ticks": ""
             }
            },
            "type": "scattermapbox"
           }
          ],
          "scatterpolar": [
           {
            "marker": {
             "colorbar": {
              "outlinewidth": 0,
              "ticks": ""
             }
            },
            "type": "scatterpolar"
           }
          ],
          "scatterpolargl": [
           {
            "marker": {
             "colorbar": {
              "outlinewidth": 0,
              "ticks": ""
             }
            },
            "type": "scatterpolargl"
           }
          ],
          "scatterternary": [
           {
            "marker": {
             "colorbar": {
              "outlinewidth": 0,
              "ticks": ""
             }
            },
            "type": "scatterternary"
           }
          ],
          "surface": [
           {
            "colorbar": {
             "outlinewidth": 0,
             "ticks": ""
            },
            "colorscale": [
             [
              0,
              "#0d0887"
             ],
             [
              0.1111111111111111,
              "#46039f"
             ],
             [
              0.2222222222222222,
              "#7201a8"
             ],
             [
              0.3333333333333333,
              "#9c179e"
             ],
             [
              0.4444444444444444,
              "#bd3786"
             ],
             [
              0.5555555555555556,
              "#d8576b"
             ],
             [
              0.6666666666666666,
              "#ed7953"
             ],
             [
              0.7777777777777778,
              "#fb9f3a"
             ],
             [
              0.8888888888888888,
              "#fdca26"
             ],
             [
              1,
              "#f0f921"
             ]
            ],
            "type": "surface"
           }
          ],
          "table": [
           {
            "cells": {
             "fill": {
              "color": "#EBF0F8"
             },
             "line": {
              "color": "white"
             }
            },
            "header": {
             "fill": {
              "color": "#C8D4E3"
             },
             "line": {
              "color": "white"
             }
            },
            "type": "table"
           }
          ]
         },
         "layout": {
          "annotationdefaults": {
           "arrowcolor": "#2a3f5f",
           "arrowhead": 0,
           "arrowwidth": 1
          },
          "autotypenumbers": "strict",
          "coloraxis": {
           "colorbar": {
            "outlinewidth": 0,
            "ticks": ""
           }
          },
          "colorscale": {
           "diverging": [
            [
             0,
             "#8e0152"
            ],
            [
             0.1,
             "#c51b7d"
            ],
            [
             0.2,
             "#de77ae"
            ],
            [
             0.3,
             "#f1b6da"
            ],
            [
             0.4,
             "#fde0ef"
            ],
            [
             0.5,
             "#f7f7f7"
            ],
            [
             0.6,
             "#e6f5d0"
            ],
            [
             0.7,
             "#b8e186"
            ],
            [
             0.8,
             "#7fbc41"
            ],
            [
             0.9,
             "#4d9221"
            ],
            [
             1,
             "#276419"
            ]
           ],
           "sequential": [
            [
             0,
             "#0d0887"
            ],
            [
             0.1111111111111111,
             "#46039f"
            ],
            [
             0.2222222222222222,
             "#7201a8"
            ],
            [
             0.3333333333333333,
             "#9c179e"
            ],
            [
             0.4444444444444444,
             "#bd3786"
            ],
            [
             0.5555555555555556,
             "#d8576b"
            ],
            [
             0.6666666666666666,
             "#ed7953"
            ],
            [
             0.7777777777777778,
             "#fb9f3a"
            ],
            [
             0.8888888888888888,
             "#fdca26"
            ],
            [
             1,
             "#f0f921"
            ]
           ],
           "sequentialminus": [
            [
             0,
             "#0d0887"
            ],
            [
             0.1111111111111111,
             "#46039f"
            ],
            [
             0.2222222222222222,
             "#7201a8"
            ],
            [
             0.3333333333333333,
             "#9c179e"
            ],
            [
             0.4444444444444444,
             "#bd3786"
            ],
            [
             0.5555555555555556,
             "#d8576b"
            ],
            [
             0.6666666666666666,
             "#ed7953"
            ],
            [
             0.7777777777777778,
             "#fb9f3a"
            ],
            [
             0.8888888888888888,
             "#fdca26"
            ],
            [
             1,
             "#f0f921"
            ]
           ]
          },
          "colorway": [
           "#636efa",
           "#EF553B",
           "#00cc96",
           "#ab63fa",
           "#FFA15A",
           "#19d3f3",
           "#FF6692",
           "#B6E880",
           "#FF97FF",
           "#FECB52"
          ],
          "font": {
           "color": "#2a3f5f"
          },
          "geo": {
           "bgcolor": "white",
           "lakecolor": "white",
           "landcolor": "#E5ECF6",
           "showlakes": true,
           "showland": true,
           "subunitcolor": "white"
          },
          "hoverlabel": {
           "align": "left"
          },
          "hovermode": "closest",
          "mapbox": {
           "style": "light"
          },
          "paper_bgcolor": "white",
          "plot_bgcolor": "#E5ECF6",
          "polar": {
           "angularaxis": {
            "gridcolor": "white",
            "linecolor": "white",
            "ticks": ""
           },
           "bgcolor": "#E5ECF6",
           "radialaxis": {
            "gridcolor": "white",
            "linecolor": "white",
            "ticks": ""
           }
          },
          "scene": {
           "xaxis": {
            "backgroundcolor": "#E5ECF6",
            "gridcolor": "white",
            "gridwidth": 2,
            "linecolor": "white",
            "showbackground": true,
            "ticks": "",
            "zerolinecolor": "white"
           },
           "yaxis": {
            "backgroundcolor": "#E5ECF6",
            "gridcolor": "white",
            "gridwidth": 2,
            "linecolor": "white",
            "showbackground": true,
            "ticks": "",
            "zerolinecolor": "white"
           },
           "zaxis": {
            "backgroundcolor": "#E5ECF6",
            "gridcolor": "white",
            "gridwidth": 2,
            "linecolor": "white",
            "showbackground": true,
            "ticks": "",
            "zerolinecolor": "white"
           }
          },
          "shapedefaults": {
           "line": {
            "color": "#2a3f5f"
           }
          },
          "ternary": {
           "aaxis": {
            "gridcolor": "white",
            "linecolor": "white",
            "ticks": ""
           },
           "baxis": {
            "gridcolor": "white",
            "linecolor": "white",
            "ticks": ""
           },
           "bgcolor": "#E5ECF6",
           "caxis": {
            "gridcolor": "white",
            "linecolor": "white",
            "ticks": ""
           }
          },
          "title": {
           "x": 0.05
          },
          "xaxis": {
           "automargin": true,
           "gridcolor": "white",
           "linecolor": "white",
           "ticks": "",
           "title": {
            "standoff": 15
           },
           "zerolinecolor": "white",
           "zerolinewidth": 2
          },
          "yaxis": {
           "automargin": true,
           "gridcolor": "white",
           "linecolor": "white",
           "ticks": "",
           "title": {
            "standoff": 15
           },
           "zerolinecolor": "white",
           "zerolinewidth": 2
          }
         }
        },
        "xaxis": {
         "anchor": "y",
         "domain": [
          0,
          1
         ],
         "title": {
          "text": "topic"
         }
        },
        "yaxis": {
         "anchor": "x",
         "domain": [
          0,
          1
         ],
         "title": {
          "text": "count"
         }
        }
       }
      }
     },
     "metadata": {},
     "output_type": "display_data"
    }
   ],
   "source": [
    "px.histogram(df, x=\"topic\", color=\"Major\")"
   ]
  }
 ],
 "metadata": {
  "kernelspec": {
   "display_name": ".venv",
   "language": "python",
   "name": "python3"
  },
  "language_info": {
   "codemirror_mode": {
    "name": "ipython",
    "version": 3
   },
   "file_extension": ".py",
   "mimetype": "text/x-python",
   "name": "python",
   "nbconvert_exporter": "python",
   "pygments_lexer": "ipython3",
   "version": "3.10.7"
  }
 },
 "nbformat": 4,
 "nbformat_minor": 2
}
